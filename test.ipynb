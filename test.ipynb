{
 "cells": [
  {
   "cell_type": "code",
   "execution_count": 1,
   "id": "acd28f30",
   "metadata": {},
   "outputs": [],
   "source": [
    "%load_ext autoreload\n",
    "%autoreload 2\n",
    "import numpy as np\n",
    "import casadi as ca\n",
    "from decision_vars import DecisionVarSet\n"
   ]
  },
  {
   "cell_type": "code",
   "execution_count": 2,
   "id": "73bc61f6",
   "metadata": {},
   "outputs": [
    {
     "name": "stdout",
     "output_type": "stream",
     "text": [
      "***** Decision Vars *****\n",
      "Attributes: ['sym', 'init', 'lb']\n",
      "Vars: \n",
      "  x: [x_0, x_1], (2, 1)\n",
      "\n",
      "[-inf, -inf, 3]\n",
      "{'x': array([0.1, 0.3]), 'y': array(0.5)}\n"
     ]
    }
   ],
   "source": [
    "# Test decision vars\n",
    "from decision_vars import DecisionVarSet\n",
    "a = DecisionVarSet({'x':[1.0, 2.0]}, lb={})\n",
    "print(a)\n",
    "b = DecisionVarSet({'y':2.0}, lb={'y':3.0})\n",
    "a += b\n",
    "print(a.vectorize('lb'))\n",
    "d = a.dictize(np.array([0.1, 0.3, 0.5]))\n",
    "print(d)"
   ]
  },
  {
   "cell_type": "code",
   "execution_count": 4,
   "id": "74516c7f",
   "metadata": {},
   "outputs": [
    {
     "name": "stdout",
     "output_type": "stream",
     "text": [
      "Building robot model from franka.urdf with TCP fr3_link8\n",
      "***** Decision Vars *****\n",
      "Attributes: ['sym', 'init', 'cov', 'noise']\n",
      "Vars: \n",
      "  q: [q_0, q_1, q_2, q_3, q_4, q_5, q_6], (7, 1)\n",
      "  dq: [dq_0, dq_1, dq_2, dq_3, dq_4, dq_5, dq_6], (7, 1)\n",
      "\n"
     ]
    }
   ],
   "source": [
    "from robot import Robot\n",
    "rob = Robot('franka.urdf')"
   ]
  },
  {
   "cell_type": "code",
   "execution_count": 5,
   "id": "6c557f2c",
   "metadata": {},
   "outputs": [
    {
     "name": "stdout",
     "output_type": "stream",
     "text": [
      "[-5, -0, 0]\n"
     ]
    }
   ],
   "source": [
    "from contact import Contact\n",
    "pars = {'pos': [0, 0, 0],\n",
    "        'stiff': [10, 10, 10],\n",
    "        'rest':[0, 0, 0.5]}\n",
    "c = Contact(pars)\n",
    "q = ca.SX.sym('q',7)\n",
    "p, R = rob.fwd_kin(q)\n",
    "c.F_fn(ca.DM([0.5, 0.3, -0.5]), ca.DM.ones(3))\n",
    "\n",
    "c2 = Contact(pars, ['stiff'], {'cov':{}, 'noise':{}})\n",
    "print(c2.F_fn(ca.DM([0.5, 0.3, -0.5]), ca.DM.ones(3), ca.DM([10, 0, 0])))"
   ]
  },
  {
   "cell_type": "code",
   "execution_count": 11,
   "id": "79561a44",
   "metadata": {},
   "outputs": [
    {
     "name": "stdout",
     "output_type": "stream",
     "text": [
      "Building robot model from franka.urdf with TCP fr3_link8\n",
      "  with 1 subsys\n",
      "***** Decision Vars *****\n",
      "Attributes: ['sym', 'init', 'cov', 'noise']\n",
      "Vars: \n",
      "  q: [q_0, q_1, q_2, q_3, q_4, q_5, q_6], (7, 1)\n",
      "  dq: [dq_0, dq_1, dq_2, dq_3, dq_4, dq_5, dq_6], (7, 1)\n",
      "  stiff: [stiff_0, stiff_1, stiff_2], (3, 1)\n",
      "\n",
      "(3, 1)\n",
      "(3, 7)\n"
     ]
    },
    {
     "ename": "KeyError",
     "evalue": "'xi'",
     "output_type": "error",
     "traceback": [
      "\u001b[0;31m---------------------------------------------------------------------------\u001b[0m",
      "\u001b[0;31mKeyError\u001b[0m                                  Traceback (most recent call last)",
      "Input \u001b[0;32mIn [11]\u001b[0m, in \u001b[0;36m<cell line: 8>\u001b[0;34m()\u001b[0m\n\u001b[1;32m      6\u001b[0m c2 \u001b[38;5;241m=\u001b[39m Contact(pars, [\u001b[38;5;124m'\u001b[39m\u001b[38;5;124mstiff\u001b[39m\u001b[38;5;124m'\u001b[39m], {\u001b[38;5;124m'\u001b[39m\u001b[38;5;124mcov\u001b[39m\u001b[38;5;124m'\u001b[39m:{}, \u001b[38;5;124m'\u001b[39m\u001b[38;5;124mnoise\u001b[39m\u001b[38;5;124m'\u001b[39m:{}})\n\u001b[1;32m      7\u001b[0m rob \u001b[38;5;241m=\u001b[39m Robot(\u001b[38;5;124m'\u001b[39m\u001b[38;5;124mfranka.urdf\u001b[39m\u001b[38;5;124m'\u001b[39m, subsys \u001b[38;5;241m=\u001b[39m [c2])\n\u001b[0;32m----> 8\u001b[0m \u001b[43mrob\u001b[49m\u001b[38;5;241;43m.\u001b[39;49m\u001b[43mbuild_disc_dyn\u001b[49m\u001b[43m(\u001b[49m\u001b[38;5;241;43m0.1\u001b[39;49m\u001b[43m)\u001b[49m\n",
      "File \u001b[0;32m~/mpc-intro/robot.py:129\u001b[0m, in \u001b[0;36mRobot.build_disc_dyn\u001b[0;34m(self, step_size, visc_fric)\u001b[0m\n\u001b[1;32m    126\u001b[0m \u001b[38;5;28mself\u001b[39m\u001b[38;5;241m.\u001b[39mdisc_dyn_core \u001b[38;5;241m=\u001b[39m \u001b[38;5;28mself\u001b[39m\u001b[38;5;241m.\u001b[39mbuild_disc_dyn_core(step_size, visc_fric)\n\u001b[1;32m    128\u001b[0m \u001b[38;5;66;03m# Building with symbolic mass\u001b[39;00m\n\u001b[0;32m--> 129\u001b[0m Msym \u001b[38;5;241m=\u001b[39m cpin\u001b[38;5;241m.\u001b[39mcrba(\u001b[38;5;28mself\u001b[39m\u001b[38;5;241m.\u001b[39m__cmodel, \u001b[38;5;28mself\u001b[39m\u001b[38;5;241m.\u001b[39m__cdata, \u001b[38;5;28;43mself\u001b[39;49m\u001b[38;5;241;43m.\u001b[39;49m\u001b[43m__vars\u001b[49m\u001b[43m[\u001b[49m\u001b[38;5;124;43m'\u001b[39;49m\u001b[38;5;124;43mxi\u001b[39;49m\u001b[38;5;124;43m'\u001b[39;49m\u001b[43m]\u001b[49m[:\u001b[38;5;28mself\u001b[39m\u001b[38;5;241m.\u001b[39mnq])\n\u001b[1;32m    130\u001b[0m xi_next \u001b[38;5;241m=\u001b[39m \u001b[38;5;28mself\u001b[39m\u001b[38;5;241m.\u001b[39mdisc_dyn_core(\u001b[38;5;28mself\u001b[39m\u001b[38;5;241m.\u001b[39m__vars[\u001b[38;5;124m'\u001b[39m\u001b[38;5;124mxi\u001b[39m\u001b[38;5;124m'\u001b[39m], \u001b[38;5;28mself\u001b[39m\u001b[38;5;241m.\u001b[39m__vars[\u001b[38;5;124m'\u001b[39m\u001b[38;5;124mtau_input\u001b[39m\u001b[38;5;124m'\u001b[39m], Msym)\n\u001b[1;32m    131\u001b[0m \u001b[38;5;28mself\u001b[39m\u001b[38;5;241m.\u001b[39mdisc_dyn \u001b[38;5;241m=\u001b[39m ca\u001b[38;5;241m.\u001b[39mFunction(\u001b[38;5;124m'\u001b[39m\u001b[38;5;124mdisc_dyn\u001b[39m\u001b[38;5;124m'\u001b[39m,\n\u001b[1;32m    132\u001b[0m                             [\u001b[38;5;28mself\u001b[39m\u001b[38;5;241m.\u001b[39m__vars[\u001b[38;5;124m'\u001b[39m\u001b[38;5;124mxi\u001b[39m\u001b[38;5;124m'\u001b[39m], \u001b[38;5;28mself\u001b[39m\u001b[38;5;241m.\u001b[39m__vars[\u001b[38;5;124m'\u001b[39m\u001b[38;5;124mtau_input\u001b[39m\u001b[38;5;124m'\u001b[39m]],\n\u001b[1;32m    133\u001b[0m                             [xi_next],\n\u001b[1;32m    134\u001b[0m                             [\u001b[38;5;124m'\u001b[39m\u001b[38;5;124mxi\u001b[39m\u001b[38;5;124m'\u001b[39m, \u001b[38;5;124m'\u001b[39m\u001b[38;5;124mtau_input\u001b[39m\u001b[38;5;124m'\u001b[39m],\n\u001b[1;32m    135\u001b[0m                             [\u001b[38;5;124m'\u001b[39m\u001b[38;5;124mxi_next\u001b[39m\u001b[38;5;124m'\u001b[39m], \u001b[38;5;28mself\u001b[39m\u001b[38;5;241m.\u001b[39m__jit_options)\u001b[38;5;241m.\u001b[39mexpand()\n",
      "\u001b[0;31mKeyError\u001b[0m: 'xi'"
     ]
    }
   ],
   "source": [
    "from robot import Robot\n",
    "from contact import Contact\n",
    "pars = {'pos': [0, 0, 0],\n",
    "        'stiff': [10, 10, 10],\n",
    "        'rest':[0, 0, 0.5]}\n",
    "c2 = Contact(pars, ['stiff'], {'cov':{}, 'noise':{}})\n",
    "rob = Robot('franka.urdf', subsys = [c2])\n",
    "rob.build_disc_dyn(0.1)"
   ]
  },
  {
   "cell_type": "code",
   "execution_count": null,
   "id": "2f2f8001",
   "metadata": {},
   "outputs": [],
   "source": []
  }
 ],
 "metadata": {
  "kernelspec": {
   "display_name": "Python 3 (ipykernel)",
   "language": "python",
   "name": "python3"
  },
  "language_info": {
   "codemirror_mode": {
    "name": "ipython",
    "version": 3
   },
   "file_extension": ".py",
   "mimetype": "text/x-python",
   "name": "python",
   "nbconvert_exporter": "python",
   "pygments_lexer": "ipython3",
   "version": "3.8.10"
  }
 },
 "nbformat": 4,
 "nbformat_minor": 5
}
