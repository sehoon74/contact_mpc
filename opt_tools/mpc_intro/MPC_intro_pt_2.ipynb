{
 "cells": [
  {
   "cell_type": "markdown",
   "id": "47711209",
   "metadata": {},
   "source": [
    "# MPC intro part 2\n",
    "This introduction provides more practice for writing your integrator, cost functions and building MPC problems. \n",
    "\n",
    "This part drops the dependency on robot.py, i.e. no Pinocchio-CasADi is required and you should be able to run with a vanilla CasADi install."
   ]
  },
  {
   "cell_type": "code",
   "execution_count": 3,
   "id": "c22498f0",
   "metadata": {},
   "outputs": [],
   "source": [
    "# Imports, sane defaults\n",
    "import time\n",
    "import casadi as ca\n",
    "import numpy as np\n",
    "import matplotlib.pyplot as plt\n",
    "\n",
    "%load_ext autoreload\n",
    "%autoreload 2\n",
    "\n",
    "plt.rcParams['figure.dpi'] = 400\n",
    "plt.rcParams['axes.grid'] = True\n",
    "plt.rcParams['image.aspect'] = 0.8\n",
    "\n",
    "nlpopts = { \"print_time\":False,      # Prints the time for evaluating objective, calculating gradients, etc\n",
    "            \"ipopt.print_level\":0,   # Integer from 0 to 5, 5 printing the most information\n",
    "            \"ipopt.tol\":1.0e-5,\n",
    "            \"ipopt.acceptable_constr_viol_tol\":2.0e-04,\n",
    "            \"ipopt.warm_start_init_point\":\"yes\",\n",
    "            \"ipopt.warm_start_bound_frac\":1.0e-09,\n",
    "            \"ipopt.warm_start_bound_push\":1.0e-09,\n",
    "          }"
   ]
  },
  {
   "cell_type": "markdown",
   "id": "1a2f07a0",
   "metadata": {},
   "source": [
    "# Getting set up: Dynamics and Cost\n",
    "Every MPC problem requires (1) dynamics, (2) a cost function, and optionally (3) constraints. It's good practice to write these as functions, to make the construction of the MPC problem easier to read and provide a single, obvious place where these functions are built.\n",
    "\n",
    "We'll make a few assumptions here; the dynamic parameters are known and fixed, but the cost function will _always_ need tuning - it's good practice to load these tuning parameters from a YAML or similar such that the problem is (somewhat) repeatable. \n",
    "\n",
    "Let's consider dynamics of the form $M\\ddot{x} + B\\dot{x} + K(x-x_0) = u$, with input $u$ and state $\\xi = (\\dot{x}, x)$. First try writing an explicit Euler integrator, i.e. $xi_+ = xi + dt*\\dot{xi}$.\n",
    "\n",
    "Let's consider a cost function of the form $q_d\\Vert x-x^d \\Vert + q_v\\Vert \\dot{x} \\Vert + r \\Vert u \\Vert$"
   ]
  },
  {
   "cell_type": "code",
   "execution_count": null,
   "id": "7cb1a45b",
   "metadata": {},
   "outputs": [],
   "source": [
    "''' Returns a CasADi function from previous state and input to the next state. '''\n",
    "def build_step(dt=0.05, M=1.5, B=5., K=50., x_0=0., fn_opts = {}) -> ca.Function:\n",
    "    # TODO: write your integrator here\n",
    "    \n",
    "    \n",
    "    step = ca.Function('step', [x, u], [x_next], ['x', 'u'], ['x_next'], fn_opts)\n",
    "    return step\n",
    "    \n",
    "\n",
    "''' Returns a CasADi function from state and input to scalar '''\n",
    "def build_cost(q_d=1., q_v=0.1, r=1.) -> ca.Function:\n",
    "    # TODO: build a function from state to the control input\n",
    "    \n",
    "    return cost"
   ]
  },
  {
   "cell_type": "markdown",
   "id": "228d1141",
   "metadata": {},
   "source": [
    "# Test the dynamics\n",
    "It's good practice to test that your dynamics is working as you expect, and probably you'd like to benchmark it. Some tests that I like to do: (1) check the unforced system converges as you expect (i.e. when $u=0$). (2) check that the input makes the expected change on the system. (3) timeit benchmarking to check the speed.\n",
    "\n",
    "It's also usually good to get a feel for how sensitive the system is to step size.  If you notice oscillations, NaNs, or the state blows up, that means something is numerically unstable. It could mean the dynamics themselves are unstable, or that numerical issues occur with your integration scheme. \n",
    "\n",
    "What to do when its numerical instability? Typically reducing step size reduces the error of your integrator, but you might also need to do a different integrator. For example, in robotics we typically use a semi-implicit integrator, where $\\dot{x}_+ = f(x, u)$ and $x_+ = x + \\dot{x}_+$.  This is common when the differential equation is stiff (here, literally when $K$ is large). "
   ]
  },
  {
   "cell_type": "code",
   "execution_count": null,
   "id": "04c6d4e1",
   "metadata": {},
   "outputs": [],
   "source": [
    "step = build_step()\n",
    "x = ca.DM.ones(2)\n",
    "for _ in range(100):\n",
    "    x = step(x, 0.0)\n",
    "print(f\"Final state: {x}\")\n",
    "\n",
    "u_test = [-1.0, 0, 1.0]\n",
    "x0 = ca.DM.ones(2)\n",
    "for u in u_test:\n",
    "    x = step(x0, u)\n",
    "    print(f\"Input {u}\\n  Initial state: {}\\n    Final state: {}\")\n",
    "    \n",
    "%timeit step(x0, 0.0)"
   ]
  },
  {
   "cell_type": "markdown",
   "id": "750c966f",
   "metadata": {},
   "source": [
    "# Build the MPC problem\n",
    "Let's build the MPC problem where we take as parameter the initial state ($x_0$). Why define this as parameter? The state of our system will be different each time we start the problem, and we don't want to rebuild the optimization problem each time step. \n",
    "\n",
    "First try a multiple shooting problem, where we have create a symbolic state vector for each time step, and impose the constraint that the dynamics and next symbolic state are equal. Recall that we can impose equality constraints with $0<g<0$. "
   ]
  },
  {
   "cell_type": "code",
   "execution_count": null,
   "id": "e5ef2e61",
   "metadata": {},
   "outputs": [],
   "source": [
    "prob = {'x': , # Decision variables, your states and inputs\n",
    "        'p': , # Parameters\n",
    "        'f': , # Objective function\n",
    "        'g': , # Constraint functions\n",
    "       }\n",
    "\n",
    "solver = ca.nlpsol('solver', 'ipopt', prob, nlpopts)\n",
    "print(f\"Built solver {solver}\")"
   ]
  },
  {
   "cell_type": "markdown",
   "id": "e4741625",
   "metadata": {},
   "source": [
    "# Solve the MPC problem\n",
    "To solve the MPC problem, we give numerical values to initialize our decision vector, the value of the parameters, and the constraints."
   ]
  },
  {
   "cell_type": "code",
   "execution_count": 1,
   "id": "83a97ef2",
   "metadata": {},
   "outputs": [
    {
     "ename": "SyntaxError",
     "evalue": "invalid syntax (847759705.py, line 3)",
     "output_type": "error",
     "traceback": [
      "\u001b[0;36m  Input \u001b[0;32mIn [1]\u001b[0;36m\u001b[0m\n\u001b[0;31m    args = {'x0': ,  # initial guess for the decision variables\u001b[0m\n\u001b[0m                  ^\u001b[0m\n\u001b[0;31mSyntaxError\u001b[0m\u001b[0;31m:\u001b[0m invalid syntax\n"
     ]
    }
   ],
   "source": [
    "\n",
    "xi = ca.DM([0.5, 0.1])\n",
    "\n",
    "args = {'x0': ,  # initial guess for the decision variables\n",
    "        'p':  ,  # numerical value of the parameters\n",
    "        'lbg': , # numerical value of the lower bound \n",
    "        'ubg': , # numerical value of the upper bound\n",
    "       }\n",
    "\n",
    "# Simuluate the system with step, and solve the MPC for each time step.\n",
    "for _ in range(50):\n",
    "    args['p'] = xi # update the initial state \n",
    "    sol = solver(**args)\n",
    "    # TODO: extract the first control action from your MPC here\n",
    "    u = \n",
    "    xi = step(xi, u)\n"
   ]
  },
  {
   "cell_type": "code",
   "execution_count": 4,
   "id": "efb2bc4b",
   "metadata": {},
   "outputs": [],
   "source": []
  }
 ],
 "metadata": {
  "kernelspec": {
   "display_name": "Python 3 (ipykernel)",
   "language": "python",
   "name": "python3"
  },
  "language_info": {
   "codemirror_mode": {
    "name": "ipython",
    "version": 3
   },
   "file_extension": ".py",
   "mimetype": "text/x-python",
   "name": "python",
   "nbconvert_exporter": "python",
   "pygments_lexer": "ipython3",
   "version": "3.8.10"
  }
 },
 "nbformat": 4,
 "nbformat_minor": 5
}
