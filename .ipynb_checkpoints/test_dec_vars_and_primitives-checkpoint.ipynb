{
 "cells": [
  {
   "cell_type": "code",
   "execution_count": 7,
   "id": "acd28f30",
   "metadata": {},
   "outputs": [
    {
     "name": "stdout",
     "output_type": "stream",
     "text": [
      "The autoreload extension is already loaded. To reload it, use:\n",
      "  %reload_ext autoreload\n"
     ]
    }
   ],
   "source": [
    "%load_ext autoreload\n",
    "%autoreload 2\n",
    "import numpy as np\n",
    "import casadi as ca\n",
    "from decision_vars import *"
   ]
  },
  {
   "cell_type": "code",
   "execution_count": 8,
   "id": "61b6a958",
   "metadata": {},
   "outputs": [
    {
     "name": "stdout",
     "output_type": "stream",
     "text": [
      "3\n",
      "3\n",
      "dict_keys(['test/a'])\n",
      "3\n"
     ]
    }
   ],
   "source": [
    "# Test named dict\n",
    "d = NamedDict('test/')\n",
    "d['a'] = 3\n",
    "print(d['a'])\n",
    "print(d.get('test/a'))\n",
    "print(d.keys())\n",
    "for k in d.keys():\n",
    "    print(d.get(k))\n"
   ]
  },
  {
   "cell_type": "code",
   "execution_count": 13,
   "id": "73bc61f6",
   "metadata": {},
   "outputs": [
    {
     "name": "stdout",
     "output_type": "stream",
     "text": [
      "***** Decision Vars, name: funtimes/ *****\n",
      "Attributes: ['lb']\n",
      "Vars: \n",
      "  funtimes/x: [x_0, x_1], shape: (2, 1)\n",
      "\n",
      "[x_0, x_1]\n",
      "[x_0, x_1]\n",
      "[0, 0, -inf]\n",
      "{'funtimes/funtimes/x': DM([0.1, 0.3]), 'funtimes/ouble/x': DM(0.5)}\n",
      "dict_keys(['funtimes/funtimes/x', 'funtimes/ouble/x'])\n"
     ]
    }
   ],
   "source": [
    "# Test decision vars\n",
    "dvs = DecisionVarDict(attr_names = ['lb'], name = 'funtimes/')\n",
    "dvs.add_vars({'x':[1.0, 2.0]}, lb={'x':[0, 0]})\n",
    "print(dvs)\n",
    "print(dvs['x'])\n",
    "print(dvs.get('funtimes/x'))\n",
    "dvs2 = DecisionVarDict(attr_names = ['lb'], name = 'ouble/')\n",
    "dvs2.add_vars(init={'x':2.0}, lb={'y':3.0})\n",
    "dvs += dvs2\n",
    "print(dvs.vectorize('lb'))\n",
    "d2 = dvs.dictize(np.array([0.1, 0.3, 0.5]))\n",
    "print(d2)\n",
    "print(d2.keys())\n"
   ]
  },
  {
   "cell_type": "code",
   "execution_count": 14,
   "id": "83f2fb61",
   "metadata": {},
   "outputs": [
    {
     "name": "stdout",
     "output_type": "stream",
     "text": [
      "***** Decision Vars, name:  *****\n",
      "Attributes: ['lb']\n",
      "Vars: \n",
      "  q: [q_0, q_1], shape: (2, 1)\n",
      "  free/q: [q_0, q_1], shape: (2, 1)\n",
      "\n",
      "False\n"
     ]
    }
   ],
   "source": [
    "a = DecisionVarDict(attr_names = ['lb'], name = '')\n",
    "a.add_vars({'q':[1.0, 2.0]}, lb={'q':[0, 0]})\n",
    "\n",
    "b = DecisionVarDict(attr_names = ['lb'], name = 'free/')\n",
    "b.add_vars({'q':[1.0, 2.0]}, lb={'q':[0, 0]})\n",
    "\n",
    "a += b\n",
    "print(a)\n",
    "print(a['q'][0] is b['q'][0])\n"
   ]
  },
  {
   "cell_type": "code",
   "execution_count": 17,
   "id": "74516c7f",
   "metadata": {},
   "outputs": [
    {
     "name": "stdout",
     "output_type": "stream",
     "text": [
      "***** Decision Vars, name: test/ *****\n",
      "Attributes: []\n",
      "Vars: \n",
      "  test/q: [q_0, q_1, q_2, q_3, q_4, q_5, q_6], shape: (7, 1)\n",
      "  test/dq: [dq_0, dq_1, dq_2, dq_3, dq_4, dq_5, dq_6], shape: (7, 1)\n",
      "\n",
      "[q_0, q_1, q_2, q_3, q_4, q_5, q_6]\n"
     ]
    }
   ],
   "source": [
    "from robot import *\n",
    "rob = Robot('config/franka.urdf', name = 'test/')\n",
    "print(rob._state)\n",
    "print(rob._state['q'])\n"
   ]
  },
  {
   "cell_type": "code",
   "execution_count": 18,
   "id": "6c557f2c",
   "metadata": {},
   "outputs": [
    {
     "name": "stdout",
     "output_type": "stream",
     "text": [
      "[0, -3, 5]\n",
      "[0, -3, 5]\n"
     ]
    }
   ],
   "source": [
    "from contact import Contact\n",
    "pars = {'pos': [0, 0, 0],\n",
    "        'stiff': [0, 10, 10],\n",
    "        'rest':[0, 0, 0.0]}\n",
    "c = Contact('friendo', pars)\n",
    "q = ca.SX.sym('q',7)\n",
    "p, R = rob.fwd_kin(q)\n",
    "print(c.get_force({'p':ca.DM([0.5, 0.3, -0.5]), 'R':ca.DM.ones(3)}))\n",
    "\n",
    "c2 = Contact('c2',pars, ['stiff'], {'cov_init':{}, 'proc_noise':{}})\n",
    "print(c2.get_force({'p':ca.DM([0.5, 0.3, -0.5]), \n",
    "                    'R':ca.DM.ones(3), \n",
    "                    'c2/stiff':ca.DM([10, 0, 0])}))"
   ]
  },
  {
   "cell_type": "code",
   "execution_count": 47,
   "id": "79561a44",
   "metadata": {},
   "outputs": [
    {
     "name": "stdout",
     "output_type": "stream",
     "text": [
      "{'tau_input': array([0., 0., 0., 0., 0., 0., 0.]), 'M_inv': DM(\n",
      "[[0.276874, 0.0025057, -0.00588749, -0.000920079, -0.00252031, -6.27142e-05, 0.00042578], \n",
      " [0.0025057, 0.171741, 0.0024947, 0.0453549, 0.00196389, -0.000685664, -0.000100503], \n",
      " [-0.00588749, 0.0024947, 0.279763, -0.000939858, -0.00254763, -6.32326e-05, 0.000430345], \n",
      " [-0.000920079, 0.0453549, -0.000939858, 0.256787, -0.00123468, 0.000438753, 8.78696e-05], \n",
      " [-0.00252031, 0.00196389, -0.00254763, -0.00123468, 0.283098, -6.27247e-05, 0.000441301], \n",
      " [-6.27142e-05, -0.000685664, -6.32326e-05, 0.000438753, -6.27247e-05, 0.28315, 4.47537e-05], \n",
      " [0.00042578, -0.000100503, 0.000430345, 8.78696e-05, 0.000441301, 4.47537e-05, 0.285316]])}\n",
      "[0.311901, 0.497578, 0.200615]\n"
     ]
    }
   ],
   "source": [
    "# Test convergence\n",
    "from robot import Robot\n",
    "par1 = {'pos': [0, 0, 0.0],\n",
    "        'stiff': [0, 0, 100],\n",
    "        'rest':[0, 0, 0.2]}\n",
    "par2 = {'pos': [0, 0, 0],\n",
    "        'stiff': [0, 100, 0],\n",
    "        'rest': [0, 0.5, 0]}\n",
    "c1 = Contact('c1/', par1, [], {'cov_init':{}, 'proc_noise':{}})\n",
    "c2 = Contact('c2/', par2, [], {'cov_init':{}, 'proc_noise':{}})\n",
    "\n",
    "rob = Robot('config/franka.urdf', subsys = [c1, c2], name = 'test/')\n",
    "rob.build_step(0.1)\n",
    "#print(rob.get_state(1))\n",
    "# test that it converges as expected \n",
    "q = np.zeros(7)\n",
    "dq = np.zeros(7)\n",
    "tau = np.zeros(7)\n",
    "state = NamedDict('test/', {'q':q, 'dq':dq})\n",
    "inp_args = dict(tau_input=tau, M_inv=rob.inv_mass_fn(state['q']))\n",
    "\n",
    "for _ in range(100):\n",
    "    inp_args.update(state)\n",
    "    res = rob.step(**inp_args)\n",
    "    state['q'] = res['q']\n",
    "    state['dq'] = res['dq']\n",
    "res_dict = rob.get_ext_state(state)\n",
    "print(res_dict['p'])"
   ]
  },
  {
   "cell_type": "code",
   "execution_count": 49,
   "id": "704e9fe8",
   "metadata": {},
   "outputs": [],
   "source": [
    "from robot import Robot\n",
    "from contact import Contact\n",
    "par1 = {'pos': [0, 0, 0.0],\n",
    "        'stiff': [0, 0, 100],\n",
    "        'rest':[0, 0, 0.2]}\n",
    "par2 = {'pos': [0, 0, 0],\n",
    "        'stiff': [0, 100, 0],\n",
    "        'rest': [0, 0.5, 0]}\n",
    "c1 = Contact('c1/', par1, ['stiff'], {'cov_init':{}, 'proc_noise':{}})\n",
    "c2 = Contact('c2/', par2, [], {'cov_init':{}, 'proc_noise':{}})\n",
    "\n",
    "rob = Robot('config/franka.urdf', subsys = [c1, c2])\n",
    "#print(rob.get_input(H=5))\n",
    "#print(rob.get_state(H=5))"
   ]
  },
  {
   "cell_type": "code",
   "execution_count": 50,
   "id": "2f2f8001",
   "metadata": {},
   "outputs": [
    {
     "ename": "ModuleNotFoundError",
     "evalue": "No module named 'rospy'",
     "output_type": "error",
     "traceback": [
      "\u001b[0;31m---------------------------------------------------------------------------\u001b[0m",
      "\u001b[0;31mModuleNotFoundError\u001b[0m                       Traceback (most recent call last)",
      "Input \u001b[0;32mIn [50]\u001b[0m, in \u001b[0;36m<cell line: 2>\u001b[0;34m()\u001b[0m\n\u001b[1;32m      1\u001b[0m \u001b[38;5;66;03m# Check that the spawner works\u001b[39;00m\n\u001b[0;32m----> 2\u001b[0m \u001b[38;5;28;01mfrom\u001b[39;00m \u001b[38;5;21;01mhelper_fns\u001b[39;00m \u001b[38;5;28;01mimport\u001b[39;00m spawn_models\n\u001b[1;32m      3\u001b[0m models \u001b[38;5;241m=\u001b[39m spawn_models(\u001b[38;5;124m'\u001b[39m\u001b[38;5;124mconfig/franka.yaml\u001b[39m\u001b[38;5;124m'\u001b[39m, \u001b[38;5;124m'\u001b[39m\u001b[38;5;124mconfig/attrs.yaml\u001b[39m\u001b[38;5;124m'\u001b[39m, \u001b[38;5;124m'\u001b[39m\u001b[38;5;124mconfig/contact.yaml\u001b[39m\u001b[38;5;124m'\u001b[39m, sym_vars \u001b[38;5;241m=\u001b[39m [])\n\u001b[1;32m      4\u001b[0m \u001b[38;5;28;01mfor\u001b[39;00m name, model \u001b[38;5;129;01min\u001b[39;00m models\u001b[38;5;241m.\u001b[39mitems():\n",
      "File \u001b[0;32m~/mpc-contact/helper_fns.py:9\u001b[0m, in \u001b[0;36m<module>\u001b[0;34m\u001b[0m\n\u001b[1;32m      6\u001b[0m \u001b[38;5;28;01mfrom\u001b[39;00m \u001b[38;5;21;01mrobot\u001b[39;00m \u001b[38;5;28;01mimport\u001b[39;00m \u001b[38;5;241m*\u001b[39m\n\u001b[1;32m      7\u001b[0m \u001b[38;5;28;01mfrom\u001b[39;00m \u001b[38;5;21;01mimpedance_controller\u001b[39;00m \u001b[38;5;28;01mimport\u001b[39;00m ImpedanceController\n\u001b[0;32m----> 9\u001b[0m \u001b[38;5;28;01mimport\u001b[39;00m \u001b[38;5;21;01mrospy\u001b[39;00m\n\u001b[1;32m     10\u001b[0m \u001b[38;5;28;01mfrom\u001b[39;00m \u001b[38;5;21;01msensor_msgs\u001b[39;00m\u001b[38;5;21;01m.\u001b[39;00m\u001b[38;5;21;01mmsg\u001b[39;00m \u001b[38;5;28;01mimport\u001b[39;00m JointState\n\u001b[1;32m     11\u001b[0m \u001b[38;5;28;01mfrom\u001b[39;00m \u001b[38;5;21;01mgeometry_msgs\u001b[39;00m\u001b[38;5;21;01m.\u001b[39;00m\u001b[38;5;21;01mmsg\u001b[39;00m \u001b[38;5;28;01mimport\u001b[39;00m PoseStamped\n",
      "\u001b[0;31mModuleNotFoundError\u001b[0m: No module named 'rospy'"
     ]
    }
   ],
   "source": [
    "# Check that the spawner works\n",
    "from helper_fns import spawn_models\n",
    "models = spawn_models('config/franka.yaml', 'config/attrs.yaml', 'config/contact.yaml', sym_vars = [])\n",
    "for name, model in models.items():\n",
    "    model.build_step(step_size=0.1)\n",
    "    print(model.step)\n",
    "    n_in = model.step.size_in(0)\n",
    "    res = model.step(np.zeros(7), np.zeros(7), np.eye(7), np.zeros(7))\n",
    "    print(f\"{name} has step fn of {model.step}\")\n",
    "    print(f\"  which evals to {res}\")\n"
   ]
  },
  {
   "cell_type": "code",
   "execution_count": null,
   "id": "9854089f",
   "metadata": {},
   "outputs": [],
   "source": []
  },
  {
   "cell_type": "code",
   "execution_count": 24,
   "id": "69207bfa-9bbf-48bd-a7dd-79f0f28e7b41",
   "metadata": {},
   "outputs": [],
   "source": []
  },
  {
   "cell_type": "code",
   "execution_count": null,
   "id": "3b241fe3-46ef-4f2f-b63e-d2ddc5945c57",
   "metadata": {},
   "outputs": [],
   "source": []
  }
 ],
 "metadata": {
  "kernelspec": {
   "display_name": "Python 3 (ipykernel)",
   "language": "python",
   "name": "python3"
  },
  "language_info": {
   "codemirror_mode": {
    "name": "ipython",
    "version": 3
   },
   "file_extension": ".py",
   "mimetype": "text/x-python",
   "name": "python",
   "nbconvert_exporter": "python",
   "pygments_lexer": "ipython3",
   "version": "3.8.10"
  },
  "name": "test_dec_vars_and_primitives.ipynb"
 },
 "nbformat": 4,
 "nbformat_minor": 5
}
