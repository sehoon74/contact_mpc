{
 "cells": [
  {
   "cell_type": "code",
   "execution_count": 1,
   "id": "8c2d15a7",
   "metadata": {},
   "outputs": [],
   "source": [
    "%load_ext autoreload\n",
    "%autoreload 2\n",
    "\n",
    "import numpy as np\n",
    "import casadi as ca\n",
    "from helper_fns import yaml_load"
   ]
  },
  {
   "cell_type": "code",
   "execution_count": 39,
   "id": "51ee08a2",
   "metadata": {},
   "outputs": [
    {
     "name": "stdout",
     "output_type": "stream",
     "text": [
      "Building robot model from config/franka.urdf with TCP fr3_link8\n",
      "  with subsys ['c/']\n",
      "  Building controller imp_ctrl\n",
      "step_vec:(xi[14],imp_rest[3],imp_stiff[3],M_inv[7x7])->(xi[14]) SXFunction\n"
     ]
    }
   ],
   "source": [
    "from robot import Robot\n",
    "from contact import Contact\n",
    "from impedance_controller import ImpedanceController\n",
    "from decision_vars import DecisionVarSet\n",
    "par = {'pos': [0, 0, 0.0],\n",
    "       'stiff': [0, 0, 100],\n",
    "        'rest':[0, 0, 0.2]}\n",
    "attrs = yaml_load('config/attrs.yaml')\n",
    "attrs = {k:attrs[k] for k in ['lb', 'ub']}\n",
    "c = Contact('c/', par, [], attrs=attrs)\n",
    "imp = ImpedanceController(pars={'imp_stiff':[300, 300, 300], 'imp_rest':[0, 0, 0.5]}, \n",
    "                          sym_vars = ['imp_rest', 'imp_stiff'],\n",
    "                          attrs = attrs)\n",
    "rob = Robot('config/franka.urdf', subsys = [c], ctrl = imp, attrs = attrs)\n",
    "rob.build_step(0.1)\n",
    "print(rob.step_vec)"
   ]
  },
  {
   "cell_type": "code",
   "execution_count": 45,
   "id": "62b56da3",
   "metadata": {},
   "outputs": [
    {
     "name": "stdout",
     "output_type": "stream",
     "text": [
      "  Building controller imp_ctrl\n",
      "This is Ipopt version 3.11.9, running with linear solver mumps.\n",
      "NOTE: Other linear solvers might be more efficient (see Ipopt documentation).\n",
      "\n",
      "Number of nonzeros in equality constraint Jacobian...:     4555\n",
      "Number of nonzeros in inequality constraint Jacobian.:        0\n",
      "Number of nonzeros in Lagrangian Hessian.............:     1427\n",
      "\n",
      "Total number of variables............................:      400\n",
      "                     variables with only lower bounds:        0\n",
      "                variables with lower and upper bounds:      120\n",
      "                     variables with only upper bounds:        0\n",
      "Total number of equality constraints.................:      280\n",
      "Total number of inequality constraints...............:        0\n",
      "        inequality constraints with only lower bounds:        0\n",
      "   inequality constraints with lower and upper bounds:        0\n",
      "        inequality constraints with only upper bounds:        0\n",
      "\n",
      "iter    objective    inf_pr   inf_du lg(mu)  ||d||  lg(rg) alpha_du alpha_pr  ls\n",
      "   0  8.6522000e-01 6.96e-01 8.21e-03  -1.0 0.00e+00    -  0.00e+00 0.00e+00   0\n",
      "   1  5.8897961e-01 1.90e-01 1.21e+00  -1.0 1.30e+00   0.0 5.55e-01 7.38e-01f  1\n",
      "   2  4.6647932e-01 4.01e-02 3.96e-01  -1.0 3.54e-01  -0.5 9.91e-01 1.00e+00f  1\n",
      "   3  4.4556916e-01 1.83e-03 3.13e-02  -1.0 1.10e-01  -1.0 1.00e+00 1.00e+00h  1\n",
      "   4  4.0893144e-01 3.67e-02 1.58e-02  -2.5 4.26e-01  -1.4 1.00e+00 1.00e+00h  1\n",
      "   5  3.6665853e-01 1.08e-02 1.42e-02  -2.5 1.44e-01  -1.0 1.00e+00 1.00e+00h  1\n",
      "   6  2.1515286e-01 2.61e-01 8.13e-02  -3.8 7.65e-01  -1.5 7.95e-01 1.00e+00h  1\n",
      "   7  1.1178035e-01 6.91e-01 2.09e-01  -3.8 1.29e+01    -  2.17e-01 3.78e-01h  1\n",
      "   8  1.0525252e-01 5.83e-01 1.77e-01  -3.8 9.29e-01  -2.0 1.90e-01 1.58e-01h  1\n",
      "   9  9.4507769e-02 4.99e-01 1.51e-01  -3.8 2.05e+00  -2.4 3.92e-01 1.46e-01h  1\n",
      "iter    objective    inf_pr   inf_du lg(mu)  ||d||  lg(rg) alpha_du alpha_pr  ls\n",
      "  10  7.8615411e-02 3.11e-01 9.60e-02  -3.8 6.85e-01  -2.0 4.75e-01 3.76e-01h  1\n",
      "  11  4.2743876e-02 2.57e-01 8.45e-02  -3.8 4.18e+01    -  2.06e-02 1.87e-02h  1\n",
      "  12  3.0432831e-02 2.65e-01 7.91e-02  -3.8 3.46e+01    -  1.24e-01 1.03e-01h  1\n",
      "  13  2.2051996e-02 2.05e-01 6.04e-02  -3.8 3.67e+01    -  2.29e-01 2.46e-01h  1\n",
      "  14  2.0858920e-02 1.94e-01 5.71e-02  -3.8 3.96e+01    -  3.40e-01 5.53e-02h  1\n",
      "  15  1.8696515e-02 1.42e-01 4.22e-02  -3.8 4.83e+01    -  1.82e-01 2.58e-01h  1\n",
      "  16  1.7502217e-02 1.22e-01 3.60e-02  -3.8 4.52e+01    -  1.00e+00 1.45e-01h  1\n",
      "  17  1.8771934e-02 2.16e-02 6.66e-03  -3.8 6.65e+01    -  1.00e+00 8.29e-01h  1\n",
      "  18  1.9869630e-02 9.53e-04 5.21e-05  -3.8 5.58e+00    -  1.00e+00 1.00e+00h  1\n",
      "  19  1.6701167e-02 2.23e-03 2.25e-03  -5.7 1.09e-01    -  8.52e-01 1.00e+00h  1\n",
      "iter    objective    inf_pr   inf_du lg(mu)  ||d||  lg(rg) alpha_du alpha_pr  ls\n",
      "  20  1.5895491e-02 1.66e-02 2.77e-03  -5.7 2.62e-01    -  5.19e-01 9.27e-01h  1\n",
      "  21  1.5651727e-02 6.92e-03 9.85e-04  -5.7 1.13e-01    -  6.42e-01 6.38e-01h  1\n",
      "  22  1.5534496e-02 1.31e-04 9.65e-06  -5.7 4.48e-02    -  1.00e+00 1.00e+00h  1\n",
      "  23  1.5527157e-02 3.15e-05 2.79e-07  -5.7 2.58e-02    -  1.00e+00 1.00e+00h  1\n",
      "  24  1.5527221e-02 1.96e-08 3.95e-10  -5.7 3.41e-04    -  1.00e+00 1.00e+00h  1\n",
      "  25  1.5442333e-02 2.70e-04 5.00e-05  -8.6 4.35e-02    -  8.03e-01 9.08e-01h  1\n",
      "  26  1.5431452e-02 6.38e-05 8.16e-06  -8.6 3.35e-02    -  9.14e-01 9.56e-01h  1\n",
      "  27  1.5430903e-02 1.67e-05 2.82e-06  -8.6 7.81e-03    -  1.00e+00 7.65e-01h  1\n",
      "  28  1.5430710e-02 7.55e-07 5.07e-07  -8.6 2.71e-03    -  8.97e-01 1.00e+00f  1\n",
      "  29  1.5430681e-02 1.44e-07 9.70e-10  -8.6 1.51e-03    -  1.00e+00 1.00e+00h  1\n",
      "iter    objective    inf_pr   inf_du lg(mu)  ||d||  lg(rg) alpha_du alpha_pr  ls\n",
      "  30  1.5430679e-02 1.95e-09 1.45e-11  -8.6 1.29e-04    -  1.00e+00 1.00e+00h  1\n",
      "\n",
      "Number of Iterations....: 30\n",
      "\n",
      "                                   (scaled)                 (unscaled)\n",
      "Objective...............:   1.5430679368097527e-02    1.5430679368097527e-02\n",
      "Dual infeasibility......:   1.4494475081453749e-11    1.4494475081453749e-11\n",
      "Constraint violation....:   1.9545406682031086e-09    1.9545406682031086e-09\n",
      "Complementarity.........:   2.5276719475810013e-09    2.5276719475810013e-09\n",
      "Overall NLP error.......:   2.5276719475810013e-09    2.5276719475810013e-09\n",
      "\n",
      "\n",
      "Number of objective function evaluations             = 31\n",
      "Number of objective gradient evaluations             = 31\n",
      "Number of equality constraint evaluations            = 31\n",
      "Number of inequality constraint evaluations          = 0\n",
      "Number of equality constraint Jacobian evaluations   = 31\n",
      "Number of inequality constraint Jacobian evaluations = 0\n",
      "Number of Lagrangian Hessian evaluations             = 30\n",
      "Total CPU secs in IPOPT (w/o function evaluations)   =      0.078\n",
      "Total CPU secs in NLP function evaluations           =      0.062\n",
      "\n",
      "EXIT: Optimal Solution Found.\n",
      "      solver  :   t_proc      (avg)   t_wall      (avg)    n_eval\n",
      "       nlp_f  |        0 (       0) 164.70us (  5.31us)        31\n",
      "       nlp_g  |        0 (       0)   3.81ms (122.90us)        31\n",
      "    nlp_grad  |        0 (       0) 369.30us (369.30us)         1\n",
      "  nlp_grad_f  |        0 (       0) 256.70us (  8.02us)        32\n",
      "  nlp_hess_l  |  62.50ms (  2.08ms)  65.07ms (  2.17ms)        30\n",
      "   nlp_jac_g  |        0 (       0)  23.57ms (736.67us)        32\n",
      "       total  | 171.88ms (171.88ms) 152.31ms (152.31ms)         1\n"
     ]
    },
    {
     "data": {
      "text/plain": [
       "DM(\n",
       "[[-0.1, -0.1, -0.0999999, -0.0999999, -0.0999999, -0.0999999, -0.0999998, -0.0999998, -0.0999998, -0.0999997, -0.0999996, -0.0999994, -0.0999989, -0.0999969, 0.0557814, 0.0999937, 0.0999955, 0.0999957, 0.0999953, -2.62757e-18], \n",
       " [-0.0999957, -0.0999934, 0.099958, 0.0999846, 0.0999906, 0.0999935, 0.099995, 0.0999958, 0.0999959, 0.0999956, 0.099995, 0.0999931, 0.0999863, 0.0999091, -0.0833108, -0.0998543, -0.0998297, -0.099749, -0.0999131, -2.62757e-18], \n",
       " [0.0999998, 0.0999997, 0.0999995, 0.0999991, 0.0999981, 0.099984, -0.0999967, -0.0999986, -0.0999992, -0.0999995, -0.0999996, -0.0999997, -0.0999997, -0.0999997, -0.0999997, -0.0999997, -0.0999997, -0.0999997, -0.0999997, -2.62757e-18]])"
      ]
     },
     "execution_count": 45,
     "metadata": {},
     "output_type": "execute_result"
    }
   ],
   "source": [
    "from mpc import MPC\n",
    "from helper_fns import mult_shoot_rollout\n",
    "\n",
    "mpc = MPC(robots={'free':rob}, mpc_params={'H':20, 'dt':0.1})\n",
    "params = {'init_state': ca.DM.zeros(14), \n",
    "          'belief_free':1.0, \n",
    "          'imp_stiff':200*ca.DM.ones(3),}\n",
    "mpc.solve(params)"
   ]
  },
  {
   "cell_type": "code",
   "execution_count": null,
   "id": "3e417a8f",
   "metadata": {},
   "outputs": [],
   "source": []
  },
  {
   "cell_type": "code",
   "execution_count": null,
   "id": "361a1bcd",
   "metadata": {},
   "outputs": [],
   "source": []
  }
 ],
 "metadata": {
  "kernelspec": {
   "display_name": "Python 3 (ipykernel)",
   "language": "python",
   "name": "python3"
  },
  "language_info": {
   "codemirror_mode": {
    "name": "ipython",
    "version": 3
   },
   "file_extension": ".py",
   "mimetype": "text/x-python",
   "name": "python",
   "nbconvert_exporter": "python",
   "pygments_lexer": "ipython3",
   "version": "3.8.10"
  }
 },
 "nbformat": 4,
 "nbformat_minor": 5
}
