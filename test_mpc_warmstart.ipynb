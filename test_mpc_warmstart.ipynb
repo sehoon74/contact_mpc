{
 "cells": [
  {
   "cell_type": "code",
   "execution_count": 11,
   "id": "07ae385c",
   "metadata": {},
   "outputs": [
    {
     "name": "stdout",
     "output_type": "stream",
     "text": [
      "The autoreload extension is already loaded. To reload it, use:\n",
      "  %reload_ext autoreload\n"
     ]
    }
   ],
   "source": [
    "%load_ext autoreload\n",
    "%autoreload 2\n",
    "\n",
    "import matplotlib.pyplot as plt\n",
    "plt.rcParams['figure.dpi'] = 400\n",
    "plt.rcParams['axes.grid'] = True\n",
    "plt.rcParams['image.aspect'] = 0.8\n",
    "\n",
    "import numpy as np\n",
    "import casadi as ca\n",
    "import time\n",
    "from helper_fns import yaml_load\n",
    "\n",
    "def timed_exec(fn, *args):\n",
    "    start = time.time()\n",
    "    res = fn(*args)\n",
    "    elapsed = time.time() - start\n",
    "    return elapsed, *res\n",
    "\n",
    "results = {} # value is tuple of solve time, cost"
   ]
  },
  {
   "cell_type": "code",
   "execution_count": 12,
   "id": "f3f12a46",
   "metadata": {},
   "outputs": [],
   "source": [
    "from helper_fns import spawn_models\n",
    "from mpc import MPC\n",
    "\n",
    "mpc_params = yaml_load('config/mpc_params.yaml')\n",
    "ipopt_options = yaml_load('config/ipopt_options.yaml')\n",
    "\n",
    "_, robots, contacts = spawn_models(robot_path = \"config/franka.yaml\",\n",
    "                                   attr_path  = \"config/attrs.yaml\", \n",
    "                                   contact_path = \"config/contact_test.yaml\",\n",
    "                                   sym_vars = [])\n",
    "\n",
    "q0 = np.ones(7)\n",
    "dq0 = np.zeros(7)\n",
    "\n",
    "params = {'q': q0,\n",
    "          'dq': dq0,\n",
    "          'belief_free':1.0,\n",
    "          'belief_point':0.0,\n",
    "          'imp_stiff':400*ca.DM.ones(3),}"
   ]
  },
  {
   "cell_type": "code",
   "execution_count": 15,
   "id": "7623edcb",
   "metadata": {
    "scrolled": true
   },
   "outputs": [
    {
     "name": "stdout",
     "output_type": "stream",
     "text": [
      "dict_keys(['imp_rest', 'free/q', 'free/dq', 'point/q', 'point/dq'])\n",
      "Free space cold 1.0467894077301025, Free space warm 0.04230189323425293, Point: 0.012664318084716797, Cost: 0.408501\n"
     ]
    }
   ],
   "source": [
    "# MPC only, i.e. without iCEM warmstart\n",
    "mpc = MPC(robots, \n",
    "          mpc_params=mpc_params, \n",
    "          ipopt_options=ipopt_options,\n",
    "          icem=False)\n",
    "\n",
    "t_mpc_free_cold, cost, res = timed_exec(mpc.solve, params)\n",
    "t_mpc_free_warm, cost, res = timed_exec(mpc.solve, params)\n",
    "\n",
    "print(res.keys())\n",
    "params['belief_free'] = 0.0\n",
    "params['belief_point'] = 1.0\n",
    "\n",
    "t_mpc_point, cost2, res2 = timed_exec(mpc.solve, params)\n",
    "\n",
    "print(f\"Free space cold {t_mpc_free_cold}, Free space warm {t_mpc_free_warm}, Point: {t_mpc_point}, Cost: {cost2}\")\n",
    "res['imp_stiff'] = params['imp_stiff']\n",
    "#traj = robots['free'].get_ext_state(res)\n",
    "#print(cost)\n",
    "#print(traj['imp_rest'])"
   ]
  },
  {
   "cell_type": "code",
   "execution_count": 17,
   "id": "186db9c2",
   "metadata": {},
   "outputs": [
    {
     "name": "stdout",
     "output_type": "stream",
     "text": [
      "Free space 0.1268465518951416, Point: 0.1268784999847412, Cost: 1.05695\n"
     ]
    }
   ],
   "source": [
    "# iCEM-only result\n",
    "mpc_params['num_iter'] = 10\n",
    "mpc.icem_init()\n",
    "xi0 = np.hstack((q0, dq0))\n",
    "time_cem_free, cost, res = timed_exec(mpc.icem_solve, params)\n",
    "time_cem_point, cost, res = timed_exec(mpc.icem_solve, params)\n",
    "print(f\"Free space {time_cem_free}, Point: {time_cem_point}, Cost: {cost}\")\n"
   ]
  },
  {
   "cell_type": "code",
   "execution_count": null,
   "id": "b4bb739e",
   "metadata": {},
   "outputs": [],
   "source": []
  },
  {
   "cell_type": "code",
   "execution_count": 9,
   "id": "cdbbd396",
   "metadata": {},
   "outputs": [
    {
     "ename": "NameError",
     "evalue": "name 'traj' is not defined",
     "output_type": "error",
     "traceback": [
      "\u001b[0;31m---------------------------------------------------------------------------\u001b[0m",
      "\u001b[0;31mNameError\u001b[0m                                 Traceback (most recent call last)",
      "Input \u001b[0;32mIn [9]\u001b[0m, in \u001b[0;36m<cell line: 4>\u001b[0;34m()\u001b[0m\n\u001b[1;32m      1\u001b[0m \u001b[38;5;28;01mimport\u001b[39;00m \u001b[38;5;21;01mmatplotlib\u001b[39;00m\u001b[38;5;21;01m.\u001b[39;00m\u001b[38;5;21;01mpyplot\u001b[39;00m \u001b[38;5;28;01mas\u001b[39;00m \u001b[38;5;21;01mplt\u001b[39;00m\n\u001b[1;32m      2\u001b[0m \u001b[38;5;28;01mimport\u001b[39;00m \u001b[38;5;21;01mnumpy\u001b[39;00m \u001b[38;5;28;01mas\u001b[39;00m \u001b[38;5;21;01mnp\u001b[39;00m\n\u001b[0;32m----> 4\u001b[0m p \u001b[38;5;241m=\u001b[39m np\u001b[38;5;241m.\u001b[39msqueeze(np\u001b[38;5;241m.\u001b[39marray(\u001b[43mtraj\u001b[49m[\u001b[38;5;124m'\u001b[39m\u001b[38;5;124mp\u001b[39m\u001b[38;5;124m'\u001b[39m]\u001b[38;5;241m.\u001b[39mT))\n\u001b[1;32m      5\u001b[0m plt\u001b[38;5;241m.\u001b[39mplot(p, label\u001b[38;5;241m=\u001b[39m[\u001b[38;5;124m'\u001b[39m\u001b[38;5;124mx\u001b[39m\u001b[38;5;124m'\u001b[39m, \u001b[38;5;124m'\u001b[39m\u001b[38;5;124my\u001b[39m\u001b[38;5;124m'\u001b[39m, \u001b[38;5;124m'\u001b[39m\u001b[38;5;124mz\u001b[39m\u001b[38;5;124m'\u001b[39m])\n\u001b[1;32m      6\u001b[0m plt\u001b[38;5;241m.\u001b[39mlegend()\n",
      "\u001b[0;31mNameError\u001b[0m: name 'traj' is not defined"
     ]
    }
   ],
   "source": [
    "import matplotlib.pyplot as plt\n",
    "import numpy as np\n",
    "\n",
    "p = np.squeeze(np.array(traj['p'].T))\n",
    "plt.plot(p, label=['x', 'y', 'z'])\n",
    "plt.legend()"
   ]
  },
  {
   "cell_type": "code",
   "execution_count": null,
   "id": "d903a996",
   "metadata": {},
   "outputs": [],
   "source": []
  }
 ],
 "metadata": {
  "kernelspec": {
   "display_name": "Python 3 (ipykernel)",
   "language": "python",
   "name": "python3"
  },
  "language_info": {
   "codemirror_mode": {
    "name": "ipython",
    "version": 3
   },
   "file_extension": ".py",
   "mimetype": "text/x-python",
   "name": "python",
   "nbconvert_exporter": "python",
   "pygments_lexer": "ipython3",
   "version": "3.8.10"
  }
 },
 "nbformat": 4,
 "nbformat_minor": 5
}
