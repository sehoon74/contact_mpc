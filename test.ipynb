{
 "cells": [
  {
   "cell_type": "code",
   "execution_count": 11,
   "id": "acd28f30",
   "metadata": {
    "collapsed": false
   },
   "outputs": [
    {
     "name": "stdout",
     "output_type": "stream",
     "text": [
      "The autoreload extension is already loaded. To reload it, use:\n",
      "  %reload_ext autoreload\n"
     ]
    }
   ],
   "source": [
    "%load_ext autoreload\n",
    "%autoreload 2\n",
    "import numpy as np\n",
    "import casadi as ca\n",
    "from decision_vars import DecisionVarSet\n"
   ]
  },
  {
   "cell_type": "code",
   "execution_count": 17,
   "id": "73bc61f6",
   "metadata": {
    "collapsed": false
   },
   "outputs": [
    {
     "name": "stdout",
     "output_type": "stream",
     "text": [
      "***** Decision Vars *****\n",
      "Attributes: ['sym', 'init', 'lb']\n",
      "Vars: \n",
      "  x: [x_0, x_1], shape: (2, 1)\n",
      "\n",
      "[-inf, -inf, 3]\n",
      "{'x': array([0.1, 0.3]), 'y': array(0.5)}\n",
      "{'test': 1, 'y': SX(y)}\n"
     ]
    }
   ],
   "source": [
    "# Test decision vars\n",
    "from decision_vars import DecisionVarSet\n",
    "dvs = DecisionVarSet(attrs = ['lb'])\n",
    "dvs.add_vars({'x':[1.0, 2.0]}, lb={})\n",
    "print(dvs)\n",
    "dvs2 = DecisionVarSet(attrs = ['lb'])\n",
    "dvs2.add_vars(inits={'y':2.0}, lb={'y':3.0})\n",
    "dvs += dvs2\n",
    "print(dvs.vectorize('lb'))\n",
    "d2 = dvs.dictize(np.array([0.1, 0.3, 0.5]))\n",
    "print(d2)\n",
    "d = {'test':1}\n",
    "d.update(dvs2)\n",
    "print(d)"
   ]
  },
  {
   "cell_type": "code",
   "execution_count": 18,
   "id": "74516c7f",
   "metadata": {
    "collapsed": false
   },
   "outputs": [
    {
     "name": "stdout",
     "output_type": "stream",
     "text": [
      "Building robot model from config/franka.urdf with TCP fr3_link8\n"
     ]
    }
   ],
   "source": [
    "from robot import *\n",
    "rob = Robot('config/franka.urdf')"
   ]
  },
  {
   "cell_type": "code",
   "execution_count": 19,
   "id": "6c557f2c",
   "metadata": {
    "collapsed": false
   },
   "outputs": [
    {
     "name": "stdout",
     "output_type": "stream",
     "text": [
      "[-5, -0, 0]\n"
     ]
    }
   ],
   "source": [
    "from contact import Contact\n",
    "pars = {'pos': [0, 0, 0],\n",
    "        'stiff': [10, 10, 10],\n",
    "        'rest':[0, 0, 0.5]}\n",
    "c = Contact(pars)\n",
    "q = ca.SX.sym('q',7)\n",
    "p, R = rob.fwd_kin(q)\n",
    "c.F_fn(ca.DM([0.5, 0.3, -0.5]), ca.DM.ones(3))\n",
    "\n",
    "c2 = Contact(pars, ['stiff'], {'cov':{}, 'noise':{}})\n",
    "print(c2.F_fn(ca.DM([0.5, 0.3, -0.5]), ca.DM.ones(3), ca.DM([10, 0, 0])))"
   ]
  },
  {
   "cell_type": "code",
   "execution_count": 21,
   "id": "79561a44",
   "metadata": {
    "collapsed": false
   },
   "outputs": [
    {
     "name": "stdout",
     "output_type": "stream",
     "text": [
      "Building robot model from config/franka.urdf with TCP fr3_link8\n",
      "  with 1 subsys\n"
     ]
    },
    {
     "data": {
      "text/plain": [
       "Function(disc_dyn:(xi[17],tau_input[7])->(xi_next[17]) SXFunction)"
      ]
     },
     "execution_count": 21,
     "metadata": {},
     "output_type": "execute_result"
    }
   ],
   "source": [
    "from robot import Robot\n",
    "from contact import Contact\n",
    "pars = {'pos': [0, 0, 0],\n",
    "        'stiff': [10, 10, 10],\n",
    "        'rest':[0, 0, 0.5]}\n",
    "c2 = Contact(pars, ['stiff'], {'cov':{}, 'noise':{}})\n",
    "rob = Robot('config/franka.urdf', subsys = [c2])\n",
    "rob.build_disc_dyn(0.1)"
   ]
  },
  {
   "cell_type": "code",
   "execution_count": 61,
   "id": "2f2f8001",
   "metadata": {
    "collapsed": false
   },
   "outputs": [
    {
     "name": "stdout",
     "output_type": "stream",
     "text": [
      "Building robot model from config/franka.urdf with TCP fr3_link8\n",
      "  with subsys ['contact_1']\n",
      "Building robot model from config/franka.urdf with TCP fr3_link8\n",
      "  with subsys ['contact_1', 'contact_2']\n",
      "plane has step fn of disc_dyn:(xi[17],tau_input[7])->(xi_next[17]) SXFunction\n",
      " which evals to {'q': array([ 8.93922588e-02,  5.06102852e+00,  8.92076159e-02,  1.02755344e+00,\n",
      "        7.15815910e-02, -8.97063172e+00, -5.18415854e-03]), 'dq': array([ 8.93922588e-01,  5.06102852e+01,  8.92076159e-01,  1.02755344e+01,\n",
      "        7.15815910e-01, -8.97063172e+01, -5.18415854e-02]), 'contact_1/pos': array([0., 0., 0.]), 'p': DM([-0.474956, -0.0876402, 0.0814489]), 'R': DM(\n",
      "[[0.908743, 0.0785623, -0.409895], \n",
      " [0.0144821, -0.987468, -0.157155], \n",
      " [-0.417105, 0.136878, -0.898492]]), 'contact_1/F': DM([0, 0, 5887.4]), 'contact_1/disp': DM([-0.474956, -0.0876402, 0.0814489]), 'contact_1/n': DM([0, 0, 1]), 'contact_1/x': DM([-0.474956, -0.0876402, 0.0814489])}\n",
      "hinge has step fn of disc_dyn:(xi[20],tau_input[7])->(xi_next[20]) SXFunction\n",
      " which evals to {'q': array([-1.09798940e-01,  5.05542526e+00, -1.12461244e-01,  1.03004927e+00,\n",
      "       -1.35891631e-01, -8.97046540e+00, -6.30932199e-03]), 'dq': array([-1.09798940e+00,  5.05542526e+01, -1.12461244e+00,  1.03004927e+01,\n",
      "       -1.35891631e+00, -8.97046540e+01, -6.30932199e-02]), 'contact_1/pos': array([0., 0., 0.]), 'contact_2/pos': array([0., 0., 0.]), 'p': DM([-0.468494, 0.114192, 0.0808241]), 'R': DM(\n",
      "[[0.917845, -0.0528567, -0.393403], \n",
      " [0.0359723, -0.97594, 0.215052], \n",
      " [-0.395305, -0.211536, -0.893861]]), 'contact_1/F': DM([0, 0, 5914.55]), 'contact_1/disp': DM([-0.468494, 0.114192, 0.0808241]), 'contact_1/n': DM([0, 0, 1]), 'contact_1/x': DM([-0.468494, 0.114192, 0.0808241]), 'contact_2/F': DM([0, -958.384, 0]), 'contact_2/disp': DM([-0.468494, 0.114192, 0.0808241]), 'contact_2/n': DM([0, 1, 0]), 'contact_2/x': DM([-0.468494, 0.114192, 0.0808241])}\n"
     ]
    }
   ],
   "source": [
    "from helper_fns import spawn_models\n",
    "models = spawn_models('config/franka.yaml', 'config/attrs.yaml', 'config/contact.yaml', sym_vars = ['pos'])\n",
    "for name, model in models.items():\n",
    "    step = model.build_disc_dyn(step_size=0.1)\n",
    "    n_in = step.size_in(0)\n",
    "    res = step(np.zeros(n_in), np.zeros(7))\n",
    "    res_dict = model.get_statedict(res.full())\n",
    "    print(f\"{name} has step fn of {step}\")\n",
    "    print(f\" which evals to {res_dict}\")\n"
   ]
  },
  {
   "cell_type": "code",
   "execution_count": 24,
   "id": "69207bfa-9bbf-48bd-a7dd-79f0f28e7b41",
   "metadata": {
    "collapsed": false
   },
   "outputs": [],
   "source": []
  },
  {
   "cell_type": "code",
   "execution_count": null,
   "id": "3b241fe3-46ef-4f2f-b63e-d2ddc5945c57",
   "metadata": {
    "collapsed": false
   },
   "outputs": [],
   "source": []
  }
 ],
 "metadata": {
  "kernelspec": {
   "argv": [
    "python",
    "-m",
    "ipykernel_launcher",
    "-f",
    "{connection_file}"
   ],
   "display_name": "Python 3 (ipykernel)",
   "env": null,
   "interrupt_mode": "signal",
   "language": "python",
   "metadata": {
    "debugger": true
   },
   "name": "python3"
  },
  "language_info": {
   "codemirror_mode": {
    "name": "ipython",
    "version": 3
   },
   "file_extension": ".py",
   "mimetype": "text/x-python",
   "name": "python",
   "nbconvert_exporter": "python",
   "pygments_lexer": "ipython3",
   "version": "3.8.10"
  },
  "name": "test.ipynb"
 },
 "nbformat": 4,
 "nbformat_minor": 5
}
