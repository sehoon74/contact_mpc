{
 "cells": [
  {
   "cell_type": "code",
   "execution_count": 96,
   "id": "07ae385c",
   "metadata": {},
   "outputs": [
    {
     "name": "stdout",
     "output_type": "stream",
     "text": [
      "The autoreload extension is already loaded. To reload it, use:\n",
      "  %reload_ext autoreload\n"
     ]
    }
   ],
   "source": [
    "%load_ext autoreload\n",
    "%autoreload 2\n",
    "\n",
    "import matplotlib.pyplot as plt\n",
    "plt.rcParams['figure.dpi'] = 400\n",
    "plt.rcParams['axes.grid'] = True\n",
    "plt.rcParams['image.aspect'] = 0.8\n",
    "\n",
    "import numpy as np\n",
    "import casadi as ca\n",
    "from helper_fns import yaml_load\n",
    "\n",
    "nlpopts = { \"print_time\":False,      # Prints the time for evaluating objective, calculating gradients, etc\n",
    "            \"ipopt.print_level\":0,   # Integer from 0 to 5, 5 printing the most information\n",
    "            \"ipopt.tol\":1.0e-5,\n",
    "            \"ipopt.acceptable_constr_viol_tol\":2.0e-04,\n",
    "            \"ipopt.warm_start_init_point\":\"yes\",\n",
    "            \"ipopt.warm_start_bound_frac\":1.0e-09,\n",
    "            \"ipopt.warm_start_bound_push\":1.0e-09,\n",
    "          }"
   ]
  },
  {
   "cell_type": "code",
   "execution_count": 98,
   "id": "802b02af",
   "metadata": {},
   "outputs": [
    {
     "name": "stdout",
     "output_type": "stream",
     "text": [
      "Building robot model from config/franka.urdf with TCP fr3_link8\n",
      "  with subsys ['c/']\n",
      "  with control imp_ctrl\n"
     ]
    }
   ],
   "source": [
    "from robot import Robot\n",
    "from contact import Contact\n",
    "from impedance_controller import ImpedanceController\n",
    "from decision_vars import DecisionVarSet\n",
    "par = {'pos': [0, 0, 0.0],\n",
    "       'stiff': [0, 0, 3e4],\n",
    "        'rest':[0, 0, 0.7]}\n",
    "attrs = yaml_load('config/attrs.yaml')\n",
    "attrs = {k:attrs[k] for k in ['lb', 'ub']}\n",
    "c = Contact('c/', par, [], attrs=attrs)\n",
    "imp = ImpedanceController(input_vars = ['imp_rest'], attrs = attrs)\n",
    "rob = Robot('config/franka.urdf', subsys = [c], ctrl = imp, attrs = attrs, visc_fric = 100)"
   ]
  },
  {
   "cell_type": "code",
   "execution_count": 101,
   "id": "7623edcb",
   "metadata": {
    "scrolled": true
   },
   "outputs": [
    {
     "name": "stdout",
     "output_type": "stream",
     "text": [
      "***** Decision Vars *****\n",
      "Attributes: ['lb', 'ub']\n",
      "Vars: \n",
      "  imp_rest: \n",
      "[[imp_rest_0, imp_rest_3, imp_rest_6, imp_rest_9, imp_rest_12, imp_rest_15, imp_rest_18, imp_rest_21, imp_rest_24, imp_rest_27, imp_rest_30, imp_rest_33, imp_rest_36, imp_rest_39, imp_rest_42, imp_rest_45, imp_rest_48, imp_rest_51, imp_rest_54, imp_rest_57, imp_rest_60, imp_rest_63, imp_rest_66, imp_rest_69, imp_rest_72], \n",
      " [imp_rest_1, imp_rest_4, imp_rest_7, imp_rest_10, imp_rest_13, imp_rest_16, imp_rest_19, imp_rest_22, imp_rest_25, imp_rest_28, imp_rest_31, imp_rest_34, imp_rest_37, imp_rest_40, imp_rest_43, imp_rest_46, imp_rest_49, imp_rest_52, imp_rest_55, imp_rest_58, imp_rest_61, imp_rest_64, imp_rest_67, imp_rest_70, imp_rest_73], \n",
      " [imp_rest_2, imp_rest_5, imp_rest_8, imp_rest_11, imp_rest_14, imp_rest_17, imp_rest_20, imp_rest_23, imp_rest_26, imp_rest_29, imp_rest_32, imp_rest_35, imp_rest_38, imp_rest_41, imp_rest_44, imp_rest_47, imp_rest_50, imp_rest_53, imp_rest_56, imp_rest_59, imp_rest_62, imp_rest_65, imp_rest_68, imp_rest_71, imp_rest_74]], shape: (3, 25)\n",
      "  freeq: \n",
      "[[q_0, q_7, q_14, q_21, q_28, q_35, q_42, q_49, q_56, q_63, q_70, q_77, q_84, q_91, q_98, q_105, q_112, q_119, q_126, q_133, q_140, q_147, q_154, q_161, q_168], \n",
      " [q_1, q_8, q_15, q_22, q_29, q_36, q_43, q_50, q_57, q_64, q_71, q_78, q_85, q_92, q_99, q_106, q_113, q_120, q_127, q_134, q_141, q_148, q_155, q_162, q_169], \n",
      " [q_2, q_9, q_16, q_23, q_30, q_37, q_44, q_51, q_58, q_65, q_72, q_79, q_86, q_93, q_100, q_107, q_114, q_121, q_128, q_135, q_142, q_149, q_156, q_163, q_170], \n",
      " [q_3, q_10, q_17, q_24, q_31, q_38, q_45, q_52, q_59, q_66, q_73, q_80, q_87, q_94, q_101, q_108, q_115, q_122, q_129, q_136, q_143, q_150, q_157, q_164, q_171], \n",
      " [q_4, q_11, q_18, q_25, q_32, q_39, q_46, q_53, q_60, q_67, q_74, q_81, q_88, q_95, q_102, q_109, q_116, q_123, q_130, q_137, q_144, q_151, q_158, q_165, q_172], \n",
      " [q_5, q_12, q_19, q_26, q_33, q_40, q_47, q_54, q_61, q_68, q_75, q_82, q_89, q_96, q_103, q_110, q_117, q_124, q_131, q_138, q_145, q_152, q_159, q_166, q_173], \n",
      " [q_6, q_13, q_20, q_27, q_34, q_41, q_48, q_55, q_62, q_69, q_76, q_83, q_90, q_97, q_104, q_111, q_118, q_125, q_132, q_139, q_146, q_153, q_160, q_167, q_174]], shape: (7, 25)\n",
      "  freedq: \n",
      "[[dq_0, dq_7, dq_14, dq_21, dq_28, dq_35, dq_42, dq_49, dq_56, dq_63, dq_70, dq_77, dq_84, dq_91, dq_98, dq_105, dq_112, dq_119, dq_126, dq_133, dq_140, dq_147, dq_154, dq_161, dq_168], \n",
      " [dq_1, dq_8, dq_15, dq_22, dq_29, dq_36, dq_43, dq_50, dq_57, dq_64, dq_71, dq_78, dq_85, dq_92, dq_99, dq_106, dq_113, dq_120, dq_127, dq_134, dq_141, dq_148, dq_155, dq_162, dq_169], \n",
      " [dq_2, dq_9, dq_16, dq_23, dq_30, dq_37, dq_44, dq_51, dq_58, dq_65, dq_72, dq_79, dq_86, dq_93, dq_100, dq_107, dq_114, dq_121, dq_128, dq_135, dq_142, dq_149, dq_156, dq_163, dq_170], \n",
      " [dq_3, dq_10, dq_17, dq_24, dq_31, dq_38, dq_45, dq_52, dq_59, dq_66, dq_73, dq_80, dq_87, dq_94, dq_101, dq_108, dq_115, dq_122, dq_129, dq_136, dq_143, dq_150, dq_157, dq_164, dq_171], \n",
      " [dq_4, dq_11, dq_18, dq_25, dq_32, dq_39, dq_46, dq_53, dq_60, dq_67, dq_74, dq_81, dq_88, dq_95, dq_102, dq_109, dq_116, dq_123, dq_130, dq_137, dq_144, dq_151, dq_158, dq_165, dq_172], \n",
      " [dq_5, dq_12, dq_19, dq_26, dq_33, dq_40, dq_47, dq_54, dq_61, dq_68, dq_75, dq_82, dq_89, dq_96, dq_103, dq_110, dq_117, dq_124, dq_131, dq_138, dq_145, dq_152, dq_159, dq_166, dq_173], \n",
      " [dq_6, dq_13, dq_20, dq_27, dq_34, dq_41, dq_48, dq_55, dq_62, dq_69, dq_76, dq_83, dq_90, dq_97, dq_104, dq_111, dq_118, dq_125, dq_132, dq_139, dq_146, dq_153, dq_160, dq_167, dq_174]], shape: (7, 25)\n",
      "\n"
     ]
    },
    {
     "ename": "KeyError",
     "evalue": "'q'",
     "output_type": "error",
     "traceback": [
      "\u001b[0;31m---------------------------------------------------------------------------\u001b[0m",
      "\u001b[0;31mKeyError\u001b[0m                                  Traceback (most recent call last)",
      "Input \u001b[0;32mIn [101]\u001b[0m, in \u001b[0;36m<cell line: 12>\u001b[0;34m()\u001b[0m\n\u001b[1;32m     10\u001b[0m res \u001b[38;5;241m=\u001b[39m mpc\u001b[38;5;241m.\u001b[39msolve(params)\n\u001b[1;32m     11\u001b[0m res[\u001b[38;5;124m'\u001b[39m\u001b[38;5;124mimp_stiff\u001b[39m\u001b[38;5;124m'\u001b[39m] \u001b[38;5;241m=\u001b[39m params[\u001b[38;5;124m'\u001b[39m\u001b[38;5;124mimp_stiff\u001b[39m\u001b[38;5;124m'\u001b[39m]\n\u001b[0;32m---> 12\u001b[0m traj \u001b[38;5;241m=\u001b[39m \u001b[43mrob\u001b[49m\u001b[38;5;241;43m.\u001b[39;49m\u001b[43mget_ext_state\u001b[49m\u001b[43m(\u001b[49m\u001b[43mres\u001b[49m\u001b[43m)\u001b[49m\n",
      "File \u001b[0;32m~/mpc-intro/robot.py:185\u001b[0m, in \u001b[0;36mRobot.get_ext_state\u001b[0;34m(self, st)\u001b[0m\n\u001b[1;32m    183\u001b[0m \u001b[38;5;28;01mif\u001b[39;00m \u001b[38;5;28mtype\u001b[39m(st) \u001b[38;5;129;01mis\u001b[39;00m \u001b[38;5;129;01mnot\u001b[39;00m \u001b[38;5;28mdict\u001b[39m: st \u001b[38;5;241m=\u001b[39m \u001b[38;5;28mself\u001b[39m\u001b[38;5;241m.\u001b[39m_state\u001b[38;5;241m.\u001b[39mdictize(st)\n\u001b[1;32m    184\u001b[0m st \u001b[38;5;241m=\u001b[39m {k:v \u001b[38;5;28;01mfor\u001b[39;00m k, v \u001b[38;5;129;01min\u001b[39;00m st\u001b[38;5;241m.\u001b[39mitems()}\n\u001b[0;32m--> 185\u001b[0m st[\u001b[38;5;124m'\u001b[39m\u001b[38;5;124mp\u001b[39m\u001b[38;5;124m'\u001b[39m], st[\u001b[38;5;124m'\u001b[39m\u001b[38;5;124mR\u001b[39m\u001b[38;5;124m'\u001b[39m] \u001b[38;5;241m=\u001b[39m \u001b[38;5;28mself\u001b[39m\u001b[38;5;241m.\u001b[39mfwd_kin(\u001b[43mst\u001b[49m\u001b[43m[\u001b[49m\u001b[38;5;124;43m'\u001b[39;49m\u001b[38;5;124;43mq\u001b[39;49m\u001b[38;5;124;43m'\u001b[39;49m\u001b[43m]\u001b[49m)\n\u001b[1;32m    186\u001b[0m st[\u001b[38;5;124m'\u001b[39m\u001b[38;5;124mdx\u001b[39m\u001b[38;5;124m'\u001b[39m] \u001b[38;5;241m=\u001b[39m \u001b[38;5;28mself\u001b[39m\u001b[38;5;241m.\u001b[39mtcp_motion(st[\u001b[38;5;124m'\u001b[39m\u001b[38;5;124mq\u001b[39m\u001b[38;5;124m'\u001b[39m], st[\u001b[38;5;124m'\u001b[39m\u001b[38;5;124mdq\u001b[39m\u001b[38;5;124m'\u001b[39m])[\u001b[38;5;241m1\u001b[39m]\n\u001b[1;32m    187\u001b[0m \u001b[38;5;28;01mfor\u001b[39;00m sys \u001b[38;5;129;01min\u001b[39;00m \u001b[38;5;28mself\u001b[39m\u001b[38;5;241m.\u001b[39m__subsys:\n",
      "\u001b[0;31mKeyError\u001b[0m: 'q'"
     ]
    }
   ],
   "source": [
    "from mpc import MPC\n",
    "from helper_fns import mult_shoot_rollout\n",
    "from robot import *\n",
    "\n",
    "mpc = MPC(robots={'free':rob}, mpc_params={'H':25, 'dt':0.05, 'vel_cost':0.05, 'des_pose':[0.3, 0.5, 0.8]}, nlpopts =nlpopts)\n",
    "params = {'q': ca.DM.zeros(7),\n",
    "          'dq': ca.DM.zeros(7),\n",
    "          'belief_free':1.0, \n",
    "          'imp_stiff':400*ca.DM.ones(3),}\n",
    "res = mpc.solve(params)\n",
    "res['imp_stiff'] = params['imp_stiff']\n",
    "traj = rob.get_ext_state(res)\n"
   ]
  },
  {
   "cell_type": "code",
   "execution_count": 92,
   "id": "cdbbd396",
   "metadata": {},
   "outputs": [
    {
     "data": {
      "text/plain": [
       "<matplotlib.legend.Legend at 0x7ffce149baf0>"
      ]
     },
     "execution_count": 92,
     "metadata": {},
     "output_type": "execute_result"
    },
    {
     "data": {
      "image/png": "[encoded data removed]",
      "text/plain": [
       "<Figure size 432x288 with 1 Axes>"
      ]
     },
     "metadata": {
      "needs_background": "light"
     },
     "output_type": "display_data"
    }
   ],
   "source": [
    "import matplotlib.pyplot as plt\n",
    "import numpy as np\n",
    "\n",
    "p = np.squeeze(np.array(traj['p'].T))\n",
    "plt.plot(p, label=['x', 'y', 'z'])\n",
    "plt.legend()"
   ]
  },
  {
   "cell_type": "code",
   "execution_count": 81,
   "id": "660cc8d9",
   "metadata": {},
   "outputs": [
    {
     "name": "stdout",
     "output_type": "stream",
     "text": [
      "Cold start time:  0.09227350004948676 sec\n",
      "Cold start rate:  10.837347661719722 Hz\n",
      "Warm start rate: 24.398480118014295 Hz\n"
     ]
    }
   ],
   "source": [
    "import time\n",
    "N = 100\n",
    "times = []\n",
    "\n",
    "for _ in range(N):\n",
    "    params['q'] += 0.05*np.random.randn(7) # perturb initial state\n",
    "    tic = time.perf_counter()\n",
    "    sol = mpc.solve(params)\n",
    "    times.append(time.perf_counter()-tic)\n",
    "    \n",
    "print(f'Cold start time:  {times[0]} sec')\n",
    "print(f'Cold start rate:  {1/times[0]} Hz')\n",
    "print(f'Warm start rate: {1/np.mean(times[1:])} Hz')"
   ]
  },
  {
   "cell_type": "code",
   "execution_count": 39,
   "id": "74f89f63",
   "metadata": {
    "scrolled": true
   },
   "outputs": [
    {
     "name": "stdout",
     "output_type": "stream",
     "text": [
      "Building robot model from config/franka.urdf with TCP fr3_link8\n",
      "  with control imp_ctrl\n",
      "33.8 µs ± 4.84 µs per loop (mean ± std. dev. of 7 runs, 10,000 loops each)\n",
      "85.5 µs ± 3.69 µs per loop (mean ± std. dev. of 7 runs, 10,000 loops each)\n"
     ]
    }
   ],
   "source": [
    "from robot import Robot\n",
    "from contact import Contact\n",
    "from impedance_controller import ImpedanceController\n",
    "from decision_vars import DecisionVarSet\n",
    "par = {'pos': [0, 0, 0.0],\n",
    "       'stiff': [0, 0, 3e4],\n",
    "        'rest':[0, 0, 0.7]}\n",
    "attrs = yaml_load('config/attrs.yaml')\n",
    "attrs = {k:attrs[k] for k in ['lb', 'ub']}\n",
    "imp = ImpedanceController(input_vars = ['imp_rest'],\n",
    "                          attrs = attrs)\n",
    "rob = Robot('config/franka.urdf', subsys = [], ctrl = imp, attrs = attrs, visc_fric = 100)\n",
    "rob.build_step(0.1)\n",
    "rob.build_rollout(10, 20)\n",
    "\n",
    "M_inv = rob.inv_mass_fn(np.zeros(7))\n",
    "#%timeit rob.rollout_red(np.zeros(14), np.zeros(3))\n",
    "#%timeit rob.rollout(np.zeros(14), np.zeros(3), np.zeros(3))\n",
    "\n",
    "# 31.2 us\n",
    "%timeit rob.rollout(np.zeros(14), np.zeros(3), np.ones(3))\n",
    "# 81.5 us for 20 samples\n",
    "%timeit rob.rollout_map(np.zeros((14,20)), np.zeros(3), np.zeros(3))"
   ]
  },
  {
   "cell_type": "code",
   "execution_count": null,
   "id": "186db9c2",
   "metadata": {},
   "outputs": [],
   "source": []
  }
 ],
 "metadata": {
  "kernelspec": {
   "display_name": "Python 3 (ipykernel)",
   "language": "python",
   "name": "python3"
  },
  "language_info": {
   "codemirror_mode": {
    "name": "ipython",
    "version": 3
   },
   "file_extension": ".py",
   "mimetype": "text/x-python",
   "name": "python",
   "nbconvert_exporter": "python",
   "pygments_lexer": "ipython3",
   "version": "3.8.10"
  }
 },
 "nbformat": 4,
 "nbformat_minor": 5
}
