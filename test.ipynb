{
 "cells": [
  {
   "cell_type": "code",
   "execution_count": 4,
   "id": "acd28f30",
   "metadata": {},
   "outputs": [
    {
     "name": "stdout",
     "output_type": "stream",
     "text": [
      "The autoreload extension is already loaded. To reload it, use:\n",
      "  %reload_ext autoreload\n"
     ]
    }
   ],
   "source": [
    "%load_ext autoreload\n",
    "%autoreload 2\n",
    "\n",
    "import numpy as np\n",
    "import casadi as ca\n",
    "from decision_vars import DecisionVarSet"
   ]
  },
  {
   "cell_type": "code",
   "execution_count": 5,
   "id": "73bc61f6",
   "metadata": {},
   "outputs": [
    {
     "name": "stdout",
     "output_type": "stream",
     "text": [
      "***** Decision Vars *****\n",
      "Attributes: ['sym', 'init', 'lb']\n",
      "Vars: \n",
      "  sneaker/x: [x_0, x_1], shape: (2, 1)\n",
      "\n",
      "[0, 0, -inf]\n",
      "{'sneaker/x': array([0.1, 0.3]), 'x': array(0.5)}\n",
      "{'test': 1, 'x': SX(x)}\n"
     ]
    }
   ],
   "source": [
    "# Test decision vars\n",
    "from decision_vars import DecisionVarSet\n",
    "dvs = DecisionVarSet(attr_names = ['lb'], name = 'sneaker/')\n",
    "dvs.add_vars({'x':[1.0, 2.0]}, lb={'x':[0, 0]})\n",
    "print(dvs)\n",
    "dvs2 = DecisionVarSet(attr_names = ['lb'])\n",
    "dvs2.add_vars(inits={'x':2.0}, lb={'y':3.0})\n",
    "dvs += dvs2\n",
    "print(dvs.vectorize('lb'))\n",
    "d2 = dvs.dictize(np.array([0.1, 0.3, 0.5]))\n",
    "print(d2)\n",
    "d = {'test':1}\n",
    "d.update(dvs2)\n",
    "print(d)"
   ]
  },
  {
   "cell_type": "code",
   "execution_count": 6,
   "id": "74516c7f",
   "metadata": {},
   "outputs": [
    {
     "name": "stdout",
     "output_type": "stream",
     "text": [
      "Building robot model from config/franka.urdf with TCP fr3_link8\n",
      "p:(i0[7])->(o0[3],o1[3x3]) SXFunction\n"
     ]
    }
   ],
   "source": [
    "from robot import *\n",
    "rob = Robot('config/franka.urdf')"
   ]
  },
  {
   "cell_type": "code",
   "execution_count": 7,
   "id": "6c557f2c",
   "metadata": {},
   "outputs": [
    {
     "name": "stdout",
     "output_type": "stream",
     "text": [
      "[0, -3, 5]\n",
      "[-0, -0, 0]\n"
     ]
    }
   ],
   "source": [
    "from contact import Contact\n",
    "pars = {'pos': [0, 0, 0],\n",
    "        'stiff': [0, 10, 10],\n",
    "        'rest':[0, 0, 0.0]}\n",
    "c = Contact('friendo', pars)\n",
    "q = ca.SX.sym('q',7)\n",
    "p, R = rob.fwd_kin(q)\n",
    "print(c.get_force({'p':ca.DM([0.5, 0.3, -0.5]), 'R':ca.DM.ones(3)}))\n",
    "\n",
    "c2 = Contact('c2',pars, ['stiff'], {'cov_init':{}, 'proc_noise':{}})\n",
    "print(c2.get_force({'p':ca.DM([0.5, 0.3, -0.5]), \n",
    "                    'R':ca.DM.ones(3), \n",
    "                    'c2/stiff':ca.DM([10, 0, 0])}))"
   ]
  },
  {
   "cell_type": "code",
   "execution_count": 27,
   "id": "79561a44",
   "metadata": {},
   "outputs": [
    {
     "name": "stdout",
     "output_type": "stream",
     "text": [
      "Building robot model from config/franka.urdf with TCP fr3_link8\n",
      "  with subsys ['c1/', 'c2/']\n",
      "45.4 µs ± 2.71 µs per loop (mean ± std. dev. of 7 runs, 10,000 loops each)\n",
      "28.1 µs ± 3.47 µs per loop (mean ± std. dev. of 7 runs, 10,000 loops each)\n"
     ]
    },
    {
     "ename": "AttributeError",
     "evalue": "'Robot' object has no attribute 'get_extended_state'",
     "output_type": "error",
     "traceback": [
      "\u001b[0;31m---------------------------------------------------------------------------\u001b[0m",
      "\u001b[0;31mAttributeError\u001b[0m                            Traceback (most recent call last)",
      "Input \u001b[0;32mIn [27]\u001b[0m, in \u001b[0;36m<cell line: 30>\u001b[0;34m()\u001b[0m\n\u001b[1;32m     28\u001b[0m     state[\u001b[38;5;124m'\u001b[39m\u001b[38;5;124mq\u001b[39m\u001b[38;5;124m'\u001b[39m] \u001b[38;5;241m=\u001b[39m res[\u001b[38;5;124m'\u001b[39m\u001b[38;5;124mq_next\u001b[39m\u001b[38;5;124m'\u001b[39m]\n\u001b[1;32m     29\u001b[0m     state[\u001b[38;5;124m'\u001b[39m\u001b[38;5;124mdq\u001b[39m\u001b[38;5;124m'\u001b[39m] \u001b[38;5;241m=\u001b[39m res[\u001b[38;5;124m'\u001b[39m\u001b[38;5;124mdq_next\u001b[39m\u001b[38;5;124m'\u001b[39m]\n\u001b[0;32m---> 30\u001b[0m res_dict \u001b[38;5;241m=\u001b[39m \u001b[43mrob\u001b[49m\u001b[38;5;241;43m.\u001b[39;49m\u001b[43mget_extended_state\u001b[49m(state)\n\u001b[1;32m     31\u001b[0m \u001b[38;5;28mprint\u001b[39m(res_dict)\n\u001b[1;32m     32\u001b[0m \u001b[38;5;28mprint\u001b[39m(res_dict[\u001b[38;5;124m'\u001b[39m\u001b[38;5;124mp\u001b[39m\u001b[38;5;124m'\u001b[39m])\n",
      "\u001b[0;31mAttributeError\u001b[0m: 'Robot' object has no attribute 'get_extended_state'"
     ]
    }
   ],
   "source": [
    "# Test convergence\n",
    "from robot import Robot\n",
    "par1 = {'pos': [0, 0, 0.0],\n",
    "        'stiff': [0, 0, 100],\n",
    "        'rest':[0, 0, 0.2]}\n",
    "par2 = {'pos': [0, 0, 0],\n",
    "        'stiff': [0, 100, 0],\n",
    "        'rest': [0, 0.5, 0]}\n",
    "c1 = Contact('c1/', par1, ['stiff'], {'cov_init':{}, 'proc_noise':{}})\n",
    "c2 = Contact('c2/', par2, [], {'cov_init':{}, 'proc_noise':{}})\n",
    "\n",
    "rob = Robot('config/franka.urdf', subsys = [c1, c2])\n",
    "step = rob.build_disc_dyn(0.1)\n",
    "step_core = rob.disc_dyn_core\n",
    "# test that it converges as expected \n",
    "q = np.zeros(7)\n",
    "dq = np.zeros(7)\n",
    "tau = np.zeros(7)\n",
    "state = {'q':q, 'dq':dq, 'tau_input':tau}\n",
    "state['c1/stiff'] = ca.DM([0, 0, 1000])\n",
    "%timeit step(**state)\n",
    "\n",
    "state_core = {k:v for k,v in state.items()}\n",
    "state_core['M_inv'] = rob.inv_mass_fn(state['q'])\n",
    "%timeit step_core(**state)\n",
    "for _ in range(100):\n",
    "    res = step(**state)\n",
    "    state['q'] = res['q_next']\n",
    "    state['dq'] = res['dq_next']\n",
    "res_dict = rob.get_ext_state(state)\n",
    "print(res_dict)\n",
    "print(res_dict['p'])\n",
    "#print(res_dict['c1/F'])\n",
    "#print(res_dict['c2/F'])"
   ]
  },
  {
   "cell_type": "code",
   "execution_count": 26,
   "id": "2f2f8001",
   "metadata": {},
   "outputs": [
    {
     "name": "stdout",
     "output_type": "stream",
     "text": [
      "Building robot model from config/franka.urdf with TCP fr3_link8\n",
      "Building robot model from config/franka.urdf with TCP fr3_link8\n",
      "  with subsys ['contact_1']\n",
      "Building robot model from config/franka.urdf with TCP fr3_link8\n",
      "  with subsys ['contact_1', 'contact_2']\n",
      "disc_dyn:(q[7],dq[7],tau_input[7])->(q_next[7],dq_next[7]) SXFunction\n"
     ]
    },
    {
     "ename": "RuntimeError",
     "evalue": ".../casadi/core/function_internal.hpp:1240: Assertion \"arg.size()==n_in_\" failed:\nIncorrect number of inputs: Expected 3, got 4",
     "output_type": "error",
     "traceback": [
      "\u001b[0;31m---------------------------------------------------------------------------\u001b[0m",
      "\u001b[0;31mRuntimeError\u001b[0m                              Traceback (most recent call last)",
      "Input \u001b[0;32mIn [26]\u001b[0m, in \u001b[0;36m<cell line: 4>\u001b[0;34m()\u001b[0m\n\u001b[1;32m      6\u001b[0m \u001b[38;5;28mprint\u001b[39m(step)\n\u001b[1;32m      7\u001b[0m n_in \u001b[38;5;241m=\u001b[39m step\u001b[38;5;241m.\u001b[39msize_in(\u001b[38;5;241m0\u001b[39m)\n\u001b[0;32m----> 8\u001b[0m res \u001b[38;5;241m=\u001b[39m \u001b[43mstep\u001b[49m\u001b[43m(\u001b[49m\u001b[43mnp\u001b[49m\u001b[38;5;241;43m.\u001b[39;49m\u001b[43mzeros\u001b[49m\u001b[43m(\u001b[49m\u001b[38;5;241;43m7\u001b[39;49m\u001b[43m)\u001b[49m\u001b[43m,\u001b[49m\u001b[43m \u001b[49m\u001b[43mnp\u001b[49m\u001b[38;5;241;43m.\u001b[39;49m\u001b[43mzeros\u001b[49m\u001b[43m(\u001b[49m\u001b[38;5;241;43m7\u001b[39;49m\u001b[43m)\u001b[49m\u001b[43m,\u001b[49m\u001b[43m \u001b[49m\u001b[43mnp\u001b[49m\u001b[38;5;241;43m.\u001b[39;49m\u001b[43mzeros\u001b[49m\u001b[43m(\u001b[49m\u001b[38;5;241;43m3\u001b[39;49m\u001b[43m)\u001b[49m\u001b[43m,\u001b[49m\u001b[43m \u001b[49m\u001b[43mnp\u001b[49m\u001b[38;5;241;43m.\u001b[39;49m\u001b[43mzeros\u001b[49m\u001b[43m(\u001b[49m\u001b[38;5;241;43m7\u001b[39;49m\u001b[43m)\u001b[49m\u001b[43m)\u001b[49m\n\u001b[1;32m      9\u001b[0m \u001b[38;5;28mprint\u001b[39m(\u001b[38;5;124mf\u001b[39m\u001b[38;5;124m\"\u001b[39m\u001b[38;5;132;01m{\u001b[39;00mname\u001b[38;5;132;01m}\u001b[39;00m\u001b[38;5;124m has step fn of \u001b[39m\u001b[38;5;132;01m{\u001b[39;00mstep\u001b[38;5;132;01m}\u001b[39;00m\u001b[38;5;124m\"\u001b[39m)\n\u001b[1;32m     10\u001b[0m \u001b[38;5;28mprint\u001b[39m(\u001b[38;5;124mf\u001b[39m\u001b[38;5;124m\"\u001b[39m\u001b[38;5;124m  which evals to \u001b[39m\u001b[38;5;132;01m{\u001b[39;00mres\u001b[38;5;132;01m}\u001b[39;00m\u001b[38;5;124m\"\u001b[39m)\n",
      "File \u001b[0;32m/usr/lib/python3/dist-packages/casadi/casadi.py:8497\u001b[0m, in \u001b[0;36mFunction.__call__\u001b[0;34m(self, *args, **kwargs)\u001b[0m\n\u001b[1;32m   8494\u001b[0m     \u001b[38;5;28;01mraise\u001b[39;00m \u001b[38;5;167;01mSyntaxError\u001b[39;00m(\u001b[38;5;124m'\u001b[39m\u001b[38;5;124mFunction evaluation requires all arguments to be named or none\u001b[39m\u001b[38;5;124m'\u001b[39m)\n\u001b[1;32m   8495\u001b[0m   \u001b[38;5;28;01mif\u001b[39;00m \u001b[38;5;28mlen\u001b[39m(args)\u001b[38;5;241m>\u001b[39m\u001b[38;5;241m0\u001b[39m:\n\u001b[1;32m   8496\u001b[0m \u001b[38;5;66;03m# Ordered inputs -> return tuple\u001b[39;00m\n\u001b[0;32m-> 8497\u001b[0m     ret \u001b[38;5;241m=\u001b[39m \u001b[38;5;28;43mself\u001b[39;49m\u001b[38;5;241;43m.\u001b[39;49m\u001b[43mcall\u001b[49m\u001b[43m(\u001b[49m\u001b[43margs\u001b[49m\u001b[43m)\u001b[49m\n\u001b[1;32m   8498\u001b[0m     \u001b[38;5;28;01mif\u001b[39;00m \u001b[38;5;28mlen\u001b[39m(ret)\u001b[38;5;241m==\u001b[39m\u001b[38;5;241m0\u001b[39m:\n\u001b[1;32m   8499\u001b[0m       \u001b[38;5;28;01mreturn\u001b[39;00m \u001b[38;5;28;01mNone\u001b[39;00m\n",
      "File \u001b[0;32m/usr/lib/python3/dist-packages/casadi/casadi.py:7679\u001b[0m, in \u001b[0;36mFunction.call\u001b[0;34m(self, *args)\u001b[0m\n\u001b[1;32m   7656\u001b[0m \u001b[38;5;28;01mdef\u001b[39;00m \u001b[38;5;21mcall\u001b[39m(\u001b[38;5;28mself\u001b[39m, \u001b[38;5;241m*\u001b[39margs) \u001b[38;5;241m-\u001b[39m\u001b[38;5;241m>\u001b[39m \u001b[38;5;124m\"\u001b[39m\u001b[38;5;124mvoid\u001b[39m\u001b[38;5;124m\"\u001b[39m:\n\u001b[1;32m   7657\u001b[0m \u001b[38;5;250m    \u001b[39m\u001b[38;5;124mr\u001b[39m\u001b[38;5;124;03m\"\"\"\u001b[39;00m\n\u001b[1;32m   7658\u001b[0m \u001b[38;5;124;03m    call(Function self, std::vector< casadi::DM,std::allocator< casadi::DM > > const & arg, bool always_inline=False, bool never_inline=False)\u001b[39;00m\n\u001b[1;32m   7659\u001b[0m \u001b[38;5;124;03m    call(Function self, std::vector< casadi::SX,std::allocator< casadi::SX > > const & arg, bool always_inline=False, bool never_inline=False)\u001b[39;00m\n\u001b[0;32m   (...)\u001b[0m\n\u001b[1;32m   7677\u001b[0m \n\u001b[1;32m   7678\u001b[0m \u001b[38;5;124;03m    \"\"\"\u001b[39;00m\n\u001b[0;32m-> 7679\u001b[0m     \u001b[38;5;28;01mreturn\u001b[39;00m \u001b[43m_casadi\u001b[49m\u001b[38;5;241;43m.\u001b[39;49m\u001b[43mFunction_call\u001b[49m\u001b[43m(\u001b[49m\u001b[38;5;28;43mself\u001b[39;49m\u001b[43m,\u001b[49m\u001b[43m \u001b[49m\u001b[38;5;241;43m*\u001b[39;49m\u001b[43margs\u001b[49m\u001b[43m)\u001b[49m\n",
      "\u001b[0;31mRuntimeError\u001b[0m: .../casadi/core/function_internal.hpp:1240: Assertion \"arg.size()==n_in_\" failed:\nIncorrect number of inputs: Expected 3, got 4"
     ]
    }
   ],
   "source": [
    "# Check that the spawner works\n",
    "from helper_fns import spawn_models\n",
    "models = spawn_models('config/franka.yaml', 'config/attrs.yaml', 'config/contact.yaml', sym_vars = ['pos'])\n",
    "for name, model in models.items():\n",
    "    step = model.build_disc_dyn(step_size=0.1)\n",
    "    print(step)\n",
    "    n_in = step.size_in(0)\n",
    "    res = step(np.zeros(7), np.zeros(7), np.zeros(3), np.zeros(7))\n",
    "    print(f\"{name} has step fn of {step}\")\n",
    "    print(f\"  which evals to {res}\")\n"
   ]
  },
  {
   "cell_type": "code",
   "execution_count": null,
   "id": "9854089f",
   "metadata": {},
   "outputs": [],
   "source": []
  },
  {
   "cell_type": "code",
   "execution_count": 24,
   "id": "69207bfa-9bbf-48bd-a7dd-79f0f28e7b41",
   "metadata": {},
   "outputs": [],
   "source": []
  },
  {
   "cell_type": "code",
   "execution_count": null,
   "id": "3b241fe3-46ef-4f2f-b63e-d2ddc5945c57",
   "metadata": {},
   "outputs": [],
   "source": []
  }
 ],
 "metadata": {
  "kernelspec": {
   "display_name": "Python 3 (ipykernel)",
   "language": "python",
   "name": "python3"
  },
  "language_info": {
   "codemirror_mode": {
    "name": "ipython",
    "version": 3
   },
   "file_extension": ".py",
   "mimetype": "text/x-python",
   "name": "python",
   "nbconvert_exporter": "python",
   "pygments_lexer": "ipython3",
   "version": "3.8.10"
  },
  "name": "test.ipynb"
 },
 "nbformat": 4,
 "nbformat_minor": 5
}
