{
 "cells": [
  {
   "cell_type": "code",
   "execution_count": 4,
   "id": "710bc6d2",
   "metadata": {
    "scrolled": true
   },
   "outputs": [
    {
     "name": "stdout",
     "output_type": "stream",
     "text": [
      "\n",
      "******************************************************************************\n",
      "This program contains Ipopt, a library for large-scale nonlinear optimization.\n",
      " Ipopt is released as open source code under the Eclipse Public License (EPL).\n",
      "         For more information visit https://github.com/coin-or/Ipopt\n",
      "******************************************************************************\n",
      "\n",
      "12.7 ms ± 611 µs per loop (mean ± std. dev. of 7 runs, 1 loop each)\n"
     ]
    }
   ],
   "source": [
    "from jax_tools.human import *\n",
    "H = 30 # num of steps in MPC horizon\n",
    "\n",
    "hp = HumanParams()\n",
    "rp = RewardParams()\n",
    "mp = MPCParams(goal=np.array([0.3, *[0]*(nx-1)]))\n",
    "\n",
    "hum = Human(hp, rp, H=H)\n",
    "#print(hum.solve(mp)['u'].tau)\n",
    "%timeit hum.solve(mp)"
   ]
  },
  {
   "cell_type": "code",
   "execution_count": 5,
   "id": "4f5d9683",
   "metadata": {},
   "outputs": [
    {
     "name": "stdout",
     "output_type": "stream",
     "text": [
      "10 ms ± 83.3 µs per loop (mean ± std. dev. of 7 runs, 100 loops each)\n"
     ]
    }
   ],
   "source": [
    "from casadi_tools.human import *\n",
    "\n",
    "hp = HumanParams()\n",
    "rp = RewardParams()\n",
    "mp = MPCParams(goal=np.array([0.3, *[0]*(nx-1)]))\n",
    "#print(hum.solve(mp).tau)\n",
    "%timeit hum.solve(mp)"
   ]
  },
  {
   "cell_type": "code",
   "execution_count": 13,
   "id": "ecf9c7fb",
   "metadata": {
    "scrolled": true
   },
   "outputs": [
    {
     "ename": "ValueError",
     "evalue": "matmul input operand 1 must have ndim at least 1, but it has ndim 0",
     "output_type": "error",
     "traceback": [
      "\u001b[0;31m---------------------------------------------------------------------------\u001b[0m",
      "\u001b[0;31mValueError\u001b[0m                                Traceback (most recent call last)",
      "Cell \u001b[0;32mIn[13], line 35\u001b[0m\n\u001b[1;32m     32\u001b[0m     \u001b[38;5;28;01mreturn\u001b[39;00m np\u001b[38;5;241m.\u001b[39msum(cost[\u001b[38;5;124m'\u001b[39m\u001b[38;5;124mr\u001b[39m\u001b[38;5;124m'\u001b[39m])\u001b[38;5;241m+\u001b[39mnp\u001b[38;5;241m.\u001b[39msum(cost[\u001b[38;5;124m'\u001b[39m\u001b[38;5;124mr_discount\u001b[39m\u001b[38;5;124m'\u001b[39m])\n\u001b[1;32m     34\u001b[0m solver \u001b[38;5;241m=\u001b[39m nlpsol(obj \u001b[38;5;241m=\u001b[39m obj, con_eq \u001b[38;5;241m=\u001b[39m con_eq, con_ineq\u001b[38;5;241m=\u001b[39m\u001b[38;5;28;01mNone\u001b[39;00m, opts\u001b[38;5;241m=\u001b[39m{\u001b[38;5;124m'\u001b[39m\u001b[38;5;124mdisp\u001b[39m\u001b[38;5;124m'\u001b[39m:\u001b[38;5;241m5\u001b[39m})\n\u001b[0;32m---> 35\u001b[0m soln \u001b[38;5;241m=\u001b[39m \u001b[43msolver\u001b[49m\u001b[43m(\u001b[49m\u001b[43mx0\u001b[49m\u001b[43m)\u001b[49m\n\u001b[1;32m     36\u001b[0m get_ipython()\u001b[38;5;241m.\u001b[39mrun_line_magic(\u001b[38;5;124m'\u001b[39m\u001b[38;5;124mtimeit\u001b[39m\u001b[38;5;124m'\u001b[39m, \u001b[38;5;124m'\u001b[39m\u001b[38;5;124msolver(x0)\u001b[39m\u001b[38;5;124m'\u001b[39m)\n\u001b[1;32m     37\u001b[0m \u001b[38;5;28mprint\u001b[39m(unraveller(soln\u001b[38;5;241m.\u001b[39mx)[\u001b[38;5;124m'\u001b[39m\u001b[38;5;124mu\u001b[39m\u001b[38;5;124m'\u001b[39m])\n",
      "File \u001b[0;32m~/converging-action-planner/src/opt_tools/jax_tools/ipopt.py:40\u001b[0m, in \u001b[0;36mnlpsol.<locals>.solver\u001b[0;34m(x0, lb, ub)\u001b[0m\n\u001b[1;32m     38\u001b[0m \u001b[38;5;28;01mdef\u001b[39;00m \u001b[38;5;21msolver\u001b[39m(x0, lb\u001b[38;5;241m=\u001b[39m[], ub\u001b[38;5;241m=\u001b[39m[]):\n\u001b[1;32m     39\u001b[0m     bnds \u001b[38;5;241m=\u001b[39m [(l, u) \u001b[38;5;28;01mfor\u001b[39;00m l,u \u001b[38;5;129;01min\u001b[39;00m \u001b[38;5;28mzip\u001b[39m(lb, ub)]\n\u001b[0;32m---> 40\u001b[0m     \u001b[38;5;28;01mreturn\u001b[39;00m \u001b[43mminimize_ipopt\u001b[49m\u001b[43m(\u001b[49m\u001b[43mobj_jit\u001b[49m\u001b[43m,\u001b[49m\n\u001b[1;32m     41\u001b[0m \u001b[43m                          \u001b[49m\u001b[43mjac\u001b[49m\u001b[38;5;241;43m=\u001b[39;49m\u001b[43mobj_grad\u001b[49m\u001b[43m,\u001b[49m\n\u001b[1;32m     42\u001b[0m \u001b[43m                          \u001b[49m\u001b[43mhess\u001b[49m\u001b[38;5;241;43m=\u001b[39;49m\u001b[43mobj_hess\u001b[49m\u001b[43m,\u001b[49m\n\u001b[1;32m     43\u001b[0m \u001b[43m                          \u001b[49m\u001b[43mx0\u001b[49m\u001b[38;5;241;43m=\u001b[39;49m\u001b[43mx0\u001b[49m\u001b[43m,\u001b[49m\n\u001b[1;32m     44\u001b[0m \u001b[43m                          \u001b[49m\u001b[38;5;66;43;03m#bounds=bnds,\u001b[39;49;00m\n\u001b[1;32m     45\u001b[0m \u001b[43m                          \u001b[49m\u001b[43mconstraints\u001b[49m\u001b[38;5;241;43m=\u001b[39;49m\u001b[43mcons\u001b[49m\u001b[43m,\u001b[49m\n\u001b[1;32m     46\u001b[0m \u001b[43m                          \u001b[49m\u001b[43moptions\u001b[49m\u001b[38;5;241;43m=\u001b[39;49m\u001b[43mopts\u001b[49m\u001b[43m)\u001b[49m\n",
      "File \u001b[0;32m/usr/local/lib/python3.8/dist-packages/cyipopt-1.4.0.dev0-py3.8-linux-x86_64.egg/cyipopt/scipy_interface.py:563\u001b[0m, in \u001b[0;36mminimize_ipopt\u001b[0;34m(fun, x0, args, kwargs, method, jac, hess, hessp, bounds, constraints, tol, callback, options)\u001b[0m\n\u001b[1;32m    560\u001b[0m _x0 \u001b[38;5;241m=\u001b[39m np\u001b[38;5;241m.\u001b[39matleast_1d(x0)\n\u001b[1;32m    562\u001b[0m lb, ub \u001b[38;5;241m=\u001b[39m bounds\n\u001b[0;32m--> 563\u001b[0m cl, cu \u001b[38;5;241m=\u001b[39m \u001b[43mget_constraint_bounds\u001b[49m\u001b[43m(\u001b[49m\u001b[43mconstraints\u001b[49m\u001b[43m,\u001b[49m\u001b[43m \u001b[49m\u001b[43m_x0\u001b[49m\u001b[43m)\u001b[49m\n\u001b[1;32m    564\u001b[0m con_dims \u001b[38;5;241m=\u001b[39m get_constraint_dimensions(constraints, _x0)\n\u001b[1;32m    565\u001b[0m sparse_jacs, jac_nnz_row, jac_nnz_col \u001b[38;5;241m=\u001b[39m _get_sparse_jacobian_structure(\n\u001b[1;32m    566\u001b[0m     constraints, x0)\n",
      "File \u001b[0;32m/usr/local/lib/python3.8/dist-packages/cyipopt-1.4.0.dev0-py3.8-linux-x86_64.egg/cyipopt/scipy_interface.py:317\u001b[0m, in \u001b[0;36mget_constraint_bounds\u001b[0;34m(constraints, x0, INF)\u001b[0m\n\u001b[1;32m    314\u001b[0m     m \u001b[38;5;241m=\u001b[39m \u001b[38;5;28mlen\u001b[39m(np\u001b[38;5;241m.\u001b[39matleast_1d(con[\u001b[38;5;124m'\u001b[39m\u001b[38;5;124mfun\u001b[39m\u001b[38;5;124m'\u001b[39m](x0, \u001b[38;5;241m*\u001b[39mcon\u001b[38;5;241m.\u001b[39mget(\u001b[38;5;124m'\u001b[39m\u001b[38;5;124margs\u001b[39m\u001b[38;5;124m'\u001b[39m, []),\n\u001b[1;32m    315\u001b[0m                                      \u001b[38;5;241m*\u001b[39m\u001b[38;5;241m*\u001b[39mcon\u001b[38;5;241m.\u001b[39mget(\u001b[38;5;124m'\u001b[39m\u001b[38;5;124mkwargs\u001b[39m\u001b[38;5;124m'\u001b[39m, {}))[\u001b[38;5;241m0\u001b[39m]))\n\u001b[1;32m    316\u001b[0m \u001b[38;5;28;01melse\u001b[39;00m:\n\u001b[0;32m--> 317\u001b[0m     m \u001b[38;5;241m=\u001b[39m \u001b[38;5;28mlen\u001b[39m(np\u001b[38;5;241m.\u001b[39matleast_1d(\u001b[43mcon\u001b[49m\u001b[43m[\u001b[49m\u001b[38;5;124;43m'\u001b[39;49m\u001b[38;5;124;43mfun\u001b[39;49m\u001b[38;5;124;43m'\u001b[39;49m\u001b[43m]\u001b[49m\u001b[43m(\u001b[49m\u001b[43mx0\u001b[49m\u001b[43m,\u001b[49m\u001b[43m \u001b[49m\u001b[38;5;241;43m*\u001b[39;49m\u001b[43mcon\u001b[49m\u001b[38;5;241;43m.\u001b[39;49m\u001b[43mget\u001b[49m\u001b[43m(\u001b[49m\u001b[38;5;124;43m'\u001b[39;49m\u001b[38;5;124;43margs\u001b[39;49m\u001b[38;5;124;43m'\u001b[39;49m\u001b[43m,\u001b[49m\u001b[43m \u001b[49m\u001b[43m[\u001b[49m\u001b[43m]\u001b[49m\u001b[43m)\u001b[49m\u001b[43m,\u001b[49m\n\u001b[1;32m    318\u001b[0m \u001b[43m                                     \u001b[49m\u001b[38;5;241;43m*\u001b[39;49m\u001b[38;5;241;43m*\u001b[39;49m\u001b[43mcon\u001b[49m\u001b[38;5;241;43m.\u001b[39;49m\u001b[43mget\u001b[49m\u001b[43m(\u001b[49m\u001b[38;5;124;43m'\u001b[39;49m\u001b[38;5;124;43mkwargs\u001b[39;49m\u001b[38;5;124;43m'\u001b[39;49m\u001b[43m,\u001b[49m\u001b[43m \u001b[49m\u001b[43m{\u001b[49m\u001b[43m}\u001b[49m\u001b[43m)\u001b[49m\u001b[43m)\u001b[49m))\n\u001b[1;32m    319\u001b[0m cl\u001b[38;5;241m.\u001b[39mextend(np\u001b[38;5;241m.\u001b[39mzeros(m))\n\u001b[1;32m    320\u001b[0m \u001b[38;5;28;01mif\u001b[39;00m con[\u001b[38;5;124m'\u001b[39m\u001b[38;5;124mtype\u001b[39m\u001b[38;5;124m'\u001b[39m] \u001b[38;5;241m==\u001b[39m \u001b[38;5;124m'\u001b[39m\u001b[38;5;124meq\u001b[39m\u001b[38;5;124m'\u001b[39m:\n",
      "    \u001b[0;31m[... skipping hidden 12 frame]\u001b[0m\n",
      "Cell \u001b[0;32mIn[13], line 19\u001b[0m, in \u001b[0;36mcon_eq\u001b[0;34m(dec_vec)\u001b[0m\n\u001b[1;32m     17\u001b[0m \u001b[38;5;28;01mdef\u001b[39;00m \u001b[38;5;21mcon_eq\u001b[39m(dec_vec):\n\u001b[1;32m     18\u001b[0m     obj_inp \u001b[38;5;241m=\u001b[39m unraveller(dec_vec)\n\u001b[0;32m---> 19\u001b[0m     x_next \u001b[38;5;241m=\u001b[39m \u001b[43mstep_vmap\u001b[49m\u001b[43m(\u001b[49m\u001b[43mobj_inp\u001b[49m\u001b[43m[\u001b[49m\u001b[38;5;124;43m'\u001b[39;49m\u001b[38;5;124;43mu\u001b[39;49m\u001b[38;5;124;43m'\u001b[39;49m\u001b[43m]\u001b[49m\u001b[43m,\u001b[49m\u001b[43m \u001b[49m\u001b[43mobj_inp\u001b[49m\u001b[43m[\u001b[49m\u001b[38;5;124;43m'\u001b[39;49m\u001b[38;5;124;43mx\u001b[39;49m\u001b[38;5;124;43m'\u001b[39;49m\u001b[43m]\u001b[49m\u001b[43m,\u001b[49m\u001b[43m \u001b[49m\u001b[43mhp\u001b[49m\u001b[43m)\u001b[49m\n\u001b[1;32m     20\u001b[0m     g \u001b[38;5;241m=\u001b[39m []\n\u001b[1;32m     21\u001b[0m     g \u001b[38;5;241m+\u001b[39m\u001b[38;5;241m=\u001b[39m [np\u001b[38;5;241m.\u001b[39mreshape(x_next\u001b[38;5;241m.\u001b[39mmu[:\u001b[38;5;241m-\u001b[39m\u001b[38;5;241m1\u001b[39m,:]\u001b[38;5;241m-\u001b[39mobj_inp[\u001b[38;5;124m'\u001b[39m\u001b[38;5;124mx\u001b[39m\u001b[38;5;124m'\u001b[39m]\u001b[38;5;241m.\u001b[39mmu[\u001b[38;5;241m1\u001b[39m:,:],(\u001b[38;5;241m-\u001b[39m\u001b[38;5;241m1\u001b[39m,\u001b[38;5;241m1\u001b[39m))]\n",
      "    \u001b[0;31m[... skipping hidden 3 frame]\u001b[0m\n",
      "File \u001b[0;32m~/converging-action-planner/src/opt_tools/casadi_tools/human.py:95\u001b[0m, in \u001b[0;36mHuman._step\u001b[0;34m(self, u, x, hp)\u001b[0m\n\u001b[1;32m     93\u001b[0m \u001b[38;5;66;03m# Take step w/ noise\u001b[39;00m\n\u001b[1;32m     94\u001b[0m mu_next \u001b[38;5;241m=\u001b[39m A\u001b[38;5;129m@x\u001b[39m\u001b[38;5;241m.\u001b[39mmu \u001b[38;5;241m+\u001b[39m B\u001b[38;5;129m@u\u001b[39m\u001b[38;5;241m.\u001b[39mtau \u001b[38;5;241m+\u001b[39m B\u001b[38;5;129m@T\u001b[39m\u001b[38;5;241m@\u001b[39m(np\u001b[38;5;241m.\u001b[39meye(nq) \u001b[38;5;241m+\u001b[39m np\u001b[38;5;241m.\u001b[39mdiag([hp\u001b[38;5;241m.\u001b[39meps]\u001b[38;5;241m*\u001b[39mnq))\u001b[38;5;129m@u\u001b[39m\u001b[38;5;241m.\u001b[39mtau\n\u001b[0;32m---> 95\u001b[0m ctrl_cov \u001b[38;5;241m=\u001b[39m (\u001b[43m(\u001b[49m\u001b[43mT\u001b[49m\u001b[38;5;129;43m@u\u001b[39;49m\u001b[38;5;241;43m.\u001b[39;49m\u001b[43mtau\u001b[49m\u001b[43m)\u001b[49m\u001b[38;5;241;43m@\u001b[39;49m\u001b[43m(\u001b[49m\u001b[38;5;241;43m1\u001b[39;49m\u001b[38;5;241;43m+\u001b[39;49m\u001b[43mhp\u001b[49m\u001b[38;5;241;43m.\u001b[39;49m\u001b[43msigma_tau\u001b[49m\u001b[43m)\u001b[49m\u001b[38;5;241m@\u001b[39m((T\u001b[38;5;129m@u\u001b[39m\u001b[38;5;241m.\u001b[39mtau)\u001b[38;5;241m.\u001b[39mT))\u001b[38;5;66;03m#.printme(0)\u001b[39;00m\n\u001b[1;32m     96\u001b[0m cov_next \u001b[38;5;241m=\u001b[39m ca\u001b[38;5;241m.\u001b[39mdiag(A\u001b[38;5;129m@ca\u001b[39m\u001b[38;5;241m.\u001b[39mdiag(x\u001b[38;5;241m.\u001b[39mcov)\u001b[38;5;129m@A\u001b[39m\u001b[38;5;241m.\u001b[39mT \u001b[38;5;241m+\u001b[39m B\u001b[38;5;129m@ctrl_cov\u001b[39m\u001b[38;5;241m@\u001b[39m(B\u001b[38;5;241m.\u001b[39mT))\n\u001b[1;32m     98\u001b[0m \u001b[38;5;28;01mreturn\u001b[39;00m Human\u001b[38;5;241m.\u001b[39mState(mu\u001b[38;5;241m=\u001b[39mmu_next, cov\u001b[38;5;241m=\u001b[39mcov_next)\n",
      "File \u001b[0;32m~/.local/lib/python3.8/site-packages/jax/_src/numpy/array_methods.py:791\u001b[0m, in \u001b[0;36m_forward_operator_to_aval.<locals>.op\u001b[0;34m(self, *args)\u001b[0m\n\u001b[1;32m    790\u001b[0m \u001b[38;5;28;01mdef\u001b[39;00m \u001b[38;5;21mop\u001b[39m(\u001b[38;5;28mself\u001b[39m, \u001b[38;5;241m*\u001b[39margs):\n\u001b[0;32m--> 791\u001b[0m   \u001b[38;5;28;01mreturn\u001b[39;00m \u001b[38;5;28;43mgetattr\u001b[39;49m\u001b[43m(\u001b[49m\u001b[38;5;28;43mself\u001b[39;49m\u001b[38;5;241;43m.\u001b[39;49m\u001b[43maval\u001b[49m\u001b[43m,\u001b[49m\u001b[43m \u001b[49m\u001b[38;5;124;43mf\u001b[39;49m\u001b[38;5;124;43m\"\u001b[39;49m\u001b[38;5;124;43m_\u001b[39;49m\u001b[38;5;132;43;01m{\u001b[39;49;00m\u001b[43mname\u001b[49m\u001b[38;5;132;43;01m}\u001b[39;49;00m\u001b[38;5;124;43m\"\u001b[39;49m\u001b[43m)\u001b[49m\u001b[43m(\u001b[49m\u001b[38;5;28;43mself\u001b[39;49m\u001b[43m,\u001b[49m\u001b[43m \u001b[49m\u001b[38;5;241;43m*\u001b[39;49m\u001b[43margs\u001b[49m\u001b[43m)\u001b[49m\n",
      "File \u001b[0;32m~/.local/lib/python3.8/site-packages/jax/_src/numpy/array_methods.py:258\u001b[0m, in \u001b[0;36m_defer_to_unrecognized_arg.<locals>.deferring_binary_op\u001b[0;34m(self, other)\u001b[0m\n\u001b[1;32m    256\u001b[0m args \u001b[38;5;241m=\u001b[39m (other, \u001b[38;5;28mself\u001b[39m) \u001b[38;5;28;01mif\u001b[39;00m swap \u001b[38;5;28;01melse\u001b[39;00m (\u001b[38;5;28mself\u001b[39m, other)\n\u001b[1;32m    257\u001b[0m \u001b[38;5;28;01mif\u001b[39;00m \u001b[38;5;28misinstance\u001b[39m(other, _accepted_binop_types):\n\u001b[0;32m--> 258\u001b[0m   \u001b[38;5;28;01mreturn\u001b[39;00m \u001b[43mbinary_op\u001b[49m\u001b[43m(\u001b[49m\u001b[38;5;241;43m*\u001b[39;49m\u001b[43margs\u001b[49m\u001b[43m)\u001b[49m\n\u001b[1;32m    259\u001b[0m \u001b[38;5;28;01mif\u001b[39;00m \u001b[38;5;28misinstance\u001b[39m(other, _rejected_binop_types):\n\u001b[1;32m    260\u001b[0m   \u001b[38;5;28;01mraise\u001b[39;00m \u001b[38;5;167;01mTypeError\u001b[39;00m(\u001b[38;5;124mf\u001b[39m\u001b[38;5;124m\"\u001b[39m\u001b[38;5;124munsupported operand type(s) for \u001b[39m\u001b[38;5;132;01m{\u001b[39;00mopchar\u001b[38;5;132;01m}\u001b[39;00m\u001b[38;5;124m: \u001b[39m\u001b[38;5;124m\"\u001b[39m\n\u001b[1;32m    261\u001b[0m                   \u001b[38;5;124mf\u001b[39m\u001b[38;5;124m\"\u001b[39m\u001b[38;5;132;01m{\u001b[39;00m\u001b[38;5;28mtype\u001b[39m(args[\u001b[38;5;241m0\u001b[39m])\u001b[38;5;241m.\u001b[39m\u001b[38;5;18m__name__\u001b[39m\u001b[38;5;132;01m!r}\u001b[39;00m\u001b[38;5;124m and \u001b[39m\u001b[38;5;132;01m{\u001b[39;00m\u001b[38;5;28mtype\u001b[39m(args[\u001b[38;5;241m1\u001b[39m])\u001b[38;5;241m.\u001b[39m\u001b[38;5;18m__name__\u001b[39m\u001b[38;5;132;01m!r}\u001b[39;00m\u001b[38;5;124m\"\u001b[39m)\n",
      "    \u001b[0;31m[... skipping hidden 12 frame]\u001b[0m\n",
      "File \u001b[0;32m~/.local/lib/python3.8/site-packages/jax/_src/numpy/lax_numpy.py:3078\u001b[0m, in \u001b[0;36mmatmul\u001b[0;34m(a, b, precision)\u001b[0m\n\u001b[1;32m   3075\u001b[0m   \u001b[38;5;28;01mif\u001b[39;00m ndim(x) \u001b[38;5;241m<\u001b[39m \u001b[38;5;241m1\u001b[39m:\n\u001b[1;32m   3076\u001b[0m     msg \u001b[38;5;241m=\u001b[39m (\u001b[38;5;124mf\u001b[39m\u001b[38;5;124m\"\u001b[39m\u001b[38;5;124mmatmul input operand \u001b[39m\u001b[38;5;132;01m{\u001b[39;00mi\u001b[38;5;132;01m}\u001b[39;00m\u001b[38;5;124m must have ndim at least 1, \u001b[39m\u001b[38;5;124m\"\u001b[39m\n\u001b[1;32m   3077\u001b[0m            \u001b[38;5;124mf\u001b[39m\u001b[38;5;124m\"\u001b[39m\u001b[38;5;124mbut it has ndim \u001b[39m\u001b[38;5;132;01m{\u001b[39;00mndim(x)\u001b[38;5;132;01m}\u001b[39;00m\u001b[38;5;124m\"\u001b[39m)\n\u001b[0;32m-> 3078\u001b[0m     \u001b[38;5;28;01mraise\u001b[39;00m \u001b[38;5;167;01mValueError\u001b[39;00m(msg)\n\u001b[1;32m   3080\u001b[0m a, b \u001b[38;5;241m=\u001b[39m util\u001b[38;5;241m.\u001b[39mpromote_dtypes(a, b)\n\u001b[1;32m   3082\u001b[0m a_is_mat, b_is_mat \u001b[38;5;241m=\u001b[39m (ndim(a) \u001b[38;5;241m>\u001b[39m \u001b[38;5;241m1\u001b[39m), (ndim(b) \u001b[38;5;241m>\u001b[39m \u001b[38;5;241m1\u001b[39m)\n",
      "\u001b[0;31mValueError\u001b[0m: matmul input operand 1 must have ndim at least 1, but it has ndim 0"
     ]
    }
   ],
   "source": [
    "# multiple shooting by hand\n",
    "from jax.flatten_util import ravel_pytree\n",
    "from jax_tools.human import *\n",
    "from jax_tools.ipopt import nlpsol\n",
    "\n",
    "H = 60\n",
    "\n",
    "u = Human.Input(tau=np.zeros((H, nq)))\n",
    "x = Human.State(mu=np.zeros((H,2*nq)), cov=np.zeros((H,2*nq)))\n",
    "\n",
    "step_vmap = jax.vmap(hum._step, in_axes=(0, 0, None))\n",
    "cost_vmap = jax.vmap(hum._cost, in_axes=(Human.Input(0), Human.State(0,0), None, None))\n",
    "\n",
    "inp = {'x':x, 'u':u}\n",
    "x0, unraveller = ravel_pytree(inp)\n",
    "\n",
    "def con_eq(dec_vec):\n",
    "    obj_inp = unraveller(dec_vec)\n",
    "    x_next = step_vmap(obj_inp['u'], obj_inp['x'], hp)\n",
    "    g = []\n",
    "    g += [np.reshape(x_next.mu[:-1,:]-obj_inp['x'].mu[1:,:],(-1,1))]\n",
    "    g += [np.reshape(x_next.cov[:-1,:]-obj_inp['x'].cov[1:,:],(-1,1))]\n",
    "\n",
    "    # Intial value constraints\n",
    "    g += [np.reshape(np.zeros((1,2*nq))-obj_inp['x'].mu[0,:],(-1,1))]\n",
    "    g += [np.reshape(np.zeros((1,2*nq))-obj_inp['x'].cov[0,:],(-1,1))]\n",
    "    return jnp.squeeze(jnp.concatenate(tuple(g)))    \n",
    "\n",
    "def obj(dec_vec):\n",
    "    obj_inp = unraveller(dec_vec)\n",
    "    cost = cost_vmap(obj_inp['u'], obj_inp['x'], mp, rp)\n",
    "    return np.sum(cost['r'])+np.sum(cost['r_discount'])\n",
    "\n",
    "solver = nlpsol(obj = obj, con_eq = con_eq, con_ineq=None, opts={'disp':5})\n",
    "soln = solver(x0)\n",
    "%timeit solver(x0)\n",
    "print(unraveller(soln.x)['u'])"
   ]
  },
  {
   "cell_type": "code",
   "execution_count": null,
   "id": "feb34a95",
   "metadata": {},
   "outputs": [],
   "source": []
  }
 ],
 "metadata": {
  "kernelspec": {
   "display_name": "Python 3 (ipykernel)",
   "language": "python",
   "name": "python3"
  },
  "language_info": {
   "codemirror_mode": {
    "name": "ipython",
    "version": 3
   },
   "file_extension": ".py",
   "mimetype": "text/x-python",
   "name": "python",
   "nbconvert_exporter": "python",
   "pygments_lexer": "ipython3",
   "version": "3.8.10"
  },
  "name": "benchmarking.ipynb"
 },
 "nbformat": 4,
 "nbformat_minor": 5
}
