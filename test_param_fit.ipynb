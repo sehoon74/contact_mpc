{
 "cells": [
  {
   "cell_type": "code",
   "execution_count": 2,
   "id": "20720bfc",
   "metadata": {},
   "outputs": [],
   "source": [
    "%load_ext autoreload\n",
    "%autoreload 2\n",
    "\n",
    "import matplotlib.pyplot as plt\n",
    "plt.rcParams['figure.dpi'] = 400\n",
    "plt.rcParams['axes.grid'] = True\n",
    "plt.rcParams['image.aspect'] = 0.8\n",
    "\n",
    "import numpy as np\n",
    "import casadi as ca\n",
    "from param_fit import *"
   ]
  },
  {
   "cell_type": "code",
   "execution_count": 30,
   "id": "dfbb2e5f",
   "metadata": {},
   "outputs": [
    {
     "name": "stdout",
     "output_type": "stream",
     "text": [
      "Loading ros bag data/new_franka_contact_contact_1.bag  with 38014 msgs on topic /joint_states\n",
      "Loaded 38014 msgs from data/new_franka_contact_contact_1.bag with time step 0.0019999828089748996 sec\n",
      "Using robot plane which has contacts ['contact_1']\n",
      "________________________________________\n",
      " ##### Optimizing offline params ######\n",
      "\n",
      "******************************************************************************\n",
      "This program contains Ipopt, a library for large-scale nonlinear optimization.\n",
      " Ipopt is released as open source code under the Eclipse Public License (EPL).\n",
      "         For more information visit http://projects.coin-or.org/Ipopt\n",
      "******************************************************************************\n",
      "\n",
      "This is Ipopt version 3.11.9, running with linear solver mumps.\n",
      "NOTE: Other linear solvers might be more efficient (see Ipopt documentation).\n",
      "\n",
      "Number of nonzeros in equality constraint Jacobian...:        0\n",
      "Number of nonzeros in inequality constraint Jacobian.:        0\n",
      "Number of nonzeros in Lagrangian Hessian.............:        6\n",
      "\n",
      "Total number of variables............................:        3\n",
      "                     variables with only lower bounds:        0\n",
      "                variables with lower and upper bounds:        0\n",
      "                     variables with only upper bounds:        0\n",
      "Total number of equality constraints.................:        0\n",
      "Total number of inequality constraints...............:        0\n",
      "        inequality constraints with only lower bounds:        0\n",
      "   inequality constraints with lower and upper bounds:        0\n",
      "        inequality constraints with only upper bounds:        0\n",
      "\n",
      "iter    objective    inf_pr   inf_du lg(mu)  ||d||  lg(rg) alpha_du alpha_pr  ls\n",
      "   0  5.3875274e+04 0.00e+00 1.00e+02  -1.0 0.00e+00    -  0.00e+00 0.00e+00   0\n",
      "   1  1.0988305e+04 0.00e+00 1.09e+02  -1.0 5.76e+01    -  1.00e+00 7.81e-03f  8\n",
      "   2  5.8996168e+03 0.00e+00 2.08e+01  -1.0 3.16e-01    -  1.00e+00 2.50e-01f  3\n",
      "   3  5.5407629e+03 0.00e+00 1.82e+01  -1.0 3.45e-02    -  1.00e+00 1.00e+00f  1\n",
      "   4  5.1233442e+03 0.00e+00 1.03e+01  -1.0 2.12e-02    -  1.00e+00 1.00e+00f  1\n",
      "   5  4.9715987e+03 0.00e+00 2.19e+00  -1.0 6.85e-03    -  1.00e+00 1.00e+00f  1\n",
      "   6  4.9700803e+03 0.00e+00 1.44e-01  -1.0 5.82e-04    -  1.00e+00 1.00e+00f  1\n",
      "   7  4.9700747e+03 0.00e+00 5.86e-04  -2.5 3.35e-05    -  1.00e+00 1.00e+00f  1\n",
      "   8  4.9700747e+03 0.00e+00 9.81e-09  -5.7 1.38e-07    -  1.00e+00 1.00e+00f  1\n",
      "\n",
      "Number of Iterations....: 8\n",
      "\n",
      "                                   (scaled)                 (unscaled)\n",
      "Objective...............:   2.1621285433978805e+00    4.9700747325027869e+03\n",
      "Dual infeasibility......:   9.8062191051959340e-09    2.2541509821394357e-05\n",
      "Constraint violation....:   0.0000000000000000e+00    0.0000000000000000e+00\n",
      "Complementarity.........:   0.0000000000000000e+00    0.0000000000000000e+00\n",
      "Overall NLP error.......:   9.8062191051959340e-09    2.2541509821394357e-05\n",
      "\n",
      "\n",
      "Number of objective function evaluations             = 26\n",
      "Number of objective gradient evaluations             = 9\n",
      "Number of equality constraint evaluations            = 0\n",
      "Number of inequality constraint evaluations          = 0\n",
      "Number of equality constraint Jacobian evaluations   = 0\n",
      "Number of inequality constraint Jacobian evaluations = 0\n",
      "Number of Lagrangian Hessian evaluations             = 8\n",
      "Total CPU secs in IPOPT (w/o function evaluations)   =      0.000\n",
      "Total CPU secs in NLP function evaluations           =      0.000\n",
      "\n",
      "EXIT: Optimal Solution Found.\n",
      "      solver  :   t_proc      (avg)   t_wall      (avg)    n_eval\n",
      "       nlp_f  |        0 (       0)   2.19ms ( 84.22us)        26\n",
      "  nlp_grad_f  |        0 (       0)   1.30ms (129.70us)        10\n",
      "  nlp_hess_l  |        0 (       0)   1.89ms (235.80us)         8\n",
      "       total  |        0 (       0)  13.81ms ( 13.81ms)         1\n"
     ]
    },
    {
     "ename": "NameError",
     "evalue": "name 'package_results' is not defined",
     "output_type": "error",
     "traceback": [
      "\u001b[0;31m---------------------------------------------------------------------------\u001b[0m",
      "\u001b[0;31mNameError\u001b[0m                                 Traceback (most recent call last)",
      "Input \u001b[0;32mIn [30]\u001b[0m, in \u001b[0;36m<cell line: 1>\u001b[0;34m()\u001b[0m\n\u001b[0;32m----> 1\u001b[0m \u001b[43mparam_fit\u001b[49m\u001b[43m(\u001b[49m\u001b[38;5;124;43m'\u001b[39;49m\u001b[38;5;124;43mdata/new_franka_contact_contact_1.bag\u001b[39;49m\u001b[38;5;124;43m'\u001b[39;49m\u001b[43m,\u001b[49m\u001b[43m \u001b[49m\n\u001b[1;32m      2\u001b[0m \u001b[43m          \u001b[49m\u001b[38;5;124;43m'\u001b[39;49m\u001b[38;5;124;43mcontact_1\u001b[39;49m\u001b[38;5;124;43m'\u001b[39;49m\u001b[43m,\u001b[49m\u001b[43m \u001b[49m\u001b[43m[\u001b[49m\u001b[38;5;124;43m'\u001b[39;49m\u001b[38;5;124;43mrest\u001b[39;49m\u001b[38;5;124;43m'\u001b[39;49m\u001b[43m]\u001b[49m\u001b[43m)\u001b[49m\n",
      "File \u001b[0;32m~/mpc-contact/param_fit.py:86\u001b[0m, in \u001b[0;36mparam_fit\u001b[0;34m(bag, contact_to_fit, pars_to_fit, contact_yaml)\u001b[0m\n\u001b[1;32m     82\u001b[0m         \u001b[38;5;28mprint\u001b[39m(\u001b[38;5;124mf\u001b[39m\u001b[38;5;124m\"\u001b[39m\u001b[38;5;124mUsing robot \u001b[39m\u001b[38;5;132;01m{\u001b[39;00mmode\u001b[38;5;132;01m}\u001b[39;00m\u001b[38;5;124m which has contacts \u001b[39m\u001b[38;5;132;01m{\u001b[39;00mcontact_params[\u001b[38;5;124m'\u001b[39m\u001b[38;5;124mmodes\u001b[39m\u001b[38;5;124m'\u001b[39m][mode]\u001b[38;5;132;01m}\u001b[39;00m\u001b[38;5;124m\"\u001b[39m)\n\u001b[1;32m     84\u001b[0m robots_obs[robot_to_fit]\u001b[38;5;241m.\u001b[39mbuild_step(time_step)\n\u001b[0;32m---> 86\u001b[0m optimized_par \u001b[38;5;241m=\u001b[39m \u001b[43moptimize\u001b[49m\u001b[43m(\u001b[49m\u001b[43mstates\u001b[49m\u001b[43m,\u001b[49m\u001b[43m \u001b[49m\u001b[43mtau_ms\u001b[49m\u001b[43m,\u001b[49m\n\u001b[1;32m     87\u001b[0m \u001b[43m                         \u001b[49m\u001b[43mrobots_obs\u001b[49m\u001b[43m[\u001b[49m\u001b[43mrobot_to_fit\u001b[49m\u001b[43m]\u001b[49m\u001b[43m,\u001b[49m\n\u001b[1;32m     88\u001b[0m \u001b[43m                         \u001b[49m\u001b[43mcontacts\u001b[49m\u001b[43m[\u001b[49m\u001b[43mcontact_to_fit\u001b[49m\u001b[43m]\u001b[49m\u001b[43m)\u001b[49m\n\u001b[1;32m     90\u001b[0m \u001b[38;5;28;01mfor\u001b[39;00m k,v \u001b[38;5;129;01min\u001b[39;00m optimized_par\u001b[38;5;241m.\u001b[39mitems():\n\u001b[1;32m     91\u001b[0m     \u001b[38;5;28mprint\u001b[39m(\u001b[38;5;124mf\u001b[39m\u001b[38;5;124m'\u001b[39m\u001b[38;5;132;01m{\u001b[39;00mk\u001b[38;5;132;01m}\u001b[39;00m\u001b[38;5;124m:\u001b[39m\u001b[38;5;132;01m{\u001b[39;00mv\u001b[38;5;132;01m}\u001b[39;00m\u001b[38;5;124m'\u001b[39m)\n",
      "File \u001b[0;32m~/mpc-contact/param_fit.py:56\u001b[0m, in \u001b[0;36moptimize\u001b[0;34m(states, torques, robot, contact)\u001b[0m\n\u001b[1;32m     54\u001b[0m obj \u001b[38;5;241m=\u001b[39m res[\u001b[38;5;124m'\u001b[39m\u001b[38;5;124mf\u001b[39m\u001b[38;5;124m'\u001b[39m]\n\u001b[1;32m     55\u001b[0m solve_time \u001b[38;5;241m+\u001b[39m\u001b[38;5;241m=\u001b[39m time\u001b[38;5;241m.\u001b[39mtime()\n\u001b[0;32m---> 56\u001b[0m res_dict \u001b[38;5;241m=\u001b[39m \u001b[43mpackage_results\u001b[49m(res[\u001b[38;5;124m'\u001b[39m\u001b[38;5;124mx\u001b[39m\u001b[38;5;124m'\u001b[39m], param)\n\u001b[1;32m     58\u001b[0m \u001b[38;5;28mprint\u001b[39m(\u001b[38;5;124m\"\u001b[39m\u001b[38;5;124mSolve time:  \u001b[39m\u001b[38;5;132;01m%s\u001b[39;00m\u001b[38;5;124m - \u001b[39m\u001b[38;5;132;01m%f\u001b[39;00m\u001b[38;5;124m sec\u001b[39m\u001b[38;5;124m\"\u001b[39m \u001b[38;5;241m%\u001b[39m (status, solve_time))\n\u001b[1;32m     59\u001b[0m \u001b[38;5;28mprint\u001b[39m(\u001b[38;5;124m\"\u001b[39m\u001b[38;5;124mFinal obj:  \u001b[39m\u001b[38;5;132;01m{}\u001b[39;00m\u001b[38;5;124m\"\u001b[39m\u001b[38;5;241m.\u001b[39mformat(obj))\n",
      "\u001b[0;31mNameError\u001b[0m: name 'package_results' is not defined"
     ]
    }
   ],
   "source": [
    "param_fit('data/new_franka_contact_contact_1.bag', \n",
    "          'contact_1', ['rest'])"
   ]
  },
  {
   "cell_type": "code",
   "execution_count": null,
   "id": "00c6426b",
   "metadata": {},
   "outputs": [],
   "source": []
  }
 ],
 "metadata": {
  "kernelspec": {
   "display_name": "Python 3 (ipykernel)",
   "language": "python",
   "name": "python3"
  },
  "language_info": {
   "codemirror_mode": {
    "name": "ipython",
    "version": 3
   },
   "file_extension": ".py",
   "mimetype": "text/x-python",
   "name": "python",
   "nbconvert_exporter": "python",
   "pygments_lexer": "ipython3",
   "version": "3.8.10"
  }
 },
 "nbformat": 4,
 "nbformat_minor": 5
}
