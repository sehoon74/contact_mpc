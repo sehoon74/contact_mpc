{
 "cells": [
  {
   "cell_type": "code",
   "execution_count": 1,
   "id": "6e67ba3b",
   "metadata": {},
   "outputs": [],
   "source": [
    "%load_ext autoreload\n",
    "%autoreload 2\n",
    "\n",
    "import numpy as np\n",
    "import casadi as ca"
   ]
  },
  {
   "cell_type": "code",
   "execution_count": 4,
   "id": "55ebce24",
   "metadata": {},
   "outputs": [
    {
     "name": "stdout",
     "output_type": "stream",
     "text": [
      "Building robot model from config/franka.urdf with TCP fr3_link8\n",
      "Building robot model from config/franka.urdf with TCP fr3_link8\n",
      "  with subsys ['contact_1']\n",
      "Building robot model from config/franka.urdf with TCP fr3_link8\n",
      "  with subsys ['contact_1', 'contact_2']\n"
     ]
    }
   ],
   "source": [
    "from helper_fns import spawn_models\n",
    "models = spawn_models('config/franka.yaml', 'config/attrs.yaml', 'config/contact.yaml', sym_vars = ['pos'])\n",
    "rob = models['plane']"
   ]
  },
  {
   "cell_type": "code",
   "execution_count": 6,
   "id": "79fcef23",
   "metadata": {},
   "outputs": [
    {
     "name": "stdout",
     "output_type": "stream",
     "text": [
      "[0.01, 0.0100002, 0.01, 0.0099999, 0.01, 0.01, 0.01, 2.39754e-06, 0.000113689, 1.44197e-06, -4.62548e-05, 8.20735e-08, 1.41632e-06, 1.92823e-07, 0.0190859, 0.0179338, 0.709367]\n"
     ]
    },
    {
     "ename": "AttributeError",
     "evalue": "'Robot' object has no attribute 'get_statedict'",
     "output_type": "error",
     "traceback": [
      "\u001b[0;31m---------------------------------------------------------------------------\u001b[0m",
      "\u001b[0;31mAttributeError\u001b[0m                            Traceback (most recent call last)",
      "Input \u001b[0;32mIn [6]\u001b[0m, in \u001b[0;36m<cell line: 10>\u001b[0;34m()\u001b[0m\n\u001b[1;32m      8\u001b[0m     ekf\u001b[38;5;241m.\u001b[39mstep(\u001b[38;5;241m0.01\u001b[39m\u001b[38;5;241m*\u001b[39mnp\u001b[38;5;241m.\u001b[39mones(\u001b[38;5;241m7\u001b[39m), np\u001b[38;5;241m.\u001b[39mzeros(\u001b[38;5;241m7\u001b[39m))\n\u001b[1;32m      9\u001b[0m \u001b[38;5;28mprint\u001b[39m(ekf\u001b[38;5;241m.\u001b[39mx[\u001b[38;5;124m'\u001b[39m\u001b[38;5;124mmu\u001b[39m\u001b[38;5;124m'\u001b[39m])\n\u001b[0;32m---> 10\u001b[0m \u001b[38;5;28mprint\u001b[39m(\u001b[43mekf\u001b[49m\u001b[38;5;241;43m.\u001b[39;49m\u001b[43mget_statedict\u001b[49m\u001b[43m(\u001b[49m\u001b[43m)\u001b[49m)\n",
      "File \u001b[0;32m~/mpc-intro/observer.py:65\u001b[0m, in \u001b[0;36mEKF.get_statedict\u001b[0;34m(self)\u001b[0m\n\u001b[1;32m     64\u001b[0m \u001b[38;5;28;01mdef\u001b[39;00m \u001b[38;5;21mget_statedict\u001b[39m(\u001b[38;5;28mself\u001b[39m):\n\u001b[0;32m---> 65\u001b[0m     \u001b[38;5;28;01mreturn\u001b[39;00m \u001b[38;5;28;43mself\u001b[39;49m\u001b[38;5;241;43m.\u001b[39;49m\u001b[43mdyn_sys\u001b[49m\u001b[38;5;241;43m.\u001b[39;49m\u001b[43mget_statedict_from_vec\u001b[49m\u001b[43m(\u001b[49m\u001b[38;5;28;43mself\u001b[39;49m\u001b[38;5;241;43m.\u001b[39;49m\u001b[43mx\u001b[49m\u001b[43m[\u001b[49m\u001b[38;5;124;43m'\u001b[39;49m\u001b[38;5;124;43mmu\u001b[39;49m\u001b[38;5;124;43m'\u001b[39;49m\u001b[43m]\u001b[49m\u001b[43m)\u001b[49m\n",
      "File \u001b[0;32m~/mpc-intro/robot.py:158\u001b[0m, in \u001b[0;36mRobot.get_statedict_from_vec\u001b[0;34m(self, xi)\u001b[0m\n\u001b[1;32m    156\u001b[0m \u001b[38;5;28;01mif\u001b[39;00m \u001b[38;5;28mtype\u001b[39m(xi) \u001b[38;5;241m==\u001b[39m ca\u001b[38;5;241m.\u001b[39mDM: xi \u001b[38;5;241m=\u001b[39m xi\u001b[38;5;241m.\u001b[39mfull()\n\u001b[1;32m    157\u001b[0m d \u001b[38;5;241m=\u001b[39m \u001b[38;5;28mself\u001b[39m\u001b[38;5;241m.\u001b[39m__state\u001b[38;5;241m.\u001b[39mdictize(xi)\n\u001b[0;32m--> 158\u001b[0m \u001b[38;5;28;01mreturn\u001b[39;00m \u001b[38;5;28;43mself\u001b[39;49m\u001b[38;5;241;43m.\u001b[39;49m\u001b[43mget_statedict\u001b[49m(d)\n",
      "\u001b[0;31mAttributeError\u001b[0m: 'Robot' object has no attribute 'get_statedict'"
     ]
    }
   ],
   "source": [
    "from observer import EKF\n",
    "rob.build_disc_dyn(0.002)\n",
    "A, C, n, y = rob.linearized(np.zeros(rob.nx), np.zeros(7), rob.inv_mass_fn(np.zeros(7)))\n",
    "ekf = EKF(rob)\n",
    "#%timeit ekf.step(0.01*np.ones(7), np.zeros(7), np.eye(7))\n",
    "# 3x speedup from JITting the EKF step\n",
    "for _ in range(100):\n",
    "    ekf.step(0.01*np.ones(7), np.zeros(7))\n",
    "print(ekf.x['mu'])\n"
   ]
  },
  {
   "cell_type": "code",
   "execution_count": 10,
   "id": "f6779d6a",
   "metadata": {},
   "outputs": [
    {
     "name": "stdout",
     "output_type": "stream",
     "text": [
      "Building robot model from config/franka.urdf with TCP fr3_link8\n",
      "  with subsys ['imp_ctrl']\n",
      "[-28.827, -0.00651662, -128.503]\n",
      "[-27.1313, 0.00742017, -127.737]\n",
      "[-22.6925, 0.023706, -126.954]\n",
      "[-16.2139, 0.0323248, -126.145]\n",
      "[-8.33946, 0.0314956, -125.071]\n",
      "[0.275862, 0.023266, -123.536]\n",
      "[9.0057, 0.0110742, -121.465]\n",
      "[17.308, -0.0016315, -118.907]\n",
      "[24.767, -0.0121988, -116]\n",
      "[31.1116, -0.0191146, -112.925]\n",
      "[36.2103, -0.0219762, -109.853]\n",
      "[40.0496, -0.0212272, -106.918]\n",
      "[42.7058, -0.0178054, -104.195]\n",
      "[44.3161, -0.0128138, -101.707]\n",
      "[45.053, -0.00727804, -99.4287]\n",
      "[45.1033, -0.00200657, -97.3059]\n",
      "[44.652, 0.00245808, -95.27]\n",
      "[43.8692, 0.00582505, -93.2501]\n",
      "[42.901, 0.00800732, -91.1817]\n",
      "[41.8644, 0.00906413, -89.0126]\n",
      "[40.8439, 0.00914855, -86.7044]\n",
      "[39.8925, 0.00846577, -84.2331]\n",
      "[39.0349, 0.0072418, -81.5881]\n",
      "[38.2726, 0.00569982, -78.7704]\n",
      "[37.5901, 0.00404144, -75.7913]\n",
      "[36.9619, 0.00243225, -72.6696]\n",
      "[36.3579, 0.000992285, -69.43]\n",
      "[35.7493, -0.000207424, -66.101]\n",
      "[35.1113, -0.00114182, -62.7129]\n",
      "[34.4256, -0.00182327, -59.296]\n",
      "[33.6809, -0.00228965, -55.8796]\n",
      "[32.8724, -0.00259183, -52.4908]\n",
      "[32.0012, -0.00278275, -49.1542]\n",
      "[31.0725, -0.00290959, -45.8913]\n",
      "[30.0949, -0.00300947, -42.7208]\n",
      "[29.0785, -0.00310809, -39.658]\n",
      "[28.0343, -0.00322059, -36.7158]\n",
      "[26.9734, -0.00335352, -33.9039]\n",
      "[25.9063, -0.00350725, -31.2296]\n",
      "[24.8427, -0.00367829, -28.6979]\n",
      "[23.791, -0.00386109, -26.3115]\n",
      "[22.7586, -0.00404948, -24.0712]\n",
      "[21.7515, -0.00423754, -21.9761]\n",
      "[20.7744, -0.00442013, -20.0236]\n",
      "[19.8311, -0.00459319, -18.2103]\n",
      "[18.9242, -0.00475374, -16.5315]\n",
      "[18.0554, -0.00489987, -14.9817]\n",
      "[17.2256, -0.00503055, -13.5551]\n",
      "[16.435, -0.0051455, -12.2451]\n",
      "[15.6834, -0.00524499, -11.0452]\n",
      "[14.97, -0.00532974, -9.9486]\n",
      "[14.2937, -0.00540072, -8.94856]\n",
      "[13.6532, -0.00545905, -8.0384]\n",
      "[13.0469, -0.00550596, -7.21163]\n",
      "[12.4732, -0.00554264, -6.46196]\n",
      "[11.9304, -0.00557027, -5.78335]\n",
      "[11.4169, -0.00558994, -5.17008]\n",
      "[10.9308, -0.00560265, -4.61672]\n",
      "[10.4706, -0.00560931, -4.11816]\n",
      "[10.0346, -0.00561071, -3.66963]\n",
      "[9.6212, -0.00560755, -3.26667]\n",
      "[9.22903, -0.00560043, -2.90513]\n",
      "[8.85667, -0.00558987, -2.58118]\n",
      "[8.50284, -0.0055763, -2.29129]\n",
      "[8.16631, -0.00556011, -2.03221]\n",
      "[7.84598, -0.0055416, -1.80094]\n",
      "[7.54079, -0.00552103, -1.59475]\n",
      "[7.24978, -0.00549863, -1.41114]\n",
      "[6.97207, -0.00547459, -1.24784]\n",
      "[6.70684, -0.00544905, -1.10276]\n",
      "[6.45333, -0.00542216, -0.974037]\n",
      "[6.21084, -0.00539403, -0.859952]\n",
      "[5.97874, -0.00536474, -0.758963]\n",
      "[5.75643, -0.0053344, -0.669672]\n",
      "[5.54338, -0.00530307, -0.590818]\n",
      "[5.33909, -0.00527081, -0.521267]\n",
      "[5.14308, -0.00523769, -0.459994]\n",
      "[4.95494, -0.00520377, -0.40608]\n",
      "[4.77426, -0.00516908, -0.3587]\n",
      "[4.60068, -0.00513369, -0.317115]\n",
      "[4.43386, -0.00509763, -0.280661]\n",
      "[4.27347, -0.00506094, -0.248747]\n",
      "[4.11923, -0.00502368, -0.220842]\n",
      "[3.97086, -0.00498587, -0.196474]\n",
      "[3.82809, -0.00494757, -0.175222]\n",
      "[3.69068, -0.00490879, -0.156712]\n",
      "[3.5584, -0.00486959, -0.140611]\n",
      "[3.43103, -0.00483, -0.126622]\n",
      "[3.30838, -0.00479005, -0.114483]\n",
      "[3.19025, -0.00474977, -0.103961]\n",
      "[3.07646, -0.00470921, -0.0948517]\n",
      "[2.96683, -0.00466839, -0.0869722]\n",
      "[2.8612, -0.00462734, -0.0801625]\n",
      "[2.75941, -0.00458609, -0.0742812]\n",
      "[2.66132, -0.00454468, -0.0692039]\n",
      "[2.56678, -0.00450312, -0.0648213]\n",
      "[2.47565, -0.00446146, -0.0610376]\n",
      "[2.38781, -0.0044197, -0.0577688]\n",
      "[2.30314, -0.00437789, -0.0549415]\n",
      "[2.22151, -0.00433604, -0.0524915]\n"
     ]
    }
   ],
   "source": [
    "from impedance_controller import ImpedanceController\n",
    "from robot import Robot\n",
    "imp = ImpedanceController(pars={'imp_stiff':[300, 300, 300], 'imp_rest':[0, 0, 0.5]}, sym_vars = [])\n",
    "rob = Robot('config/franka.urdf', subsys = [imp])\n",
    "step = rob.build_disc_dyn(0.1)\n",
    "# test that it converges as expected \n",
    "q = np.zeros(7)\n",
    "dq = np.zeros(7)\n",
    "tau = np.zeros(7)\n",
    "state = {'q':q, 'dq':dq, 'tau_input':tau}\n",
    "#%timeit step(**state)\n",
    "\n",
    "for _ in range(100):\n",
    "    res = step(**state)\n",
    "    state['q'] = res['q_next']\n",
    "    state['dq'] = res['dq_next']\n",
    "    res_dict = rob.get_statedict(state)\n",
    "    print(res_dict['F_imp'])\n",
    "\n",
    "#print(rob.inv_mass_fn(np.zeros(7)))\n"
   ]
  },
  {
   "cell_type": "code",
   "execution_count": null,
   "id": "e579546f",
   "metadata": {},
   "outputs": [],
   "source": []
  }
 ],
 "metadata": {
  "kernelspec": {
   "display_name": "Python 3 (ipykernel)",
   "language": "python",
   "name": "python3"
  },
  "language_info": {
   "codemirror_mode": {
    "name": "ipython",
    "version": 3
   },
   "file_extension": ".py",
   "mimetype": "text/x-python",
   "name": "python",
   "nbconvert_exporter": "python",
   "pygments_lexer": "ipython3",
   "version": "3.8.10"
  }
 },
 "nbformat": 4,
 "nbformat_minor": 5
}
