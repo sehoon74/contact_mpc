{
 "cells": [
  {
   "cell_type": "code",
   "execution_count": 80,
   "id": "75cb9159",
   "metadata": {},
   "outputs": [
    {
     "name": "stdout",
     "output_type": "stream",
     "text": [
      "The autoreload extension is already loaded. To reload it, use:\n",
      "  %reload_ext autoreload\n"
     ]
    }
   ],
   "source": [
    "# Imports, sane defaults\n",
    "import casadi as ca\n",
    "import numpy as np\n",
    "import matplotlib.pyplot as plt\n",
    "\n",
    "%load_ext autoreload\n",
    "%autoreload 2\n",
    "plt.rcParams['figure.dpi'] = 200\n",
    "plt.rcParams['axes.grid'] = True\n",
    "plt.rcParams['image.aspect'] = 0.6"
   ]
  },
  {
   "cell_type": "markdown",
   "id": "96eff901",
   "metadata": {},
   "source": [
    "# Symbolic variables, expressions, and functions\n",
    "\n",
    "A *symbolic variable* is either `ca.SX.sym` or `ca.MX.sym`[1], which does not have a numerical value, it is simply a placeholder used to define expressions and functions.  It serves to track the operations in the functions so they can be later differentiated, numerically evaluated.\n",
    "\n",
    "A CasADi *expression* is an arbitrary combination of symbolic variables and elementary operations, see [the documentation](https://web.casadi.org/python-api/#module-casadi.casadi). An expression can be differentiated with respect to any of the symbolic variables in it.\n",
    "\n",
    "A CasADi *function* is an object which maps some symbolic variables to an expression [2]. This expression must _only_ depend on the symbolic variables.  A function can be evaluated for numerical or symbolic input [3].\n",
    "\n",
    "\n",
    "[1] `SX` and `MX` are computationally and memory optimized, respectively, and are treated slightly differently in the computational graph. All CasADi native operations are defined over both, but they cannot be mixed in an expression. In my experience, `SX` was more efficient, but depends on problem characteristics.\n",
    "\n",
    "[2] A CasADi function lives in a (C++) virtual machine, and while building it is relatively expensive, evaluation of it or its gradients is rather efficient."
   ]
  },
  {
   "cell_type": "code",
   "execution_count": 19,
   "id": "68f2152d",
   "metadata": {},
   "outputs": [
    {
     "name": "stdout",
     "output_type": "stream",
     "text": [
      "Symbolic var: [x_0, x_1, x_2, x_3]\n",
      "Matrix sym var: \n",
      "[[y_0, y_2, y_4, y_6], \n",
      " [y_1, y_3, y_5, y_7]]\n",
      "Expression: [((((y_0*x_0)+(y_2*x_1))+(y_4*x_2))+(y_6*x_3)), ((((y_1*x_0)+(y_3*x_1))+(y_5*x_2))+(y_7*x_3))]\n",
      "Jacobian wrt x: (1, 4)\n",
      "Function: fn:(x[4],y[2x4])->(z) SXFunction\n",
      "Function eval: 3.65939\n"
     ]
    }
   ],
   "source": [
    "# Let's make some variables!\n",
    "sym = ca.SX.sym\n",
    "x = sym('x', 4)     # arguments are name and dimension\n",
    "print(f\"Symbolic var: {x}\")\n",
    "y = sym('y', 2, 4)  # 2x4 matrix\n",
    "print(f\"Matrix sym var: {y}\")\n",
    "\n",
    "# Let's make an expression\n",
    "z = y@x\n",
    "print(f\"Expression: {z}\")\n",
    "z = ca.cos(z)   # CasADi can map an oversized input, but be careful because sometimes unexpected dimension handling\n",
    "z = ca.exp(z)\n",
    "z = ca.norm_2(z)\n",
    "\n",
    "# Let's differentiate an expression\n",
    "jac_x = ca.jacobian(z, x)\n",
    "print(f\"Jacobian wrt x shape: {jac_x.shape}\")\n",
    "\n",
    "# Let's make a function, arguments are (name, [in], [out])\n",
    "fn = ca.Function('fn', [x, y], [z])\n",
    "print(f\"Function: {fn}\")\n",
    "\n",
    "# Let's evaluate a function\n",
    "x_num = [0.1, 0.2, 0.3, 0.4]\n",
    "y_num = ca.DM.zeros(2,4)\n",
    "y_num[0,1] = 2.3\n",
    "print(f\"Function eval: {fn(x_num,y_num)}\")\n"
   ]
  },
  {
   "cell_type": "code",
   "execution_count": 160,
   "id": "28b2bee6",
   "metadata": {},
   "outputs": [
    {
     "name": "stdout",
     "output_type": "stream",
     "text": [
      "Building robot model from franka.urdf\n",
      "EE position: [0.12214, 0.0741982, 0.964338]\n",
      "EE orientation: \n",
      "[[0.699467, 0.656947, 0.281365], \n",
      " [0.457473, -0.714054, 0.529948], \n",
      " [0.549058, -0.241963, -0.799993]]\n",
      "Symbolic: [-0.0743203, 0.122066, 00]\n",
      "Numeric:  [-0.0742593, 0.122103, 0]\n"
     ]
    }
   ],
   "source": [
    "# from robot import Robot\n",
    "robot = Robot('franka.urdf')\n",
    "nq = robot.nq\n",
    "q0 = [0.3, 0.2, 0.5, 0.3, 0.2, 0.5, 0.3]\n",
    "ee_pose = robot.fwd_kin(q0)\n",
    "print(f\"EE position: {ee_pose[0]}\")\n",
    "print(f\"EE orientation: {ee_pose[1]}\")\n",
    "\n",
    "# Find the Jacobian matrix for the forward dynamics, make a function\n",
    "q_sym = ca.SX.sym('q', nq)\n",
    "ee_sym = robot.fwd_kin(q_sym)\n",
    "jac_sym = ca.jacobian(ee_sym[0], q_sym)\n",
    "jac_fn = ca.Function('jac_sym', [q_sym], [jac_sym])\n",
    "\n",
    "# Check if it makes sense\n",
    "pert = 1e-3\n",
    "ind = 0\n",
    "q_pert = q0\n",
    "q_pert[ind] += pert\n",
    "ee_pose_pert = robot.fwd_kin(q_pert)\n",
    "jac_num = (ee_pose_pert[0]-ee_pose[0])/pert\n",
    "jac = jac_fn(q0)[:,ind]\n",
    "print(f\"Symbolic: {jac}\")\n",
    "print(f\"Numeric:  {jac_num}\")\n",
    "assert all(np.isclose(jac_1_num, jac_1, rtol=1e-1, atol = 1e-1)), \"Something terrible happened\"\n"
   ]
  },
  {
   "cell_type": "markdown",
   "id": "7daf574e",
   "metadata": {},
   "source": [
    "# Optimization problem in CasADi\n",
    "An optimization problem in CasADi is defined by\n",
    "  - `x`: the decision variables, a vector of symbolic variables which will be optimized\n",
    "  - `p`: parameters, a vector of symbolic variables which will _not_ be optimized, but can take different numerical values without re-building the problem. Used for, e.g. current state.\n",
    "and a `dict` of expressions defined over `x` and `p`:\n",
    "  - `f`: objective, a scalar expression which will be minimized\n",
    "  - `g`: constriaints, a vector expression which will be constrained by `lbg < g < ubg`\n",
    "\n",
    "Once defined, the problem can be solved, given a `dict` of numerical info\n",
    "  - `x0`: initial guess for the optimal `x`\n",
    "  - `lbx`: lower bound for `x`\n",
    "  - `ubx`: upper bound for `x`\n",
    "  - `p`: the numerical value of the parameters `p`\n",
    "  - `lbg`: lower bound for constraints `g`\n",
    "  - `ubg`: upper bound for constraints `g`\n",
    "  \n",
    "Tricks:\n",
    "  - When imposing equality constraints, set `lbg` and `ubg` to be `0` for that respective constraint.\n",
    "  - When a lower/upper bound is omitted, it's -/+ infty, respectively.\n",
    "  - Often an `x0` at `0` can blow up the gradients, you'll see an error like 'can't calculate multipliers'\n",
    "  - You'll see lam_{x0, g0, x, g, p}, these are the lambdas in the Lagrangian to enforce the constraints.  Helpful in warm starts but can ignore at the beginning\n",
    "  \n",
    "Let's practice by helping a lazy robot, who wants the highest speed $\\Vert\\dot{x}\\Vert$ for a joint speed $\\Vert \\dot{q} \\Vert < 1$. We'd like to solve this problem for a range of numerical joint positions $q_1, \\dots$ without rebuilding the optimization problem.  "
   ]
  },
  {
   "cell_type": "code",
   "execution_count": 91,
   "id": "00c24c16",
   "metadata": {},
   "outputs": [
    {
     "name": "stdout",
     "output_type": "stream",
     "text": [
      "Built solver:(x0[7],p[7],lbx[7],ubx[7],lbg,ubg,lam_x0[7],lam_g0)->(x[7],f,g,lam_x[7],lam_g,lam_p[7]) IpoptInterface\n",
      "This is Ipopt version 3.11.9, running with linear solver mumps.\n",
      "NOTE: Other linear solvers might be more efficient (see Ipopt documentation).\n",
      "\n",
      "Number of nonzeros in equality constraint Jacobian...:        0\n",
      "Number of nonzeros in inequality constraint Jacobian.:        7\n",
      "Number of nonzeros in Lagrangian Hessian.............:       28\n",
      "\n",
      "Total number of variables............................:        7\n",
      "                     variables with only lower bounds:        0\n",
      "                variables with lower and upper bounds:        0\n",
      "                     variables with only upper bounds:        0\n",
      "Total number of equality constraints.................:        0\n",
      "Total number of inequality constraints...............:        1\n",
      "        inequality constraints with only lower bounds:        0\n",
      "   inequality constraints with lower and upper bounds:        0\n",
      "        inequality constraints with only upper bounds:        1\n",
      "\n",
      "iter    objective    inf_pr   inf_du lg(mu)  ||d||  lg(rg) alpha_du alpha_pr  ls\n",
      "   0 -2.4078028e-02 0.00e+00 5.40e-01  -1.0 0.00e+00    -  0.00e+00 0.00e+00   0\n",
      "   1 -2.8437448e-02 0.00e+00 5.57e-01  -1.7 5.52e-03   2.0 1.00e+00 1.00e+00f  1\n",
      "   2 -4.2891302e-02 0.00e+00 5.79e-01  -1.7 1.81e-02   1.5 1.00e+00 1.00e+00f  1\n",
      "   3 -8.7604667e-02 0.00e+00 5.71e-01  -1.7 5.48e-02   1.0 1.00e+00 1.00e+00f  1\n",
      "   4 -2.0228895e-01 0.00e+00 4.78e-01  -1.7 1.35e-01   0.6 1.00e+00 1.00e+00f  1\n",
      "   5 -6.0872068e-01 3.12e-02 4.57e-01  -1.7 1.28e+01    -  1.00e+00 5.30e-02f  1\n",
      "   6 -1.4193888e+00 1.31e+00 2.61e-01  -1.7 1.10e+00    -  1.00e+00 1.00e+00f  1\n",
      "   7 -1.1325476e+00 7.47e-01 1.50e-01  -1.7 9.08e-01    -  1.00e+00 1.00e+00h  1\n",
      "   8 -8.9777733e-01 3.08e-01 1.26e-01  -1.7 5.34e-01    -  1.00e+00 1.00e+00h  1\n",
      "   9 -7.5288622e-01 5.75e-02 3.85e-02  -1.7 2.50e-01    -  1.00e+00 1.00e+00h  1\n",
      "iter    objective    inf_pr   inf_du lg(mu)  ||d||  lg(rg) alpha_du alpha_pr  ls\n",
      "  10 -7.2000257e-01 4.91e-03 5.83e-03  -2.5 6.74e-02    -  1.00e+00 1.00e+00h  1\n",
      "  11 -7.1644142e-01 0.00e+00 4.86e-05  -3.8 6.00e-03    -  1.00e+00 1.00e+00h  1\n",
      "  12 -7.1652883e-01 0.00e+00 4.53e-09  -5.7 1.89e-04    -  1.00e+00 1.00e+00h  1\n",
      "  13 -7.1653065e-01 0.00e+00 2.51e-14  -8.6 2.56e-06    -  1.00e+00 1.00e+00h  1\n",
      "\n",
      "Number of Iterations....: 13\n",
      "\n",
      "                                   (scaled)                 (unscaled)\n",
      "Objective...............:  -7.1653065395839866e-01   -7.1653065395839866e-01\n",
      "Dual infeasibility......:   2.5091040356528538e-14    2.5091040356528538e-14\n",
      "Constraint violation....:   0.0000000000000000e+00    0.0000000000000000e+00\n",
      "Complementarity.........:   2.5058874819940672e-09    2.5058874819940672e-09\n",
      "Overall NLP error.......:   2.5058874819940672e-09    2.5058874819940672e-09\n",
      "\n",
      "\n",
      "Number of objective function evaluations             = 14\n",
      "Number of objective gradient evaluations             = 14\n",
      "Number of equality constraint evaluations            = 0\n",
      "Number of inequality constraint evaluations          = 14\n",
      "Number of equality constraint Jacobian evaluations   = 0\n",
      "Number of inequality constraint Jacobian evaluations = 14\n",
      "Number of Lagrangian Hessian evaluations             = 13\n",
      "Total CPU secs in IPOPT (w/o function evaluations)   =      0.016\n",
      "Total CPU secs in NLP function evaluations           =      0.000\n",
      "\n",
      "EXIT: Optimal Solution Found.\n",
      "      solver  :   t_proc      (avg)   t_wall      (avg)    n_eval\n",
      "       nlp_f  |        0 (       0)  82.20us (  5.87us)        14\n",
      "       nlp_g  |        0 (       0)  42.00us (  3.00us)        14\n",
      "    nlp_grad  |        0 (       0)  13.00us ( 13.00us)         1\n",
      "  nlp_grad_f  |        0 (       0)  86.60us (  5.77us)        15\n",
      "  nlp_hess_l  |        0 (       0)  88.90us (  6.84us)        13\n",
      "   nlp_jac_g  |        0 (       0)  27.70us (  1.85us)        15\n",
      "       total  |  15.62ms ( 15.62ms)   7.15ms (  7.15ms)         1\n",
      "Optimal joint velocity of [-0.0338106, 0.899045, -0.0473709, -0.42111, -0.104193, 0.0118962, 6.74892e-15]\n"
     ]
    }
   ],
   "source": [
    "q = ca.SX.sym('q', nq)\n",
    "dq = ca.SX.sym('dq', nq)\n",
    "\n",
    "dx = jac_fn(q)@dq\n",
    "prob = {'x': dq,\n",
    "        'p': q,\n",
    "        'f': -ca.norm_2(dx),\n",
    "        'g': ca.norm_2(dq),}\n",
    "solver = ca.nlpsol('solver', 'ipopt', prob, {'ipopt.print_level':5})\n",
    "print(f\"Built {solver}\")\n",
    "\n",
    "\n",
    "args = {'x0': ca.DM.ones(nq),\n",
    "        'p': q0,\n",
    "        'ubg': 1}\n",
    "solution = solver(**args)\n",
    "print(f\"Optimal joint velocity of {solution['x']}\")\n"
   ]
  },
  {
   "cell_type": "markdown",
   "id": "d07dafbe",
   "metadata": {},
   "source": [
    "# MPC with multiple shooting\n",
    "\n",
    "A multiple-shooting MPC problem is a type of optimization problem, where we have a decision variable for each state in the trajectory, and enforce the dynamics by constraints. The ingredients this recipe:\n",
    "\n",
    "  - Discrete-time dynamics which give $x^+ = f(x,u)$. This probably means you need to write an integrator.\n",
    "  - A cost function which maps $x,u\\rightarrow \\mathbb{R}$. Your objective function `f` will probably be the sum of this over the time steps\n",
    "  \n",
    "  \n",
    "## Tricks\n",
    "  - You'll probably want a parameter for initial state $x_0$, because we want to call the MPC from the current system state\n",
    "  - Warm starts help a lot - setting x0 (and lam_x0, lam_g0) to the result from the previous optimization problem"
   ]
  },
  {
   "cell_type": "code",
   "execution_count": 166,
   "id": "c45b8001",
   "metadata": {},
   "outputs": [
    {
     "name": "stdout",
     "output_type": "stream",
     "text": [
      "Build solver solver:(x0[616],p[14],lbx[616],ubx[616],lbg[406],ubg[406],lam_x0[616],lam_g0[406])->(x[616],f,g[406],lam_x[616],lam_g[406],lam_p[14]) IpoptInterface\n",
      "Solution found\n"
     ]
    }
   ],
   "source": [
    "# Initialize an empty optimization problem\n",
    "mpc_steps = 30\n",
    "\n",
    "step = robot.build_disc_dyn(step_size=0.1)\n",
    "\n",
    "# Set up \n",
    "x = ca.SX.sym('x', 2*nq, mpc_steps-1)\n",
    "x0 = ca.SX.sym('x0', 2*nq)\n",
    "tau = ca.SX.sym('tau', nq, mpc_steps)\n",
    "\n",
    "x_aug = ca.horzcat(x0,x)\n",
    "\n",
    "x_next = step(x_aug, tau)\n",
    "\n",
    "ee_poses = robot.fwd_kin(x_next[:nq,:])\n",
    "\n",
    "# Define problem\n",
    "prob = {'x': ca.vertcat(ca.reshape(x,-1,1), ca.reshape(tau, -1,1)),\n",
    "        'p': x0,\n",
    "        'f': ca.sumsqr(ee_poses[0]-[0.3, 0.3, 0.3]) + 1e-4*ca.sumsqr(tau),\n",
    "        'g': ca.reshape(x_next[:,:-1]-x,-1,1)}\n",
    "\n",
    "\n",
    "solver = ca.nlpsol('solver', 'ipopt', prob, {'ipopt.print_level':0, 'print_time': False})\n",
    "print(f\"Build solver {solver}\")\n",
    "\n",
    "args = {'x0': ca.DM.ones(2*nq*(mpc_steps-1)+nq*mpc_steps,1),\n",
    "        'p': ca.vertcat(q0, ca.DM.zeros(nq)),\n",
    "        'lbg': 0,\n",
    "        'ubg': 0}\n",
    "\n",
    "solution = solver(**args)\n",
    "print(f\"Solution found\")\n",
    "x_traj = ca.reshape(solution['x'][:2*nq*(mpc_steps-1)], 2*nq, mpc_steps-1)\n",
    "tau_traj = ca.reshape(solution['x'][-nq*mpc_steps:], nq, mpc_steps)"
   ]
  },
  {
   "cell_type": "code",
   "execution_count": 167,
   "id": "6db0651a",
   "metadata": {},
   "outputs": [
    {
     "data": {
      "image/png": "[encoded data removed]",
      "text/plain": [
       "<Figure size 540x396 with 3 Axes>"
      ]
     },
     "metadata": {
      "needs_background": "light"
     },
     "output_type": "display_data"
    }
   ],
   "source": [
    "pos, vel = robot.tcp_motion(x_traj[:nq,:], x_traj[nq:,:])\n",
    "\n",
    "fig = plt.figure(figsize=(7.5, 5.5))\n",
    "plt.subplot(3,1,1)\n",
    "plt.plot(pos.T)\n",
    "plt.ylabel('Position [m]')\n",
    "plt.xlabel('Timestep')\n",
    "\n",
    "plt.subplot(3,1,2)\n",
    "plt.plot(vel.T)\n",
    "plt.ylabel('Position [m]')\n",
    "plt.xlabel('Timestep')\n",
    "\n",
    "plt.subplot(3,1,3)\n",
    "plt.plot(tau_traj.T)\n",
    "plt.ylabel('Torque [Nm]')\n",
    "plt.xlabel('Timestep')\n",
    "\n",
    "plt.show()"
   ]
  }
 ],
 "metadata": {
  "kernelspec": {
   "display_name": "Python 3 (ipykernel)",
   "language": "python",
   "name": "python3"
  },
  "language_info": {
   "codemirror_mode": {
    "name": "ipython",
    "version": 3
   },
   "file_extension": ".py",
   "mimetype": "text/x-python",
   "name": "python",
   "nbconvert_exporter": "python",
   "pygments_lexer": "ipython3",
   "version": "3.8.10"
  }
 },
 "nbformat": 4,
 "nbformat_minor": 5
}
