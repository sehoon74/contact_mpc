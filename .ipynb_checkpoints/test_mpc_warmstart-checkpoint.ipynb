{
 "cells": [
  {
   "cell_type": "code",
   "execution_count": 1,
   "id": "3a3ba575",
   "metadata": {},
   "outputs": [],
   "source": [
    "%load_ext autoreload\n",
    "%autoreload 2\n",
    "\n",
    "import matplotlib.pyplot as plt\n",
    "plt.rcParams['figure.dpi'] = 400\n",
    "plt.rcParams['axes.grid'] = True\n",
    "plt.rcParams['image.aspect'] = 0.8\n",
    "\n",
    "import numpy as np\n",
    "import casadi as ca\n",
    "import time\n",
    "from helper_fns import *\n",
    "\n",
    "def timed_exec(fn, *args):\n",
    "    start = time.time()\n",
    "    res = fn(*args)\n",
    "    elapsed = time.time() - start\n",
    "    return elapsed, *res"
   ]
  },
  {
   "cell_type": "code",
   "execution_count": 4,
   "id": "a3ba336f",
   "metadata": {},
   "outputs": [
    {
     "name": "stderr",
     "output_type": "stream",
     "text": [
      "CasADi - 2023-09-09 06:42:32 WARNING(\"CasADi was not compiled with WITH_THREAD=ON. Falling back to serial evaluation.\") [.../casadi/core/map.cpp:502]\n",
      "CasADi - 2023-09-09 06:42:32 WARNING(\"CasADi was not compiled with WITH_THREAD=ON. Falling back to serial evaluation.\") [.../casadi/core/map.cpp:502]\n"
     ]
    },
    {
     "name": "stdout",
     "output_type": "stream",
     "text": [
      "Adding contact setpoint cost for contact_1/F\n",
      "\n",
      "******************************************************************************\n",
      "This program contains Ipopt, a library for large-scale nonlinear optimization.\n",
      " Ipopt is released as open source code under the Eclipse Public License (EPL).\n",
      "         For more information visit http://projects.coin-or.org/Ipopt\n",
      "******************************************************************************\n",
      "\n",
      "Free space cold 0.2447977066040039, Free space warm 0.04788613319396973, Point: 0.10296964645385742\n",
      "Free space: 0.04788613319396973, 1.1538 \n",
      "     Point: 0.10296964645385742, 1.29149\n"
     ]
    }
   ],
   "source": [
    "## MPC only, i.e. without iCEM warmstart\n",
    "mpc, params = spawn_mpc()\n",
    "\n",
    "params['belief_free'] = 1.0\n",
    "params['belief_point'] = 0.0\n",
    "\n",
    "t_mpc_free_cold, cost, res = timed_exec(mpc.solve, params)\n",
    "t_mpc_free_warm, cost_free, res = timed_exec(mpc.solve, params)\n",
    "\n",
    "params['belief_free'] = 0.0\n",
    "params['belief_point'] = 1.0\n",
    "\n",
    "t_mpc_point, cost_point, res_point = timed_exec(mpc.solve, params)\n",
    "\n",
    "print(f\"Free space cold {t_mpc_free_cold}, Free space warm {t_mpc_free_warm}, Point: {t_mpc_point}\")\n",
    "print(f\"Free space: {t_mpc_free_warm}, {cost_free} \\n     Point: {t_mpc_point}, {cost_point}\")\n",
    "res['imp_stiff'] = params['imp_stiff']\n",
    "traj_mpc = mpc.robots['point'].get_ext_state(res_point)\n",
    "#print(traj_mpc['contact_1/F'][0,:])\n",
    "#print(traj_mpc['F_imp'])\n",
    "#print(traj_mpc['imp_rest'])"
   ]
  },
  {
   "cell_type": "code",
   "execution_count": 5,
   "id": "541a2617",
   "metadata": {},
   "outputs": [
    {
     "name": "stderr",
     "output_type": "stream",
     "text": [
      "CasADi - 2023-09-09 06:42:38 WARNING(\"CasADi was not compiled with WITH_THREAD=ON. Falling back to serial evaluation.\") [.../casadi/core/map.cpp:502]\n",
      "CasADi - 2023-09-09 06:42:38 WARNING(\"CasADi was not compiled with WITH_THREAD=ON. Falling back to serial evaluation.\") [.../casadi/core/map.cpp:502]\n"
     ]
    },
    {
     "name": "stdout",
     "output_type": "stream",
     "text": [
      "Adding contact setpoint cost for contact_1/F\n",
      "Free space: 0.9700267314910889, 1.50886 \n",
      "     Point: 0.9204111099243164, 2.90501\n"
     ]
    }
   ],
   "source": [
    "# iCEM-only result\n",
    "mpc, params = spawn_mpc()\n",
    "\n",
    "params['belief_free'] = 1.0\n",
    "params['belief_point'] = 0.0\n",
    "\n",
    "time_cem_free, cost_free, res = timed_exec(mpc.icem_warmstart, params)\n",
    "#print(res['imp_rest'])\n",
    "\n",
    "cost, res = mpc.solve(params) # with an initialization\n",
    "\n",
    "params['belief_free'] = 0.0\n",
    "params['belief_point'] = 1.0\n",
    "time_cem_point, cost_point, res = timed_exec(mpc.icem_warmstart, params)\n",
    "print(f\"Free space: {time_cem_free}, {cost_free} \\n     Point: {time_cem_point}, {cost_point}\")\n",
    "\n",
    "traj_cem = mpc.robots['point'].get_ext_state(res)\n",
    "#print(traj_cem['imp_rest'])"
   ]
  },
  {
   "cell_type": "code",
   "execution_count": 21,
   "id": "9effd485",
   "metadata": {},
   "outputs": [],
   "source": [
    "\n",
    "    times_mean = []\n",
    "    times_std = []\n",
    "    cost_mean = []\n",
    "    cost_std = []\n",
    "    for u_mpc_params, u_contact_params in zip(update_mpc_params, update_contact_params):\n",
    "        print(f'testing mpc_params {u_mpc_params} and contact_params {u_contact_params}')\n",
    "        mpc, params = spawn_mpc(update_mpc_params = u_mpc_params, \n",
    "                                update_contact_params = u_contact_params)\n",
    "        q0 = params['q']\n",
    "        dq0 = params['dq']\n",
    "        mpc.solve(params)\n",
    "        times = []\n",
    "        costs = []\n",
    "        for _ in range(N):\n",
    "            mpc.reset_warmstart()\n",
    "            params['belief_free'] = 1.0\n",
    "            params['belief_point'] = 0.0 \n",
    "            mpc.solve(params)\n",
    "\n",
    "            params['belief_free'] = 0.0\n",
    "            params['belief_point'] = 1.0\n",
    "            params['q'] = q0+0.05*np.random.randn(7) # perturb initial state\n",
    "            params['dq'] = dq0+0.1*np.random.randn(7) # perturb initial state\n",
    "            tic = time.perf_counter()\n",
    "            #if n_iter > 0: mpc.icem_warmstart(params, num_iter=n_iter)\n",
    "            cost, _ = mpc.solve(params)\n",
    "            times.append(time.perf_counter()-tic)\n",
    "            costs.append(np.squeeze(cost.full()))\n",
    "        times_mean.append(np.mean(times))\n",
    "        times_std.append(np.std(times))\n",
    "        cost_mean.append(np.mean(costs))\n",
    "        cost_std.append(np.std(costs))\n",
    "    return times_mean, times_std, cost_mean, cost_std\n",
    "\n",
    "def plot_benchmark(pars, times_mean, times_std, cost_mean, cost_std, par_name = \"\"):\n",
    "    plt.plot(pars, cost_mean, label='CEM', marker='o')\n",
    "    mu = np.array(cost_mean)\n",
    "    sig = np.array(cost_std)\n",
    "    plt.fill_between(pars, mu-sig, mu+sig, alpha=0.5)\n",
    "\n",
    "    plt.legend()\n",
    "    plt.xlim(0,pars[-1])\n",
    "    plt.xlabel(par_name)\n",
    "    plt.ylabel('Total cost')\n",
    "\n",
    "    plt.figure()\n",
    "    plt.plot(pars, times_mean, marker='o')\n",
    "    mu = np.array(times_mean)\n",
    "    sig = np.array(times_std)\n",
    "    plt.fill_between(pars, mu-sig, mu+sig, alpha=0.5)\n",
    "    plt.xlim(0,pars[-1])\n",
    "    plt.xlabel(par_name)\n",
    "    plt.ylabel('Solve time')\n",
    "                            "
   ]
  },
  {
   "cell_type": "code",
   "execution_count": 19,
   "id": "4af9b730",
   "metadata": {
    "scrolled": true
   },
   "outputs": [
    {
     "ename": "ValueError",
     "evalue": "x and y must have same first dimension, but have shapes (8,) and (5,)",
     "output_type": "error",
     "traceback": [
      "\u001b[0;31m---------------------------------------------------------------------------\u001b[0m",
      "\u001b[0;31mValueError\u001b[0m                                Traceback (most recent call last)",
      "Input \u001b[0;32mIn [19]\u001b[0m, in \u001b[0;36m<cell line: 7>\u001b[0;34m()\u001b[0m\n\u001b[1;32m      5\u001b[0m new_mpc_params \u001b[38;5;241m=\u001b[39m [{\u001b[38;5;124m'\u001b[39m\u001b[38;5;124mnum_warmstart\u001b[39m\u001b[38;5;124m'\u001b[39m:i} \u001b[38;5;28;01mfor\u001b[39;00m i \u001b[38;5;129;01min\u001b[39;00m iters]\n\u001b[1;32m      6\u001b[0m \u001b[38;5;66;03m#res = benchmark(new_mpc_params,new_contact_params)\u001b[39;00m\n\u001b[0;32m----> 7\u001b[0m \u001b[43mplot_benchmark\u001b[49m\u001b[43m(\u001b[49m\u001b[43miters\u001b[49m\u001b[43m,\u001b[49m\u001b[43m \u001b[49m\u001b[38;5;241;43m*\u001b[39;49m\u001b[43mres\u001b[49m\u001b[43m,\u001b[49m\u001b[43m \u001b[49m\u001b[43mpar_name\u001b[49m\u001b[43m \u001b[49m\u001b[38;5;241;43m=\u001b[39;49m\u001b[43m \u001b[49m\u001b[38;5;124;43m\"\u001b[39;49m\u001b[38;5;124;43mCEM warmstart iterations\u001b[39;49m\u001b[38;5;124;43m\"\u001b[39;49m\u001b[43m)\u001b[49m\n",
      "Input \u001b[0;32mIn [18]\u001b[0m, in \u001b[0;36mplot_benchmark\u001b[0;34m(pars, times_mean, times_std, cost_mean, cost_std, par_name)\u001b[0m\n\u001b[1;32m     36\u001b[0m \u001b[38;5;28;01mdef\u001b[39;00m \u001b[38;5;21mplot_benchmark\u001b[39m(pars, times_mean, times_std, cost_mean, cost_std, par_name \u001b[38;5;241m=\u001b[39m \u001b[38;5;124m\"\u001b[39m\u001b[38;5;124m\"\u001b[39m):\n\u001b[0;32m---> 37\u001b[0m     \u001b[43mplt\u001b[49m\u001b[38;5;241;43m.\u001b[39;49m\u001b[43mplot\u001b[49m\u001b[43m(\u001b[49m\u001b[43mpars\u001b[49m\u001b[43m,\u001b[49m\u001b[43m \u001b[49m\u001b[43mcost_mean\u001b[49m\u001b[43m,\u001b[49m\u001b[43m \u001b[49m\u001b[43mlabel\u001b[49m\u001b[38;5;241;43m=\u001b[39;49m\u001b[38;5;124;43m'\u001b[39;49m\u001b[38;5;124;43mCEM\u001b[39;49m\u001b[38;5;124;43m'\u001b[39;49m\u001b[43m,\u001b[49m\u001b[43m \u001b[49m\u001b[43mmarker\u001b[49m\u001b[38;5;241;43m=\u001b[39;49m\u001b[38;5;124;43m'\u001b[39;49m\u001b[38;5;124;43mo\u001b[39;49m\u001b[38;5;124;43m'\u001b[39;49m\u001b[43m)\u001b[49m\n\u001b[1;32m     38\u001b[0m     mu \u001b[38;5;241m=\u001b[39m np\u001b[38;5;241m.\u001b[39marray(cost_mean)\n\u001b[1;32m     39\u001b[0m     sig \u001b[38;5;241m=\u001b[39m np\u001b[38;5;241m.\u001b[39marray(cost_std)\n",
      "File \u001b[0;32m~/.local/lib/python3.8/site-packages/matplotlib/pyplot.py:2767\u001b[0m, in \u001b[0;36mplot\u001b[0;34m(scalex, scaley, data, *args, **kwargs)\u001b[0m\n\u001b[1;32m   2765\u001b[0m \u001b[38;5;129m@_copy_docstring_and_deprecators\u001b[39m(Axes\u001b[38;5;241m.\u001b[39mplot)\n\u001b[1;32m   2766\u001b[0m \u001b[38;5;28;01mdef\u001b[39;00m \u001b[38;5;21mplot\u001b[39m(\u001b[38;5;241m*\u001b[39margs, scalex\u001b[38;5;241m=\u001b[39m\u001b[38;5;28;01mTrue\u001b[39;00m, scaley\u001b[38;5;241m=\u001b[39m\u001b[38;5;28;01mTrue\u001b[39;00m, data\u001b[38;5;241m=\u001b[39m\u001b[38;5;28;01mNone\u001b[39;00m, \u001b[38;5;241m*\u001b[39m\u001b[38;5;241m*\u001b[39mkwargs):\n\u001b[0;32m-> 2767\u001b[0m     \u001b[38;5;28;01mreturn\u001b[39;00m \u001b[43mgca\u001b[49m\u001b[43m(\u001b[49m\u001b[43m)\u001b[49m\u001b[38;5;241;43m.\u001b[39;49m\u001b[43mplot\u001b[49m\u001b[43m(\u001b[49m\n\u001b[1;32m   2768\u001b[0m \u001b[43m        \u001b[49m\u001b[38;5;241;43m*\u001b[39;49m\u001b[43margs\u001b[49m\u001b[43m,\u001b[49m\u001b[43m \u001b[49m\u001b[43mscalex\u001b[49m\u001b[38;5;241;43m=\u001b[39;49m\u001b[43mscalex\u001b[49m\u001b[43m,\u001b[49m\u001b[43m \u001b[49m\u001b[43mscaley\u001b[49m\u001b[38;5;241;43m=\u001b[39;49m\u001b[43mscaley\u001b[49m\u001b[43m,\u001b[49m\n\u001b[1;32m   2769\u001b[0m \u001b[43m        \u001b[49m\u001b[38;5;241;43m*\u001b[39;49m\u001b[38;5;241;43m*\u001b[39;49m\u001b[43m(\u001b[49m\u001b[43m{\u001b[49m\u001b[38;5;124;43m\"\u001b[39;49m\u001b[38;5;124;43mdata\u001b[39;49m\u001b[38;5;124;43m\"\u001b[39;49m\u001b[43m:\u001b[49m\u001b[43m \u001b[49m\u001b[43mdata\u001b[49m\u001b[43m}\u001b[49m\u001b[43m \u001b[49m\u001b[38;5;28;43;01mif\u001b[39;49;00m\u001b[43m \u001b[49m\u001b[43mdata\u001b[49m\u001b[43m \u001b[49m\u001b[38;5;129;43;01mis\u001b[39;49;00m\u001b[43m \u001b[49m\u001b[38;5;129;43;01mnot\u001b[39;49;00m\u001b[43m \u001b[49m\u001b[38;5;28;43;01mNone\u001b[39;49;00m\u001b[43m \u001b[49m\u001b[38;5;28;43;01melse\u001b[39;49;00m\u001b[43m \u001b[49m\u001b[43m{\u001b[49m\u001b[43m}\u001b[49m\u001b[43m)\u001b[49m\u001b[43m,\u001b[49m\u001b[43m \u001b[49m\u001b[38;5;241;43m*\u001b[39;49m\u001b[38;5;241;43m*\u001b[39;49m\u001b[43mkwargs\u001b[49m\u001b[43m)\u001b[49m\n",
      "File \u001b[0;32m~/.local/lib/python3.8/site-packages/matplotlib/axes/_axes.py:1635\u001b[0m, in \u001b[0;36mAxes.plot\u001b[0;34m(self, scalex, scaley, data, *args, **kwargs)\u001b[0m\n\u001b[1;32m   1393\u001b[0m \u001b[38;5;250m\u001b[39m\u001b[38;5;124;03m\"\"\"\u001b[39;00m\n\u001b[1;32m   1394\u001b[0m \u001b[38;5;124;03mPlot y versus x as lines and/or markers.\u001b[39;00m\n\u001b[1;32m   1395\u001b[0m \n\u001b[0;32m   (...)\u001b[0m\n\u001b[1;32m   1632\u001b[0m \u001b[38;5;124;03m(``'green'``) or hex strings (``'#008000'``).\u001b[39;00m\n\u001b[1;32m   1633\u001b[0m \u001b[38;5;124;03m\"\"\"\u001b[39;00m\n\u001b[1;32m   1634\u001b[0m kwargs \u001b[38;5;241m=\u001b[39m cbook\u001b[38;5;241m.\u001b[39mnormalize_kwargs(kwargs, mlines\u001b[38;5;241m.\u001b[39mLine2D)\n\u001b[0;32m-> 1635\u001b[0m lines \u001b[38;5;241m=\u001b[39m [\u001b[38;5;241m*\u001b[39m\u001b[38;5;28mself\u001b[39m\u001b[38;5;241m.\u001b[39m_get_lines(\u001b[38;5;241m*\u001b[39margs, data\u001b[38;5;241m=\u001b[39mdata, \u001b[38;5;241m*\u001b[39m\u001b[38;5;241m*\u001b[39mkwargs)]\n\u001b[1;32m   1636\u001b[0m \u001b[38;5;28;01mfor\u001b[39;00m line \u001b[38;5;129;01min\u001b[39;00m lines:\n\u001b[1;32m   1637\u001b[0m     \u001b[38;5;28mself\u001b[39m\u001b[38;5;241m.\u001b[39madd_line(line)\n",
      "File \u001b[0;32m~/.local/lib/python3.8/site-packages/matplotlib/axes/_base.py:312\u001b[0m, in \u001b[0;36m_process_plot_var_args.__call__\u001b[0;34m(self, data, *args, **kwargs)\u001b[0m\n\u001b[1;32m    310\u001b[0m     this \u001b[38;5;241m+\u001b[39m\u001b[38;5;241m=\u001b[39m args[\u001b[38;5;241m0\u001b[39m],\n\u001b[1;32m    311\u001b[0m     args \u001b[38;5;241m=\u001b[39m args[\u001b[38;5;241m1\u001b[39m:]\n\u001b[0;32m--> 312\u001b[0m \u001b[38;5;28;01myield from\u001b[39;00m \u001b[38;5;28;43mself\u001b[39;49m\u001b[38;5;241;43m.\u001b[39;49m\u001b[43m_plot_args\u001b[49m\u001b[43m(\u001b[49m\u001b[43mthis\u001b[49m\u001b[43m,\u001b[49m\u001b[43m \u001b[49m\u001b[43mkwargs\u001b[49m\u001b[43m)\u001b[49m\n",
      "File \u001b[0;32m~/.local/lib/python3.8/site-packages/matplotlib/axes/_base.py:498\u001b[0m, in \u001b[0;36m_process_plot_var_args._plot_args\u001b[0;34m(self, tup, kwargs, return_kwargs)\u001b[0m\n\u001b[1;32m    495\u001b[0m     \u001b[38;5;28mself\u001b[39m\u001b[38;5;241m.\u001b[39maxes\u001b[38;5;241m.\u001b[39myaxis\u001b[38;5;241m.\u001b[39mupdate_units(y)\n\u001b[1;32m    497\u001b[0m \u001b[38;5;28;01mif\u001b[39;00m x\u001b[38;5;241m.\u001b[39mshape[\u001b[38;5;241m0\u001b[39m] \u001b[38;5;241m!=\u001b[39m y\u001b[38;5;241m.\u001b[39mshape[\u001b[38;5;241m0\u001b[39m]:\n\u001b[0;32m--> 498\u001b[0m     \u001b[38;5;28;01mraise\u001b[39;00m \u001b[38;5;167;01mValueError\u001b[39;00m(\u001b[38;5;124mf\u001b[39m\u001b[38;5;124m\"\u001b[39m\u001b[38;5;124mx and y must have same first dimension, but \u001b[39m\u001b[38;5;124m\"\u001b[39m\n\u001b[1;32m    499\u001b[0m                      \u001b[38;5;124mf\u001b[39m\u001b[38;5;124m\"\u001b[39m\u001b[38;5;124mhave shapes \u001b[39m\u001b[38;5;132;01m{\u001b[39;00mx\u001b[38;5;241m.\u001b[39mshape\u001b[38;5;132;01m}\u001b[39;00m\u001b[38;5;124m and \u001b[39m\u001b[38;5;132;01m{\u001b[39;00my\u001b[38;5;241m.\u001b[39mshape\u001b[38;5;132;01m}\u001b[39;00m\u001b[38;5;124m\"\u001b[39m)\n\u001b[1;32m    500\u001b[0m \u001b[38;5;28;01mif\u001b[39;00m x\u001b[38;5;241m.\u001b[39mndim \u001b[38;5;241m>\u001b[39m \u001b[38;5;241m2\u001b[39m \u001b[38;5;129;01mor\u001b[39;00m y\u001b[38;5;241m.\u001b[39mndim \u001b[38;5;241m>\u001b[39m \u001b[38;5;241m2\u001b[39m:\n\u001b[1;32m    501\u001b[0m     \u001b[38;5;28;01mraise\u001b[39;00m \u001b[38;5;167;01mValueError\u001b[39;00m(\u001b[38;5;124mf\u001b[39m\u001b[38;5;124m\"\u001b[39m\u001b[38;5;124mx and y can be no greater than 2D, but have \u001b[39m\u001b[38;5;124m\"\u001b[39m\n\u001b[1;32m    502\u001b[0m                      \u001b[38;5;124mf\u001b[39m\u001b[38;5;124m\"\u001b[39m\u001b[38;5;124mshapes \u001b[39m\u001b[38;5;132;01m{\u001b[39;00mx\u001b[38;5;241m.\u001b[39mshape\u001b[38;5;132;01m}\u001b[39;00m\u001b[38;5;124m and \u001b[39m\u001b[38;5;132;01m{\u001b[39;00my\u001b[38;5;241m.\u001b[39mshape\u001b[38;5;132;01m}\u001b[39;00m\u001b[38;5;124m\"\u001b[39m)\n",
      "\u001b[0;31mValueError\u001b[0m: x and y must have same first dimension, but have shapes (8,) and (5,)"
     ]
    },
    {
     "data": {
      "image/png": "[encoded data removed]",
      "text/plain": [
       "<Figure size 432x288 with 1 Axes>"
      ]
     },
     "metadata": {
      "needs_background": "light"
     },
     "output_type": "display_data"
    }
   ],
   "source": [
    "# Benchmark num cem iterations\n",
    "from mpc import MPC\n",
    "iters = [0, 1, 2, 3, 4, 5, 10, 15]\n",
    "new_contact_params = [{}]*len(iters)\n",
    "new_mpc_params = [{'num_warmstart':i} for i in iters]\n",
    "#res = benchmark(new_mpc_params,new_contact_params)\n",
    "plot_benchmark(iters, *res, par_name = \"CEM warmstart iterations\")\n"
   ]
  },
  {
   "cell_type": "code",
   "execution_count": 22,
   "id": "cf9de862",
   "metadata": {},
   "outputs": [
    {
     "data": {
      "image/png": "[encoded data removed]",
      "text/plain": [
       "<Figure size 432x288 with 1 Axes>"
      ]
     },
     "metadata": {
      "needs_background": "light"
     },
     "output_type": "display_data"
    },
    {
     "data": {
      "image/png": "[encoded data removed]",
      "text/plain": [
       "<Figure size 432x288 with 1 Axes>"
      ]
     },
     "metadata": {
      "needs_background": "light"
     },
     "output_type": "display_data"
    }
   ],
   "source": [
    "# Increasing stiffness, seems like at K > 2.5e3, we get relative infeasibility for the MPC and the cem warmstart helps a lot\n",
    "from mpc import MPC\n",
    "stiffs = [1e0, 1e1, 1e2, 1e3, 1e4]\n",
    "new_contact_params = [{'models':{'contact_1':{'stiff':[k, 0, 0]}}} for k in stiffs]\n",
    "new_mpc_params = [{}]*len(stiffs)\n",
    "#res = benchmark(new_mpc_params,new_contact_params)\n",
    "plot_benchmark(stiffs, *res, par_name = \"Env stiffness\")"
   ]
  },
  {
   "cell_type": "code",
   "execution_count": 23,
   "id": "accb6e77",
   "metadata": {},
   "outputs": [
    {
     "name": "stdout",
     "output_type": "stream",
     "text": [
      "testing mpc_params {'H': 5} and contact_params {}\n",
      "{'pos': [0, 0, 0], 'stiff': [7000.0, 0, 0], 'rest': [0.3, 0.18, 0.816]}\n",
      "Adding contact setpoint cost for contact_1/F\n"
     ]
    },
    {
     "name": "stderr",
     "output_type": "stream",
     "text": [
      "CasADi - 2023-09-09 07:03:14 WARNING(\"CasADi was not compiled with WITH_THREAD=ON. Falling back to serial evaluation.\") [.../casadi/core/map.cpp:502]\n",
      "CasADi - 2023-09-09 07:03:14 WARNING(\"CasADi was not compiled with WITH_THREAD=ON. Falling back to serial evaluation.\") [.../casadi/core/map.cpp:502]\n"
     ]
    },
    {
     "name": "stdout",
     "output_type": "stream",
     "text": [
      "testing mpc_params {'H': 10} and contact_params {}\n",
      "{'pos': [0, 0, 0], 'stiff': [7000.0, 0, 0], 'rest': [0.3, 0.18, 0.816]}\n",
      "Adding contact setpoint cost for contact_1/F\n"
     ]
    },
    {
     "name": "stderr",
     "output_type": "stream",
     "text": [
      "CasADi - 2023-09-09 07:03:17 WARNING(\"CasADi was not compiled with WITH_THREAD=ON. Falling back to serial evaluation.\") [.../casadi/core/map.cpp:502]\n",
      "CasADi - 2023-09-09 07:03:17 WARNING(\"CasADi was not compiled with WITH_THREAD=ON. Falling back to serial evaluation.\") [.../casadi/core/map.cpp:502]\n"
     ]
    },
    {
     "name": "stdout",
     "output_type": "stream",
     "text": [
      "testing mpc_params {'H': 15} and contact_params {}\n",
      "{'pos': [0, 0, 0], 'stiff': [7000.0, 0, 0], 'rest': [0.3, 0.18, 0.816]}\n",
      "Adding contact setpoint cost for contact_1/F\n"
     ]
    },
    {
     "name": "stderr",
     "output_type": "stream",
     "text": [
      "CasADi - 2023-09-09 07:03:21 WARNING(\"CasADi was not compiled with WITH_THREAD=ON. Falling back to serial evaluation.\") [.../casadi/core/map.cpp:502]\n",
      "CasADi - 2023-09-09 07:03:21 WARNING(\"CasADi was not compiled with WITH_THREAD=ON. Falling back to serial evaluation.\") [.../casadi/core/map.cpp:502]\n"
     ]
    },
    {
     "name": "stdout",
     "output_type": "stream",
     "text": [
      "testing mpc_params {'H': 20} and contact_params {}\n",
      "{'pos': [0, 0, 0], 'stiff': [7000.0, 0, 0], 'rest': [0.3, 0.18, 0.816]}\n",
      "Adding contact setpoint cost for contact_1/F\n"
     ]
    },
    {
     "name": "stderr",
     "output_type": "stream",
     "text": [
      "CasADi - 2023-09-09 07:03:27 WARNING(\"CasADi was not compiled with WITH_THREAD=ON. Falling back to serial evaluation.\") [.../casadi/core/map.cpp:502]\n",
      "CasADi - 2023-09-09 07:03:27 WARNING(\"CasADi was not compiled with WITH_THREAD=ON. Falling back to serial evaluation.\") [.../casadi/core/map.cpp:502]\n"
     ]
    },
    {
     "name": "stdout",
     "output_type": "stream",
     "text": [
      "testing mpc_params {'H': 25} and contact_params {}\n",
      "{'pos': [0, 0, 0], 'stiff': [7000.0, 0, 0], 'rest': [0.3, 0.18, 0.816]}\n"
     ]
    },
    {
     "name": "stderr",
     "output_type": "stream",
     "text": [
      "CasADi - 2023-09-09 07:03:36 WARNING(\"CasADi was not compiled with WITH_THREAD=ON. Falling back to serial evaluation.\") [.../casadi/core/map.cpp:502]\n",
      "CasADi - 2023-09-09 07:03:36 WARNING(\"CasADi was not compiled with WITH_THREAD=ON. Falling back to serial evaluation.\") [.../casadi/core/map.cpp:502]\n"
     ]
    },
    {
     "name": "stdout",
     "output_type": "stream",
     "text": [
      "Adding contact setpoint cost for contact_1/F\n",
      "testing mpc_params {'H': 30} and contact_params {}\n",
      "{'pos': [0, 0, 0], 'stiff': [7000.0, 0, 0], 'rest': [0.3, 0.18, 0.816]}\n"
     ]
    },
    {
     "name": "stderr",
     "output_type": "stream",
     "text": [
      "CasADi - 2023-09-09 07:03:48 WARNING(\"CasADi was not compiled with WITH_THREAD=ON. Falling back to serial evaluation.\") [.../casadi/core/map.cpp:502]\n",
      "CasADi - 2023-09-09 07:03:48 WARNING(\"CasADi was not compiled with WITH_THREAD=ON. Falling back to serial evaluation.\") [.../casadi/core/map.cpp:502]\n"
     ]
    },
    {
     "name": "stdout",
     "output_type": "stream",
     "text": [
      "Adding contact setpoint cost for contact_1/F\n"
     ]
    },
    {
     "ename": "ValueError",
     "evalue": "x and y must have same first dimension, but have shapes (5,) and (6,)",
     "output_type": "error",
     "traceback": [
      "\u001b[0;31m---------------------------------------------------------------------------\u001b[0m",
      "\u001b[0;31mValueError\u001b[0m                                Traceback (most recent call last)",
      "Input \u001b[0;32mIn [23]\u001b[0m, in \u001b[0;36m<cell line: 7>\u001b[0;34m()\u001b[0m\n\u001b[1;32m      5\u001b[0m new_mpc_params \u001b[38;5;241m=\u001b[39m [{\u001b[38;5;124m\"\u001b[39m\u001b[38;5;124mH\u001b[39m\u001b[38;5;124m\"\u001b[39m:H} \u001b[38;5;28;01mfor\u001b[39;00m H \u001b[38;5;129;01min\u001b[39;00m Hs]\n\u001b[1;32m      6\u001b[0m res \u001b[38;5;241m=\u001b[39m benchmark(new_mpc_params,new_contact_params)\n\u001b[0;32m----> 7\u001b[0m \u001b[43mplot_benchmark\u001b[49m\u001b[43m(\u001b[49m\u001b[43mstiffs\u001b[49m\u001b[43m,\u001b[49m\u001b[43m \u001b[49m\u001b[38;5;241;43m*\u001b[39;49m\u001b[43mres\u001b[49m\u001b[43m,\u001b[49m\u001b[43m \u001b[49m\u001b[43mpar_name\u001b[49m\u001b[43m \u001b[49m\u001b[38;5;241;43m=\u001b[39;49m\u001b[43m \u001b[49m\u001b[38;5;124;43m\"\u001b[39;49m\u001b[38;5;124;43mPlanning horizon\u001b[39;49m\u001b[38;5;124;43m\"\u001b[39;49m\u001b[43m)\u001b[49m\n",
      "Input \u001b[0;32mIn [21]\u001b[0m, in \u001b[0;36mplot_benchmark\u001b[0;34m(pars, times_mean, times_std, cost_mean, cost_std, par_name)\u001b[0m\n\u001b[1;32m     36\u001b[0m \u001b[38;5;28;01mdef\u001b[39;00m \u001b[38;5;21mplot_benchmark\u001b[39m(pars, times_mean, times_std, cost_mean, cost_std, par_name \u001b[38;5;241m=\u001b[39m \u001b[38;5;124m\"\u001b[39m\u001b[38;5;124m\"\u001b[39m):\n\u001b[0;32m---> 37\u001b[0m     \u001b[43mplt\u001b[49m\u001b[38;5;241;43m.\u001b[39;49m\u001b[43mplot\u001b[49m\u001b[43m(\u001b[49m\u001b[43mpars\u001b[49m\u001b[43m,\u001b[49m\u001b[43m \u001b[49m\u001b[43mcost_mean\u001b[49m\u001b[43m,\u001b[49m\u001b[43m \u001b[49m\u001b[43mlabel\u001b[49m\u001b[38;5;241;43m=\u001b[39;49m\u001b[38;5;124;43m'\u001b[39;49m\u001b[38;5;124;43mCEM\u001b[39;49m\u001b[38;5;124;43m'\u001b[39;49m\u001b[43m,\u001b[49m\u001b[43m \u001b[49m\u001b[43mmarker\u001b[49m\u001b[38;5;241;43m=\u001b[39;49m\u001b[38;5;124;43m'\u001b[39;49m\u001b[38;5;124;43mo\u001b[39;49m\u001b[38;5;124;43m'\u001b[39;49m\u001b[43m)\u001b[49m\n\u001b[1;32m     38\u001b[0m     mu \u001b[38;5;241m=\u001b[39m np\u001b[38;5;241m.\u001b[39marray(cost_mean)\n\u001b[1;32m     39\u001b[0m     sig \u001b[38;5;241m=\u001b[39m np\u001b[38;5;241m.\u001b[39marray(cost_std)\n",
      "File \u001b[0;32m~/.local/lib/python3.8/site-packages/matplotlib/pyplot.py:2767\u001b[0m, in \u001b[0;36mplot\u001b[0;34m(scalex, scaley, data, *args, **kwargs)\u001b[0m\n\u001b[1;32m   2765\u001b[0m \u001b[38;5;129m@_copy_docstring_and_deprecators\u001b[39m(Axes\u001b[38;5;241m.\u001b[39mplot)\n\u001b[1;32m   2766\u001b[0m \u001b[38;5;28;01mdef\u001b[39;00m \u001b[38;5;21mplot\u001b[39m(\u001b[38;5;241m*\u001b[39margs, scalex\u001b[38;5;241m=\u001b[39m\u001b[38;5;28;01mTrue\u001b[39;00m, scaley\u001b[38;5;241m=\u001b[39m\u001b[38;5;28;01mTrue\u001b[39;00m, data\u001b[38;5;241m=\u001b[39m\u001b[38;5;28;01mNone\u001b[39;00m, \u001b[38;5;241m*\u001b[39m\u001b[38;5;241m*\u001b[39mkwargs):\n\u001b[0;32m-> 2767\u001b[0m     \u001b[38;5;28;01mreturn\u001b[39;00m \u001b[43mgca\u001b[49m\u001b[43m(\u001b[49m\u001b[43m)\u001b[49m\u001b[38;5;241;43m.\u001b[39;49m\u001b[43mplot\u001b[49m\u001b[43m(\u001b[49m\n\u001b[1;32m   2768\u001b[0m \u001b[43m        \u001b[49m\u001b[38;5;241;43m*\u001b[39;49m\u001b[43margs\u001b[49m\u001b[43m,\u001b[49m\u001b[43m \u001b[49m\u001b[43mscalex\u001b[49m\u001b[38;5;241;43m=\u001b[39;49m\u001b[43mscalex\u001b[49m\u001b[43m,\u001b[49m\u001b[43m \u001b[49m\u001b[43mscaley\u001b[49m\u001b[38;5;241;43m=\u001b[39;49m\u001b[43mscaley\u001b[49m\u001b[43m,\u001b[49m\n\u001b[1;32m   2769\u001b[0m \u001b[43m        \u001b[49m\u001b[38;5;241;43m*\u001b[39;49m\u001b[38;5;241;43m*\u001b[39;49m\u001b[43m(\u001b[49m\u001b[43m{\u001b[49m\u001b[38;5;124;43m\"\u001b[39;49m\u001b[38;5;124;43mdata\u001b[39;49m\u001b[38;5;124;43m\"\u001b[39;49m\u001b[43m:\u001b[49m\u001b[43m \u001b[49m\u001b[43mdata\u001b[49m\u001b[43m}\u001b[49m\u001b[43m \u001b[49m\u001b[38;5;28;43;01mif\u001b[39;49;00m\u001b[43m \u001b[49m\u001b[43mdata\u001b[49m\u001b[43m \u001b[49m\u001b[38;5;129;43;01mis\u001b[39;49;00m\u001b[43m \u001b[49m\u001b[38;5;129;43;01mnot\u001b[39;49;00m\u001b[43m \u001b[49m\u001b[38;5;28;43;01mNone\u001b[39;49;00m\u001b[43m \u001b[49m\u001b[38;5;28;43;01melse\u001b[39;49;00m\u001b[43m \u001b[49m\u001b[43m{\u001b[49m\u001b[43m}\u001b[49m\u001b[43m)\u001b[49m\u001b[43m,\u001b[49m\u001b[43m \u001b[49m\u001b[38;5;241;43m*\u001b[39;49m\u001b[38;5;241;43m*\u001b[39;49m\u001b[43mkwargs\u001b[49m\u001b[43m)\u001b[49m\n",
      "File \u001b[0;32m~/.local/lib/python3.8/site-packages/matplotlib/axes/_axes.py:1635\u001b[0m, in \u001b[0;36mAxes.plot\u001b[0;34m(self, scalex, scaley, data, *args, **kwargs)\u001b[0m\n\u001b[1;32m   1393\u001b[0m \u001b[38;5;250m\u001b[39m\u001b[38;5;124;03m\"\"\"\u001b[39;00m\n\u001b[1;32m   1394\u001b[0m \u001b[38;5;124;03mPlot y versus x as lines and/or markers.\u001b[39;00m\n\u001b[1;32m   1395\u001b[0m \n\u001b[0;32m   (...)\u001b[0m\n\u001b[1;32m   1632\u001b[0m \u001b[38;5;124;03m(``'green'``) or hex strings (``'#008000'``).\u001b[39;00m\n\u001b[1;32m   1633\u001b[0m \u001b[38;5;124;03m\"\"\"\u001b[39;00m\n\u001b[1;32m   1634\u001b[0m kwargs \u001b[38;5;241m=\u001b[39m cbook\u001b[38;5;241m.\u001b[39mnormalize_kwargs(kwargs, mlines\u001b[38;5;241m.\u001b[39mLine2D)\n\u001b[0;32m-> 1635\u001b[0m lines \u001b[38;5;241m=\u001b[39m [\u001b[38;5;241m*\u001b[39m\u001b[38;5;28mself\u001b[39m\u001b[38;5;241m.\u001b[39m_get_lines(\u001b[38;5;241m*\u001b[39margs, data\u001b[38;5;241m=\u001b[39mdata, \u001b[38;5;241m*\u001b[39m\u001b[38;5;241m*\u001b[39mkwargs)]\n\u001b[1;32m   1636\u001b[0m \u001b[38;5;28;01mfor\u001b[39;00m line \u001b[38;5;129;01min\u001b[39;00m lines:\n\u001b[1;32m   1637\u001b[0m     \u001b[38;5;28mself\u001b[39m\u001b[38;5;241m.\u001b[39madd_line(line)\n",
      "File \u001b[0;32m~/.local/lib/python3.8/site-packages/matplotlib/axes/_base.py:312\u001b[0m, in \u001b[0;36m_process_plot_var_args.__call__\u001b[0;34m(self, data, *args, **kwargs)\u001b[0m\n\u001b[1;32m    310\u001b[0m     this \u001b[38;5;241m+\u001b[39m\u001b[38;5;241m=\u001b[39m args[\u001b[38;5;241m0\u001b[39m],\n\u001b[1;32m    311\u001b[0m     args \u001b[38;5;241m=\u001b[39m args[\u001b[38;5;241m1\u001b[39m:]\n\u001b[0;32m--> 312\u001b[0m \u001b[38;5;28;01myield from\u001b[39;00m \u001b[38;5;28;43mself\u001b[39;49m\u001b[38;5;241;43m.\u001b[39;49m\u001b[43m_plot_args\u001b[49m\u001b[43m(\u001b[49m\u001b[43mthis\u001b[49m\u001b[43m,\u001b[49m\u001b[43m \u001b[49m\u001b[43mkwargs\u001b[49m\u001b[43m)\u001b[49m\n",
      "File \u001b[0;32m~/.local/lib/python3.8/site-packages/matplotlib/axes/_base.py:498\u001b[0m, in \u001b[0;36m_process_plot_var_args._plot_args\u001b[0;34m(self, tup, kwargs, return_kwargs)\u001b[0m\n\u001b[1;32m    495\u001b[0m     \u001b[38;5;28mself\u001b[39m\u001b[38;5;241m.\u001b[39maxes\u001b[38;5;241m.\u001b[39myaxis\u001b[38;5;241m.\u001b[39mupdate_units(y)\n\u001b[1;32m    497\u001b[0m \u001b[38;5;28;01mif\u001b[39;00m x\u001b[38;5;241m.\u001b[39mshape[\u001b[38;5;241m0\u001b[39m] \u001b[38;5;241m!=\u001b[39m y\u001b[38;5;241m.\u001b[39mshape[\u001b[38;5;241m0\u001b[39m]:\n\u001b[0;32m--> 498\u001b[0m     \u001b[38;5;28;01mraise\u001b[39;00m \u001b[38;5;167;01mValueError\u001b[39;00m(\u001b[38;5;124mf\u001b[39m\u001b[38;5;124m\"\u001b[39m\u001b[38;5;124mx and y must have same first dimension, but \u001b[39m\u001b[38;5;124m\"\u001b[39m\n\u001b[1;32m    499\u001b[0m                      \u001b[38;5;124mf\u001b[39m\u001b[38;5;124m\"\u001b[39m\u001b[38;5;124mhave shapes \u001b[39m\u001b[38;5;132;01m{\u001b[39;00mx\u001b[38;5;241m.\u001b[39mshape\u001b[38;5;132;01m}\u001b[39;00m\u001b[38;5;124m and \u001b[39m\u001b[38;5;132;01m{\u001b[39;00my\u001b[38;5;241m.\u001b[39mshape\u001b[38;5;132;01m}\u001b[39;00m\u001b[38;5;124m\"\u001b[39m)\n\u001b[1;32m    500\u001b[0m \u001b[38;5;28;01mif\u001b[39;00m x\u001b[38;5;241m.\u001b[39mndim \u001b[38;5;241m>\u001b[39m \u001b[38;5;241m2\u001b[39m \u001b[38;5;129;01mor\u001b[39;00m y\u001b[38;5;241m.\u001b[39mndim \u001b[38;5;241m>\u001b[39m \u001b[38;5;241m2\u001b[39m:\n\u001b[1;32m    501\u001b[0m     \u001b[38;5;28;01mraise\u001b[39;00m \u001b[38;5;167;01mValueError\u001b[39;00m(\u001b[38;5;124mf\u001b[39m\u001b[38;5;124m\"\u001b[39m\u001b[38;5;124mx and y can be no greater than 2D, but have \u001b[39m\u001b[38;5;124m\"\u001b[39m\n\u001b[1;32m    502\u001b[0m                      \u001b[38;5;124mf\u001b[39m\u001b[38;5;124m\"\u001b[39m\u001b[38;5;124mshapes \u001b[39m\u001b[38;5;132;01m{\u001b[39;00mx\u001b[38;5;241m.\u001b[39mshape\u001b[38;5;132;01m}\u001b[39;00m\u001b[38;5;124m and \u001b[39m\u001b[38;5;132;01m{\u001b[39;00my\u001b[38;5;241m.\u001b[39mshape\u001b[38;5;132;01m}\u001b[39;00m\u001b[38;5;124m\"\u001b[39m)\n",
      "\u001b[0;31mValueError\u001b[0m: x and y must have same first dimension, but have shapes (5,) and (6,)"
     ]
    },
    {
     "data": {
      "image/png": "[encoded data removed]",
      "text/plain": [
       "<Figure size 432x288 with 1 Axes>"
      ]
     },
     "metadata": {
      "needs_background": "light"
     },
     "output_type": "display_data"
    }
   ],
   "source": [
    "# Increasing planning horizon\n",
    "from mpc import MPC\n",
    "Hs = [5, 10, 15, 20, 25, 30]\n",
    "new_contact_params = [{}]*len(Hs)\n",
    "new_mpc_params = [{\"H\":H} for H in Hs]\n",
    "res = benchmark(new_mpc_params,new_contact_params)\n",
    "plot_benchmark(stiffs, *res, par_name = \"Planning horizon\")"
   ]
  },
  {
   "cell_type": "code",
   "execution_count": 88,
   "id": "b3df137b",
   "metadata": {},
   "outputs": [
    {
     "name": "stdout",
     "output_type": "stream",
     "text": [
      "Adding contact setpoint cost for contact_1/F\n"
     ]
    }
   ],
   "source": [
    "# Switched model, also does well \n",
    "from helper_fns import *\n",
    "mpc, params = spawn_mpc(switched=True, print_level=0)\n",
    "params['belief_free'] = 1.0\n",
    "mpc.solve(params)\n",
    "iters = [0, 1, 2, 3, 4, 5, 10, 15, 20]\n",
    "N = 15\n",
    "q0 = params['q']\n",
    "dq0 = params['dq']\n",
    "mpc.solve(params)\n",
    "iter_times_mean = []\n",
    "iter_times_std = []\n",
    "iter_cost_mean = []\n",
    "iter_cost_std = []\n",
    "for n_iter in iters:\n",
    "    times = []\n",
    "    costs = []\n",
    "    for _ in range(N):\n",
    "        mpc.reset_warmstart()\n",
    "        params['belief_free'] = 1.0\n",
    "        params['belief_point'] = 0.0 \n",
    "        params['q'] = q0+0.005*np.random.randn(7) # perturb initial state\n",
    "        params['dq'] = dq0+0.01*np.random.randn(7) # perturb initial state\n",
    "        tic = time.perf_counter()\n",
    "        if n_iter > 0: mpc.icem_warmstart(params, num_iter=n_iter)\n",
    "        cost, res = mpc.solve(params)\n",
    "        times.append(time.perf_counter()-tic)\n",
    "        costs.append(np.squeeze(cost.full()))\n",
    "    iter_times_mean.append(np.mean(times))\n",
    "    iter_times_std.append(np.std(times))\n",
    "    iter_cost_mean.append(np.mean(costs))\n",
    "    iter_cost_std.append(np.std(costs))\n"
   ]
  },
  {
   "cell_type": "code",
   "execution_count": 102,
   "id": "479bc54b",
   "metadata": {},
   "outputs": [
    {
     "name": "stdout",
     "output_type": "stream",
     "text": [
      "Adding contact setpoint cost for contact_1/F\n"
     ]
    },
    {
     "name": "stderr",
     "output_type": "stream",
     "text": [
      "CasADi - 2023-09-07 21:29:02 WARNING(\"CasADi was not compiled with WITH_THREAD=ON. Falling back to serial evaluation.\") [.../casadi/core/map.cpp:502]\n"
     ]
    },
    {
     "name": "stdout",
     "output_type": "stream",
     "text": [
      "20.465\n",
      "[[-0.56553435  0.31301846  0.37015334  0.30772008  0.27702104  0.2741198\n",
      "   0.27665652  0.27750004  0.27684159  0.27566388  0.27436803  0.27303908\n",
      "   0.27170003  0.27037408  0.2690688   0.26773789  0.26629906  0.26498185\n",
      "   0.26520586  0.26905327]\n",
      " [ 0.00655171  0.13971608  0.14201433  0.12209851  0.11246998  0.10968645\n",
      "   0.10745301  0.10428898  0.10069046  0.09718475  0.09400041  0.09121107\n",
      "   0.08884263  0.08690335  0.08538613  0.08426919  0.08353722  0.0832554\n",
      "   0.08362288  0.08447244]\n",
      " [ 1.21939736  0.78882123  0.77133291  0.80177455  0.81530804  0.81651141\n",
      "   0.81569567  0.8158173   0.81665521  0.81774797  0.81892497  0.82015681\n",
      "   0.82143989  0.82277007  0.8241469   0.82557677  0.82703698  0.82832478\n",
      "   0.82883252  0.82796716]]\n",
      "[[0.         0.         0.         8.72899094 7.10970778 5.41217905\n",
      "  5.03226052 5.10217628 5.16698335 5.17030297 5.14688904 5.11744383\n",
      "  5.0867932  5.05497275 5.02144382 4.98803542 4.9672802  4.98527263\n",
      "  5.01344395 4.73362917]\n",
      " [0.         0.         0.         0.         0.         0.\n",
      "  0.         0.         0.         0.         0.         0.\n",
      "  0.         0.         0.         0.         0.         0.\n",
      "  0.         0.        ]\n",
      " [0.         0.         0.         0.         0.         0.\n",
      "  0.         0.         0.         0.         0.         0.\n",
      "  0.         0.         0.         0.         0.         0.\n",
      "  0.         0.        ]]\n"
     ]
    }
   ],
   "source": [
    "mpc, params = spawn_mpc(switched=True, print_level=0)\n",
    "params['belief_free'] = 1.0\n",
    "cost, res = mpc.solve(params)\n",
    "traj = mpc.robots['free'].get_ext_state(res)\n",
    "print(cost)\n",
    "print(traj['imp_rest'])\n",
    "print(traj['F_ext'])"
   ]
  },
  {
   "cell_type": "markdown",
   "id": "968b063c",
   "metadata": {},
   "source": []
  },
  {
   "cell_type": "code",
   "execution_count": null,
   "id": "941a70be",
   "metadata": {},
   "outputs": [],
   "source": []
  }
 ],
 "metadata": {
  "kernelspec": {
   "display_name": "Python 3 (ipykernel)",
   "language": "python",
   "name": "python3"
  },
  "language_info": {
   "codemirror_mode": {
    "name": "ipython",
    "version": 3
   },
   "file_extension": ".py",
   "mimetype": "text/x-python",
   "name": "python",
   "nbconvert_exporter": "python",
   "pygments_lexer": "ipython3",
   "version": "3.8.10"
  }
 },
 "nbformat": 4,
 "nbformat_minor": 5
}
