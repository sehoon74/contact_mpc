{
 "cells": [
  {
   "cell_type": "code",
   "execution_count": 1,
   "id": "07ae385c",
   "metadata": {},
   "outputs": [],
   "source": [
    "%load_ext autoreload\n",
    "%autoreload 2\n",
    "\n",
    "import matplotlib.pyplot as plt\n",
    "plt.rcParams['figure.dpi'] = 400\n",
    "plt.rcParams['axes.grid'] = True\n",
    "plt.rcParams['image.aspect'] = 0.8\n",
    "\n",
    "import numpy as np\n",
    "import casadi as ca\n",
    "import time\n",
    "from helper_fns import yaml_load\n",
    "\n",
    "nlpopts = { \"print_time\":True,      # Prints the time for evaluating objective, calculating gradients, etc\n",
    "            \"ipopt.print_level\":0,   # Integer from 0 to 5, 5 printing the most information\n",
    "            \"ipopt.tol\":1.0e-5,\n",
    "            \"ipopt.acceptable_constr_viol_tol\":2.0e-04,\n",
    "            \"ipopt.warm_start_init_point\":\"yes\",\n",
    "            \"ipopt.warm_start_bound_frac\":1.0e-09,\n",
    "            \"ipopt.warm_start_bound_push\":1.0e-09,\n",
    "          }\n",
    "\n",
    "def timed_exec(fn, *args):\n",
    "    start = time.time()\n",
    "    res = fn(*args)\n",
    "    elapsed = time.time() - start\n",
    "    return elapsed, *res\n",
    "\n",
    "results = {} # value is tuple of solve time, cost"
   ]
  },
  {
   "cell_type": "code",
   "execution_count": 9,
   "id": "f3f12a46",
   "metadata": {},
   "outputs": [
    {
     "name": "stdout",
     "output_type": "stream",
     "text": [
      "dict_keys(['free/q', 'free/dq', 'M_inv', 'imp_stiff', 'imp_rest'])\n",
      "dict_keys(['point/q', 'point/dq', 'M_inv', 'imp_stiff', 'imp_rest'])\n",
      "(DM([0.303464, 0.181424, 0.81216]), DM(\n",
      "[[0.538923, -0.0407249, -0.84137], \n",
      " [0.774634, 0.416345, 0.476024], \n",
      " [0.330914, -0.908294, 0.255925]]))\n"
     ]
    },
    {
     "data": {
      "text/plain": [
       "DM([-17.3224, 0, 0])"
      ]
     },
     "execution_count": 9,
     "metadata": {},
     "output_type": "execute_result"
    }
   ],
   "source": [
    "from helper_fns import spawn_models\n",
    "mpc_params = yaml_load('config/mpc_params.yaml')\n",
    "ipopt_options = yaml_load('config/ipopt_options.yaml')\n",
    "\n",
    "_, robots, contacts = spawn_models(robot_path = \"config/franka.yaml\",\n",
    "                                   attr_path  = \"config/attrs.yaml\", \n",
    "                                   contact_path = \"config/contact_test.yaml\",\n",
    "                                   sym_vars = [])\n",
    "robots['point'].fwd_kin(np.ones(7))\n",
    "print(robots['point'].fwd_kin(1.01*np.ones(7)))\n",
    "\n",
    "robots['point'].get_F_ext(1.01*np.ones(7), np.zeros(7))"
   ]
  },
  {
   "cell_type": "code",
   "execution_count": 13,
   "id": "7623edcb",
   "metadata": {
    "scrolled": true
   },
   "outputs": [
    {
     "name": "stdout",
     "output_type": "stream",
     "text": [
      "dict_keys(['free/q', 'free/dq', 'M_inv', 'imp_stiff', 'imp_rest'])\n"
     ]
    },
    {
     "ename": "KeyError",
     "evalue": "'free/M_inv'",
     "output_type": "error",
     "traceback": [
      "\u001b[0;31m---------------------------------------------------------------------------\u001b[0m",
      "\u001b[0;31mKeyError\u001b[0m                                  Traceback (most recent call last)",
      "Input \u001b[0;32mIn [13]\u001b[0m, in \u001b[0;36m<cell line: 15>\u001b[0;34m()\u001b[0m\n\u001b[1;32m     10\u001b[0m ipopt_options[\u001b[38;5;124m'\u001b[39m\u001b[38;5;124mprint_time\u001b[39m\u001b[38;5;124m'\u001b[39m] \u001b[38;5;241m=\u001b[39m \u001b[38;5;28;01mTrue\u001b[39;00m\n\u001b[1;32m     11\u001b[0m ipopt_options[\u001b[38;5;124m'\u001b[39m\u001b[38;5;124mipopt.print_level\u001b[39m\u001b[38;5;124m'\u001b[39m] \u001b[38;5;241m=\u001b[39m \u001b[38;5;241m5\u001b[39m\n\u001b[0;32m---> 15\u001b[0m mpc \u001b[38;5;241m=\u001b[39m \u001b[43mMPC\u001b[49m\u001b[43m(\u001b[49m\u001b[43mrobots\u001b[49m\u001b[43m,\u001b[49m\u001b[43m \u001b[49m\u001b[43mmpc_params\u001b[49m\u001b[38;5;241;43m=\u001b[39;49m\u001b[43mmpc_params\u001b[49m\u001b[43m,\u001b[49m\u001b[43m \u001b[49m\u001b[43mipopt_options\u001b[49m\u001b[38;5;241;43m=\u001b[39;49m\u001b[43mipopt_options\u001b[49m\u001b[43m)\u001b[49m\n\u001b[1;32m     16\u001b[0m params \u001b[38;5;241m=\u001b[39m {\u001b[38;5;124m'\u001b[39m\u001b[38;5;124mq\u001b[39m\u001b[38;5;124m'\u001b[39m: q0,\n\u001b[1;32m     17\u001b[0m           \u001b[38;5;124m'\u001b[39m\u001b[38;5;124mdq\u001b[39m\u001b[38;5;124m'\u001b[39m: dq0,\n\u001b[1;32m     18\u001b[0m           \u001b[38;5;124m'\u001b[39m\u001b[38;5;124mbelief_free\u001b[39m\u001b[38;5;124m'\u001b[39m:\u001b[38;5;241m1.0\u001b[39m,\n\u001b[1;32m     19\u001b[0m           \u001b[38;5;124m'\u001b[39m\u001b[38;5;124mbelief_point\u001b[39m\u001b[38;5;124m'\u001b[39m:\u001b[38;5;241m0.0\u001b[39m,\n\u001b[1;32m     20\u001b[0m           \u001b[38;5;124m'\u001b[39m\u001b[38;5;124mimp_stiff\u001b[39m\u001b[38;5;124m'\u001b[39m:\u001b[38;5;241m400\u001b[39m\u001b[38;5;241m*\u001b[39mca\u001b[38;5;241m.\u001b[39mDM\u001b[38;5;241m.\u001b[39mones(\u001b[38;5;241m3\u001b[39m),}\n\u001b[1;32m     22\u001b[0m t_mpc_free_cold, cost, res \u001b[38;5;241m=\u001b[39m timed_exec(mpc\u001b[38;5;241m.\u001b[39msolve, params)\n",
      "File \u001b[0;32m~/mpc-contact/mpc.py:16\u001b[0m, in \u001b[0;36mMPC.__init__\u001b[0;34m(self, robots, mpc_params, ipopt_options, icem)\u001b[0m\n\u001b[1;32m     14\u001b[0m \u001b[38;5;28;01mfor\u001b[39;00m r \u001b[38;5;129;01min\u001b[39;00m robots\u001b[38;5;241m.\u001b[39mvalues():\n\u001b[1;32m     15\u001b[0m     cost_fn \u001b[38;5;241m=\u001b[39m \u001b[38;5;28mself\u001b[39m\u001b[38;5;241m.\u001b[39mbuild_cost_fn(r, mpc_params)\n\u001b[0;32m---> 16\u001b[0m     \u001b[43mr\u001b[49m\u001b[38;5;241;43m.\u001b[39;49m\u001b[43mbuild_step\u001b[49m\u001b[43m(\u001b[49m\u001b[43mstep_size\u001b[49m\u001b[43m \u001b[49m\u001b[38;5;241;43m=\u001b[39;49m\u001b[43m \u001b[49m\u001b[43mmpc_params\u001b[49m\u001b[43m[\u001b[49m\u001b[38;5;124;43m'\u001b[39;49m\u001b[38;5;124;43mdt\u001b[39;49m\u001b[38;5;124;43m'\u001b[39;49m\u001b[43m]\u001b[49m\u001b[43m,\u001b[49m\u001b[43m \u001b[49m\u001b[43mcost_fn\u001b[49m\u001b[43m \u001b[49m\u001b[38;5;241;43m=\u001b[39;49m\u001b[43m \u001b[49m\u001b[43mcost_fn\u001b[49m\u001b[43m)\u001b[49m\n\u001b[1;32m     18\u001b[0m \u001b[38;5;28mself\u001b[39m\u001b[38;5;241m.\u001b[39mH  \u001b[38;5;241m=\u001b[39m mpc_params[\u001b[38;5;124m'\u001b[39m\u001b[38;5;124mH\u001b[39m\u001b[38;5;124m'\u001b[39m]   \u001b[38;5;66;03m# number of mpc steps\u001b[39;00m\n\u001b[1;32m     19\u001b[0m \u001b[38;5;28mself\u001b[39m\u001b[38;5;241m.\u001b[39mnu \u001b[38;5;241m=\u001b[39m robots[\u001b[38;5;124m'\u001b[39m\u001b[38;5;124mfree\u001b[39m\u001b[38;5;124m'\u001b[39m]\u001b[38;5;241m.\u001b[39mnu\n",
      "File \u001b[0;32m~/mpc-contact/robot.py:131\u001b[0m, in \u001b[0;36mRobot.build_step\u001b[0;34m(self, step_size, cost_fn)\u001b[0m\n\u001b[1;32m    128\u001b[0m cost \u001b[38;5;241m=\u001b[39m cost_fn\u001b[38;5;241m.\u001b[39mcall(inp_args)[\u001b[38;5;124m'\u001b[39m\u001b[38;5;124mcost\u001b[39m\u001b[38;5;124m'\u001b[39m] \u001b[38;5;28;01mif\u001b[39;00m cost_fn \u001b[38;5;28;01melse\u001b[39;00m \u001b[38;5;241m0\u001b[39m          \u001b[38;5;66;03m# Cost for the current step\u001b[39;00m\n\u001b[1;32m    130\u001b[0m \u001b[38;5;66;03m# Joint acceleration, then integrate\u001b[39;00m\n\u001b[0;32m--> 131\u001b[0m ddq \u001b[38;5;241m=\u001b[39m \u001b[43minp_args\u001b[49m\u001b[43m[\u001b[49m\u001b[38;5;124;43m'\u001b[39;49m\u001b[38;5;124;43mM_inv\u001b[39;49m\u001b[38;5;124;43m'\u001b[39;49m\u001b[43m]\u001b[49m\u001b[38;5;241m@\u001b[39m(\u001b[38;5;241m-\u001b[39m\u001b[38;5;28mself\u001b[39m\u001b[38;5;241m.\u001b[39mvisc_fric\u001b[38;5;129m@dq\u001b[39m \u001b[38;5;241m+\u001b[39m \u001b[38;5;28mself\u001b[39m\u001b[38;5;241m.\u001b[39mtau_ext \u001b[38;5;241m+\u001b[39m \u001b[38;5;28mself\u001b[39m\u001b[38;5;241m.\u001b[39m_input[\u001b[38;5;124m'\u001b[39m\u001b[38;5;124mtau_input\u001b[39m\u001b[38;5;124m'\u001b[39m])\n\u001b[1;32m    132\u001b[0m dq_next \u001b[38;5;241m=\u001b[39m dq \u001b[38;5;241m+\u001b[39m step_size\u001b[38;5;241m*\u001b[39mddq\n\u001b[1;32m    133\u001b[0m q_next \u001b[38;5;241m=\u001b[39m q \u001b[38;5;241m+\u001b[39m step_size\u001b[38;5;241m*\u001b[39mdq_next\n",
      "File \u001b[0;32m~/mpc-contact/decision_vars.py:163\u001b[0m, in \u001b[0;36mNamedDict.__getitem__\u001b[0;34m(self, k)\u001b[0m\n\u001b[1;32m    162\u001b[0m \u001b[38;5;28;01mdef\u001b[39;00m \u001b[38;5;21m__getitem__\u001b[39m(\u001b[38;5;28mself\u001b[39m, k):\n\u001b[0;32m--> 163\u001b[0m     \u001b[38;5;28;01mreturn\u001b[39;00m \u001b[38;5;28;43msuper\u001b[39;49m\u001b[43m(\u001b[49m\u001b[43m)\u001b[49m\u001b[38;5;241;43m.\u001b[39;49m\u001b[38;5;21;43m__getitem__\u001b[39;49m\u001b[43m(\u001b[49m\u001b[38;5;28;43mself\u001b[39;49m\u001b[38;5;241;43m.\u001b[39;49m\u001b[43mname\u001b[49m\u001b[38;5;241;43m+\u001b[39;49m\u001b[43mk\u001b[49m\u001b[43m)\u001b[49m\n",
      "\u001b[0;31mKeyError\u001b[0m: 'free/M_inv'"
     ]
    }
   ],
   "source": [
    "# MPC only, i.e. without iCEM warmstart\n",
    "from mpc import MPC\n",
    "from helper_fns import mult_shoot_rollout\n",
    "from robot import *\n",
    "\n",
    "ipopt_options = yaml_load('config/ipopt_options.yaml')\n",
    "\n",
    "q0 = np.ones(7)\n",
    "dq0 = np.zeros(7)\n",
    "ipopt_options['print_time'] = True\n",
    "ipopt_options['ipopt.print_level'] = 5\n",
    "\n",
    "\n",
    "\n",
    "mpc = MPC(robots, mpc_params=mpc_params, ipopt_options=ipopt_options)\n",
    "params = {'q': q0,\n",
    "          'dq': dq0,\n",
    "          'belief_free':1.0,\n",
    "          'belief_point':0.0,\n",
    "          'imp_stiff':400*ca.DM.ones(3),}\n",
    "\n",
    "t_mpc_free_cold, cost, res = timed_exec(mpc.solve, params)\n",
    "t_mpc_free_warm, cost, res = timed_exec(mpc.solve, params)\n",
    "\n",
    "params['belief_free'] = 0.0\n",
    "params['belief_point'] = 1.0\n",
    "\n",
    "t_mpc_point, cost2, res2 = timed_exec(mpc.solve, params)\n",
    "\n",
    "print(f\"Free space cold {t_mpc_free_cold}, Free space warm {t_mpc_free_warm}, Point: {t_mpc_point}, Cost: {cost2}\")\n",
    "res['imp_stiff'] = params['imp_stiff']\n",
    "#traj = robots['free'].get_ext_state(res)\n",
    "#print(cost)\n",
    "#print(traj['imp_rest'])"
   ]
  },
  {
   "cell_type": "code",
   "execution_count": 55,
   "id": "186db9c2",
   "metadata": {},
   "outputs": [
    {
     "name": "stdout",
     "output_type": "stream",
     "text": [
      "Free space 0.05937027931213379, Point: 0.0517270565032959, Cost: 1.10515\n"
     ]
    }
   ],
   "source": [
    "# iCEM-only result\n",
    "mpc_params['num_iter'] = 10\n",
    "mpc.icem_init(mpc_params)\n",
    "xi0 = np.hstack((q0, dq0))\n",
    "time_cem_free, cost, best_u, best_xi = timed_exec(mpc.icem_warmstart, xi0, mpc_params, robots['free'])\n",
    "time_cem_point, cost, best_u, best_xi = timed_exec(mpc.icem_warmstart, xi0, mpc_params, robots['point'])\n",
    "print(f\"Free space {time_cem_free}, Point: {time_cem_point}, Cost: {cost}\")\n"
   ]
  },
  {
   "cell_type": "code",
   "execution_count": null,
   "id": "b4bb739e",
   "metadata": {},
   "outputs": [],
   "source": []
  },
  {
   "cell_type": "code",
   "execution_count": 12,
   "id": "cdbbd396",
   "metadata": {},
   "outputs": [
    {
     "data": {
      "text/plain": [
       "<matplotlib.legend.Legend at 0x7fe765e47790>"
      ]
     },
     "execution_count": 12,
     "metadata": {},
     "output_type": "execute_result"
    },
    {
     "data": {
      "image/png": "[encoded data removed]",
      "text/plain": [
       "<Figure size 432x288 with 1 Axes>"
      ]
     },
     "metadata": {
      "needs_background": "light"
     },
     "output_type": "display_data"
    }
   ],
   "source": [
    "import matplotlib.pyplot as plt\n",
    "import numpy as np\n",
    "\n",
    "p = np.squeeze(np.array(traj['p'].T))\n",
    "plt.plot(p, label=['x', 'y', 'z'])\n",
    "plt.legend()"
   ]
  }
 ],
 "metadata": {
  "kernelspec": {
   "display_name": "Python 3 (ipykernel)",
   "language": "python",
   "name": "python3"
  },
  "language_info": {
   "codemirror_mode": {
    "name": "ipython",
    "version": 3
   },
   "file_extension": ".py",
   "mimetype": "text/x-python",
   "name": "python",
   "nbconvert_exporter": "python",
   "pygments_lexer": "ipython3",
   "version": "3.8.10"
  }
 },
 "nbformat": 4,
 "nbformat_minor": 5
}
