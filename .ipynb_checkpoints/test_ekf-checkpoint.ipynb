{
 "cells": [
  {
   "cell_type": "code",
   "execution_count": 21,
   "id": "431b35e9",
   "metadata": {},
   "outputs": [
    {
     "name": "stdout",
     "output_type": "stream",
     "text": [
      "The autoreload extension is already loaded. To reload it, use:\n",
      "  %reload_ext autoreload\n"
     ]
    }
   ],
   "source": [
    "%load_ext autoreload\n",
    "%autoreload 2\n",
    "\n",
    "import numpy as np\n",
    "import casadi as ca"
   ]
  },
  {
   "cell_type": "code",
   "execution_count": 59,
   "id": "51dc562a",
   "metadata": {},
   "outputs": [
    {
     "name": "stdout",
     "output_type": "stream",
     "text": [
      "Building robot model from config/franka.urdf with TCP fr3_link8\n",
      "Building robot model from config/franka.urdf with TCP fr3_link8\n",
      "  with subsys ['contact_1']\n",
      "Building robot model from config/franka.urdf with TCP fr3_link8\n",
      "  with subsys ['contact_1', 'contact_2']\n"
     ]
    },
    {
     "ename": "KeyError",
     "evalue": "'contact_1'",
     "output_type": "error",
     "traceback": [
      "\u001b[0;31m---------------------------------------------------------------------------\u001b[0m",
      "\u001b[0;31mKeyError\u001b[0m                                  Traceback (most recent call last)",
      "Input \u001b[0;32mIn [59]\u001b[0m, in \u001b[0;36m<cell line: 3>\u001b[0;34m()\u001b[0m\n\u001b[1;32m      1\u001b[0m \u001b[38;5;28;01mfrom\u001b[39;00m \u001b[38;5;21;01mhelper_fns\u001b[39;00m \u001b[38;5;28;01mimport\u001b[39;00m spawn_models\n\u001b[1;32m      2\u001b[0m models \u001b[38;5;241m=\u001b[39m spawn_models(\u001b[38;5;124m'\u001b[39m\u001b[38;5;124mconfig/franka.yaml\u001b[39m\u001b[38;5;124m'\u001b[39m, \u001b[38;5;124m'\u001b[39m\u001b[38;5;124mconfig/attrs.yaml\u001b[39m\u001b[38;5;124m'\u001b[39m, \u001b[38;5;124m'\u001b[39m\u001b[38;5;124mconfig/contact.yaml\u001b[39m\u001b[38;5;124m'\u001b[39m, sym_vars \u001b[38;5;241m=\u001b[39m [\u001b[38;5;124m'\u001b[39m\u001b[38;5;124mpos\u001b[39m\u001b[38;5;124m'\u001b[39m])\n\u001b[0;32m----> 3\u001b[0m rob \u001b[38;5;241m=\u001b[39m \u001b[43mmodels\u001b[49m\u001b[43m[\u001b[49m\u001b[38;5;124;43m'\u001b[39;49m\u001b[38;5;124;43mcontact_1\u001b[39;49m\u001b[38;5;124;43m'\u001b[39;49m\u001b[43m]\u001b[49m\n",
      "\u001b[0;31mKeyError\u001b[0m: 'contact_1'"
     ]
    }
   ],
   "source": [
    "from helper_fns import spawn_models\n",
    "models = spawn_models('config/franka.yaml', 'config/attrs.yaml', 'config/contact.yaml', sym_vars = ['pos'])\n"
   ]
  },
  {
   "cell_type": "code",
   "execution_count": 58,
   "id": "b4d8f2f1",
   "metadata": {},
   "outputs": [
    {
     "name": "stdout",
     "output_type": "stream",
     "text": [
      "\n",
      "[[9.99999e-06, -1.47442e-13, 3.67527e-13, -6.69631e-15, 1.82045e-13, 4.3788e-15, -2.83346e-14, 2.41683e-05, -1.46911e-06, 3.67281e-06, -6.67298e-08, 1.81916e-06, 4.37303e-08, -2.83099e-07], \n",
      " [-1.46909e-13, 1e-05, -1.39371e-13, -1.90689e-12, -1.22753e-13, -7.65695e-15, 4.42586e-15, -1.46911e-06, 6.75225e-05, -1.39478e-06, -1.91105e-05, -1.23057e-06, -7.65053e-08, 4.42774e-08], \n",
      " [3.67381e-13, -1.39584e-13, 9.99999e-06, 4.27092e-14, 1.33175e-13, 4.28628e-15, -2.6507e-14, 3.67281e-06, -1.39478e-06, 2.05941e-05, 4.27249e-07, 1.33239e-06, 4.28686e-08, -2.65186e-07], \n",
      " [-7.01411e-15, -1.90958e-12, 4.26808e-14, 9.99999e-06, 6.22936e-14, -1.43598e-14, -4.08631e-15, -6.67298e-08, -1.91105e-05, 4.27249e-07, 3.20676e-05, 6.23198e-07, -1.43798e-07, -4.08617e-08], \n",
      " [1.81906e-13, -1.22185e-13, 1.33136e-13, 6.19025e-14, 9.99999e-06, 3.82467e-15, -2.78387e-14, 1.81916e-06, -1.23057e-06, 1.33239e-06, 6.23198e-07, 1.88382e-05, 3.82935e-08, -2.78609e-07], \n",
      " [4.37995e-15, -7.67737e-15, 4.28985e-15, -1.43676e-14, 3.82969e-15, 9.99999e-06, -3.5151e-15, 4.37303e-08, -7.65053e-08, 4.28686e-08, -1.43798e-07, 3.82935e-08, 1.87612e-05, -3.51372e-08], \n",
      " [-2.83063e-14, 4.43117e-15, -2.65229e-14, -4.08751e-15, -2.78494e-14, -3.51274e-15, 9.99999e-06, -2.83099e-07, 4.42774e-08, -2.65186e-07, -4.08617e-08, -2.78609e-07, -3.51372e-08, 1.74328e-05], \n",
      " [2.41683e-05, -1.46911e-06, 3.67281e-06, -6.67298e-08, 1.81916e-06, 4.37303e-08, -2.83099e-07, 10241.7, -14.6912, 36.7281, -0.667299, 18.1916, 0.437303, -2.831], \n",
      " [-1.46911e-06, 6.75225e-05, -1.39478e-06, -1.91105e-05, -1.23057e-06, -7.65053e-08, 4.42774e-08, -14.6912, 10675.2, -13.9478, -191.105, -12.3058, -0.765054, 0.442775], \n",
      " [3.67281e-06, -1.39478e-06, 2.05941e-05, 4.27249e-07, 1.33239e-06, 4.28686e-08, -2.65186e-07, 36.7281, -13.9478, 10205.9, 4.2725, 13.3239, 0.428687, -2.65187], \n",
      " [-6.67298e-08, -1.91105e-05, 4.27249e-07, 3.20676e-05, 6.23198e-07, -1.43798e-07, -4.08617e-08, -0.667299, -191.105, 4.2725, 10320.7, 6.232, -1.43798, -0.408618], \n",
      " [1.81916e-06, -1.23057e-06, 1.33239e-06, 6.23198e-07, 1.88382e-05, 3.82935e-08, -2.78609e-07, 18.1916, -12.3058, 13.3239, 6.232, 10188.4, 0.382936, -2.7861], \n",
      " [4.37303e-08, -7.65053e-08, 4.28686e-08, -1.43798e-07, 3.82935e-08, 1.87612e-05, -3.51372e-08, 0.437303, -0.765054, 0.428687, -1.43798, 0.382936, 10187.6, -0.351372], \n",
      " [-2.83099e-07, 4.42774e-08, -2.65186e-07, -4.08617e-08, -2.78609e-07, -3.51372e-08, 1.74328e-05, -2.831, 0.442775, -2.65187, -0.408618, -2.7861, -0.351372, 10174.3]]\n"
     ]
    }
   ],
   "source": [
    "from observer import EKF\n",
    "rob.build_disc_dyn(0.1)\n",
    "A, C, n, y = rob.linearized(np.zeros(14), np.zeros(7), rob.inv_mass_fn(np.zeros(7)))\n",
    "ekf = EKF(rob)\n",
    "for _ in range(100):\n",
    "    ekf.step(0.1*np.ones(7), np.zeros(7))"
   ]
  },
  {
   "cell_type": "code",
   "execution_count": null,
   "id": "a6b42fa2",
   "metadata": {},
   "outputs": [],
   "source": []
  },
  {
   "cell_type": "code",
   "execution_count": null,
   "id": "2ad0d3e9",
   "metadata": {},
   "outputs": [],
   "source": []
  }
 ],
 "metadata": {
  "kernelspec": {
   "display_name": "Python 3 (ipykernel)",
   "language": "python",
   "name": "python3"
  },
  "language_info": {
   "codemirror_mode": {
    "name": "ipython",
    "version": 3
   },
   "file_extension": ".py",
   "mimetype": "text/x-python",
   "name": "python",
   "nbconvert_exporter": "python",
   "pygments_lexer": "ipython3",
   "version": "3.8.10"
  }
 },
 "nbformat": 4,
 "nbformat_minor": 5
}
