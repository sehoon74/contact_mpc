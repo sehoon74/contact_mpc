{
 "cells": [
  {
   "cell_type": "code",
   "execution_count": 1,
   "id": "75cb9159",
   "metadata": {},
   "outputs": [],
   "source": [
    "# Imports, sane defaults\n",
    "import time\n",
    "import casadi as ca\n",
    "import numpy as np\n",
    "import matplotlib.pyplot as plt\n",
    "from robot import Robot\n",
    "\n",
    "%load_ext autoreload\n",
    "%autoreload 2\n",
    "\n",
    "plt.rcParams['figure.dpi'] = 400\n",
    "plt.rcParams['axes.grid'] = True\n",
    "plt.rcParams['image.aspect'] = 0.8\n",
    "\n",
    "nlpopts = { \"print_time\":False,      # Prints the time for evaluating objective, calculating gradients, etc\n",
    "            \"ipopt.print_level\":0,   # Integer from 0 to 5, 5 printing the most information\n",
    "            \"ipopt.tol\":1.0e-5,\n",
    "            \"ipopt.acceptable_constr_viol_tol\":2.0e-04,\n",
    "            \"ipopt.warm_start_init_point\":\"yes\",\n",
    "            \"ipopt.warm_start_bound_frac\":1.0e-09,\n",
    "            \"ipopt.warm_start_bound_push\":1.0e-09,\n",
    "          }"
   ]
  },
  {
   "cell_type": "markdown",
   "id": "96eff901",
   "metadata": {},
   "source": [
    "# Symbolic variables, expressions, and functions\n",
    "\n",
    "A *symbolic variable* is either `ca.SX.sym` or `ca.MX.sym`[1], which does not have a numerical value, it is simply a placeholder used to define expressions and functions.  It serves to track the operations in the functions so they can be later differentiated and numerically evaluated.\n",
    "\n",
    "A CasADi *expression* is an arbitrary combination of symbolic variables and elementary operations, see [the documentation](https://web.casadi.org/python-api/#module-casadi.casadi). An expression can be differentiated with respect to any of the symbolic variables in it.\n",
    "\n",
    "A CasADi *function* is an object which maps some symbolic variables to an expression [2]. This expression must _only_ depend on the symbolic variables given as input, otherwise you get the error that some variables are 'free'.  A function can be evaluated for numerical or symbolic input [3].\n",
    "\n",
    "[1] `SX` and `MX` are computationally and memory optimized, respectively, and are treated slightly differently in the computational graph. All CasADi native operations are defined over both, but they cannot be mixed in an expression. In my experience, `SX` was more efficient, but depends on problem characteristics.\n",
    "\n",
    "[2] A CasADi function lives in a (C++) virtual machine, and while building it is relatively expensive, evaluation of it or its gradients is rather efficient.\n",
    "\n",
    "[3] Evaluating a function with symbolic input gives a symbolic expression, but a function built with `SX` can be evaluated with `MX` and vice versa. "
   ]
  },
  {
   "cell_type": "code",
   "execution_count": 2,
   "id": "68f2152d",
   "metadata": {},
   "outputs": [
    {
     "name": "stdout",
     "output_type": "stream",
     "text": [
      "Symbolic var: [x_0, x_1, x_2, x_3]\n",
      "Matrix sym var: \n",
      "[[y_0, y_2, y_4, y_6], \n",
      " [y_1, y_3, y_5, y_7]]\n",
      "Expression: [((((y_0*x_0)+(y_2*x_1))+(y_4*x_2))+(y_6*x_3)), ((((y_1*x_0)+(y_3*x_1))+(y_5*x_2))+(y_7*x_3))]\n",
      "Jacobian wrt x shape: (1, 4)\n",
      "Function: fn:(i0[4],i1[2x4])->(o0) SXFunction\n",
      "Function eval: 3.65939\n"
     ]
    }
   ],
   "source": [
    "# Let's make some variables!\n",
    "sym = ca.SX.sym     # shorthand to make switching SX/MX easier\n",
    "x = sym('x', 4)     # arguments are name and dimension\n",
    "print(f\"Symbolic var: {x}\")\n",
    "y = sym('y', 2, 4)  # 2x4 matrix\n",
    "print(f\"Matrix sym var: {y}\")\n",
    "\n",
    "# Let's make an expression\n",
    "z = y@x\n",
    "print(f\"Expression: {z}\")\n",
    "z = ca.cos(z)   # CasADi can map an oversized input, but be careful because sometimes unexpected dimension handling\n",
    "z = ca.exp(z)\n",
    "z = ca.norm_2(z)\n",
    "\n",
    "# Let's differentiate an expression\n",
    "jac_x = ca.jacobian(z, x)  # derivative of 'z' wrt 'x'\n",
    "print(f\"Jacobian wrt x shape: {jac_x.shape}\")\n",
    "\n",
    "# Let's make a function, arguments are (name, [in], [out])\n",
    "fn = ca.Function('fn', [x, y], [z])\n",
    "print(f\"Function: {fn}\")\n",
    "\n",
    "# Let's evaluate a function\n",
    "x_num = [0.1, 0.2, 0.3, 0.4]\n",
    "y_num = ca.DM.zeros(2,4)   # ca.DM is for numerical values, often similar to np arrays\n",
    "y_num[0,1] = 2.3\n",
    "print(f\"Function eval: {fn(x_num,y_num)}\")\n"
   ]
  },
  {
   "cell_type": "code",
   "execution_count": 3,
   "id": "28b2bee6",
   "metadata": {},
   "outputs": [
    {
     "name": "stdout",
     "output_type": "stream",
     "text": [
      "Building robot model from franka.urdf with TCP fr3_link8\n",
      "EE position: [0.12214, 0.0741982, 0.964338]\n",
      "EE orientation: \n",
      "[[0.699467, 0.656947, 0.281365], \n",
      " [0.457473, -0.714054, 0.529948], \n",
      " [0.549058, -0.241963, -0.799993]]\n",
      "Symbolic: [-0.0743203, 0.122066, 00]\n",
      "Numeric:  [-0.0742593, 0.122103, 0]\n"
     ]
    }
   ],
   "source": [
    "# Let's practice with making a jacobian matrix for our robot manipulator\n",
    "\n",
    "robot = Robot('franka.urdf')  # loads a robot model from the .urdf data, which describes inertia and geometry\n",
    "nq = robot.nq                 # number of joints\n",
    "q0 = [0.3, 0.2, 0.5, 0.3, 0.2, 0.5, 0.3]\n",
    "ee_pose = robot.fwd_kin(q0)   # forward kinematics function from joints to end-effector pose\n",
    "print(f\"EE position: {ee_pose[0]}\")\n",
    "print(f\"EE orientation: {ee_pose[1]}\")\n",
    "\n",
    "# TODO Find the Jacobian matrix for the forward dynamics, make a function\n",
    "q_sym = \n",
    "ee_sym = \n",
    "jac_sym = \n",
    "jac_fn = \n",
    "\n",
    "# Check if it makes sense\n",
    "pert = 1e-3\n",
    "ind = 0\n",
    "q_pert = q0\n",
    "q_pert[ind] += pert\n",
    "ee_pose_pert = robot.fwd_kin(q_pert)\n",
    "jac_num = (ee_pose_pert[0]-ee_pose[0])/pert\n",
    "jac = jac_fn(q0)[:,ind]\n",
    "print(f\"Symbolic: {jac}\")\n",
    "print(f\"Numeric:  {jac_num}\")\n",
    "assert all(np.isclose(jac_num, jac, rtol=1e-1, atol = 1e-1)), \"Something terrible happened\"\n",
    "\n",
    "# Note the [.,., 00] for symbolic, which indicates a structural zero from a sparsity pattern\n",
    "# Sparsity is important because it allows more efficient algorithms to be used \n",
    "#  (e.g. inverting a matrix is typically O(N^3), if diagonal O(N))"
   ]
  },
  {
   "cell_type": "markdown",
   "id": "7daf574e",
   "metadata": {},
   "source": [
    "# Optimization problem in CasADi\n",
    "An optimization problem in CasADi is defined by a `dict` consisting of\n",
    "  - `x`: the decision variables, a vector of symbolic variables which will be optimized\n",
    "  - `p`: parameters, a vector of symbolic variables which will _not_ be optimized, but can take different numerical values without re-building the problem. Used for, e.g. current state.\n",
    "  - `f`: objective, a scalar expression over `x` and `p` which will be _minimized_\n",
    "  - `g`: constriaints, a vector expression over `x` and `p` which will be constrained by `lbg < g < ubg`\n",
    "\n",
    "Once defined, the problem can be solved, given a `dict` of numerical info with the following keys:\n",
    "  - `x0`: initial guess for the optimal `x`\n",
    "  - `lbx`: lower bound for `x`\n",
    "  - `ubx`: upper bound for `x`\n",
    "  - `p`: the numerical value of the parameters `p`\n",
    "  - `lbg`: lower bound for constraints `g`\n",
    "  - `ubg`: upper bound for constraints `g`\n",
    "  \n",
    "Tricks:\n",
    "  - When imposing equality constraints, set `lbg` and `ubg` to be `0` for that respective constraint\n",
    "  - When a lower/upper bound is omitted, it's -/+ infinity, respectively. Can also use np.inf to make explicit\n",
    "  - Often an `x0` at `0` can blow up the gradients (e.g. if you have `norm_2(x0)`), you'll see an error like 'can't calculate multipliers'\n",
    "  - You'll see lam_{x0, g0, x, g, p}, these are the lambdas in the Lagrangian to enforce the constraints.  Helpful in warm starts but can ignore at the beginning\n",
    "  \n",
    "Let's practice by helping a lazy robot, who wants the highest speed $\\Vert\\dot{x}\\Vert$ for a joint speed $\\Vert \\dot{q} \\Vert < 1$. We'd like to solve this problem for a range of numerical joint positions $q_1, \\dots$ without rebuilding the optimization problem.  "
   ]
  },
  {
   "cell_type": "code",
   "execution_count": 4,
   "id": "00c24c16",
   "metadata": {
    "scrolled": true
   },
   "outputs": [
    {
     "name": "stdout",
     "output_type": "stream",
     "text": [
      "Built solver:(x0[7],p[7],lbx[7],ubx[7],lbg,ubg,lam_x0[7],lam_g0)->(x[7],f,g,lam_x[7],lam_g,lam_p[7]) IpoptInterface\n",
      "\n",
      "******************************************************************************\n",
      "This program contains Ipopt, a library for large-scale nonlinear optimization.\n",
      " Ipopt is released as open source code under the Eclipse Public License (EPL).\n",
      "         For more information visit http://projects.coin-or.org/Ipopt\n",
      "******************************************************************************\n",
      "\n",
      "This is Ipopt version 3.11.9, running with linear solver mumps.\n",
      "NOTE: Other linear solvers might be more efficient (see Ipopt documentation).\n",
      "\n",
      "Number of nonzeros in equality constraint Jacobian...:        0\n",
      "Number of nonzeros in inequality constraint Jacobian.:        7\n",
      "Number of nonzeros in Lagrangian Hessian.............:       28\n",
      "\n",
      "Total number of variables............................:        7\n",
      "                     variables with only lower bounds:        0\n",
      "                variables with lower and upper bounds:        0\n",
      "                     variables with only upper bounds:        0\n",
      "Total number of equality constraints.................:        0\n",
      "Total number of inequality constraints...............:        1\n",
      "        inequality constraints with only lower bounds:        0\n",
      "   inequality constraints with lower and upper bounds:        0\n",
      "        inequality constraints with only upper bounds:        1\n",
      "\n",
      "iter    objective    inf_pr   inf_du lg(mu)  ||d||  lg(rg) alpha_du alpha_pr  ls\n",
      "   0 -2.4078028e-01 1.65e+00 5.40e-01  -1.0 0.00e+00    -  0.00e+00 0.00e+00   0\n",
      "   1 -6.5910818e-01 2.30e-01 9.65e-01  -1.0 9.59e-01   0.0 1.00e+00 1.00e+00h  1\n",
      "   2 -6.4747124e-01 0.00e+00 2.01e-01  -1.7 2.25e-01    -  1.00e+00 1.00e+00h  1\n",
      "   3 -7.8628305e-01 1.01e-01 6.72e-02  -1.7 3.22e-01    -  1.00e+00 1.00e+00h  1\n",
      "   4 -7.1767806e-01 1.71e-03 6.55e-03  -2.5 9.31e-02    -  1.00e+00 1.00e+00h  1\n",
      "   5 -7.1646768e-01 0.00e+00 8.95e-05  -3.8 7.10e-03    -  1.00e+00 1.00e+00h  1\n",
      "   6 -7.1652883e-01 0.00e+00 1.59e-09  -5.7 2.00e-04    -  1.00e+00 1.00e+00h  1\n",
      "   7 -7.1653065e-01 0.00e+00 2.51e-14  -8.6 2.55e-06    -  1.00e+00 1.00e+00h  1\n",
      "\n",
      "Number of Iterations....: 7\n",
      "\n",
      "                                   (scaled)                 (unscaled)\n",
      "Objective...............:  -7.1653065395838755e-01   -7.1653065395838755e-01\n",
      "Dual infeasibility......:   2.5091040356528538e-14    2.5091040356528538e-14\n",
      "Constraint violation....:   0.0000000000000000e+00    0.0000000000000000e+00\n",
      "Complementarity.........:   2.5058984600158487e-09    2.5058984600158487e-09\n",
      "Overall NLP error.......:   2.5058984600158487e-09    2.5058984600158487e-09\n",
      "\n",
      "\n",
      "Number of objective function evaluations             = 8\n",
      "Number of objective gradient evaluations             = 8\n",
      "Number of equality constraint evaluations            = 0\n",
      "Number of inequality constraint evaluations          = 8\n",
      "Number of equality constraint Jacobian evaluations   = 0\n",
      "Number of inequality constraint Jacobian evaluations = 8\n",
      "Number of Lagrangian Hessian evaluations             = 7\n",
      "Total CPU secs in IPOPT (w/o function evaluations)   =      0.016\n",
      "Total CPU secs in NLP function evaluations           =      0.000\n",
      "\n",
      "EXIT: Optimal Solution Found.\n",
      "      solver  :   t_proc      (avg)   t_wall      (avg)    n_eval\n",
      "       nlp_f  |        0 (       0)  77.50us (  9.69us)         8\n",
      "       nlp_g  |        0 (       0)  27.60us (  3.45us)         8\n",
      "    nlp_grad  |        0 (       0)  27.80us ( 27.80us)         1\n",
      "  nlp_grad_f  |        0 (       0)  85.50us (  9.50us)         9\n",
      "  nlp_hess_l  |        0 (       0)  75.50us ( 10.79us)         7\n",
      "   nlp_jac_g  |        0 (       0)  29.00us (  3.22us)         9\n",
      "       total  |  31.25ms ( 31.25ms)  18.50ms ( 18.50ms)         1\n",
      "Optimal joint velocity of [-0.0338106, 0.899045, -0.0473709, -0.42111, -0.104193, 0.0118962, 2.04151e-15]\n"
     ]
    }
   ],
   "source": [
    "# Building an optimization problem \n",
    "q = ca.SX.sym('q', nq)\n",
    "dq = ca.SX.sym('dq', nq)\n",
    "dx = jac_fn(q)@dq\n",
    "\n",
    "# TODO Fill in the optimization expressions\n",
    "prob = {'x': ,\n",
    "        'p': ,\n",
    "        'f': ,\n",
    "        'g': ,}\n",
    "solver = ca.nlpsol('solver', 'ipopt', prob, {})\n",
    "print(f\"Built {solver}\")\n",
    "\n",
    "# TODO Fill in argument numerical values\n",
    "args = {'x0': ca.DM.ones(nq),\n",
    "        'p': q0,\n",
    "        'ubg': ,}\n",
    "solution = solver(**args)\n",
    "print(f\"Optimal joint velocity of {solution['x']}\")\n"
   ]
  },
  {
   "cell_type": "markdown",
   "id": "d07dafbe",
   "metadata": {},
   "source": [
    "# MPC with multiple shooting\n",
    "\n",
    "A multiple-shooting MPC problem is a type of optimization problem, where we have a decision variable for each state in the trajectory, and enforce the dynamics by constraints. The ingredients this recipe:\n",
    "\n",
    "  - Discrete-time dynamics which give $x^+ = f(x,u)$. This probably means you need to write an integrator.\n",
    "  - In multiple shooting, the dynamics are enforced by creating a variable for the state at each step $x_t$, and enforcing the dynamics as $f(x_t, u_t)-x_{t+1} = 0$ in the constraints.\n",
    "  - A cost function which maps $x,u\\rightarrow \\mathbb{R}$. Your objective function `f` will probably be the sum of this over the time steps.\n",
    "  \n",
    "  \n",
    "## Tricks\n",
    "  - You'll probably want a parameter for initial state $x_0$, because we want to call the MPC from the current system state\n",
    "  - if a function is defined over vector inputs/outputs, you can provide a matrix and it will evaluate the function on each set of column vectors in the matrix, this is useful for evaluating the dynamics over all state trajectory variables at once. \n",
    "  - The inputs to the optimization problem must all be vectors - you'll need to use `ca.reshape()` and probably `ca.vertcat()`\n",
    "  - Warm starts help a lot - setting x0 (and lam_x0, lam_g0) to the result from the previous optimization problem. Shown 2 cells down.\n",
    "  - CasADi allows both JIT and C code generation. They both helped with ~2-3 times speed up when I tried it before\n",
    "  \n",
    "## Example\n",
    "Let's work an example where we are choosing joint torques $\\tau_t$ to move the robot from an initial state `x0` such that the end-effector position approaches `goal`. A small penalty, e.g. `1e-4`, on $\\Vert \\tau \\Vert^2$ may be needed.  For this, the discrete dynamics  "
   ]
  },
  {
   "cell_type": "code",
   "execution_count": 5,
   "id": "c45b8001",
   "metadata": {},
   "outputs": [
    {
     "name": "stdout",
     "output_type": "stream",
     "text": [
      "Build solver solver:(x0[301],p[14],lbx[301],ubx[301],lbg[196],ubg[196],lam_x0[301],lam_g0[196])->(x[301],f,g[196],lam_x[301],lam_g[196],lam_p[14]) IpoptInterface\n"
     ]
    }
   ],
   "source": [
    "from robot import Robot\n",
    "# Build a multiple shooting MPC problem\n",
    "mpc_steps = 15\n",
    "goal = [0.3, 0.3, 0.3]\n",
    "\n",
    "# TODO define the variables for the optimization problem \n",
    "x =   # state trajectory for all mpc steps\n",
    "x0 =  # initial state should be a parameter \n",
    "tau = # input for all mpc steps\n",
    "\n",
    "x_aug = ca.horzcat(x0,x)\n",
    "\n",
    "step = robot.build_disc_dyn(step_size=0.1)\n",
    "x_next = step(x_aug, tau)  # We use the fact that CasADi maps over columns\n",
    "\n",
    "ee_poses =   # Get a symbolic expression for the ee poses to use in the problem \n",
    "\n",
    "# TODO define the variables, parameters, and objective\n",
    "prob = {'x': ,\n",
    "        'p': ,\n",
    "        'f': ,\n",
    "        'g': ca.reshape(x_next[:,:-1]-x,-1,1)}\n",
    "\n",
    "\n",
    "solver = ca.nlpsol('solver', 'ipopt', prob, nlpopts)\n",
    "print(f\"Build solver {solver}\")\n",
    "\n",
    "\n",
    "# TODO add the lbg and ubg\n",
    "args = {'x0': ca.DM.ones(2*nq*(mpc_steps-1)+nq*mpc_steps,1),\n",
    "        'p': ca.vertcat(q0, ca.DM.zeros(nq)),\n",
    "        'lbg': ,\n",
    "        'ubg': }\n",
    "\n",
    "sol = solver(**args)\n",
    "x_traj = ca.reshape(sol['x'][:2*nq*(mpc_steps-1)], 2*nq, mpc_steps-1)\n",
    "tau_traj = ca.reshape(sol['x'][-nq*mpc_steps:], nq, mpc_steps)"
   ]
  },
  {
   "cell_type": "code",
   "execution_count": 6,
   "id": "6db0651a",
   "metadata": {},
   "outputs": [
    {
     "data": {
      "image/png": "[encoded data removed]",
      "text/plain": [
       "<Figure size 432x288 with 3 Axes>"
      ]
     },
     "metadata": {
      "needs_background": "light"
     },
     "output_type": "display_data"
    }
   ],
   "source": [
    "# Plotting the results\n",
    "pos, vel = robot.tcp_motion(x_traj[:nq,:], x_traj[nq:,:])\n",
    "\n",
    "fig = plt.figure()\n",
    "plt.subplot(3,1,1)\n",
    "plt.plot(pos.T)\n",
    "plt.ylabel('Position [m]')\n",
    "plt.xlabel('Timestep')\n",
    "\n",
    "plt.subplot(3,1,2)\n",
    "plt.plot(vel.T)\n",
    "plt.ylabel('Position [m]')\n",
    "plt.xlabel('Timestep')\n",
    "\n",
    "plt.subplot(3,1,3)\n",
    "plt.plot(tau_traj.T)\n",
    "plt.ylabel('Torque [Nm]')\n",
    "plt.xlabel('Timestep')\n",
    "\n",
    "plt.tight_layout()\n",
    "plt.show()"
   ]
  },
  {
   "cell_type": "markdown",
   "id": "6e2a5e89",
   "metadata": {},
   "source": [
    "# Congratulations!\n",
    "Now you could try:\n",
    "- adding constraints on the torque\n",
    "- adding constraints on the cartesian speed\n",
    "- adding mechanical energy costs to the robot"
   ]
  },
  {
   "cell_type": "code",
   "execution_count": 7,
   "id": "41fce0c1",
   "metadata": {},
   "outputs": [
    {
     "name": "stdout",
     "output_type": "stream",
     "text": [
      "Cold start time:  0.1302043999894522 sec\n",
      "Cold start rate:  7.680232005070562 Hz\n",
      "Warm start rate: 20.13084275030837 Hz\n"
     ]
    }
   ],
   "source": [
    "# Calling MPC in a loop\n",
    "N = 100\n",
    "times = []\n",
    "\n",
    "for _ in range(N):\n",
    "    args['p'] += 0.05*np.random.randn(2*nq) # perturb initial state\n",
    "    tic = time.perf_counter()\n",
    "    sol = solver(**args)\n",
    "    times.append(time.perf_counter()-tic)\n",
    "    \n",
    "    # Warmstart\n",
    "    args['x0'] = sol['x']\n",
    "    args['lam_x0'] = sol['lam_x']\n",
    "    args['lam_g0'] = sol['lam_g']\n",
    "    \n",
    "print(f'Cold start time:  {times[0]} sec')\n",
    "print(f'Cold start rate:  {1/times[0]} Hz')\n",
    "print(f'Warm start rate: {1/np.mean(times[1:])} Hz')"
   ]
  },
  {
   "cell_type": "code",
   "execution_count": null,
   "id": "34dbcc43",
   "metadata": {},
   "outputs": [
    {
     "name": "stdout",
     "output_type": "stream",
     "text": [
      "Building robot model from franka.urdf with TCP fr3_link8\n",
      "12.5 µs ± 309 ns per loop (mean ± std. dev. of 7 runs, 100,000 loops each)\n",
      "15.6 µs ± 1.04 µs per loop (mean ± std. dev. of 7 runs, 100,000 loops each)\n",
      "22.5 µs ± 1.74 µs per loop (mean ± std. dev. of 7 runs, 10,000 loops each)\n"
     ]
    }
   ],
   "source": []
  }
 ],
 "metadata": {
  "kernelspec": {
   "display_name": "Python 3 (ipykernel)",
   "language": "python",
   "name": "python3"
  },
  "language_info": {
   "codemirror_mode": {
    "name": "ipython",
    "version": 3
   },
   "file_extension": ".py",
   "mimetype": "text/x-python",
   "name": "python",
   "nbconvert_exporter": "python",
   "pygments_lexer": "ipython3",
   "version": "3.8.10"
  }
 },
 "nbformat": 4,
 "nbformat_minor": 5
}
