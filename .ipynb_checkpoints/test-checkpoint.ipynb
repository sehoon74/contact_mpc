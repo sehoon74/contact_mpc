{
 "cells": [
  {
   "cell_type": "code",
   "execution_count": 1,
   "id": "acd28f30",
   "metadata": {},
   "outputs": [],
   "source": [
    "%load_ext autoreload\n",
    "%autoreload 2\n",
    "\n",
    "import numpy as np\n",
    "import casadi as ca\n",
    "from decision_vars import DecisionVarSet"
   ]
  },
  {
   "cell_type": "code",
   "execution_count": 2,
   "id": "73bc61f6",
   "metadata": {},
   "outputs": [
    {
     "name": "stdout",
     "output_type": "stream",
     "text": [
      "***** Decision Vars *****\n",
      "Attributes: ['sym', 'init', 'lb']\n",
      "Vars: \n",
      "  sneaker/x: [x_0, x_1], shape: (2, 1)\n",
      "\n",
      "[0, 0, -inf]\n",
      "{'sneaker/x': array([0.1, 0.3]), 'x': array(0.5)}\n",
      "{'test': 1, 'x': SX(x)}\n"
     ]
    }
   ],
   "source": [
    "# Test decision vars\n",
    "from decision_vars import DecisionVarSet\n",
    "dvs = DecisionVarSet(attr_names = ['lb'], name = 'sneaker/')\n",
    "dvs.add_vars({'x':[1.0, 2.0]}, lb={'x':[0, 0]})\n",
    "print(dvs)\n",
    "dvs2 = DecisionVarSet(attr_names = ['lb'])\n",
    "dvs2.add_vars(inits={'x':2.0}, lb={'y':3.0})\n",
    "dvs += dvs2\n",
    "print(dvs.vectorize('lb'))\n",
    "d2 = dvs.dictize(np.array([0.1, 0.3, 0.5]))\n",
    "print(d2)\n",
    "d = {'test':1}\n",
    "d.update(dvs2)\n",
    "print(d)"
   ]
  },
  {
   "cell_type": "code",
   "execution_count": 4,
   "id": "74516c7f",
   "metadata": {},
   "outputs": [
    {
     "name": "stdout",
     "output_type": "stream",
     "text": [
      "Building robot model from config/franka.urdf with TCP fr3_link8\n"
     ]
    },
    {
     "ename": "AttributeError",
     "evalue": "'Robot' object has no attribute 'nq'",
     "output_type": "error",
     "traceback": [
      "\u001b[0;31m---------------------------------------------------------------------------\u001b[0m",
      "\u001b[0;31mAttributeError\u001b[0m                            Traceback (most recent call last)",
      "Input \u001b[0;32mIn [4]\u001b[0m, in \u001b[0;36m<cell line: 2>\u001b[0;34m()\u001b[0m\n\u001b[1;32m      1\u001b[0m \u001b[38;5;28;01mfrom\u001b[39;00m \u001b[38;5;21;01mrobot\u001b[39;00m \u001b[38;5;28;01mimport\u001b[39;00m \u001b[38;5;241m*\u001b[39m\n\u001b[0;32m----> 2\u001b[0m rob \u001b[38;5;241m=\u001b[39m \u001b[43mRobot\u001b[49m\u001b[43m(\u001b[49m\u001b[38;5;124;43m'\u001b[39;49m\u001b[38;5;124;43mconfig/franka.urdf\u001b[39;49m\u001b[38;5;124;43m'\u001b[39;49m\u001b[43m)\u001b[49m\n",
      "File \u001b[0;32m~/mpc-intro/robot.py:60\u001b[0m, in \u001b[0;36mRobot.__init__\u001b[0;34m(self, urdf_path, ee_frame_name, attrs, subsys, visc_fric)\u001b[0m\n\u001b[1;32m     57\u001b[0m \u001b[38;5;28mself\u001b[39m\u001b[38;5;241m.\u001b[39m__subsys \u001b[38;5;241m=\u001b[39m subsys  \u001b[38;5;66;03m# subsystems which are coupled to the robot  \u001b[39;00m\n\u001b[1;32m     59\u001b[0m \u001b[38;5;28mself\u001b[39m\u001b[38;5;241m.\u001b[39mq, \u001b[38;5;28mself\u001b[39m\u001b[38;5;241m.\u001b[39mfwd_kin, \u001b[38;5;28mself\u001b[39m\u001b[38;5;241m.\u001b[39mmass_fn \u001b[38;5;241m=\u001b[39m load_urdf(urdf_path, ee_frame_name)\n\u001b[0;32m---> 60\u001b[0m \u001b[38;5;28;43mself\u001b[39;49m\u001b[38;5;241;43m.\u001b[39;49m\u001b[43mbuild_vars\u001b[49m\u001b[43m(\u001b[49m\u001b[43mattrs\u001b[49m\u001b[43m,\u001b[49m\u001b[43m \u001b[49m\u001b[43mvisc_fric\u001b[49m\u001b[43m)\u001b[49m\n\u001b[1;32m     61\u001b[0m \u001b[38;5;28mself\u001b[39m\u001b[38;5;241m.\u001b[39mbuild_fwd_kin(ee_frame_name)\n\u001b[1;32m     62\u001b[0m \u001b[38;5;28mself\u001b[39m\u001b[38;5;241m.\u001b[39madd_subsys()\n",
      "File \u001b[0;32m~/mpc-intro/robot.py:67\u001b[0m, in \u001b[0;36mRobot.build_vars\u001b[0;34m(self, attrs, visc_fric)\u001b[0m\n\u001b[1;32m     65\u001b[0m \u001b[38;5;250m\u001b[39m\u001b[38;5;124;03m\"\"\" Build symbolic variables with attributes \"\"\"\u001b[39;00m\n\u001b[1;32m     66\u001b[0m \u001b[38;5;28mself\u001b[39m\u001b[38;5;241m.\u001b[39m__state \u001b[38;5;241m=\u001b[39m DecisionVarSet(\u001b[38;5;28mlist\u001b[39m(attrs\u001b[38;5;241m.\u001b[39mkeys()))\n\u001b[0;32m---> 67\u001b[0m inits \u001b[38;5;241m=\u001b[39m \u001b[38;5;28mdict\u001b[39m(q\u001b[38;5;241m=\u001b[39mca\u001b[38;5;241m.\u001b[39mDM\u001b[38;5;241m.\u001b[39mzeros(\u001b[38;5;28;43mself\u001b[39;49m\u001b[38;5;241;43m.\u001b[39;49m\u001b[43mnq\u001b[49m), dq\u001b[38;5;241m=\u001b[39mca\u001b[38;5;241m.\u001b[39mDM\u001b[38;5;241m.\u001b[39mzeros(\u001b[38;5;28mself\u001b[39m\u001b[38;5;241m.\u001b[39mnq))\n\u001b[1;32m     68\u001b[0m \u001b[38;5;28mself\u001b[39m\u001b[38;5;241m.\u001b[39m__state\u001b[38;5;241m.\u001b[39madd_vars(inits\u001b[38;5;241m=\u001b[39minits, \u001b[38;5;241m*\u001b[39m\u001b[38;5;241m*\u001b[39mattrs)\n\u001b[1;32m     69\u001b[0m \u001b[38;5;28mself\u001b[39m\u001b[38;5;241m.\u001b[39mvisc_fric \u001b[38;5;241m=\u001b[39m visc_fric\u001b[38;5;241m*\u001b[39mca\u001b[38;5;241m.\u001b[39mDM\u001b[38;5;241m.\u001b[39meye(\u001b[38;5;28mself\u001b[39m\u001b[38;5;241m.\u001b[39mnq)\n",
      "\u001b[0;31mAttributeError\u001b[0m: 'Robot' object has no attribute 'nq'"
     ]
    }
   ],
   "source": [
    "from robot import *\n",
    "rob = Robot('config/franka.urdf')"
   ]
  },
  {
   "cell_type": "code",
   "execution_count": 8,
   "id": "6c557f2c",
   "metadata": {},
   "outputs": [
    {
     "name": "stdout",
     "output_type": "stream",
     "text": [
      "[0, -3, 5]\n",
      "[-0, -0, 0]\n"
     ]
    }
   ],
   "source": [
    "from contact import Contact\n",
    "pars = {'pos': [0, 0, 0],\n",
    "        'stiff': [0, 10, 10],\n",
    "        'rest':[0, 0, 0.0]}\n",
    "c = Contact('friendo', pars)\n",
    "q = ca.SX.sym('q',7)\n",
    "p, R = rob.fwd_kin(q)\n",
    "print(c.get_force({'p':ca.DM([0.5, 0.3, -0.5]), 'R':ca.DM.ones(3)}))\n",
    "\n",
    "c2 = Contact('c2',pars, ['stiff'], {'cov_init':{}, 'proc_noise':{}})\n",
    "print(c2.get_force({'p':ca.DM([0.5, 0.3, -0.5]), \n",
    "                    'R':ca.DM.ones(3), \n",
    "                    'c2/stiff':ca.DM([10, 0, 0])}))"
   ]
  },
  {
   "cell_type": "code",
   "execution_count": 11,
   "id": "79561a44",
   "metadata": {},
   "outputs": [
    {
     "name": "stdout",
     "output_type": "stream",
     "text": [
      "Building robot model from config/franka.urdf with TCP fr3_link8\n",
      "  with subsys ['c1/', 'c2/']\n",
      "42.8 µs ± 1.74 µs per loop (mean ± std. dev. of 7 runs, 10,000 loops each)\n",
      "27.2 µs ± 677 ns per loop (mean ± std. dev. of 7 runs, 10,000 loops each)\n",
      "<class 'NotImplementedError'>\n"
     ]
    },
    {
     "ename": "TypeError",
     "evalue": "'type' object is not subscriptable",
     "output_type": "error",
     "traceback": [
      "\u001b[0;31m---------------------------------------------------------------------------\u001b[0m",
      "\u001b[0;31mTypeError\u001b[0m                                 Traceback (most recent call last)",
      "Input \u001b[0;32mIn [11]\u001b[0m, in \u001b[0;36m<cell line: 33>\u001b[0;34m()\u001b[0m\n\u001b[1;32m     30\u001b[0m \u001b[38;5;28mprint\u001b[39m(res_dict)\n\u001b[1;32m     31\u001b[0m \u001b[38;5;66;03m#print(rob.inv_mass_fn(np.zeros(7)))\u001b[39;00m\n\u001b[0;32m---> 33\u001b[0m \u001b[38;5;28mprint\u001b[39m(\u001b[43mres_dict\u001b[49m\u001b[43m[\u001b[49m\u001b[38;5;124;43m'\u001b[39;49m\u001b[38;5;124;43mc1/F\u001b[39;49m\u001b[38;5;124;43m'\u001b[39;49m\u001b[43m]\u001b[49m)\n\u001b[1;32m     34\u001b[0m \u001b[38;5;28mprint\u001b[39m(res_dict[\u001b[38;5;124m'\u001b[39m\u001b[38;5;124mc2/F\u001b[39m\u001b[38;5;124m'\u001b[39m])\n",
      "\u001b[0;31mTypeError\u001b[0m: 'type' object is not subscriptable"
     ]
    }
   ],
   "source": [
    "# Test convergence\n",
    "from robot import Robot\n",
    "par1 = {'pos': [0, 0, 0.0],\n",
    "        'stiff': [0, 0, 0],\n",
    "        'rest':[0, 0, 0.2]}\n",
    "par2 = {'pos': [0, 0, 0],\n",
    "        'stiff': [0, 100, 0],\n",
    "        'rest': [0, 0.5, 0]}\n",
    "c1 = Contact('c1/', par1, ['stiff'], {'cov_init':{}, 'proc_noise':{}})\n",
    "c2 = Contact('c2/', par2, [], {'cov_init':{}, 'proc_noise':{}})\n",
    "\n",
    "rob = Robot('config/franka.urdf', subsys = [c1, c2])\n",
    "step = rob.build_disc_dyn(0.1)\n",
    "step_core = rob.disc_dyn_core\n",
    "# test that it converges as expected \n",
    "q = np.zeros(7)\n",
    "dq = np.zeros(7)\n",
    "tau = np.zeros(7)\n",
    "state = {'q':q, 'dq':dq, 'tau_input':tau}\n",
    "state['c1/stiff'] = ca.DM([0, 0, 1000])\n",
    "%timeit step(**state)\n",
    "\n",
    "state_core = {k:v for k,v in state.items()}\n",
    "state_core['M_inv'] = rob.inv_mass_fn(state['q'])\n",
    "%timeit step_core(**state)\n",
    "for _ in range(100):\n",
    "    res = step(**state)\n",
    "    state['dq'] = res['dq_next']\n",
    "res_dict = rob.get_statedict(state)\n",
    "print(res_dict)\n",
    "#print(rob.inv_mass_fn(np.zeros(7)))\n",
    "\n",
    "#print(res_dict['c1/F'])\n",
    "#print(res_dict['c2/F'])"
   ]
  },
  {
   "cell_type": "code",
   "execution_count": 22,
   "id": "2f2f8001",
   "metadata": {},
   "outputs": [
    {
     "name": "stdout",
     "output_type": "stream",
     "text": [
      "Building robot model from config/franka.urdf with TCP fr3_link8\n",
      "  with subsys ['contact_1']\n",
      "{'proc_noise': {'q': 10.0, 'dq': 10000.0, 'pos': 10.0, 'stiff': 50000000000.0}, 'cov_init': {'q': 0.1, 'dq': 100000.0, 'pos': 1500000.0, 'stiff': 6000000000000000.0}, 'meas_noise': {'q': 1e-05, 'tau_ext': 10.0}}\n",
      "Building robot model from config/franka.urdf with TCP fr3_link8\n",
      "  with subsys ['contact_1', 'contact_2']\n",
      "{'proc_noise': {'q': 10.0, 'dq': 10000.0, 'pos': 10.0, 'stiff': 50000000000.0}, 'cov_init': {'q': 0.1, 'dq': 100000.0, 'pos': 1500000.0, 'stiff': 6000000000000000.0}, 'meas_noise': {'q': 1e-05, 'tau_ext': 10.0}}\n",
      "disc_dyn:(q[7],dq[7],contact_1pos[3],tau_input[7])->(q_next[7],dq_next[7]) SXFunction\n",
      "plane has step fn of disc_dyn:(q[7],dq[7],contact_1pos[3],tau_input[7])->(q_next[7],dq_next[7]) SXFunction\n",
      " which evals to (DM([0.0712217, 4.59976, 0.0709709, 0.782946, 0.0570601, -7.6991, -0.0040887]), DM([0.712217, 45.9976, 0.709709, 7.82946, 0.570601, -76.991, -0.040887]))\n",
      "disc_dyn:(q[7],dq[7],contact_1pos[3],contact_2pos[3],tau_input[7])->(q_next[7],dq_next[7]) SXFunction\n"
     ]
    },
    {
     "ename": "RuntimeError",
     "evalue": ".../casadi/core/function_internal.hpp:1240: Assertion \"arg.size()==n_in_\" failed:\nIncorrect number of inputs: Expected 5, got 4",
     "output_type": "error",
     "traceback": [
      "\u001b[0;31m---------------------------------------------------------------------------\u001b[0m",
      "\u001b[0;31mRuntimeError\u001b[0m                              Traceback (most recent call last)",
      "Input \u001b[0;32mIn [22]\u001b[0m, in \u001b[0;36m<cell line: 4>\u001b[0;34m()\u001b[0m\n\u001b[1;32m      6\u001b[0m \u001b[38;5;28mprint\u001b[39m(step)\n\u001b[1;32m      7\u001b[0m n_in \u001b[38;5;241m=\u001b[39m step\u001b[38;5;241m.\u001b[39msize_in(\u001b[38;5;241m0\u001b[39m)\n\u001b[0;32m----> 8\u001b[0m res_dict \u001b[38;5;241m=\u001b[39m \u001b[43mstep\u001b[49m\u001b[43m(\u001b[49m\u001b[43mnp\u001b[49m\u001b[38;5;241;43m.\u001b[39;49m\u001b[43mzeros\u001b[49m\u001b[43m(\u001b[49m\u001b[38;5;241;43m7\u001b[39;49m\u001b[43m)\u001b[49m\u001b[43m,\u001b[49m\u001b[43m \u001b[49m\u001b[43mnp\u001b[49m\u001b[38;5;241;43m.\u001b[39;49m\u001b[43mzeros\u001b[49m\u001b[43m(\u001b[49m\u001b[38;5;241;43m7\u001b[39;49m\u001b[43m)\u001b[49m\u001b[43m,\u001b[49m\u001b[43m \u001b[49m\u001b[43mnp\u001b[49m\u001b[38;5;241;43m.\u001b[39;49m\u001b[43mzeros\u001b[49m\u001b[43m(\u001b[49m\u001b[38;5;241;43m3\u001b[39;49m\u001b[43m)\u001b[49m\u001b[43m,\u001b[49m\u001b[43m \u001b[49m\u001b[43mnp\u001b[49m\u001b[38;5;241;43m.\u001b[39;49m\u001b[43mzeros\u001b[49m\u001b[43m(\u001b[49m\u001b[38;5;241;43m7\u001b[39;49m\u001b[43m)\u001b[49m\u001b[43m)\u001b[49m\n\u001b[1;32m      9\u001b[0m \u001b[38;5;28mprint\u001b[39m(\u001b[38;5;124mf\u001b[39m\u001b[38;5;124m\"\u001b[39m\u001b[38;5;132;01m{\u001b[39;00mname\u001b[38;5;132;01m}\u001b[39;00m\u001b[38;5;124m has step fn of \u001b[39m\u001b[38;5;132;01m{\u001b[39;00mstep\u001b[38;5;132;01m}\u001b[39;00m\u001b[38;5;124m\"\u001b[39m)\n\u001b[1;32m     10\u001b[0m \u001b[38;5;28mprint\u001b[39m(\u001b[38;5;124mf\u001b[39m\u001b[38;5;124m\"\u001b[39m\u001b[38;5;124m which evals to \u001b[39m\u001b[38;5;132;01m{\u001b[39;00mres_dict\u001b[38;5;132;01m}\u001b[39;00m\u001b[38;5;124m\"\u001b[39m)\n",
      "File \u001b[0;32m/usr/lib/python3/dist-packages/casadi/casadi.py:8497\u001b[0m, in \u001b[0;36mFunction.__call__\u001b[0;34m(self, *args, **kwargs)\u001b[0m\n\u001b[1;32m   8494\u001b[0m     \u001b[38;5;28;01mraise\u001b[39;00m \u001b[38;5;167;01mSyntaxError\u001b[39;00m(\u001b[38;5;124m'\u001b[39m\u001b[38;5;124mFunction evaluation requires all arguments to be named or none\u001b[39m\u001b[38;5;124m'\u001b[39m)\n\u001b[1;32m   8495\u001b[0m   \u001b[38;5;28;01mif\u001b[39;00m \u001b[38;5;28mlen\u001b[39m(args)\u001b[38;5;241m>\u001b[39m\u001b[38;5;241m0\u001b[39m:\n\u001b[1;32m   8496\u001b[0m \u001b[38;5;66;03m# Ordered inputs -> return tuple\u001b[39;00m\n\u001b[0;32m-> 8497\u001b[0m     ret \u001b[38;5;241m=\u001b[39m \u001b[38;5;28;43mself\u001b[39;49m\u001b[38;5;241;43m.\u001b[39;49m\u001b[43mcall\u001b[49m\u001b[43m(\u001b[49m\u001b[43margs\u001b[49m\u001b[43m)\u001b[49m\n\u001b[1;32m   8498\u001b[0m     \u001b[38;5;28;01mif\u001b[39;00m \u001b[38;5;28mlen\u001b[39m(ret)\u001b[38;5;241m==\u001b[39m\u001b[38;5;241m0\u001b[39m:\n\u001b[1;32m   8499\u001b[0m       \u001b[38;5;28;01mreturn\u001b[39;00m \u001b[38;5;28;01mNone\u001b[39;00m\n",
      "File \u001b[0;32m/usr/lib/python3/dist-packages/casadi/casadi.py:7679\u001b[0m, in \u001b[0;36mFunction.call\u001b[0;34m(self, *args)\u001b[0m\n\u001b[1;32m   7656\u001b[0m \u001b[38;5;28;01mdef\u001b[39;00m \u001b[38;5;21mcall\u001b[39m(\u001b[38;5;28mself\u001b[39m, \u001b[38;5;241m*\u001b[39margs) \u001b[38;5;241m-\u001b[39m\u001b[38;5;241m>\u001b[39m \u001b[38;5;124m\"\u001b[39m\u001b[38;5;124mvoid\u001b[39m\u001b[38;5;124m\"\u001b[39m:\n\u001b[1;32m   7657\u001b[0m \u001b[38;5;250m    \u001b[39m\u001b[38;5;124mr\u001b[39m\u001b[38;5;124;03m\"\"\"\u001b[39;00m\n\u001b[1;32m   7658\u001b[0m \u001b[38;5;124;03m    call(Function self, std::vector< casadi::DM,std::allocator< casadi::DM > > const & arg, bool always_inline=False, bool never_inline=False)\u001b[39;00m\n\u001b[1;32m   7659\u001b[0m \u001b[38;5;124;03m    call(Function self, std::vector< casadi::SX,std::allocator< casadi::SX > > const & arg, bool always_inline=False, bool never_inline=False)\u001b[39;00m\n\u001b[0;32m   (...)\u001b[0m\n\u001b[1;32m   7677\u001b[0m \n\u001b[1;32m   7678\u001b[0m \u001b[38;5;124;03m    \"\"\"\u001b[39;00m\n\u001b[0;32m-> 7679\u001b[0m     \u001b[38;5;28;01mreturn\u001b[39;00m \u001b[43m_casadi\u001b[49m\u001b[38;5;241;43m.\u001b[39;49m\u001b[43mFunction_call\u001b[49m\u001b[43m(\u001b[49m\u001b[38;5;28;43mself\u001b[39;49m\u001b[43m,\u001b[49m\u001b[43m \u001b[49m\u001b[38;5;241;43m*\u001b[39;49m\u001b[43margs\u001b[49m\u001b[43m)\u001b[49m\n",
      "\u001b[0;31mRuntimeError\u001b[0m: .../casadi/core/function_internal.hpp:1240: Assertion \"arg.size()==n_in_\" failed:\nIncorrect number of inputs: Expected 5, got 4"
     ]
    }
   ],
   "source": [
    "# Check that the spawner works\n",
    "from helper_fns import spawn_models\n",
    "models = spawn_models('config/franka.yaml', 'config/attrs.yaml', 'config/contact.yaml', sym_vars = ['pos'])\n",
    "for name, model in models.items():\n",
    "    step = model.build_disc_dyn(step_size=0.1)\n",
    "    print(step)\n",
    "    n_in = step.size_in(0)\n",
    "    res = step(np.zeros(7), np.zeros(7), np.zeros(3), np.zeros(7))\n",
    "    print(f\"{name} has step fn of {step}\")\n",
    "    print(f\"  which evals to {res}\")\n"
   ]
  },
  {
   "cell_type": "code",
   "execution_count": null,
   "id": "9854089f",
   "metadata": {},
   "outputs": [],
   "source": []
  },
  {
   "cell_type": "code",
   "execution_count": 24,
   "id": "69207bfa-9bbf-48bd-a7dd-79f0f28e7b41",
   "metadata": {},
   "outputs": [],
   "source": []
  },
  {
   "cell_type": "code",
   "execution_count": null,
   "id": "3b241fe3-46ef-4f2f-b63e-d2ddc5945c57",
   "metadata": {},
   "outputs": [],
   "source": []
  }
 ],
 "metadata": {
  "kernelspec": {
   "display_name": "Python 3 (ipykernel)",
   "language": "python",
   "name": "python3"
  },
  "language_info": {
   "codemirror_mode": {
    "name": "ipython",
    "version": 3
   },
   "file_extension": ".py",
   "mimetype": "text/x-python",
   "name": "python",
   "nbconvert_exporter": "python",
   "pygments_lexer": "ipython3",
   "version": "3.8.10"
  },
  "name": "test.ipynb"
 },
 "nbformat": 4,
 "nbformat_minor": 5
}
