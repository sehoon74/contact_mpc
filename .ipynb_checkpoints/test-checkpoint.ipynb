{
 "cells": [
  {
   "cell_type": "code",
   "execution_count": 2,
   "id": "acd28f30",
   "metadata": {},
   "outputs": [
    {
     "name": "stdout",
     "output_type": "stream",
     "text": [
      "The autoreload extension is already loaded. To reload it, use:\n",
      "  %reload_ext autoreload\n"
     ]
    }
   ],
   "source": [
    "%load_ext autoreload\n",
    "%autoreload 2\n",
    "import numpy as np\n",
    "import casadi as ca\n",
    "from decision_vars import DecisionVarSet\n"
   ]
  },
  {
   "cell_type": "code",
   "execution_count": 31,
   "id": "73bc61f6",
   "metadata": {},
   "outputs": [
    {
     "name": "stdout",
     "output_type": "stream",
     "text": [
      "***** Decision Vars *****\n",
      "Attributes: ['sym', 'init', 'lb']\n",
      "Vars: \n",
      "  x: [x_0, x_1], shape: (2, 1)\n",
      "\n",
      "[-inf, -inf, 3]\n",
      "{'x': array([0.1, 0.3]), 'y': array(0.5)}\n",
      "{'test': 1, 'y': SX(y)}\n"
     ]
    }
   ],
   "source": [
    "# Test decision vars\n",
    "from decision_vars import DecisionVarSet\n",
    "dvs = DecisionVarSet(attrs = ['lb'])\n",
    "dvs.add_vars({'x':[1.0, 2.0]}, lb={})\n",
    "print(dvs)\n",
    "dvs2 = DecisionVarSet(attrs = ['lb', 'ub'])\n",
    "dvs2.add_vars(inits={'y':2.0}, lb={'y':3.0})\n",
    "dvs += dvs2\n",
    "print(dvs.vectorize('lb'))\n",
    "d2 = dvs.dictize(np.array([0.1, 0.3, 0.5]))\n",
    "print(d2)\n",
    "d = {'test':1}\n",
    "d.update(dvs2)\n",
    "print(d)"
   ]
  },
  {
   "cell_type": "code",
   "execution_count": 11,
   "id": "74516c7f",
   "metadata": {},
   "outputs": [
    {
     "name": "stdout",
     "output_type": "stream",
     "text": [
      "Building robot model from franka.urdf with TCP fr3_link8\n",
      "***** Decision Vars *****\n",
      "Attributes: ['sym', 'init', 'cov', 'noise']\n",
      "Vars: \n",
      "  q: [q_0, q_1, q_2, q_3, q_4, q_5, q_6], shape: (7, 1)\n",
      "  dq: [dq_0, dq_1, dq_2, dq_3, dq_4, dq_5, dq_6], shape: (7, 1)\n",
      "\n"
     ]
    }
   ],
   "source": [
    "from robot import Robot\n",
    "rob = Robot('franka.urdf')"
   ]
  },
  {
   "cell_type": "code",
   "execution_count": 21,
   "id": "6c557f2c",
   "metadata": {},
   "outputs": [
    {
     "name": "stdout",
     "output_type": "stream",
     "text": [
      "[-5, -0, 0]\n"
     ]
    }
   ],
   "source": [
    "from contact import Contact\n",
    "pars = {'pos': [0, 0, 0],\n",
    "        'stiff': [10, 10, 10],\n",
    "        'rest':[0, 0, 0.5]}\n",
    "c = Contact(pars)\n",
    "q = ca.SX.sym('q',7)\n",
    "p, R = rob.fwd_kin(q)\n",
    "c.F_fn(ca.DM([0.5, 0.3, -0.5]), ca.DM.ones(3))\n",
    "\n",
    "c2 = Contact(pars, ['stiff'], {'cov':{}, 'noise':{}})\n",
    "print(c2.F_fn(ca.DM([0.5, 0.3, -0.5]), ca.DM.ones(3), ca.DM([10, 0, 0])))"
   ]
  },
  {
   "cell_type": "code",
   "execution_count": 22,
   "id": "79561a44",
   "metadata": {},
   "outputs": [
    {
     "name": "stdout",
     "output_type": "stream",
     "text": [
      "Building robot model from franka.urdf with TCP fr3_link8\n",
      "  with 1 subsys\n",
      "***** Decision Vars *****\n",
      "Attributes: ['sym', 'init', 'cov', 'noise']\n",
      "Vars: \n",
      "  q: [q_0, q_1, q_2, q_3, q_4, q_5, q_6], shape: (7, 1)\n",
      "  dq: [dq_0, dq_1, dq_2, dq_3, dq_4, dq_5, dq_6], shape: (7, 1)\n",
      "  stiff: [stiff_0, stiff_1, stiff_2], shape: (3, 1)\n",
      "\n"
     ]
    },
    {
     "data": {
      "text/plain": [
       "Function(disc_dyn:(xi[17],tau_input[7])->(xi_next[17]) SXFunction)"
      ]
     },
     "execution_count": 22,
     "metadata": {},
     "output_type": "execute_result"
    }
   ],
   "source": [
    "from robot import Robot\n",
    "from contact import Contact\n",
    "pars = {'pos': [0, 0, 0],\n",
    "        'stiff': [10, 10, 10],\n",
    "        'rest':[0, 0, 0.5]}\n",
    "c2 = Contact(pars, ['stiff'], {'cov':{}, 'noise':{}})\n",
    "rob = Robot('franka.urdf', subsys = [c2])\n",
    "rob.build_disc_dyn(0.1)"
   ]
  },
  {
   "cell_type": "code",
   "execution_count": 66,
   "id": "2f2f8001",
   "metadata": {},
   "outputs": [
    {
     "name": "stdout",
     "output_type": "stream",
     "text": [
      "Building robot model from config/franka.urdf with TCP fr3_link8\n",
      "  with 1 subsys\n",
      "[10, 10, 10, 10, 10, 10, 10, 10000, 10000, 10000, 10000, 10000, 10000, 10000]\n"
     ]
    }
   ],
   "source": [
    "from robot import *\n",
    "models = spawn_models('config/franka.yaml', 'config/attrs.yaml', 'config/contact.yaml', sym_vars = ['pos'])"
   ]
  }
 ],
 "metadata": {
  "kernelspec": {
   "display_name": "Python 3 (ipykernel)",
   "language": "python",
   "name": "python3"
  },
  "language_info": {
   "codemirror_mode": {
    "name": "ipython",
    "version": 3
   },
   "file_extension": ".py",
   "mimetype": "text/x-python",
   "name": "python",
   "nbconvert_exporter": "python",
   "pygments_lexer": "ipython3",
   "version": "3.8.10"
  }
 },
 "nbformat": 4,
 "nbformat_minor": 5
}
