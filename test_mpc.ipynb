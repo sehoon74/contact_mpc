{
 "cells": [
  {
   "cell_type": "code",
   "execution_count": 39,
   "id": "8c2d15a7",
   "metadata": {},
   "outputs": [
    {
     "name": "stdout",
     "output_type": "stream",
     "text": [
      "The autoreload extension is already loaded. To reload it, use:\n",
      "  %reload_ext autoreload\n"
     ]
    }
   ],
   "source": [
    "%load_ext autoreload\n",
    "%autoreload 2\n",
    "\n",
    "import matplotlib.pyplot as plt\n",
    "plt.rcParams['figure.dpi'] = 400\n",
    "plt.rcParams['axes.grid'] = True\n",
    "plt.rcParams['image.aspect'] = 0.8\n",
    "\n",
    "import numpy as np\n",
    "import casadi as ca\n",
    "from helper_fns import yaml_load\n",
    "\n",
    "nlpopts = { \"print_time\":False,      # Prints the time for evaluating objective, calculating gradients, etc\n",
    "            \"ipopt.print_level\":0,   # Integer from 0 to 5, 5 printing the most information\n",
    "            \"ipopt.tol\":1.0e-5,\n",
    "            \"ipopt.acceptable_constr_viol_tol\":2.0e-04,\n",
    "            \"ipopt.warm_start_init_point\":\"yes\",\n",
    "            \"ipopt.warm_start_bound_frac\":1.0e-09,\n",
    "            \"ipopt.warm_start_bound_push\":1.0e-09,\n",
    "          }"
   ]
  },
  {
   "cell_type": "code",
   "execution_count": 40,
   "id": "51ee08a2",
   "metadata": {},
   "outputs": [
    {
     "name": "stdout",
     "output_type": "stream",
     "text": [
      "F:(p[3],R[3x3],dx[3],imp_rest[3],imp_stiff[3])->(F[3]) SXFunction\n",
      "Building robot model from config/franka.urdf with TCP fr3_link8\n",
      "  with subsys ['c/']\n",
      "  Building controller imp_ctrl\n"
     ]
    }
   ],
   "source": [
    "from robot import Robot\n",
    "from contact import Contact\n",
    "from impedance_controller import ImpedanceController\n",
    "from decision_vars import DecisionVarSet\n",
    "par = {'pos': [0, 0, 0.0],\n",
    "       'stiff': [0, 0, 3e4],\n",
    "        'rest':[0, 0, 0.7]}\n",
    "attrs = yaml_load('config/attrs.yaml')\n",
    "attrs = {k:attrs[k] for k in ['lb', 'ub']}\n",
    "c = Contact('c/', par, [], attrs=attrs)\n",
    "imp = ImpedanceController(pars={'imp_stiff':[300, 300, 300], 'imp_rest':[0, 0, 0.5]}, \n",
    "                          input_vars = ['imp_rest'],\n",
    "                          attrs = attrs)\n",
    "rob = Robot('config/franka.urdf', subsys = [c], ctrl = imp, attrs = attrs, visc_fric = 100)"
   ]
  },
  {
   "cell_type": "code",
   "execution_count": 43,
   "id": "62b56da3",
   "metadata": {},
   "outputs": [],
   "source": [
    "from mpc import MPC\n",
    "from helper_fns import mult_shoot_rollout\n",
    "\n",
    "mpc = MPC(robots={'free':rob}, mpc_params={'H':7, 'dt':0.05}, nlpopts =nlpopts)\n",
    "params = {'init_state': ca.DM.zeros(14), \n",
    "          'belief_free':1.0, \n",
    "          'imp_stiff':400*ca.DM.ones(3),}\n",
    "res = mpc.solve(params)\n",
    "traj = rob.get_ext_state_from_traj(res['xi'])"
   ]
  },
  {
   "cell_type": "code",
   "execution_count": 44,
   "id": "3e417a8f",
   "metadata": {},
   "outputs": [
    {
     "data": {
      "text/plain": [
       "<matplotlib.legend.Legend at 0x7fe6fbf068b0>"
      ]
     },
     "execution_count": 44,
     "metadata": {},
     "output_type": "execute_result"
    },
    {
     "data": {
      "image/png": "[encoded data removed]",
      "text/plain": [
       "<Figure size 432x288 with 1 Axes>"
      ]
     },
     "metadata": {
      "needs_background": "light"
     },
     "output_type": "display_data"
    }
   ],
   "source": [
    "import matplotlib.pyplot as plt\n",
    "import numpy as np\n",
    "\n",
    "p = np.squeeze(np.array(traj['p']))\n",
    "plt.plot(p, label=['x', 'y', 'z'])\n",
    "plt.legend()"
   ]
  },
  {
   "cell_type": "code",
   "execution_count": 160,
   "id": "361a1bcd",
   "metadata": {},
   "outputs": [
    {
     "name": "stdout",
     "output_type": "stream",
     "text": [
      "Cold start time:  0.03526979999151081 sec\n",
      "Cold start rate:  28.352868466526402 Hz\n",
      "Warm start rate: 15.058741183146424 Hz\n"
     ]
    }
   ],
   "source": [
    "import time\n",
    "N = 100\n",
    "times = []\n",
    "\n",
    "for _ in range(N):\n",
    "    params['init_state'] += 0.05*np.random.randn(14) # perturb initial state\n",
    "    tic = time.perf_counter()\n",
    "    sol = mpc.solve(params)\n",
    "    times.append(time.perf_counter()-tic)\n",
    "    \n",
    "print(f'Cold start time:  {times[0]} sec')\n",
    "print(f'Cold start rate:  {1/times[0]} Hz')\n",
    "print(f'Warm start rate: {1/np.mean(times[1:])} Hz')"
   ]
  },
  {
   "cell_type": "code",
   "execution_count": 65,
   "id": "feffa6ea",
   "metadata": {},
   "outputs": [
    {
     "name": "stdout",
     "output_type": "stream",
     "text": [
      "Building robot model from config/franka.urdf with TCP fr3_link8\n",
      "  Building controller imp_ctrl\n",
      "43.6 µs ± 5.03 µs per loop (mean ± std. dev. of 7 runs, 10,000 loops each)\n"
     ]
    }
   ],
   "source": [
    "from robot import Robot\n",
    "from contact import Contact\n",
    "from impedance_controller import ImpedanceController\n",
    "from decision_vars import DecisionVarSet\n",
    "par = {'pos': [0, 0, 0.0],\n",
    "       'stiff': [0, 0, 3e4],\n",
    "        'rest':[0, 0, 0.7]}\n",
    "attrs = yaml_load('config/attrs.yaml')\n",
    "attrs = {k:attrs[k] for k in ['lb', 'ub']}\n",
    "imp = ImpedanceController(pars={'imp_stiff':[300, 300, 300], 'imp_rest':[0, 0, 0.5]}, \n",
    "                          input_vars = ['imp_rest'],\n",
    "                          attrs = attrs)\n",
    "rob = Robot('config/franka.urdf', subsys = [], ctrl = imp, attrs = attrs, visc_fric = 100)\n",
    "rob.build_step(0.1)\n",
    "rob.build_rollout(6)\n",
    "%timeit rob.rollout(np.zeros(14), np.zeros(3), np.zeros(3))"
   ]
  },
  {
   "cell_type": "code",
   "execution_count": null,
   "id": "afdba262",
   "metadata": {},
   "outputs": [],
   "source": []
  }
 ],
 "metadata": {
  "kernelspec": {
   "display_name": "Python 3 (ipykernel)",
   "language": "python",
   "name": "python3"
  },
  "language_info": {
   "codemirror_mode": {
    "name": "ipython",
    "version": 3
   },
   "file_extension": ".py",
   "mimetype": "text/x-python",
   "name": "python",
   "nbconvert_exporter": "python",
   "pygments_lexer": "ipython3",
   "version": "3.8.10"
  }
 },
 "nbformat": 4,
 "nbformat_minor": 5
}
