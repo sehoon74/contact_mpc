{
 "cells": [
  {
   "cell_type": "code",
   "execution_count": 1,
   "id": "acd28f30",
   "metadata": {},
   "outputs": [],
   "source": [
    "%load_ext autoreload\n",
    "%autoreload 2\n",
    "import numpy as np\n",
    "import casadi as ca\n",
    "from decision_vars import *"
   ]
  },
  {
   "cell_type": "code",
   "execution_count": 14,
   "id": "61b6a958",
   "metadata": {},
   "outputs": [
    {
     "name": "stdout",
     "output_type": "stream",
     "text": [
      "3\n",
      "3\n",
      "dict_keys(['test/a'])\n"
     ]
    }
   ],
   "source": [
    "# Test named dict\n",
    "d = NamedDict('test/')\n",
    "d['a'] = 3\n",
    "print(d['a'])\n",
    "print(d.get('test/a'))\n",
    "print(d.keys())"
   ]
  },
  {
   "cell_type": "code",
   "execution_count": 13,
   "id": "73bc61f6",
   "metadata": {},
   "outputs": [
    {
     "name": "stdout",
     "output_type": "stream",
     "text": [
      "***** Decision Vars *****\n",
      "Name: funtimes/\n",
      "Attributes: ['lb']\n",
      "Vars: \n",
      "  funtimes/x: [x_0, x_1], shape: (2, 1)\n",
      "\n",
      "[x_0, x_1]\n",
      "[x_0, x_1]\n",
      "dict_keys([])\n",
      "[0, 0, -inf]\n",
      "{'funtimes/funtimes/x': DM([0.1, 0.3]), 'funtimes/ouble/x': DM(0.5)}\n",
      "dict_keys(['funtimes/funtimes/x', 'funtimes/ouble/x'])\n"
     ]
    }
   ],
   "source": [
    "# Test decision vars\n",
    "from decision_vars import DecisionVarSet\n",
    "dvs = DecisionVarSet(attr_names = ['lb'], name = 'funtimes/')\n",
    "dvs.add_vars({'x':[1.0, 2.0]}, lb={'x':[0, 0]})\n",
    "print(dvs)\n",
    "print(dvs['x'])\n",
    "print(dvs.get('funtimes/x'))\n",
    "dvs2 = DecisionVarSet(attr_names = ['lb'], name = 'ouble/')\n",
    "dvs2.add_vars(init={'x':2.0}, lb={'y':3.0})\n",
    "dvs += dvs2\n",
    "print(dvs.vectorize('lb'))\n",
    "d2 = dvs.dictize(np.array([0.1, 0.3, 0.5]))\n",
    "print(d2)\n",
    "print(d2.keys())\n"
   ]
  },
  {
   "cell_type": "code",
   "execution_count": 4,
   "id": "83f2fb61",
   "metadata": {},
   "outputs": [
    {
     "name": "stdout",
     "output_type": "stream",
     "text": [
      "***** Decision Vars *****\n",
      "Name: \n",
      "Attributes: ['lb']\n",
      "Vars: \n",
      "  q: [q_0, q_1], shape: (2, 1)\n",
      "  free/q: [q_0, q_1], shape: (2, 1)\n",
      "\n",
      "False\n"
     ]
    }
   ],
   "source": [
    "a = DecisionVarSet(attr_names = ['lb'], name = '')\n",
    "a.add_vars({'q':[1.0, 2.0]}, lb={'q':[0, 0]})\n",
    "\n",
    "b = DecisionVarSet(attr_names = ['lb'], name = 'free/')\n",
    "b.add_vars({'q':[1.0, 2.0]}, lb={'q':[0, 0]})\n",
    "\n",
    "a += b\n",
    "print(a)\n",
    "print(a['q'][0] is b['q'][0])\n"
   ]
  },
  {
   "cell_type": "code",
   "execution_count": 12,
   "id": "74516c7f",
   "metadata": {},
   "outputs": [
    {
     "name": "stdout",
     "output_type": "stream",
     "text": [
      "***** Decision Vars *****\n",
      "Name: test/\n",
      "Attributes: []\n",
      "Vars: \n",
      "  test/q: [q_0, q_1, q_2, q_3, q_4, q_5, q_6], shape: (7, 1)\n",
      "  test/dq: [dq_0, dq_1, dq_2, dq_3, dq_4, dq_5, dq_6], shape: (7, 1)\n",
      "\n",
      "[q_0, q_1, q_2, q_3, q_4, q_5, q_6]\n",
      "[q_0, q_1, q_2, q_3, q_4, q_5, q_6, dq_0, dq_1, dq_2, dq_3, dq_4, dq_5, dq_6]\n"
     ]
    }
   ],
   "source": [
    "from robot import *\n",
    "rob = Robot('config/franka.urdf', name = 'test/')\n",
    "print(rob._state)\n",
    "print(rob._state['q'])\n"
   ]
  },
  {
   "cell_type": "code",
   "execution_count": 6,
   "id": "6c557f2c",
   "metadata": {},
   "outputs": [
    {
     "name": "stdout",
     "output_type": "stream",
     "text": [
      "[0, -3, 5]\n",
      "[0, -3, 5]\n"
     ]
    }
   ],
   "source": [
    "from contact import Contact\n",
    "pars = {'pos': [0, 0, 0],\n",
    "        'stiff': [0, 10, 10],\n",
    "        'rest':[0, 0, 0.0]}\n",
    "c = Contact('friendo', pars)\n",
    "q = ca.SX.sym('q',7)\n",
    "p, R = rob.fwd_kin(q)\n",
    "print(c.get_force({'p':ca.DM([0.5, 0.3, -0.5]), 'R':ca.DM.ones(3)}))\n",
    "\n",
    "c2 = Contact('c2',pars, ['stiff'], {'cov_init':{}, 'proc_noise':{}})\n",
    "print(c2.get_force({'p':ca.DM([0.5, 0.3, -0.5]), \n",
    "                    'R':ca.DM.ones(3), \n",
    "                    'c2/stiff':ca.DM([10, 0, 0])}))"
   ]
  },
  {
   "cell_type": "code",
   "execution_count": 11,
   "id": "79561a44",
   "metadata": {},
   "outputs": [
    {
     "name": "stdout",
     "output_type": "stream",
     "text": [
      "***** Decision Vars *****\n",
      "Name: test/\n",
      "Attributes: []\n",
      "Vars: \n",
      "  test/test/q: [test/q_0, test/q_1, test/q_2, test/q_3, test/q_4, test/q_5, test/q_6], shape: (7, 1)\n",
      "  test/test/dq: [test/dq_0, test/dq_1, test/dq_2, test/dq_3, test/dq_4, test/dq_5, test/dq_6], shape: (7, 1)\n",
      "\n"
     ]
    },
    {
     "ename": "KeyError",
     "evalue": "'q'",
     "output_type": "error",
     "traceback": [
      "\u001b[0;31m---------------------------------------------------------------------------\u001b[0m",
      "\u001b[0;31mKeyError\u001b[0m                                  Traceback (most recent call last)",
      "Input \u001b[0;32mIn [11]\u001b[0m, in \u001b[0;36m<cell line: 26>\u001b[0;34m()\u001b[0m\n\u001b[1;32m     24\u001b[0m     state[\u001b[38;5;124m'\u001b[39m\u001b[38;5;124mtest/q\u001b[39m\u001b[38;5;124m'\u001b[39m] \u001b[38;5;241m=\u001b[39m res[\u001b[38;5;124m'\u001b[39m\u001b[38;5;124mq\u001b[39m\u001b[38;5;124m'\u001b[39m]\n\u001b[1;32m     25\u001b[0m     state[\u001b[38;5;124m'\u001b[39m\u001b[38;5;124mtest/dq\u001b[39m\u001b[38;5;124m'\u001b[39m] \u001b[38;5;241m=\u001b[39m res[\u001b[38;5;124m'\u001b[39m\u001b[38;5;124mdq\u001b[39m\u001b[38;5;124m'\u001b[39m]\n\u001b[0;32m---> 26\u001b[0m res_dict \u001b[38;5;241m=\u001b[39m \u001b[43mrob\u001b[49m\u001b[38;5;241;43m.\u001b[39;49m\u001b[43mget_ext_state\u001b[49m\u001b[43m(\u001b[49m\u001b[43mstate\u001b[49m\u001b[43m)\u001b[49m\n\u001b[1;32m     27\u001b[0m \u001b[38;5;28mprint\u001b[39m(res_dict[\u001b[38;5;124m'\u001b[39m\u001b[38;5;124mp\u001b[39m\u001b[38;5;124m'\u001b[39m])\n",
      "File \u001b[0;32m~/mpc-contact/robot.py:185\u001b[0m, in \u001b[0;36mRobot.get_ext_state\u001b[0;34m(self, st)\u001b[0m\n\u001b[1;32m    183\u001b[0m \u001b[38;5;28;01mif\u001b[39;00m \u001b[38;5;28mtype\u001b[39m(st) \u001b[38;5;129;01mis\u001b[39;00m \u001b[38;5;129;01mnot\u001b[39;00m \u001b[38;5;28mdict\u001b[39m: st \u001b[38;5;241m=\u001b[39m \u001b[38;5;28mself\u001b[39m\u001b[38;5;241m.\u001b[39m_state\u001b[38;5;241m.\u001b[39mdictize(st)\n\u001b[1;32m    184\u001b[0m st \u001b[38;5;241m=\u001b[39m {k:v \u001b[38;5;28;01mfor\u001b[39;00m k, v \u001b[38;5;129;01min\u001b[39;00m st\u001b[38;5;241m.\u001b[39mitems()}\n\u001b[0;32m--> 185\u001b[0m st[\u001b[38;5;124m'\u001b[39m\u001b[38;5;124mp\u001b[39m\u001b[38;5;124m'\u001b[39m], st[\u001b[38;5;124m'\u001b[39m\u001b[38;5;124mR\u001b[39m\u001b[38;5;124m'\u001b[39m] \u001b[38;5;241m=\u001b[39m \u001b[38;5;28mself\u001b[39m\u001b[38;5;241m.\u001b[39mfwd_kin(\u001b[43mst\u001b[49m\u001b[43m[\u001b[49m\u001b[38;5;124;43m'\u001b[39;49m\u001b[38;5;124;43mq\u001b[39;49m\u001b[38;5;124;43m'\u001b[39;49m\u001b[43m]\u001b[49m)\n\u001b[1;32m    186\u001b[0m st[\u001b[38;5;124m'\u001b[39m\u001b[38;5;124mdx\u001b[39m\u001b[38;5;124m'\u001b[39m] \u001b[38;5;241m=\u001b[39m \u001b[38;5;28mself\u001b[39m\u001b[38;5;241m.\u001b[39mtcp_motion(st[\u001b[38;5;124m'\u001b[39m\u001b[38;5;124mq\u001b[39m\u001b[38;5;124m'\u001b[39m], st[\u001b[38;5;124m'\u001b[39m\u001b[38;5;124mdq\u001b[39m\u001b[38;5;124m'\u001b[39m])[\u001b[38;5;241m1\u001b[39m]\n\u001b[1;32m    187\u001b[0m \u001b[38;5;28;01mfor\u001b[39;00m sys \u001b[38;5;129;01min\u001b[39;00m \u001b[38;5;28mself\u001b[39m\u001b[38;5;241m.\u001b[39m__subsys:\n",
      "\u001b[0;31mKeyError\u001b[0m: 'q'"
     ]
    }
   ],
   "source": [
    "# Test convergence\n",
    "from robot import Robot\n",
    "par1 = {'pos': [0, 0, 0.0],\n",
    "        'stiff': [0, 0, 100],\n",
    "        'rest':[0, 0, 0.2]}\n",
    "par2 = {'pos': [0, 0, 0],\n",
    "        'stiff': [0, 100, 0],\n",
    "        'rest': [0, 0.5, 0]}\n",
    "c1 = Contact('c1/', par1, [], {'cov_init':{}, 'proc_noise':{}})\n",
    "c2 = Contact('c2/', par2, [], {'cov_init':{}, 'proc_noise':{}})\n",
    "\n",
    "rob = Robot('config/franka.urdf', subsys = [c1, c2], name = 'test/')\n",
    "rob.build_step(0.1)\n",
    "print(rob.get_state(1))\n",
    "# test that it converges as expected \n",
    "q = np.zeros(7)\n",
    "dq = np.zeros(7)\n",
    "tau = np.zeros(7)\n",
    "state = {'test/q':q, 'test/dq':dq, 'tau_input':tau}\n",
    "state['M_inv'] = rob.inv_mass_fn(state['test/q'])\n",
    "#%timeit rob.step(**state)\n",
    "for _ in range(100):\n",
    "    res = rob.step(**state)\n",
    "    state['test/q'] = res['q']\n",
    "    state['test/dq'] = res['dq']\n",
    "res_dict = rob.get_ext_state(state)\n",
    "print(res_dict['p'])\n",
    "#print(res_dict['c1/F'])\n",
    "#print(res_dict['c2/F'])"
   ]
  },
  {
   "cell_type": "code",
   "execution_count": 9,
   "id": "704e9fe8",
   "metadata": {},
   "outputs": [
    {
     "name": "stdout",
     "output_type": "stream",
     "text": [
      "Building robot model from config/franka.urdf with TCP fr3_link8\n",
      "  with subsys ['c1/', 'c2/']\n"
     ]
    }
   ],
   "source": [
    "from robot import Robot\n",
    "from contact import Contact\n",
    "from decision_vars import DecisionVarSet\n",
    "par1 = {'pos': [0, 0, 0.0],\n",
    "        'stiff': [0, 0, 100],\n",
    "        'rest':[0, 0, 0.2]}\n",
    "par2 = {'pos': [0, 0, 0],\n",
    "        'stiff': [0, 100, 0],\n",
    "        'rest': [0, 0.5, 0]}\n",
    "c1 = Contact('c1/', par1, ['stiff'], {'cov_init':{}, 'proc_noise':{}})\n",
    "c2 = Contact('c2/', par2, [], {'cov_init':{}, 'proc_noise':{}})\n",
    "\n",
    "rob = Robot('config/franka.urdf', subsys = [c1, c2])\n",
    "#print(rob.get_input(H=5))\n",
    "#print(rob.get_state(H=5))"
   ]
  },
  {
   "cell_type": "code",
   "execution_count": 11,
   "id": "2f2f8001",
   "metadata": {},
   "outputs": [
    {
     "name": "stdout",
     "output_type": "stream",
     "text": [
      "Building robot model from config/franka.urdf with TCP fr3_link8\n",
      "Building robot model from config/franka.urdf with TCP fr3_link8\n",
      "  with subsys ['contact_1/']\n",
      "Building robot model from config/franka.urdf with TCP fr3_link8\n",
      "  with subsys ['contact_1/', 'contact_2/']\n",
      "step:(q[7],dq[7],M_inv[7x7],tau_input[7])->(q[7],dq[7],cost) SXFunction\n",
      "free has step fn of step:(q[7],dq[7],M_inv[7x7],tau_input[7])->(q[7],dq[7],cost) SXFunction\n",
      "  which evals to (DM([0, 0, 0, 0, 0, 0, 0]), DM([0, 0, 0, 0, 0, 0, 0]), DM(0))\n",
      "step:(q[7],dq[7],M_inv[7x7],tau_input[7])->(q[7],dq[7],cost) SXFunction\n",
      "plane has step fn of step:(q[7],dq[7],M_inv[7x7],tau_input[7])->(q[7],dq[7],cost) SXFunction\n",
      "  which evals to (DM([0, 0.249603, 0, -0.0156002, 0, -0.249603, 0]), DM([0, 2.49603, 0, -0.156002, 0, -2.49603, 0]), DM(0))\n",
      "step:(q[7],dq[7],M_inv[7x7],tau_input[7])->(q[7],dq[7],cost) SXFunction\n",
      "hinge has step fn of step:(q[7],dq[7],M_inv[7x7],tau_input[7])->(q[7],dq[7],cost) SXFunction\n",
      "  which evals to (DM([-0.61072, 0.249603, -0.61072, -0.0156002, -0.61072, -0.249603, 0]), DM([-6.1072, 2.49603, -6.1072, -0.156002, -6.1072, -2.49603, 0]), DM(0))\n"
     ]
    }
   ],
   "source": [
    "# Check that the spawner works\n",
    "from helper_fns import spawn_models\n",
    "models = spawn_models('config/franka.yaml', 'config/attrs.yaml', 'config/contact.yaml', sym_vars = [])\n",
    "for name, model in models.items():\n",
    "    model.build_step(step_size=0.1)\n",
    "    print(model.step)\n",
    "    n_in = model.step.size_in(0)\n",
    "    res = model.step(np.zeros(7), np.zeros(7), np.eye(7), np.zeros(7))\n",
    "    print(f\"{name} has step fn of {model.step}\")\n",
    "    print(f\"  which evals to {res}\")\n"
   ]
  },
  {
   "cell_type": "code",
   "execution_count": null,
   "id": "9854089f",
   "metadata": {},
   "outputs": [],
   "source": []
  },
  {
   "cell_type": "code",
   "execution_count": 24,
   "id": "69207bfa-9bbf-48bd-a7dd-79f0f28e7b41",
   "metadata": {},
   "outputs": [],
   "source": []
  },
  {
   "cell_type": "code",
   "execution_count": null,
   "id": "3b241fe3-46ef-4f2f-b63e-d2ddc5945c57",
   "metadata": {},
   "outputs": [],
   "source": []
  }
 ],
 "metadata": {
  "kernelspec": {
   "display_name": "Python 3 (ipykernel)",
   "language": "python",
   "name": "python3"
  },
  "language_info": {
   "codemirror_mode": {
    "name": "ipython",
    "version": 3
   },
   "file_extension": ".py",
   "mimetype": "text/x-python",
   "name": "python",
   "nbconvert_exporter": "python",
   "pygments_lexer": "ipython3",
   "version": "3.8.10"
  },
  "name": "test_dec_vars_and_primitives.ipynb"
 },
 "nbformat": 4,
 "nbformat_minor": 5
}
