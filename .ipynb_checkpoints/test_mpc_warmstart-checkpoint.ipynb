{
 "cells": [
  {
   "cell_type": "code",
   "execution_count": 1,
   "id": "b48808a9",
   "metadata": {},
   "outputs": [],
   "source": [
    "%load_ext autoreload\n",
    "%autoreload 2\n",
    "\n",
    "import matplotlib.pyplot as plt\n",
    "plt.rcParams['figure.dpi'] = 400\n",
    "plt.rcParams['axes.grid'] = True\n",
    "plt.rcParams['image.aspect'] = 0.8\n",
    "\n",
    "import numpy as np\n",
    "import casadi as ca\n",
    "import time\n",
    "from helper_fns import *\n",
    "\n",
    "def timed_exec(fn, *args):\n",
    "    start = time.time()\n",
    "    res = fn(*args)\n",
    "    elapsed = time.time() - start\n",
    "    return elapsed, *res"
   ]
  },
  {
   "cell_type": "code",
   "execution_count": 4,
   "id": "631a8bb5",
   "metadata": {},
   "outputs": [
    {
     "name": "stderr",
     "output_type": "stream",
     "text": [
      "CasADi - 2023-09-06 09:02:08 WARNING(\"CasADi was not compiled with WITH_THREAD=ON. Falling back to serial evaluation.\") [.../casadi/core/map.cpp:502]\n",
      "CasADi - 2023-09-06 09:02:08 WARNING(\"CasADi was not compiled with WITH_THREAD=ON. Falling back to serial evaluation.\") [.../casadi/core/map.cpp:502]\n"
     ]
    },
    {
     "name": "stdout",
     "output_type": "stream",
     "text": [
      "Free space cold 0.7580850124359131, Free space warm 0.7801048755645752, Point: 0.8691537380218506\n",
      "Free space: 0.7801048755645752, 6.56134 \n",
      "     Point: 0.8691537380218506, 3.46647e+09\n",
      "[[-5.75870014e-02  7.57178918e-03  1.12714680e-02  2.05347224e-02\n",
      "  -7.80944039e-02 -2.91601664e-02 -2.76580889e-02  9.56985904e-03\n",
      "   6.54942300e-02  3.16925351e-02  8.75861592e-03  1.39903264e-01\n",
      "  -2.69736681e-02 -6.06629957e-02 -1.07332980e+00  7.11263008e-02\n",
      "   4.78493304e-01 -7.01498763e-02  6.57350468e-02  3.40488687e-04]\n",
      " [ 5.89415193e-02 -6.29966404e-03 -1.22217839e-02  5.36481609e-02\n",
      "   8.97384208e-03 -3.68118104e-02 -6.24456634e-02 -4.42136563e-02\n",
      "  -1.12183301e-01  7.13211843e-02 -2.24657791e-02 -6.20255161e-02\n",
      "  -4.06084933e-02  1.55640634e-01 -1.03284719e+00 -1.58398650e-02\n",
      "   9.90260757e-01 -1.21499785e-01 -4.20172439e-03 -2.77624910e-03]\n",
      " [-2.50907808e-02 -9.25752705e-03 -7.85839318e-04 -7.41499858e-02\n",
      "  -6.85969648e-02 -4.41746709e-02 -2.81789617e-02 -1.02778128e-01\n",
      "   1.08418075e-01 -3.59695404e-02  3.11398924e-02  1.64733008e-01\n",
      "   1.00584093e-01  2.23409567e-01  9.00074333e-01 -4.47562921e-02\n",
      "   7.11086195e-01  8.55189271e-02  1.79704898e-01 -1.11617508e-03]]\n"
     ]
    }
   ],
   "source": [
    "## MPC only, i.e. without iCEM warmstart\n",
    "mpc, params = spawn_mpc()\n",
    "\n",
    "params['belief_free'] = 1.0\n",
    "params['belief_point'] = 0.0\n",
    "\n",
    "t_mpc_free_cold, cost, res = timed_exec(mpc.solve, params)\n",
    "t_mpc_free_warm, cost_free, res = timed_exec(mpc.solve, params)\n",
    "\n",
    "params['belief_free'] = 0.0\n",
    "params['belief_point'] = 1.0\n",
    "\n",
    "t_mpc_point, cost_point, res_point = timed_exec(mpc.solve, params)\n",
    "\n",
    "print(f\"Free space cold {t_mpc_free_cold}, Free space warm {t_mpc_free_warm}, Point: {t_mpc_point}\")\n",
    "print(f\"Free space: {t_mpc_free_warm}, {cost_free} \\n     Point: {t_mpc_point}, {cost_point}\")\n",
    "res['imp_stiff'] = params['imp_stiff']\n",
    "traj_mpc = mpc.robots['point'].get_ext_state(res_point)\n",
    "#print(traj_mpc['contact_1/F'][0,:])\n",
    "#print(traj_mpc['F_imp'])\n",
    "print(traj_mpc['imp_rest'])"
   ]
  },
  {
   "cell_type": "code",
   "execution_count": 5,
   "id": "0bb95bfe",
   "metadata": {},
   "outputs": [
    {
     "name": "stderr",
     "output_type": "stream",
     "text": [
      "CasADi - 2023-09-06 09:02:22 WARNING(\"CasADi was not compiled with WITH_THREAD=ON. Falling back to serial evaluation.\") [.../casadi/core/map.cpp:502]\n",
      "CasADi - 2023-09-06 09:02:22 WARNING(\"CasADi was not compiled with WITH_THREAD=ON. Falling back to serial evaluation.\") [.../casadi/core/map.cpp:502]\n"
     ]
    },
    {
     "name": "stdout",
     "output_type": "stream",
     "text": [
      "Free space: 0.02115035057067871, 4.73142 \n",
      "     Point: 0.020629167556762695, 6.10279\n"
     ]
    }
   ],
   "source": [
    "# iCEM-only result\n",
    "mpc, params = spawn_mpc()\n",
    "\n",
    "params['belief_free'] = 1.0\n",
    "params['belief_point'] = 0.0\n",
    "time_cem_free, cost_free, res = timed_exec(mpc.icem_warmstart, params, 1)\n",
    "#print(res['imp_rest'])\n",
    "\n",
    "cost, res = mpc.solve(params) # with an initialization\n",
    "\n",
    "params['belief_free'] = 0.0\n",
    "params['belief_point'] = 1.0\n",
    "time_cem_point, cost_point, res = timed_exec(mpc.icem_warmstart, params, 1)\n",
    "print(f\"Free space: {time_cem_free}, {cost_free} \\n     Point: {time_cem_point}, {cost_point}\")\n",
    "\n",
    "traj_cem = mpc.robots['point'].get_ext_state(res)\n",
    "#print(traj_cem['imp_rest'])"
   ]
  },
  {
   "cell_type": "code",
   "execution_count": 9,
   "id": "d441d7f6",
   "metadata": {},
   "outputs": [
    {
     "name": "stderr",
     "output_type": "stream",
     "text": [
      "CasADi - 2023-09-06 09:10:55 WARNING(\"CasADi was not compiled with WITH_THREAD=ON. Falling back to serial evaluation.\") [.../casadi/core/map.cpp:502]\n",
      "CasADi - 2023-09-06 09:10:55 WARNING(\"CasADi was not compiled with WITH_THREAD=ON. Falling back to serial evaluation.\") [.../casadi/core/map.cpp:502]\n"
     ]
    }
   ],
   "source": [
    "#iters = [0, 1, 2, 3, 4, 5, 10, 15]\n",
    "iters = [0, 1, 2]\n",
    "N = 15\n",
    "mpc, params = spawn_mpc()\n",
    "mpc.solve(params)\n",
    "iter_times_mean = []\n",
    "iter_times_std = []\n",
    "iter_cost_mean = []\n",
    "iter_cost_std = []\n",
    "for n_iter in iters:\n",
    "    times = []\n",
    "    costs = []\n",
    "    for _ in range(N):\n",
    "        mpc.reset_warmstart()\n",
    "        params['belief_free'] = 1.0\n",
    "        params['belief_point'] = 0.0 \n",
    "        mpc.solve(params)\n",
    "        \n",
    "        params['belief_free'] = 0.0\n",
    "        params['belief_point'] = 1.0\n",
    "        params['q'] = 0.005*np.random.randn(7) # perturb initial state\n",
    "        params['dq'] = 0.01*np.random.randn(7) # perturb initial state\n",
    "        tic = time.perf_counter()\n",
    "        if n_iter > 0: mpc.icem_warmstart(params, num_iter=n_iter)\n",
    "        cost, _ = mpc.solve(params)\n",
    "        times.append(time.perf_counter()-tic)\n",
    "        costs.append(np.squeeze(cost.full()))\n",
    "    iter_times_mean.append(np.mean(times))\n",
    "    iter_times_std.append(np.std(times))\n",
    "    iter_cost_mean.append(np.mean(costs))\n",
    "    iter_cost_std.append(np.std(costs))"
   ]
  },
  {
   "cell_type": "code",
   "execution_count": 10,
   "id": "a6e20308",
   "metadata": {},
   "outputs": [
    {
     "data": {
      "image/png": "[encoded data removed]",
      "text/plain": [
       "<Figure size 432x288 with 1 Axes>"
      ]
     },
     "metadata": {
      "needs_background": "light"
     },
     "output_type": "display_data"
    },
    {
     "data": {
      "image/png": "[encoded data removed]",
      "text/plain": [
       "<Figure size 432x288 with 1 Axes>"
      ]
     },
     "metadata": {
      "needs_background": "light"
     },
     "output_type": "display_data"
    }
   ],
   "source": [
    "plt.plot(iters, iter_cost_mean, label='CEM')\n",
    "mu = np.array(iter_cost_mean)\n",
    "sig = np.array(iter_cost_std)\n",
    "plt.fill_between(iters, mu-sig, mu+sig, alpha=0.5)\n",
    "\n",
    "plt.legend()\n",
    "plt.xlim(0,iters[-1])\n",
    "plt.xlabel('CEM Iterations')\n",
    "plt.ylabel('Total cost')\n",
    "\n",
    "\n",
    "plt.figure()\n",
    "plt.plot(iters, iter_times_mean)\n",
    "mu = np.array(iter_times_mean)\n",
    "sig = np.array(iter_times_std)\n",
    "plt.fill_between(iters, mu-sig, mu+sig, alpha=0.5)\n",
    "plt.xlim(0,iters[-1])\n",
    "plt.xlabel('CEM Warm-start iterations')\n",
    "plt.ylabel('Solve time')\n",
    "plt.savefig('cem_warmstart_num_iter.pdf')"
   ]
  },
  {
   "cell_type": "code",
   "execution_count": 205,
   "id": "ee766302",
   "metadata": {},
   "outputs": [],
   "source": []
  },
  {
   "cell_type": "code",
   "execution_count": 193,
   "id": "45ce8a30",
   "metadata": {},
   "outputs": [],
   "source": [
    "# Increasing planning horizon"
   ]
  },
  {
   "cell_type": "code",
   "execution_count": null,
   "id": "cb23f961",
   "metadata": {},
   "outputs": [],
   "source": [
    "# Tuning map function\n",
    "_, robots, contacts = spawn_models(robot_path = \"config/franka.yaml\",\n",
    "                                   attr_path  = \"config/attrs.yaml\", \n",
    "                                   contact_path = \"config/contact_test.yaml\",\n",
    "                                   sym_vars = [])\n",
    "%timeit(robots['free'])\n"
   ]
  }
 ],
 "metadata": {
  "kernelspec": {
   "display_name": "Python 3 (ipykernel)",
   "language": "python",
   "name": "python3"
  },
  "language_info": {
   "codemirror_mode": {
    "name": "ipython",
    "version": 3
   },
   "file_extension": ".py",
   "mimetype": "text/x-python",
   "name": "python",
   "nbconvert_exporter": "python",
   "pygments_lexer": "ipython3",
   "version": "3.8.10"
  }
 },
 "nbformat": 4,
 "nbformat_minor": 5
}
