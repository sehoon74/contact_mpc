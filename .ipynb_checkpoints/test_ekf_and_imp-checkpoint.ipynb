{
 "cells": [
  {
   "cell_type": "code",
   "execution_count": 1,
   "id": "6e67ba3b",
   "metadata": {},
   "outputs": [],
   "source": [
    "%load_ext autoreload\n",
    "%autoreload 2\n",
    "\n",
    "import numpy as np\n",
    "import casadi as ca"
   ]
  },
  {
   "cell_type": "code",
   "execution_count": 20,
   "id": "55ebce24",
   "metadata": {},
   "outputs": [
    {
     "name": "stdout",
     "output_type": "stream",
     "text": [
      "Building robot model from config/franka.urdf with TCP fr3_link8\n",
      "Building robot model from config/franka.urdf with TCP fr3_link8\n",
      "  with subsys ['contact_1/']\n",
      "Building robot model from config/franka.urdf with TCP fr3_link8\n",
      "  with subsys ['contact_1/', 'contact_2/']\n"
     ]
    }
   ],
   "source": [
    "from helper_fns import spawn_models\n",
    "models = spawn_models('config/franka.yaml', 'config/attrs.yaml', 'config/contact.yaml', sym_vars = [])\n",
    "rob = models['free']"
   ]
  },
  {
   "cell_type": "code",
   "execution_count": 21,
   "id": "79fcef23",
   "metadata": {},
   "outputs": [
    {
     "name": "stdout",
     "output_type": "stream",
     "text": [
      "[0.0100187, 0.0100191, 0.0100186, 0.0100182, 0.0100184, 0.0100182, 0.0100181, 0.010037, 0.0100378, 0.0100368, 0.010036, 0.0100363, 0.010036, 0.0100357]\n",
      "{'q': array([0.01001871, 0.0100191 , 0.0100186 , 0.0100182 , 0.01001838,\n",
      "       0.01001822, 0.01001806]), 'dq': array([0.010037  , 0.01003777, 0.01003677, 0.01003599, 0.01003634,\n",
      "       0.01003602, 0.01003572]), 'p': DM([0.0921896, 0.00268037, 0.926045]), 'R': DM(\n",
      "[[0.999749, 0.0200363, 0.0100111], \n",
      " [0.0200333, -0.999799, 0.00040139], \n",
      " [0.0100172, -0.000200734, -0.99995]]), 'dx': DM([0.00414864, 0.00272009, 3.44175e-05])}\n"
     ]
    }
   ],
   "source": [
    "from observer import EKF\n",
    "rob.build_step(0.002)\n",
    "rob.build_linearized()\n",
    "A, C, n, y = rob.linearized(np.zeros(rob.nx), np.zeros(7), rob.inv_mass_fn(np.zeros(7)))\n",
    "ekf = EKF(rob)\n",
    "#%timeit ekf.step(0.01*np.ones(7), np.zeros(7), np.eye(7))\n",
    "# 3x speedup from JITting the EKF step\n",
    "for _ in range(100):\n",
    "    ekf.step(0.01*np.ones(7), np.zeros(7))\n",
    "print(ekf.x['mu'])\n",
    "print(ekf.get_ext_state())"
   ]
  },
  {
   "cell_type": "code",
   "execution_count": 22,
   "id": "f6779d6a",
   "metadata": {},
   "outputs": [
    {
     "name": "stdout",
     "output_type": "stream",
     "text": [
      "Building robot model from config/franka.urdf with TCP fr3_link8\n",
      "  with subsys ['imp_ctrl']\n"
     ]
    },
    {
     "ename": "AttributeError",
     "evalue": "'Robot' object has no attribute 'build_disc_dyn'",
     "output_type": "error",
     "traceback": [
      "\u001b[0;31m---------------------------------------------------------------------------\u001b[0m",
      "\u001b[0;31mAttributeError\u001b[0m                            Traceback (most recent call last)",
      "Input \u001b[0;32mIn [22]\u001b[0m, in \u001b[0;36m<cell line: 5>\u001b[0;34m()\u001b[0m\n\u001b[1;32m      3\u001b[0m imp \u001b[38;5;241m=\u001b[39m ImpedanceController(pars\u001b[38;5;241m=\u001b[39m{\u001b[38;5;124m'\u001b[39m\u001b[38;5;124mimp_stiff\u001b[39m\u001b[38;5;124m'\u001b[39m:[\u001b[38;5;241m300\u001b[39m, \u001b[38;5;241m300\u001b[39m, \u001b[38;5;241m300\u001b[39m], \u001b[38;5;124m'\u001b[39m\u001b[38;5;124mimp_rest\u001b[39m\u001b[38;5;124m'\u001b[39m:[\u001b[38;5;241m0\u001b[39m, \u001b[38;5;241m0\u001b[39m, \u001b[38;5;241m0.5\u001b[39m]}, sym_vars \u001b[38;5;241m=\u001b[39m [])\n\u001b[1;32m      4\u001b[0m rob \u001b[38;5;241m=\u001b[39m Robot(\u001b[38;5;124m'\u001b[39m\u001b[38;5;124mconfig/franka.urdf\u001b[39m\u001b[38;5;124m'\u001b[39m, subsys \u001b[38;5;241m=\u001b[39m [imp])\n\u001b[0;32m----> 5\u001b[0m step \u001b[38;5;241m=\u001b[39m \u001b[43mrob\u001b[49m\u001b[38;5;241;43m.\u001b[39;49m\u001b[43mbuild_disc_dyn\u001b[49m(\u001b[38;5;241m0.1\u001b[39m)\n\u001b[1;32m      6\u001b[0m \u001b[38;5;66;03m# test that it converges as expected \u001b[39;00m\n\u001b[1;32m      7\u001b[0m q \u001b[38;5;241m=\u001b[39m np\u001b[38;5;241m.\u001b[39mzeros(\u001b[38;5;241m7\u001b[39m)\n",
      "\u001b[0;31mAttributeError\u001b[0m: 'Robot' object has no attribute 'build_disc_dyn'"
     ]
    }
   ],
   "source": [
    "from impedance_controller import ImpedanceController\n",
    "from robot import Robot\n",
    "imp = ImpedanceController(pars={'imp_stiff':[300, 300, 300], 'imp_rest':[0, 0, 0.5]}, sym_vars = [])\n",
    "rob = Robot('config/franka.urdf', subsys = [imp])\n",
    "# test that it converges as expected \n",
    "q = np.zeros(7)\n",
    "dq = np.zeros(7)\n",
    "tau = np.zeros(7)\n",
    "state = {'q':q, 'dq':dq, 'tau_input':tau}\n",
    "#%timeit step(**state)\n",
    "\n",
    "for _ in range(100):\n",
    "    res = step(**state)\n",
    "    state['q'] = res['q_next']\n",
    "    state['dq'] = res['dq_next']\n",
    "    res_dict = rob.get_ext_state(state)\n",
    "    print(res_dict['F_imp'])\n",
    "\n",
    "#print(rob.inv_mass_fn(np.zeros(7)))\n"
   ]
  },
  {
   "cell_type": "code",
   "execution_count": null,
   "id": "e579546f",
   "metadata": {},
   "outputs": [],
   "source": []
  }
 ],
 "metadata": {
  "kernelspec": {
   "display_name": "Python 3 (ipykernel)",
   "language": "python",
   "name": "python3"
  },
  "language_info": {
   "codemirror_mode": {
    "name": "ipython",
    "version": 3
   },
   "file_extension": ".py",
   "mimetype": "text/x-python",
   "name": "python",
   "nbconvert_exporter": "python",
   "pygments_lexer": "ipython3",
   "version": "3.8.10"
  }
 },
 "nbformat": 4,
 "nbformat_minor": 5
}
