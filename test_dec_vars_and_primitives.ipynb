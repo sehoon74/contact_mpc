{
 "cells": [
  {
   "cell_type": "code",
   "execution_count": 1,
   "metadata": {},
   "outputs": [],
   "source": [
    "%load_ext autoreload\n",
    "%autoreload 2\n",
    "import numpy as np\n",
    "import casadi as ca\n",
    "from decision_vars import *"
   ]
  },
  {
   "cell_type": "code",
   "execution_count": 2,
   "metadata": {},
   "outputs": [
    {
     "name": "stdout",
     "output_type": "stream",
     "text": [
      "3\n",
      "3\n",
      "dict_keys(['test/a'])\n",
      "3\n"
     ]
    }
   ],
   "source": [
    "# Test named dict\n",
    "d = NamedDict('test/', {'a':3})\n",
    "print(d['a'])\n",
    "print(d.get('test/a'))\n",
    "print(d.keys())\n",
    "for k in d.keys():\n",
    "    print(d.get(k))\n"
   ]
  },
  {
   "cell_type": "code",
   "execution_count": 4,
   "metadata": {},
   "outputs": [
    {
     "name": "stdout",
     "output_type": "stream",
     "text": [
      "***** Decision Vars, name: funtimes/ *****\n",
      "Attributes: ['lb']\n",
      "Vars: \n",
      "  funtimes/x: [x_0, x_1], shape: (2, 1)\n",
      "\n",
      "[x_0, x_1]\n",
      "[x_0, x_1]\n",
      "[x_0, x_1]\n",
      "[0, 0, -inf]\n",
      "{'funtimes/funtimes/x': DM([0.1, 0.3]), 'funtimes/ouble/x': DM(0.5)}\n",
      "dict_keys(['funtimes/funtimes/x', 'funtimes/ouble/x'])\n"
     ]
    }
   ],
   "source": [
    "# Test decision vars\n",
    "dvs = DecisionVarDict(attr_names = ['lb'], name = 'funtimes/')\n",
    "dvs.add_vars({'x':[1.0, 2.0]}, lb={'x':[0, 0]})\n",
    "print(dvs)\n",
    "print(dvs['funtimes/x'])\n",
    "print(dvs.get('funtimes/x'))\n",
    "print(dvs.get_from_shortname('x'))\n",
    "dvs2 = DecisionVarDict(attr_names = ['lb'], name = 'ouble/')\n",
    "dvs2.add_vars(init={'x':2.0}, lb={'y':3.0})\n",
    "dvs += dvs2\n",
    "print(dvs.vectorize_attr('lb'))\n",
    "d2 = dvs.dictize(np.array([0.1, 0.3, 0.5]))\n",
    "print(d2)\n",
    "print(d2.keys())\n"
   ]
  },
  {
   "cell_type": "code",
   "execution_count": 5,
   "metadata": {},
   "outputs": [
    {
     "name": "stdout",
     "output_type": "stream",
     "text": [
      "***** Decision Vars, name:  *****\n",
      "Attributes: ['lb']\n",
      "Vars: \n",
      "  q: [q_0, q_1], shape: (2, 1)\n",
      "  free/q: [q_0, q_1], shape: (2, 1)\n",
      "\n",
      "False\n",
      "{'free/q': array([1., 2.])}\n",
      "()\n",
      "{'q': SX([q_0, q_1]), 'free/q': SX([q_0, q_1])}\n",
      "{'q': array([0, 0]), 'free/q': array([0, 0])}\n",
      "[q_0, q_1, q_0, q_1]\n",
      "{'q': SX([q_0, q_1]), 'free/q': SX([q_0, q_1])}\n",
      "dict_keys(['q', 'free/q'])\n"
     ]
    }
   ],
   "source": [
    "a = DecisionVarDict(attr_names = ['lb'], name = '')\n",
    "a.add_vars({'q':[1.0, 2.0]}, lb={'q':[0, 0]})\n",
    "\n",
    "b = DecisionVarDict(attr_names = ['lb'], name = 'free/')\n",
    "b.add_vars({'q':[1.0, 2.0]}, lb={'q':[0, 0]})\n",
    "\n",
    "a += b\n",
    "print(a)\n",
    "print(a['q'][0] is b['free/q'][0])\n",
    "\n",
    "print(b.get_vars('init'))\n",
    "\n",
    "\n",
    "print(a.get_vectors())\n",
    "print(a.get_vars())\n",
    "print(a.get_vars('lb'))\n",
    "print(a.vectorize_attr())\n",
    "print(a.dictize(a.vectorize_attr()))\n",
    "print(a.clone_and_extend(2).keys())\n"
   ]
  },
  {
   "cell_type": "code",
   "execution_count": 6,
   "metadata": {},
   "outputs": [
    {
     "name": "stdout",
     "output_type": "stream",
     "text": [
      "***** Decision Vars, name:  *****\n",
      "Attributes: ['lb']\n",
      "Vars: \n",
      "  q: \n",
      "[[q_0, q_2, q_4], \n",
      " [q_1, q_3, q_5]], shape: (2, 3)\n",
      "  free/q: \n",
      "[[free/q_0, free/q_2, free/q_4], \n",
      " [free/q_1, free/q_3, free/q_5]], shape: (2, 3)\n",
      "\n",
      "***** Decision Vars, name:  *****\n",
      "Attributes: ['lb']\n",
      "Vars: \n",
      "  xi: [q_0, q_1, q_0, q_1], shape: (4, 1)\n",
      "\n",
      "{'xi': array([[0., 0., 0.],\n",
      "       [0., 0., 0.],\n",
      "       [0., 0., 0.],\n",
      "       [0., 0., 0.]])}\n"
     ]
    }
   ],
   "source": [
    "a = DecisionVarDict(attr_names = ['lb'], name = '')\n",
    "a.add_vars({'q':[1.0, 2.0]}, lb={'q':[0, 0]})\n",
    "\n",
    "b = DecisionVarDict(attr_names = ['lb'], name = 'free/')\n",
    "b.add_vars({'q':[1.0, 2.0]}, lb={'q':[0, 0]})\n",
    "\n",
    "a += b\n",
    "\n",
    "print(a.clone_and_extend(3))\n",
    "print(a.clone_and_vectorize('xi'))\n",
    "print(a.clone_and_vectorize('xi').clone_and_extend(3).get_vars('lb'))"
   ]
  },
  {
   "cell_type": "code",
   "execution_count": 7,
   "metadata": {},
   "outputs": [
    {
     "name": "stdout",
     "output_type": "stream",
     "text": [
      "***** Decision Vars, name: test/ *****\n",
      "Attributes: []\n",
      "Vars: \n",
      "  test/q: [q_0, q_1, q_2, q_3, q_4, q_5, q_6], shape: (7, 1)\n",
      "  test/dq: [dq_0, dq_1, dq_2, dq_3, dq_4, dq_5, dq_6], shape: (7, 1)\n",
      "\n",
      "step:(test/q[7],test/dq[7],M_inv[7x7],tau_input[7])->(q[7],dq[7],cost) SXFunction\n",
      "***** Decision Vars, name: test/ *****\n",
      "Attributes: []\n",
      "Vars: \n",
      "  test/q: \n",
      "[[q_0, q_7], \n",
      " [q_1, q_8], \n",
      " [q_2, q_9], \n",
      " [q_3, q_10], \n",
      " [q_4, q_11], \n",
      " [q_5, q_12], \n",
      " [q_6, q_13]], shape: (7, 2)\n",
      "  test/dq: \n",
      "[[dq_0, dq_7], \n",
      " [dq_1, dq_8], \n",
      " [dq_2, dq_9], \n",
      " [dq_3, dq_10], \n",
      " [dq_4, dq_11], \n",
      " [dq_5, dq_12], \n",
      " [dq_6, dq_13]], shape: (7, 2)\n",
      "\n"
     ]
    }
   ],
   "source": [
    "from robot import *\n",
    "rob = Robot('config/franka.urdf', name = 'test/')\n",
    "print(rob._state)\n",
    "rob.build_step(0.1)\n",
    "print(rob.step)\n",
    "print(rob._state.clone_and_extend(2))"
   ]
  },
  {
   "cell_type": "code",
   "execution_count": 8,
   "metadata": {},
   "outputs": [
    {
     "ename": "AttributeError",
     "evalue": "'Contact' object has no attribute '_Contact__F_fn'",
     "output_type": "error",
     "traceback": [
      "\u001b[0;31m---------------------------------------------------------------------------\u001b[0m",
      "\u001b[0;31mAttributeError\u001b[0m                            Traceback (most recent call last)",
      "Input \u001b[0;32mIn [8]\u001b[0m, in \u001b[0;36m<cell line: 8>\u001b[0;34m()\u001b[0m\n\u001b[1;32m      6\u001b[0m q \u001b[38;5;241m=\u001b[39m ca\u001b[38;5;241m.\u001b[39mSX\u001b[38;5;241m.\u001b[39msym(\u001b[38;5;124m'\u001b[39m\u001b[38;5;124mq\u001b[39m\u001b[38;5;124m'\u001b[39m,\u001b[38;5;241m7\u001b[39m)\n\u001b[1;32m      7\u001b[0m p, R \u001b[38;5;241m=\u001b[39m rob\u001b[38;5;241m.\u001b[39mfwd_kin(q)\n\u001b[0;32m----> 8\u001b[0m \u001b[38;5;28mprint\u001b[39m(\u001b[43mc\u001b[49m\u001b[38;5;241;43m.\u001b[39;49m\u001b[43mget_force\u001b[49m\u001b[43m(\u001b[49m\u001b[43m{\u001b[49m\u001b[38;5;124;43m'\u001b[39;49m\u001b[38;5;124;43mp\u001b[39;49m\u001b[38;5;124;43m'\u001b[39;49m\u001b[43m:\u001b[49m\u001b[43mca\u001b[49m\u001b[38;5;241;43m.\u001b[39;49m\u001b[43mDM\u001b[49m\u001b[43m(\u001b[49m\u001b[43m[\u001b[49m\u001b[38;5;241;43m0.5\u001b[39;49m\u001b[43m,\u001b[49m\u001b[43m \u001b[49m\u001b[38;5;241;43m0.3\u001b[39;49m\u001b[43m,\u001b[49m\u001b[43m \u001b[49m\u001b[38;5;241;43m-\u001b[39;49m\u001b[38;5;241;43m0.5\u001b[39;49m\u001b[43m]\u001b[49m\u001b[43m)\u001b[49m\u001b[43m,\u001b[49m\u001b[43m \u001b[49m\u001b[38;5;124;43m'\u001b[39;49m\u001b[38;5;124;43mR\u001b[39;49m\u001b[38;5;124;43m'\u001b[39;49m\u001b[43m:\u001b[49m\u001b[43mca\u001b[49m\u001b[38;5;241;43m.\u001b[39;49m\u001b[43mDM\u001b[49m\u001b[38;5;241;43m.\u001b[39;49m\u001b[43mones\u001b[49m\u001b[43m(\u001b[49m\u001b[38;5;241;43m3\u001b[39;49m\u001b[43m)\u001b[49m\u001b[43m}\u001b[49m\u001b[43m)\u001b[49m)\n\u001b[1;32m     10\u001b[0m c2 \u001b[38;5;241m=\u001b[39m Contact(\u001b[38;5;124m'\u001b[39m\u001b[38;5;124mc2/\u001b[39m\u001b[38;5;124m'\u001b[39m,pars, [\u001b[38;5;124m'\u001b[39m\u001b[38;5;124mstiff\u001b[39m\u001b[38;5;124m'\u001b[39m], {\u001b[38;5;124m'\u001b[39m\u001b[38;5;124mcov_init\u001b[39m\u001b[38;5;124m'\u001b[39m:{}, \u001b[38;5;124m'\u001b[39m\u001b[38;5;124mproc_noise\u001b[39m\u001b[38;5;124m'\u001b[39m:{}})\n\u001b[1;32m     11\u001b[0m \u001b[38;5;28mprint\u001b[39m(c2\u001b[38;5;241m.\u001b[39mget_force({\u001b[38;5;124m'\u001b[39m\u001b[38;5;124mp\u001b[39m\u001b[38;5;124m'\u001b[39m:ca\u001b[38;5;241m.\u001b[39mDM([\u001b[38;5;241m0.5\u001b[39m, \u001b[38;5;241m0.3\u001b[39m, \u001b[38;5;241m-\u001b[39m\u001b[38;5;241m0.5\u001b[39m]), \n\u001b[1;32m     12\u001b[0m                     \u001b[38;5;124m'\u001b[39m\u001b[38;5;124mR\u001b[39m\u001b[38;5;124m'\u001b[39m:ca\u001b[38;5;241m.\u001b[39mDM\u001b[38;5;241m.\u001b[39mones(\u001b[38;5;241m3\u001b[39m), \n\u001b[1;32m     13\u001b[0m                     \u001b[38;5;124m'\u001b[39m\u001b[38;5;124mc2/stiff\u001b[39m\u001b[38;5;124m'\u001b[39m:ca\u001b[38;5;241m.\u001b[39mDM([\u001b[38;5;241m10\u001b[39m, \u001b[38;5;241m0\u001b[39m, \u001b[38;5;241m0\u001b[39m])}))\n",
      "File \u001b[0;32m~/mpc-contact/contact.py:73\u001b[0m, in \u001b[0;36mContact.get_force\u001b[0;34m(self, args)\u001b[0m\n\u001b[1;32m     71\u001b[0m \u001b[38;5;28;01mdef\u001b[39;00m \u001b[38;5;21mget_force\u001b[39m(\u001b[38;5;28mself\u001b[39m, args):\n\u001b[1;32m     72\u001b[0m     filtered_args \u001b[38;5;241m=\u001b[39m {k:v \u001b[38;5;28;01mfor\u001b[39;00m k,v \u001b[38;5;129;01min\u001b[39;00m args\u001b[38;5;241m.\u001b[39mitems() \u001b[38;5;28;01mif\u001b[39;00m k \u001b[38;5;129;01min\u001b[39;00m [\u001b[38;5;124m'\u001b[39m\u001b[38;5;124mq\u001b[39m\u001b[38;5;124m'\u001b[39m, \u001b[38;5;124m'\u001b[39m\u001b[38;5;124mdq\u001b[39m\u001b[38;5;124m'\u001b[39m]\u001b[38;5;241m+\u001b[39m\u001b[38;5;28mlist\u001b[39m(\u001b[38;5;28mself\u001b[39m\u001b[38;5;241m.\u001b[39m_state\u001b[38;5;241m.\u001b[39mkeys())}\n\u001b[0;32m---> 73\u001b[0m     \u001b[38;5;28;01mreturn\u001b[39;00m \u001b[38;5;28;43mself\u001b[39;49m\u001b[38;5;241;43m.\u001b[39;49m\u001b[43m__F_fn\u001b[49m(\u001b[38;5;241m*\u001b[39m\u001b[38;5;241m*\u001b[39mfiltered_args)[\u001b[38;5;124m'\u001b[39m\u001b[38;5;124mF\u001b[39m\u001b[38;5;124m'\u001b[39m]\n",
      "\u001b[0;31mAttributeError\u001b[0m: 'Contact' object has no attribute '_Contact__F_fn'"
     ]
    }
   ],
   "source": [
    "from contact import Contact\n",
    "pars = {'pos': [0, 0, 0],\n",
    "        'stiff': [0, 10, 10],\n",
    "        'rest':[0, 0, 0.0]}\n",
    "c = Contact('friendo/', pars)\n",
    "q = ca.SX.sym('q',7)\n",
    "p, R = rob.fwd_kin(q)\n",
    "print(c.get_force({'p':ca.DM([0.5, 0.3, -0.5]), 'R':ca.DM.ones(3)}))\n",
    "\n",
    "c2 = Contact('c2/',pars, ['stiff'], {'cov_init':{}, 'proc_noise':{}})\n",
    "print(c2.get_force({'p':ca.DM([0.5, 0.3, -0.5]), \n",
    "                    'R':ca.DM.ones(3), \n",
    "                    'c2/stiff':ca.DM([10, 0, 0])}))"
   ]
  },
  {
   "cell_type": "code",
   "execution_count": 80,
   "metadata": {},
   "outputs": [
    {
     "data": {
      "text/plain": [
       "(-3.0, 6.0)"
      ]
     },
     "execution_count": 80,
     "metadata": {},
     "output_type": "execute_result"
    },
    {
     "data": {
      "image/png": "[encoded data removed]",
      "text/plain": [
       "<Figure size 432x288 with 1 Axes>"
      ]
     },
     "metadata": {
      "needs_background": "light"
     },
     "output_type": "display_data"
    }
   ],
   "source": [
    "## Test convergence\n",
    "import matplotlib.pyplot as plt\n",
    "from robot import Robot\n",
    "par1 = {'pos': [0, 0, 0.0],\n",
    "        'stiff': [0, 0, 2e4],\n",
    "        'rest':[0, 0, 0.2]}\n",
    "par2 = {'pos': [0, 0, 0],\n",
    "        'stiff': [0, 2e4, 0],\n",
    "        'rest': [0, 0.5, 0]}\n",
    "c1 = Contact('c1/', par1, [], {'cov_init':{}, 'proc_noise':{}})\n",
    "c2 = Contact('c2/', par2, [], {'cov_init':{}, 'proc_noise':{}})\n",
    "\n",
    "rob = Robot('config/franka.urdf', subsys = [c1, c2], name = 'test/', visc_fric = 50)\n",
    "rob.build_step(0.02)\n",
    "#print(rob.get_state(1))\n",
    "# test that it converges as expected \n",
    "q = np.zeros(7)\n",
    "dq = np.zeros(7)\n",
    "tau = np.zeros(7)\n",
    "state = NamedDict('test/', {'q':q, 'dq':dq})\n",
    "inp_args = dict(tau_input=tau, M_inv=rob.inv_mass_fn(state['q']))\n",
    "z = []\n",
    "for _ in range(100):\n",
    "    inp_args.update(state)\n",
    "    res = rob.step(**inp_args)\n",
    "    state['q'] = res['q']\n",
    "    state['dq'] = res['dq']\n",
    "    res_dict = rob.get_ext_state(state)\n",
    "    #print(res_dict['dx'].T)\n",
    "    z.append(res_dict['dx'][2])\n",
    "    \n",
    "plt.plot(z)\n",
    "plt.ylim(-3, 6)\n"
   ]
  },
  {
   "cell_type": "code",
   "execution_count": 48,
   "metadata": {},
   "outputs": [],
   "source": [
    "from robot import Robot\n",
    "from contact import Contact\n",
    "par1 = {'pos': [0, 0, 0.0],\n",
    "        'stiff': [0, 0, 100],\n",
    "        'rest':[0, 0, 0.2]}\n",
    "par2 = {'pos': [0, 0, 0],\n",
    "        'stiff': [0, 100, 0],\n",
    "        'rest': [0, 0.5, 0]}\n",
    "c1 = Contact('c1/', par1, ['stiff'], {'cov_init':{}, 'proc_noise':{}})\n",
    "c2 = Contact('c2/', par2, [], {'cov_init':{}, 'proc_noise':{}})\n",
    "\n",
    "rob = Robot('config/franka.urdf', subsys = [c1, c2])\n"
   ]
  },
  {
   "cell_type": "code",
   "execution_count": 9,
   "metadata": {},
   "outputs": [
    {
     "ename": "ModuleNotFoundError",
     "evalue": "No module named 'rospy'",
     "output_type": "error",
     "traceback": [
      "\u001b[0;31m---------------------------------------------------------------------------\u001b[0m",
      "\u001b[0;31mModuleNotFoundError\u001b[0m                       Traceback (most recent call last)",
      "Input \u001b[0;32mIn [9]\u001b[0m, in \u001b[0;36m<cell line: 2>\u001b[0;34m()\u001b[0m\n\u001b[1;32m      1\u001b[0m \u001b[38;5;66;03m# Check that the spawner works\u001b[39;00m\n\u001b[0;32m----> 2\u001b[0m \u001b[38;5;28;01mfrom\u001b[39;00m \u001b[38;5;21;01mhelper_fns\u001b[39;00m \u001b[38;5;28;01mimport\u001b[39;00m spawn_models\n\u001b[1;32m      3\u001b[0m models, _, _ \u001b[38;5;241m=\u001b[39m spawn_models(\u001b[38;5;124m'\u001b[39m\u001b[38;5;124mconfig/franka.yaml\u001b[39m\u001b[38;5;124m'\u001b[39m, \u001b[38;5;124m'\u001b[39m\u001b[38;5;124mconfig/attrs.yaml\u001b[39m\u001b[38;5;124m'\u001b[39m, \u001b[38;5;124m'\u001b[39m\u001b[38;5;124mconfig/contact.yaml\u001b[39m\u001b[38;5;124m'\u001b[39m, sym_vars \u001b[38;5;241m=\u001b[39m [])\n\u001b[1;32m      4\u001b[0m \u001b[38;5;28;01mfor\u001b[39;00m name, model \u001b[38;5;129;01min\u001b[39;00m models\u001b[38;5;241m.\u001b[39mitems():\n",
      "File \u001b[0;32m~/mpc-contact/helper_fns.py:9\u001b[0m, in \u001b[0;36m<module>\u001b[0;34m\u001b[0m\n\u001b[1;32m      6\u001b[0m \u001b[38;5;28;01mfrom\u001b[39;00m \u001b[38;5;21;01mrobot\u001b[39;00m \u001b[38;5;28;01mimport\u001b[39;00m \u001b[38;5;241m*\u001b[39m\n\u001b[1;32m      7\u001b[0m \u001b[38;5;28;01mfrom\u001b[39;00m \u001b[38;5;21;01mimpedance_controller\u001b[39;00m \u001b[38;5;28;01mimport\u001b[39;00m ImpedanceController\n\u001b[0;32m----> 9\u001b[0m \u001b[38;5;28;01mimport\u001b[39;00m \u001b[38;5;21;01mrospy\u001b[39;00m\n\u001b[1;32m     10\u001b[0m \u001b[38;5;28;01mfrom\u001b[39;00m \u001b[38;5;21;01msensor_msgs\u001b[39;00m\u001b[38;5;21;01m.\u001b[39;00m\u001b[38;5;21;01mmsg\u001b[39;00m \u001b[38;5;28;01mimport\u001b[39;00m JointState\n\u001b[1;32m     11\u001b[0m \u001b[38;5;28;01mfrom\u001b[39;00m \u001b[38;5;21;01mgeometry_msgs\u001b[39;00m\u001b[38;5;21;01m.\u001b[39;00m\u001b[38;5;21;01mmsg\u001b[39;00m \u001b[38;5;28;01mimport\u001b[39;00m PoseStamped\n",
      "\u001b[0;31mModuleNotFoundError\u001b[0m: No module named 'rospy'"
     ]
    }
   ],
   "source": [
    "# Check that the spawner works\n",
    "from helper_fns import spawn_models\n",
    "models, _, _ = spawn_models('config/franka.yaml', 'config/attrs.yaml', 'config/contact.yaml', sym_vars = [])\n",
    "for name, model in models.items():\n",
    "    model.build_step(step_size=0.1)\n",
    "    n_in = model.step.size_in(0)\n",
    "    res = model.step(np.zeros(7), np.zeros(7), np.eye(7), np.zeros(7))\n",
    "    print(f\"{name} has step fn of {model.step}\")\n",
    "    print(f\"  which evals to {res}\")\n"
   ]
  },
  {
   "cell_type": "code",
   "execution_count": 4,
   "metadata": {},
   "outputs": [
    {
     "ename": "KeyError",
     "evalue": "'free/q'",
     "output_type": "error",
     "traceback": [
      "\u001b[0;31m---------------------------------------------------------------------------\u001b[0m",
      "\u001b[0;31mKeyError\u001b[0m                                  Traceback (most recent call last)",
      "\u001b[0;32m<ipython-input-4-50bbf0e95613>\u001b[0m in \u001b[0;36m<module>\u001b[0;34m\u001b[0m\n\u001b[1;32m     22\u001b[0m          \u001b[0;34m'imp_stiff'\u001b[0m\u001b[0;34m:\u001b[0m\u001b[0;36m0\u001b[0m\u001b[0;34m*\u001b[0m\u001b[0mca\u001b[0m\u001b[0;34m.\u001b[0m\u001b[0mDM\u001b[0m\u001b[0;34m.\u001b[0m\u001b[0mones\u001b[0m\u001b[0;34m(\u001b[0m\u001b[0;36m3\u001b[0m\u001b[0;34m)\u001b[0m\u001b[0;34m,\u001b[0m\u001b[0;34m\u001b[0m\u001b[0;34m\u001b[0m\u001b[0m\n\u001b[1;32m     23\u001b[0m          'imp_rest': [0,0,0]}\n\u001b[0;32m---> 24\u001b[0;31m \u001b[0mxsw\u001b[0m \u001b[0;34m=\u001b[0m \u001b[0mrsw\u001b[0m\u001b[0;34m.\u001b[0m\u001b[0mget_ext_state\u001b[0m\u001b[0;34m(\u001b[0m\u001b[0mstate\u001b[0m\u001b[0;34m)\u001b[0m\u001b[0;34m\u001b[0m\u001b[0;34m\u001b[0m\u001b[0m\n\u001b[0m\u001b[1;32m     25\u001b[0m \u001b[0mx\u001b[0m \u001b[0;34m=\u001b[0m \u001b[0mr\u001b[0m\u001b[0;34m.\u001b[0m\u001b[0mget_ext_state\u001b[0m\u001b[0;34m(\u001b[0m\u001b[0mstate\u001b[0m\u001b[0;34m)\u001b[0m\u001b[0;34m\u001b[0m\u001b[0;34m\u001b[0m\u001b[0m\n\u001b[1;32m     26\u001b[0m \u001b[0mprint\u001b[0m\u001b[0;34m(\u001b[0m\u001b[0mx\u001b[0m\u001b[0;34m[\u001b[0m\u001b[0;34m'p'\u001b[0m\u001b[0;34m]\u001b[0m\u001b[0;34m)\u001b[0m\u001b[0;34m\u001b[0m\u001b[0;34m\u001b[0m\u001b[0m\n",
      "\u001b[0;32m~/hanikevi/contact_mpc/robot.py\u001b[0m in \u001b[0;36mget_ext_state\u001b[0;34m(self, st)\u001b[0m\n\u001b[1;32m    223\u001b[0m         \"\"\"\n\u001b[1;32m    224\u001b[0m         \u001b[0mst\u001b[0m \u001b[0;34m=\u001b[0m \u001b[0;34m{\u001b[0m\u001b[0mk\u001b[0m\u001b[0;34m:\u001b[0m\u001b[0mv\u001b[0m \u001b[0;32mfor\u001b[0m \u001b[0mk\u001b[0m\u001b[0;34m,\u001b[0m \u001b[0mv\u001b[0m \u001b[0;32min\u001b[0m \u001b[0mst\u001b[0m\u001b[0;34m.\u001b[0m\u001b[0mitems\u001b[0m\u001b[0;34m(\u001b[0m\u001b[0;34m)\u001b[0m\u001b[0;34m}\u001b[0m\u001b[0;34m\u001b[0m\u001b[0;34m\u001b[0m\u001b[0m\n\u001b[0;32m--> 225\u001b[0;31m         \u001b[0mst\u001b[0m\u001b[0;34m[\u001b[0m\u001b[0;34m'q'\u001b[0m\u001b[0;34m]\u001b[0m \u001b[0;34m=\u001b[0m \u001b[0mst\u001b[0m\u001b[0;34m[\u001b[0m\u001b[0mself\u001b[0m\u001b[0;34m.\u001b[0m\u001b[0mname\u001b[0m\u001b[0;34m+\u001b[0m\u001b[0;34m'q'\u001b[0m\u001b[0;34m]\u001b[0m\u001b[0;34m\u001b[0m\u001b[0;34m\u001b[0m\u001b[0m\n\u001b[0m\u001b[1;32m    226\u001b[0m         \u001b[0mst\u001b[0m\u001b[0;34m[\u001b[0m\u001b[0;34m'dq'\u001b[0m\u001b[0;34m]\u001b[0m \u001b[0;34m=\u001b[0m \u001b[0mst\u001b[0m\u001b[0;34m[\u001b[0m\u001b[0mself\u001b[0m\u001b[0;34m.\u001b[0m\u001b[0mname\u001b[0m\u001b[0;34m+\u001b[0m\u001b[0;34m'dq'\u001b[0m\u001b[0;34m]\u001b[0m\u001b[0;34m\u001b[0m\u001b[0;34m\u001b[0m\u001b[0m\n\u001b[1;32m    227\u001b[0m         \u001b[0mres\u001b[0m \u001b[0;34m=\u001b[0m \u001b[0mself\u001b[0m\u001b[0;34m.\u001b[0m\u001b[0mfwd_kin\u001b[0m\u001b[0;34m(\u001b[0m\u001b[0mst\u001b[0m\u001b[0;34m[\u001b[0m\u001b[0mself\u001b[0m\u001b[0;34m.\u001b[0m\u001b[0mname\u001b[0m\u001b[0;34m+\u001b[0m\u001b[0;34m'q'\u001b[0m\u001b[0;34m]\u001b[0m\u001b[0;34m)\u001b[0m\u001b[0;34m\u001b[0m\u001b[0;34m\u001b[0m\u001b[0m\n",
      "\u001b[0;31mKeyError\u001b[0m: 'free/q'"
     ]
    }
   ],
   "source": [
    "# Check the switched mdel \n",
    "from helper_fns import spawn_switched_models, spawn_models\n",
    "robots_sw, contacts = spawn_switched_models(robot_path = \"config/franka.yaml\",\n",
    "                                            contact_path = \"config/contact.yaml\",\n",
    "                                            attr_path  = \"config/attrs.yaml\", \n",
    "                                            mode = \"point\")\n",
    "_, robots, contacts = spawn_models(robot_path = \"config/franka.yaml\",\n",
    "                                         contact_path = \"config/contact.yaml\",\n",
    "                                         attr_path  = \"config/attrs.yaml\")\n",
    "\n",
    "\n",
    "rsw = robots_sw['free']\n",
    "r = robots['point']\n",
    "rsw.build_step(0.05)\n",
    "r.build_step(0.05)\n",
    "\n",
    "q0 = np.ones(7)\n",
    "dq0 = -0.5*np.ones(7)\n",
    "state = {'point/q': q0,\n",
    "         'point/dq': dq0,\n",
    "         'M_inv': r.inv_mass_fn(q0),\n",
    "         'imp_stiff':0*ca.DM.ones(3),\n",
    "         'imp_rest': [0,0,0]}\n",
    "xsw = rsw.get_ext_state(state)\n",
    "x = r.get_ext_state(state)\n",
    "print(x['p'])\n",
    "print(x['dx'])\n",
    "print(xsw['F_ext'])\n",
    "print(x['F_ext'])\n",
    "rob = r\n",
    "print(rob.step)\n",
    "for _ in range(300):\n",
    "    res = rob.step.call(state)\n",
    "    print(res['cost'])\n",
    "    state['point/q'] = res['q']\n",
    "    state['point/dq'] = res['dq']\n",
    "    res_dict = rob.get_ext_state(state)    \n",
    "    #print(res_dict['p'][0])\n",
    "    #print(res_dict['F_ext'][0])"
   ]
  },
  {
   "cell_type": "code",
   "execution_count": null,
   "metadata": {},
   "outputs": [],
   "source": []
  }
 ],
 "metadata": {
  "kernelspec": {
   "display_name": "Python 3",
   "language": "python",
   "name": "python3"
  },
  "language_info": {
   "codemirror_mode": {
    "name": "ipython",
    "version": 3
   },
   "file_extension": ".py",
   "mimetype": "text/x-python",
   "name": "python",
   "nbconvert_exporter": "python",
   "pygments_lexer": "ipython3",
   "version": "3.8.10"
  },
  "name": "test_dec_vars_and_primitives.ipynb"
 },
 "nbformat": 4,
 "nbformat_minor": 5
}
