{
 "cells": [
  {
   "cell_type": "code",
   "execution_count": 1,
   "id": "ec49e186",
   "metadata": {},
   "outputs": [],
   "source": [
    "%load_ext autoreload\n",
    "%autoreload 2\n",
    "\n",
    "import matplotlib.pyplot as plt\n",
    "plt.rcParams['figure.dpi'] = 400\n",
    "plt.rcParams['axes.grid'] = True\n",
    "plt.rcParams['image.aspect'] = 0.8\n",
    "\n",
    "import numpy as np\n",
    "import casadi as ca\n",
    "from helper_fns import yaml_load\n"
   ]
  },
  {
   "cell_type": "code",
   "execution_count": 2,
   "id": "37037f78",
   "metadata": {},
   "outputs": [],
   "source": [
    "from robot import Robot\n",
    "from helper_fns import spawn_models\n",
    "mpc_params = yaml_load('config/mpc_params.yaml')\n",
    "ipopt_options = yaml_load('config/ipopt_options.yaml')\n",
    "\n",
    "_, robots, contacts = spawn_models(robot_path = \"config/franka.yaml\",\n",
    "                                   attr_path  = \"config/attrs.yaml\", \n",
    "                                   contact_path = \"config/contact_test.yaml\",\n",
    "                                   sym_vars = [])\n",
    "q0 = np.ones(7)\n",
    "dq0 = np.zeros(7)\n",
    "\n",
    "params = {'q': q0,\n",
    "          'dq': dq0,\n",
    "          'belief_free':1.0,\n",
    "          'belief_point':0.0,\n",
    "          'imp_stiff':400*ca.DM.ones(3),}"
   ]
  },
  {
   "cell_type": "code",
   "execution_count": 126,
   "id": "9f5dbbbd",
   "metadata": {
    "scrolled": true
   },
   "outputs": [],
   "source": [
    "from robot import Robot\n",
    "from contact import Contact\n",
    "from impedance_controller import ImpedanceController\n",
    "from mpc import MPC\n",
    "par = {'pos': [0, 0, 0.0],\n",
    "       'stiff': [0, 0, 3e4],\n",
    "        'rest':[0, 0, 0.7]}\n",
    "attrs = yaml_load('config/attrs.yaml')\n",
    "attrs = {k:attrs[k] for k in ['lb', 'ub']}\n",
    "imp = ImpedanceController(input_vars = ['imp_rest'],\n",
    "                          attrs = attrs)\n",
    "rob = Robot('config/franka.urdf', subsys = [], ctrl = imp, attrs = attrs, visc_fric = 100)\n",
    "\n",
    "mpc_params= yaml_load('config/mpc_params.yaml')\n",
    "mpc = MPC(robots={'free':rob}, mpc_params = mpc_params, ipopt_options = ipopt_options)\n",
    "mpc.icem_init()\n",
    "M_inv = rob.inv_mass_fn(ca.DM.zeros(7))\n",
    "\n",
    "# for H=5, dt=0.05\n",
    "# 3.2 ms for 80 samples, symbolic mass\n",
    "# 1.8 ms for 80 samples, numerical mass\n",
    "#%timeit mpc.robots['free'].rollout(np.zeros(14), np.zeros((3,mpc_params['num_samples']*mpc_params['H'])), M_inv, np.ones(3))\n",
    "# 3.4 ms for 80 samples w/ ca.DM inputs, 3.9 with numpy inputs, all symbolic mass\n",
    "# 1.8 ms for 80 smaples, numerical mass\n",
    "#%timeit mpc.robots['free'].rollout_map(ca.DM.zeros((14,1)), ca.DM.ones((3,mpc_params['num_samples']*mpc_params['H'])), M_inv, ca.DM.zeros(3))\n",
    "#res = mpc.robots['free'].step_vec(ca.DM.zeros((14)), 2*ca.DM.ones((3)), M_inv, 100*ca.DM.ones(3))\n",
    "#res = mpc.robots['free'].rollout(ca.DM.zeros((14,1)), 1*ca.DM.ones((3,mpc_params['H'])), M_inv, 100*ca.DM.ones(3))\n",
    "res = mpc.robots['free'].rollout(ca.DM.zeros((14)), np.random.randn(3,mpc_params['num_samples']*mpc_params['H']), M_inv, 100*ca.DM.ones(3))\n",
    "#print(res)"
   ]
  },
  {
   "cell_type": "code",
   "execution_count": 127,
   "id": "3c0a68cd",
   "metadata": {},
   "outputs": [
    {
     "name": "stdout",
     "output_type": "stream",
     "text": [
      "Cold start time:  1.0492438999935985 sec\n",
      "Cold start rate:  0.9530672515762075 Hz\n",
      "Warm start rate: 27.432081415554986 Hz\n",
      "Cost mean: 2.020944779282277, cov: 5.947715137467214e-05\n"
     ]
    }
   ],
   "source": [
    "# solve time, mpc \n",
    "import time\n",
    "from mpc import MPC\n",
    "\n",
    "params = {'q': q0,\n",
    "          'dq': dq0,\n",
    "          'belief_free':0.0,\n",
    "          'belief_point':1.0,\n",
    "          'imp_stiff':400*ca.DM.ones(3),}\n",
    "\n",
    "\n",
    "mpc_params= yaml_load('config/mpc_params.yaml')\n",
    "mpc = MPC(robots, mpc_params = mpc_params, ipopt_options = ipopt_options)\n",
    "N = 20\n",
    "times = []\n",
    "costs = []\n",
    "for _ in range(N):\n",
    "    params['q'] = 0.05*np.random.randn(7) # perturb initial state\n",
    "    tic = time.perf_counter()\n",
    "    cost, _ = mpc.solve(params)\n",
    "    times.append(time.perf_counter()-tic)\n",
    "    costs.append(np.squeeze(cost.full()))\n",
    "print(f'Cold start time:  {times[0]} sec')\n",
    "print(f'Cold start rate:  {1/times[0]} Hz')\n",
    "print(f'Warm start rate: {1/np.mean(times[1:])} Hz')\n",
    "print(f'Cost mean: {np.mean(costs)}, cov: {np.cov(costs)}')\n",
    "mpc_cost_mean = np.mean(costs)\n",
    "mpc_cost_std = np.cov(costs)"
   ]
  },
  {
   "cell_type": "code",
   "execution_count": 137,
   "id": "4100c310",
   "metadata": {},
   "outputs": [
    {
     "name": "stdout",
     "output_type": "stream",
     "text": [
      "Cold start time:  0.15627819998189807 sec\n",
      "Cold start rate:  6.398845137170965 Hz\n",
      "Warm start rate: 6.661000841807788 Hz\n",
      "Cost mean: 6.341988342590663, cov: 0.44025516761885186\n"
     ]
    }
   ],
   "source": [
    "# solve time, cem \n",
    "import time\n",
    "from mpc import MPC\n",
    "\n",
    "\n",
    "mpc_params= yaml_load('config/mpc_params.yaml')\n",
    "#iters = [2,3,5,10,20,30,40,50,60,70,80]\n",
    "iters = [10]\n",
    "iter_times = []\n",
    "iter_cost_mean = []\n",
    "iter_cost_std = []\n",
    "for n_iter in iters:\n",
    "    times = []\n",
    "    costs = []\n",
    "    mpc_params['num_iter'] = n_iter\n",
    "    mpc = MPC(robots, mpc_params = mpc_params, ipopt_options = ipopt_options)\n",
    "    for _ in range(N):\n",
    "        mpc.icem_init()\n",
    "        params['q'] = 0.005*np.random.randn(7) # perturb initial state\n",
    "        tic = time.perf_counter()\n",
    "        cost, _ = mpc.icem_solve(params)\n",
    "        times.append(time.perf_counter()-tic)\n",
    "        costs.append(np.squeeze(cost.full()))\n",
    "    iter_times.append(1/np.mean(times[1:]))\n",
    "    iter_cost_mean.append(np.mean(costs))\n",
    "    iter_cost_std.append(np.std(costs))\n",
    "\n",
    "print(f'Cold start time:  {times[0]} sec')\n",
    "print(f'Cold start rate:  {1/times[0]} Hz')\n",
    "print(f'Warm start rate: {1/np.mean(times[1:])} Hz')\n",
    "print(f'Cost mean: {np.mean(costs)}, cov: {np.std(costs)}')"
   ]
  },
  {
   "cell_type": "code",
   "execution_count": 1,
   "id": "6f9f0e33",
   "metadata": {},
   "outputs": [
    {
     "ename": "NameError",
     "evalue": "name 'plt' is not defined",
     "output_type": "error",
     "traceback": [
      "\u001b[0;31m---------------------------------------------------------------------------\u001b[0m",
      "\u001b[0;31mNameError\u001b[0m                                 Traceback (most recent call last)",
      "Input \u001b[0;32mIn [1]\u001b[0m, in \u001b[0;36m<cell line: 1>\u001b[0;34m()\u001b[0m\n\u001b[0;32m----> 1\u001b[0m \u001b[43mplt\u001b[49m\u001b[38;5;241m.\u001b[39mplot(iters, iter_cost_mean, label\u001b[38;5;241m=\u001b[39m\u001b[38;5;124m'\u001b[39m\u001b[38;5;124mCEM\u001b[39m\u001b[38;5;124m'\u001b[39m)\n\u001b[1;32m      2\u001b[0m mu \u001b[38;5;241m=\u001b[39m np\u001b[38;5;241m.\u001b[39marray(iter_cost_mean)\n\u001b[1;32m      3\u001b[0m sig \u001b[38;5;241m=\u001b[39m np\u001b[38;5;241m.\u001b[39marray(iter_cost_std)\n",
      "\u001b[0;31mNameError\u001b[0m: name 'plt' is not defined"
     ]
    }
   ],
   "source": [
    "plt.plot(iters, iter_cost_mean, label='CEM')\n",
    "mu = np.array(iter_cost_mean)\n",
    "sig = np.array(iter_cost_std)\n",
    "plt.fill_between(iters, mu-sig, mu+sig, alpha=0.5)\n",
    "\n",
    "plt.axhline(y=mpc_cost_mean, color='k', label='MPC')\n",
    "plt.legend()\n",
    "plt.xlim(0,iters[-1])\n",
    "plt.xlabel('CEM Iterations')\n",
    "plt.ylabel('Total cost')"
   ]
  },
  {
   "cell_type": "code",
   "execution_count": 17,
   "id": "a842df4c",
   "metadata": {
    "scrolled": true
   },
   "outputs": [
    {
     "name": "stdout",
     "output_type": "stream",
     "text": [
      "10.0091\n"
     ]
    }
   ],
   "source": [
    "from robot import Robot\n",
    "from helper_fns import spawn_models\n",
    "from mpc import MPC\n",
    "\n",
    "mpc_params = yaml_load('config/mpc_params.yaml')\n",
    "ipopt_options = yaml_load('config/ipopt_options.yaml')\n",
    "\n",
    "_, robots, contacts = spawn_models(robot_path = \"config/franka.yaml\",\n",
    "                                   attr_path  = \"config/attrs.yaml\", \n",
    "                                   contact_path = \"config/contact_test.yaml\",\n",
    "                                   sym_vars = [])\n",
    "mpc_params = yaml_load('config/mpc_params.yaml')\n",
    "mpc = MPC(robots, mpc_params=mpc_params, ipopt_options = ipopt_options)\n",
    "params = {'q': ca.DM.zeros(7),\n",
    "          'dq': ca.DM.zeros(7),\n",
    "          'belief_free':0.0, \n",
    "          'belief_point':1.0,\n",
    "          'imp_stiff':400*ca.DM.ones(3),}\n",
    "cost, res = mpc.solve(params)\n",
    "traj = robots['point'].get_ext_state(res)\n",
    "print(cost)\n",
    "#print(traj['imp_rest'])\n",
    "p_mpc = np.squeeze(np.array(traj['p']))\n",
    "u_mpc = np.squeeze(np.array(traj['imp_rest']))\n"
   ]
  },
  {
   "cell_type": "code",
   "execution_count": 24,
   "id": "f71232d8",
   "metadata": {
    "scrolled": true
   },
   "outputs": [
    {
     "name": "stdout",
     "output_type": "stream",
     "text": [
      "14.4221\n"
     ]
    }
   ],
   "source": [
    "mpc_params = yaml_load('config/mpc_params.yaml')\n",
    "mpc = MPC(robots, mpc_params=mpc_params, ipopt_options = ipopt_options)\n",
    "mpc.icem_init()\n",
    "cost, res = mpc.icem_solve(params)\n",
    "\n",
    "traj_cem = robots['point'].get_ext_state(res)\n",
    "p_cem = np.squeeze(np.array(traj_cem['p']))\n",
    "u_cem = np.squeeze(np.array(traj_cem['imp_rest']))\n",
    "print(cost)"
   ]
  },
  {
   "cell_type": "code",
   "execution_count": 25,
   "id": "64cbb5c2",
   "metadata": {},
   "outputs": [
    {
     "data": {
      "text/plain": [
       "Text(0.5, 15.000000000000028, 'Time (sec)')"
      ]
     },
     "execution_count": 25,
     "metadata": {},
     "output_type": "execute_result"
    },
    {
     "data": {
      "image/png": "[encoded data removed]",
      "text/plain": [
       "<Figure size 432x288 with 2 Axes>"
      ]
     },
     "metadata": {
      "needs_background": "light"
     },
     "output_type": "display_data"
    }
   ],
   "source": [
    "import matplotlib.pyplot as plt\n",
    "import numpy as np\n",
    "\n",
    "\n",
    "\n",
    "t = [mpc_params['dt']*step for step in range(mpc_params['H'])]\n",
    "fig, axs = plt.subplots(2, 1)\n",
    "cols = ['r', 'g', 'b']\n",
    "labs = ['x', 'y', 'z']\n",
    "for i in range(3):\n",
    "    col = cols.pop(0)\n",
    "    lab = labs.pop(0)\n",
    "    axs[0].plot(t, p_cem[i,:], label=lab+' CEM', color=col)\n",
    "    axs[1].plot(t, u_cem[i,:], color=col)\n",
    "cols = ['r', 'g', 'b']\n",
    "labs = ['x', 'y', 'z']\n",
    "for i in range(3):\n",
    "    col = cols.pop(0)\n",
    "    lab = labs.pop(0)\n",
    "    axs[0].plot(t, p_mpc[i,:], label='MPC', color=col, linestyle='-.')\n",
    "    axs[1].plot(t, u_mpc[i,:], color=col, linestyle=':')\n",
    "\n",
    "    \n",
    "plt.axhline(y=mpc_params[des_pose[0], color='r', label='Goal')\n",
    "plt.axhline(y=mpc_params[des_pose[1], color='r', label)\n",
    "plt.axhline(y=mpc_params[des_pose[2], color='r', label)\n",
    "\n",
    "    \n",
    "fig.legend(ncol=2)\n",
    "plt.tight_layout()\n",
    "#plt.xlim([0, t[-1]])\n",
    "axs[0].set_ylabel('Robot position (m)')\n",
    "axs[1].set_ylabel('Imp rest pos (m)')\n",
    "axs[1].set_xlabel('Time (sec)')"
   ]
  },
  {
   "cell_type": "code",
   "execution_count": null,
   "id": "fc75952d",
   "metadata": {},
   "outputs": [],
   "source": []
  },
  {
   "cell_type": "code",
   "execution_count": 343,
   "id": "a06ee18d",
   "metadata": {},
   "outputs": [
    {
     "name": "stdout",
     "output_type": "stream",
     "text": [
      "3.66 µs ± 431 ns per loop (mean ± std. dev. of 7 runs, 100,000 loops each)\n",
      "622 ns ± 29.7 ns per loop (mean ± std. dev. of 7 runs, 1,000,000 loops each)\n",
      "12.4 µs ± 945 ns per loop (mean ± std. dev. of 7 runs, 100,000 loops each)\n",
      "170 ns ± 10.8 ns per loop (mean ± std. dev. of 7 runs, 10,000,000 loops each)\n",
      "(3, 70, 10)\n"
     ]
    }
   ],
   "source": [
    "samps = np.ones((3,70,10))\n",
    "news = np.ones((3,10,10))\n",
    "bigsamps = np.ones((3,80,10))\n",
    "%timeit np.append(samps, news)\n",
    "%timeit bigsamps[:,:10,:] = news\n",
    "%timeit samps.clip(0,1, out=samps)\n",
    "%timeit samps.reshape(3,-1)\n",
    "print(samps.shape)"
   ]
  },
  {
   "cell_type": "code",
   "execution_count": null,
   "id": "252bbe8d",
   "metadata": {},
   "outputs": [],
   "source": []
  }
 ],
 "metadata": {
  "kernelspec": {
   "display_name": "Python 3 (ipykernel)",
   "language": "python",
   "name": "python3"
  },
  "language_info": {
   "codemirror_mode": {
    "name": "ipython",
    "version": 3
   },
   "file_extension": ".py",
   "mimetype": "text/x-python",
   "name": "python",
   "nbconvert_exporter": "python",
   "pygments_lexer": "ipython3",
   "version": "3.8.10"
  }
 },
 "nbformat": 4,
 "nbformat_minor": 5
}
