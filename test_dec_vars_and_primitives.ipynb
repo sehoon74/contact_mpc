{
 "cells": [
  {
   "cell_type": "code",
   "execution_count": 1,
   "id": "acd28f30",
   "metadata": {},
   "outputs": [],
   "source": [
    "%load_ext autoreload\n",
    "%autoreload 2\n",
    "import numpy as np\n",
    "import casadi as ca\n",
    "from decision_vars import *"
   ]
  },
  {
   "cell_type": "code",
   "execution_count": 2,
   "id": "61b6a958",
   "metadata": {},
   "outputs": [
    {
     "name": "stdout",
     "output_type": "stream",
     "text": [
      "3\n",
      "3\n",
      "dict_keys(['test/a'])\n",
      "3\n"
     ]
    }
   ],
   "source": [
    "# Test named dict\n",
    "d = NamedDict('test/')\n",
    "d['a'] = 3\n",
    "print(d['a'])\n",
    "print(d.get('test/a'))\n",
    "print(d.keys())\n",
    "for k in d.keys():\n",
    "    print(d.get(k))\n"
   ]
  },
  {
   "cell_type": "code",
   "execution_count": 3,
   "id": "73bc61f6",
   "metadata": {},
   "outputs": [
    {
     "name": "stdout",
     "output_type": "stream",
     "text": [
      "***** Decision Vars, name: funtimes/ *****\n",
      "Attributes: ['lb']\n",
      "Vars: \n",
      "  funtimes/x: [x_0, x_1], shape: (2, 1)\n",
      "\n",
      "[x_0, x_1]\n",
      "[x_0, x_1]\n",
      "[0, 0, -inf]\n",
      "{'funtimes/funtimes/x': DM([0.1, 0.3]), 'funtimes/ouble/x': DM(0.5)}\n",
      "dict_keys(['funtimes/funtimes/x', 'funtimes/ouble/x'])\n"
     ]
    }
   ],
   "source": [
    "# Test decision vars\n",
    "dvs = DecisionVarDict(attr_names = ['lb'], name = 'funtimes/')\n",
    "dvs.add_vars({'x':[1.0, 2.0]}, lb={'x':[0, 0]})\n",
    "print(dvs)\n",
    "print(dvs['x'])\n",
    "print(dvs.get('funtimes/x'))\n",
    "dvs2 = DecisionVarDict(attr_names = ['lb'], name = 'ouble/')\n",
    "dvs2.add_vars(init={'x':2.0}, lb={'y':3.0})\n",
    "dvs += dvs2\n",
    "print(dvs.vectorize('lb'))\n",
    "d2 = dvs.dictize(np.array([0.1, 0.3, 0.5]))\n",
    "print(d2)\n",
    "print(d2.keys())\n"
   ]
  },
  {
   "cell_type": "code",
   "execution_count": 4,
   "id": "83f2fb61",
   "metadata": {},
   "outputs": [
    {
     "name": "stdout",
     "output_type": "stream",
     "text": [
      "***** Decision Vars, name:  *****\n",
      "Attributes: ['lb']\n",
      "Vars: \n",
      "  q: [q_0, q_1], shape: (2, 1)\n",
      "  free/q: [q_0, q_1], shape: (2, 1)\n",
      "\n",
      "False\n"
     ]
    }
   ],
   "source": [
    "a = DecisionVarDict(attr_names = ['lb'], name = '')\n",
    "a.add_vars({'q':[1.0, 2.0]}, lb={'q':[0, 0]})\n",
    "\n",
    "b = DecisionVarDict(attr_names = ['lb'], name = 'free/')\n",
    "b.add_vars({'q':[1.0, 2.0]}, lb={'q':[0, 0]})\n",
    "\n",
    "a += b\n",
    "print(a)\n",
    "print(a['q'][0] is b['q'][0])\n"
   ]
  },
  {
   "cell_type": "code",
   "execution_count": 5,
   "id": "74516c7f",
   "metadata": {},
   "outputs": [
    {
     "name": "stdout",
     "output_type": "stream",
     "text": [
      "***** Decision Vars, name: test/ *****\n",
      "Attributes: []\n",
      "Vars: \n",
      "  test/q: [q_0, q_1, q_2, q_3, q_4, q_5, q_6], shape: (7, 1)\n",
      "  test/dq: [dq_0, dq_1, dq_2, dq_3, dq_4, dq_5, dq_6], shape: (7, 1)\n",
      "\n",
      "[q_0, q_1, q_2, q_3, q_4, q_5, q_6]\n"
     ]
    }
   ],
   "source": [
    "from robot import *\n",
    "rob = Robot('config/franka.urdf', name = 'test/')\n",
    "print(rob._state)\n",
    "print(rob._state['q'])\n"
   ]
  },
  {
   "cell_type": "code",
   "execution_count": 6,
   "id": "6c557f2c",
   "metadata": {},
   "outputs": [
    {
     "name": "stdout",
     "output_type": "stream",
     "text": [
      "[0, -3, 5]\n",
      "[-0, -0, 0]\n"
     ]
    }
   ],
   "source": [
    "from contact import Contact\n",
    "pars = {'pos': [0, 0, 0],\n",
    "        'stiff': [0, 10, 10],\n",
    "        'rest':[0, 0, 0.0]}\n",
    "c = Contact('friendo', pars)\n",
    "q = ca.SX.sym('q',7)\n",
    "p, R = rob.fwd_kin(q)\n",
    "print(c.get_force({'p':ca.DM([0.5, 0.3, -0.5]), 'R':ca.DM.ones(3)}))\n",
    "\n",
    "c2 = Contact('c2',pars, ['stiff'], {'cov_init':{}, 'proc_noise':{}})\n",
    "print(c2.get_force({'p':ca.DM([0.5, 0.3, -0.5]), \n",
    "                    'R':ca.DM.ones(3), \n",
    "                    'c2/stiff':ca.DM([10, 0, 0])}))"
   ]
  },
  {
   "cell_type": "code",
   "execution_count": 8,
   "id": "79561a44",
   "metadata": {},
   "outputs": [
    {
     "name": "stdout",
     "output_type": "stream",
     "text": [
      "[0.311901, 0.497578, 0.200615]\n"
     ]
    }
   ],
   "source": [
    "# Test convergence\n",
    "from robot import Robot\n",
    "par1 = {'pos': [0, 0, 0.0],\n",
    "        'stiff': [0, 0, 100],\n",
    "        'rest':[0, 0, 0.2]}\n",
    "par2 = {'pos': [0, 0, 0],\n",
    "        'stiff': [0, 100, 0],\n",
    "        'rest': [0, 0.5, 0]}\n",
    "c1 = Contact('c1/', par1, [], {'cov_init':{}, 'proc_noise':{}})\n",
    "c2 = Contact('c2/', par2, [], {'cov_init':{}, 'proc_noise':{}})\n",
    "\n",
    "rob = Robot('config/franka.urdf', subsys = [c1, c2], name = 'test/')\n",
    "rob.build_step(0.1)\n",
    "#print(rob.get_state(1))\n",
    "# test that it converges as expected \n",
    "q = np.zeros(7)\n",
    "dq = np.zeros(7)\n",
    "tau = np.zeros(7)\n",
    "state = NamedDict('test/', {'q':q, 'dq':dq})\n",
    "inp_args = dict(tau_input=tau, M_inv=rob.inv_mass_fn(state['q']))\n",
    "\n",
    "for _ in range(100):\n",
    "    inp_args.update(state)\n",
    "    res = rob.step(**inp_args)\n",
    "    state['q'] = res['q']\n",
    "    state['dq'] = res['dq']\n",
    "res_dict = rob.get_ext_state(state)\n",
    "print(res_dict['p'])"
   ]
  },
  {
   "cell_type": "code",
   "execution_count": 9,
   "id": "704e9fe8",
   "metadata": {},
   "outputs": [],
   "source": [
    "from robot import Robot\n",
    "from contact import Contact\n",
    "par1 = {'pos': [0, 0, 0.0],\n",
    "        'stiff': [0, 0, 100],\n",
    "        'rest':[0, 0, 0.2]}\n",
    "par2 = {'pos': [0, 0, 0],\n",
    "        'stiff': [0, 100, 0],\n",
    "        'rest': [0, 0.5, 0]}\n",
    "c1 = Contact('c1/', par1, ['stiff'], {'cov_init':{}, 'proc_noise':{}})\n",
    "c2 = Contact('c2/', par2, [], {'cov_init':{}, 'proc_noise':{}})\n",
    "\n",
    "rob = Robot('config/franka.urdf', subsys = [c1, c2])\n"
   ]
  },
  {
   "cell_type": "code",
   "execution_count": 12,
   "id": "2f2f8001",
   "metadata": {},
   "outputs": [
    {
     "name": "stdout",
     "output_type": "stream",
     "text": [
      "step:(q[7],dq[7],M_inv[7x7],tau_input[7])->(q[7],dq[7],cost) SXFunction\n",
      "free has step fn of step:(q[7],dq[7],M_inv[7x7],tau_input[7])->(q[7],dq[7],cost) SXFunction\n",
      "  which evals to (DM([0, 0, 0, 0, 0, 0, 0]), DM([0, 0, 0, 0, 0, 0, 0]), DM(0))\n",
      "step:(q[7],dq[7],M_inv[7x7],tau_input[7])->(q[7],dq[7],cost) SXFunction\n",
      "plane has step fn of step:(q[7],dq[7],M_inv[7x7],tau_input[7])->(q[7],dq[7],cost) SXFunction\n",
      "  which evals to (DM([0, 0.249603, 0, -0.0156002, 0, -0.249603, 0]), DM([0, 2.49603, 0, -0.156002, 0, -2.49603, 0]), DM(0))\n",
      "step:(q[7],dq[7],M_inv[7x7],tau_input[7])->(q[7],dq[7],cost) SXFunction\n",
      "hinge has step fn of step:(q[7],dq[7],M_inv[7x7],tau_input[7])->(q[7],dq[7],cost) SXFunction\n",
      "  which evals to (DM([-0.61072, 0.249603, -0.61072, -0.0156002, -0.61072, -0.249603, 0]), DM([-6.1072, 2.49603, -6.1072, -0.156002, -6.1072, -2.49603, 0]), DM(0))\n"
     ]
    }
   ],
   "source": [
    "# Check that the spawner works\n",
    "from helper_fns import spawn_models\n",
    "models, _, _ = spawn_models('config/franka.yaml', 'config/attrs.yaml', 'config/contact.yaml', sym_vars = [])\n",
    "for name, model in models.items():\n",
    "    model.build_step(step_size=0.1)\n",
    "    print(model.step)\n",
    "    n_in = model.step.size_in(0)\n",
    "    res = model.step(np.zeros(7), np.zeros(7), np.eye(7), np.zeros(7))\n",
    "    print(f\"{name} has step fn of {model.step}\")\n",
    "    print(f\"  which evals to {res}\")\n"
   ]
  },
  {
   "cell_type": "code",
   "execution_count": null,
   "id": "9854089f",
   "metadata": {},
   "outputs": [],
   "source": []
  },
  {
   "cell_type": "code",
   "execution_count": 24,
   "id": "69207bfa-9bbf-48bd-a7dd-79f0f28e7b41",
   "metadata": {},
   "outputs": [],
   "source": []
  },
  {
   "cell_type": "code",
   "execution_count": null,
   "id": "3b241fe3-46ef-4f2f-b63e-d2ddc5945c57",
   "metadata": {},
   "outputs": [],
   "source": []
  }
 ],
 "metadata": {
  "kernelspec": {
   "display_name": "Python 3 (ipykernel)",
   "language": "python",
   "name": "python3"
  },
  "language_info": {
   "codemirror_mode": {
    "name": "ipython",
    "version": 3
   },
   "file_extension": ".py",
   "mimetype": "text/x-python",
   "name": "python",
   "nbconvert_exporter": "python",
   "pygments_lexer": "ipython3",
   "version": "3.8.10"
  },
  "name": "test_dec_vars_and_primitives.ipynb"
 },
 "nbformat": 4,
 "nbformat_minor": 5
}
