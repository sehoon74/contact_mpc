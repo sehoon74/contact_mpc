{
 "cells": [
  {
   "cell_type": "code",
   "execution_count": 21,
   "id": "898e5338",
   "metadata": {},
   "outputs": [
    {
     "name": "stdout",
     "output_type": "stream",
     "text": [
      "The autoreload extension is already loaded. To reload it, use:\n",
      "  %reload_ext autoreload\n"
     ]
    }
   ],
   "source": [
    "%load_ext autoreload\n",
    "%autoreload 2\n",
    "\n",
    "import numpy as np\n",
    "import casadi as ca"
   ]
  },
  {
   "cell_type": "code",
   "execution_count": 69,
   "id": "a80299bf",
   "metadata": {},
   "outputs": [
    {
     "name": "stdout",
     "output_type": "stream",
     "text": [
      "Building robot model from config/franka.urdf with TCP fr3_link8\n",
      "Building robot model from config/franka.urdf with TCP fr3_link8\n",
      "  with subsys ['contact_1']\n",
      "Building robot model from config/franka.urdf with TCP fr3_link8\n",
      "  with subsys ['contact_1', 'contact_2']\n"
     ]
    }
   ],
   "source": [
    "from helper_fns import spawn_models\n",
    "models = spawn_models('config/franka.yaml', 'config/attrs.yaml', 'config/contact.yaml', sym_vars = ['rest'])\n",
    "rob = models['plane']"
   ]
  },
  {
   "cell_type": "code",
   "execution_count": 79,
   "id": "710a3772",
   "metadata": {},
   "outputs": [
    {
     "name": "stdout",
     "output_type": "stream",
     "text": [
      "188 µs ± 11.8 µs per loop (mean ± std. dev. of 7 runs, 10,000 loops each)\n",
      "[-nan, -nan, -nan, -nan, -nan, -nan, -nan, -nan, -nan, -nan, -nan, -nan, -nan, -nan, -nan, -nan, -nan]\n"
     ]
    }
   ],
   "source": [
    "from observer import EKF\n",
    "rob.build_disc_dyn(0.1)\n",
    "A, C, n, y = rob.linearized(np.zeros(rob.nx), np.zeros(7), rob.inv_mass_fn(np.zeros(7)))\n",
    "print(y)\n",
    "ekf = EKF(rob)\n",
    "%timeit ekf.step(0.01*np.ones(7), np.zeros(7))\n",
    "for _ in range(5):\n",
    "    ekf.step(0.01*np.ones(7), np.zeros(7))\n",
    "print(ekf.x['mu'])"
   ]
  },
  {
   "cell_type": "code",
   "execution_count": null,
   "id": "13a84929",
   "metadata": {},
   "outputs": [],
   "source": []
  },
  {
   "cell_type": "code",
   "execution_count": null,
   "id": "5d795b80",
   "metadata": {},
   "outputs": [],
   "source": []
  }
 ],
 "metadata": {
  "kernelspec": {
   "display_name": "Python 3 (ipykernel)",
   "language": "python",
   "name": "python3"
  },
  "language_info": {
   "codemirror_mode": {
    "name": "ipython",
    "version": 3
   },
   "file_extension": ".py",
   "mimetype": "text/x-python",
   "name": "python",
   "nbconvert_exporter": "python",
   "pygments_lexer": "ipython3",
   "version": "3.8.10"
  }
 },
 "nbformat": 4,
 "nbformat_minor": 5
}
