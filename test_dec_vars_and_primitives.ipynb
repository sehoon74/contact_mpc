{
 "cells": [
  {
   "cell_type": "code",
   "execution_count": 2,
   "id": "acd28f30",
   "metadata": {},
   "outputs": [],
   "source": [
    "%load_ext autoreload\n",
    "%autoreload 2\n",
    "\n",
    "import numpy as np\n",
    "import casadi as ca\n",
    "from decision_vars import DecisionVarSet"
   ]
  },
  {
   "cell_type": "code",
   "execution_count": 6,
   "id": "73bc61f6",
   "metadata": {},
   "outputs": [
    {
     "name": "stdout",
     "output_type": "stream",
     "text": [
      "***** Decision Vars *****\n",
      "Attributes: ['lb']\n",
      "Vars: \n",
      "  sneaker/x: [x_0, x_1], shape: (2, 1)\n",
      "\n",
      "[0, 0, -inf]\n",
      "{'sneaker/x': DM([0.1, 0.3]), 'ouble/x': DM(0.5)}\n",
      "0.5\n",
      "None\n",
      "{'test': 1, 'ouble/x': SX(x)}\n"
     ]
    }
   ],
   "source": [
    "# Test decision vars\n",
    "from decision_vars import DecisionVarSet\n",
    "dvs = DecisionVarSet(attr_names = ['lb'], name = 'sneaker/')\n",
    "dvs.add_vars({'x':[1.0, 2.0]}, lb={'x':[0, 0]})\n",
    "print(dvs)\n",
    "dvs2 = DecisionVarSet(attr_names = ['lb'], name = 'ouble/')\n",
    "dvs2.add_vars(init={'x':2.0}, lb={'y':3.0})\n",
    "dvs += dvs2\n",
    "print(dvs.vectorize('lb'))\n",
    "d2 = dvs.dictize(np.array([0.1, 0.3, 0.5]))\n",
    "print(d2)\n",
    "d = {'test':1}\n",
    "d.update(dvs2)\n",
    "print(d)"
   ]
  },
  {
   "cell_type": "code",
   "execution_count": 3,
   "id": "74516c7f",
   "metadata": {},
   "outputs": [
    {
     "name": "stdout",
     "output_type": "stream",
     "text": [
      "Building robot model from config/franka.urdf with TCP fr3_link8\n"
     ]
    }
   ],
   "source": [
    "from robot import *\n",
    "rob = Robot('config/franka.urdf')"
   ]
  },
  {
   "cell_type": "code",
   "execution_count": 4,
   "id": "6c557f2c",
   "metadata": {},
   "outputs": [
    {
     "name": "stdout",
     "output_type": "stream",
     "text": [
      "[0, -3, 5]\n",
      "[-0, -0, 0]\n"
     ]
    }
   ],
   "source": [
    "from contact import Contact\n",
    "pars = {'pos': [0, 0, 0],\n",
    "        'stiff': [0, 10, 10],\n",
    "        'rest':[0, 0, 0.0]}\n",
    "c = Contact('friendo', pars)\n",
    "q = ca.SX.sym('q',7)\n",
    "p, R = rob.fwd_kin(q)\n",
    "print(c.get_force({'p':ca.DM([0.5, 0.3, -0.5]), 'R':ca.DM.ones(3)}))\n",
    "\n",
    "c2 = Contact('c2',pars, ['stiff'], {'cov_init':{}, 'proc_noise':{}})\n",
    "print(c2.get_force({'p':ca.DM([0.5, 0.3, -0.5]), \n",
    "                    'R':ca.DM.ones(3), \n",
    "                    'c2/stiff':ca.DM([10, 0, 0])}))"
   ]
  },
  {
   "cell_type": "code",
   "execution_count": 8,
   "id": "79561a44",
   "metadata": {},
   "outputs": [
    {
     "name": "stdout",
     "output_type": "stream",
     "text": [
      "Building robot model from config/franka.urdf with TCP fr3_link8\n",
      "  with subsys ['c1/', 'c2/']\n",
      "29.7 µs ± 1.84 µs per loop (mean ± std. dev. of 7 runs, 10,000 loops each)\n",
      "[0.311901, 0.497578, 0.200615]\n"
     ]
    }
   ],
   "source": [
    "# Test convergence\n",
    "from robot import Robot\n",
    "par1 = {'pos': [0, 0, 0.0],\n",
    "        'stiff': [0, 0, 100],\n",
    "        'rest':[0, 0, 0.2]}\n",
    "par2 = {'pos': [0, 0, 0],\n",
    "        'stiff': [0, 100, 0],\n",
    "        'rest': [0, 0.5, 0]}\n",
    "c1 = Contact('c1/', par1, [], {'cov_init':{}, 'proc_noise':{}})\n",
    "c2 = Contact('c2/', par2, [], {'cov_init':{}, 'proc_noise':{}})\n",
    "\n",
    "rob = Robot('config/franka.urdf', subsys = [c1, c2])\n",
    "rob.build_step(0.1)\n",
    "# test that it converges as expected \n",
    "q = np.zeros(7)\n",
    "dq = np.zeros(7)\n",
    "tau = np.zeros(7)\n",
    "state = {'q':q, 'dq':dq, 'tau_input':tau}\n",
    "state['M_inv'] = rob.inv_mass_fn(state['q'])\n",
    "#state['c1/stiff'] = ca.DM.ones(3)\n",
    "%timeit rob.step(**state)\n",
    "for _ in range(100):\n",
    "    res = rob.step(**state)\n",
    "    state['q'] = res['q']\n",
    "    state['dq'] = res['dq']\n",
    "res_dict = rob.get_ext_state(state)\n",
    "print(res_dict['p'])\n",
    "#print(res_dict['c1/F'])\n",
    "#print(res_dict['c2/F'])"
   ]
  },
  {
   "cell_type": "code",
   "execution_count": 9,
   "id": "704e9fe8",
   "metadata": {},
   "outputs": [
    {
     "name": "stdout",
     "output_type": "stream",
     "text": [
      "Building robot model from config/franka.urdf with TCP fr3_link8\n",
      "  with subsys ['c1/', 'c2/']\n"
     ]
    }
   ],
   "source": [
    "from robot import Robot\n",
    "from contact import Contact\n",
    "from decision_vars import DecisionVarSet\n",
    "par1 = {'pos': [0, 0, 0.0],\n",
    "        'stiff': [0, 0, 100],\n",
    "        'rest':[0, 0, 0.2]}\n",
    "par2 = {'pos': [0, 0, 0],\n",
    "        'stiff': [0, 100, 0],\n",
    "        'rest': [0, 0.5, 0]}\n",
    "c1 = Contact('c1/', par1, ['stiff'], {'cov_init':{}, 'proc_noise':{}})\n",
    "c2 = Contact('c2/', par2, [], {'cov_init':{}, 'proc_noise':{}})\n",
    "\n",
    "rob = Robot('config/franka.urdf', subsys = [c1, c2])\n",
    "#print(rob.get_input(H=5))\n",
    "#print(rob.get_state(H=5))"
   ]
  },
  {
   "cell_type": "code",
   "execution_count": 11,
   "id": "2f2f8001",
   "metadata": {},
   "outputs": [
    {
     "name": "stdout",
     "output_type": "stream",
     "text": [
      "Building robot model from config/franka.urdf with TCP fr3_link8\n",
      "Building robot model from config/franka.urdf with TCP fr3_link8\n",
      "  with subsys ['contact_1/']\n",
      "Building robot model from config/franka.urdf with TCP fr3_link8\n",
      "  with subsys ['contact_1/', 'contact_2/']\n",
      "step:(q[7],dq[7],M_inv[7x7],tau_input[7])->(q[7],dq[7],cost) SXFunction\n",
      "free has step fn of step:(q[7],dq[7],M_inv[7x7],tau_input[7])->(q[7],dq[7],cost) SXFunction\n",
      "  which evals to (DM([0, 0, 0, 0, 0, 0, 0]), DM([0, 0, 0, 0, 0, 0, 0]), DM(0))\n",
      "step:(q[7],dq[7],M_inv[7x7],tau_input[7])->(q[7],dq[7],cost) SXFunction\n",
      "plane has step fn of step:(q[7],dq[7],M_inv[7x7],tau_input[7])->(q[7],dq[7],cost) SXFunction\n",
      "  which evals to (DM([0, 0.249603, 0, -0.0156002, 0, -0.249603, 0]), DM([0, 2.49603, 0, -0.156002, 0, -2.49603, 0]), DM(0))\n",
      "step:(q[7],dq[7],M_inv[7x7],tau_input[7])->(q[7],dq[7],cost) SXFunction\n",
      "hinge has step fn of step:(q[7],dq[7],M_inv[7x7],tau_input[7])->(q[7],dq[7],cost) SXFunction\n",
      "  which evals to (DM([-0.61072, 0.249603, -0.61072, -0.0156002, -0.61072, -0.249603, 0]), DM([-6.1072, 2.49603, -6.1072, -0.156002, -6.1072, -2.49603, 0]), DM(0))\n"
     ]
    }
   ],
   "source": [
    "# Check that the spawner works\n",
    "from helper_fns import spawn_models\n",
    "models = spawn_models('config/franka.yaml', 'config/attrs.yaml', 'config/contact.yaml', sym_vars = [])\n",
    "for name, model in models.items():\n",
    "    model.build_step(step_size=0.1)\n",
    "    print(model.step)\n",
    "    n_in = model.step.size_in(0)\n",
    "    res = model.step(np.zeros(7), np.zeros(7), np.eye(7), np.zeros(7))\n",
    "    print(f\"{name} has step fn of {model.step}\")\n",
    "    print(f\"  which evals to {res}\")\n"
   ]
  },
  {
   "cell_type": "code",
   "execution_count": null,
   "id": "9854089f",
   "metadata": {},
   "outputs": [],
   "source": []
  },
  {
   "cell_type": "code",
   "execution_count": 24,
   "id": "69207bfa-9bbf-48bd-a7dd-79f0f28e7b41",
   "metadata": {},
   "outputs": [],
   "source": []
  },
  {
   "cell_type": "code",
   "execution_count": null,
   "id": "3b241fe3-46ef-4f2f-b63e-d2ddc5945c57",
   "metadata": {},
   "outputs": [],
   "source": []
  }
 ],
 "metadata": {
  "kernelspec": {
   "display_name": "Python 3 (ipykernel)",
   "language": "python",
   "name": "python3"
  },
  "language_info": {
   "codemirror_mode": {
    "name": "ipython",
    "version": 3
   },
   "file_extension": ".py",
   "mimetype": "text/x-python",
   "name": "python",
   "nbconvert_exporter": "python",
   "pygments_lexer": "ipython3",
   "version": "3.8.10"
  },
  "name": "test.ipynb"
 },
 "nbformat": 4,
 "nbformat_minor": 5
}
