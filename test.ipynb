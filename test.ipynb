{
 "cells": [
  {
   "cell_type": "code",
   "execution_count": 2,
   "id": "acd28f30",
   "metadata": {},
   "outputs": [],
   "source": [
    "%load_ext autoreload\n",
    "%autoreload 2\n",
    "import numpy as np\n",
    "import casadi as ca\n",
    "from decision_vars import DecisionVarSet\n"
   ]
  },
  {
   "cell_type": "code",
   "execution_count": 20,
   "id": "73bc61f6",
   "metadata": {},
   "outputs": [
    {
     "name": "stdout",
     "output_type": "stream",
     "text": [
      "***** Decision Vars *****\n",
      "Attributes: ['sym', 'init', 'lb']\n",
      "Vars: \n",
      "  x: [x_0, x_1], (2, 1)\n",
      "\n",
      "[-inf, -inf, 3]\n",
      "{'x': array([0.1, 0.3]), 'y': array(0.5)}\n"
     ]
    }
   ],
   "source": [
    "# Test decision vars\n",
    "from decision_vars import DecisionVarSet\n",
    "a = DecisionVarSet({'x':[1.0, 2.0]}, lb={})\n",
    "print(a)\n",
    "b = DecisionVarSet({'y':2.0}, lb={'y':3.0})\n",
    "a += b\n",
    "print(a.vectorize('lb'))\n",
    "d = a.dictize(np.array([0.1, 0.3, 0.5]))\n",
    "print(d)"
   ]
  },
  {
   "cell_type": "code",
   "execution_count": 23,
   "id": "74516c7f",
   "metadata": {},
   "outputs": [
    {
     "name": "stdout",
     "output_type": "stream",
     "text": [
      "Building robot model from franka.urdf with TCP fr3_link8\n"
     ]
    }
   ],
   "source": [
    "from robot import Robot\n",
    "rob = Robot('franka.urdf')"
   ]
  },
  {
   "cell_type": "code",
   "execution_count": 33,
   "id": "6c557f2c",
   "metadata": {},
   "outputs": [
    {
     "name": "stdout",
     "output_type": "stream",
     "text": [
      "[-5, -0, 0]\n"
     ]
    }
   ],
   "source": [
    "from contact import Contact\n",
    "pars = {'pos': [0, 0, 0],\n",
    "        'stiff': [10, 10, 10],\n",
    "        'rest':[0, 0, 0.5]}\n",
    "c = Contact(pars)\n",
    "q = ca.SX.sym('q',7)\n",
    "p, R = rob.fwd_kin(q)\n",
    "c.F_fn(ca.DM([0.5, 0.3, -0.5]), ca.DM.ones(3))\n",
    "\n",
    "c2 = Contact(pars, ['stiff'], {'cov':{}, 'noise':{}})\n",
    "print(c2.F_fn(ca.DM([0.5, 0.3, -0.5]), ca.DM.ones(3), ca.DM([10, 0, 0])))"
   ]
  },
  {
   "cell_type": "code",
   "execution_count": 19,
   "id": "79561a44",
   "metadata": {},
   "outputs": [
    {
     "name": "stdout",
     "output_type": "stream",
     "text": [
      "<class 'str'>\n",
      "{'x': SX(x)}\n"
     ]
    }
   ],
   "source": [
    "\n",
    "d = {'x': 3.}\n",
    "d2 = {'x':1.}\n",
    "v = DecisionVarSet({'x':0.1})\n",
    "#print(v['x'])\n",
    "#d.update(v)\n",
    "for k in v:\n",
    "    print(type(k))\n",
    "    d[k] = v[k]\n",
    "print(d)\n"
   ]
  }
 ],
 "metadata": {
  "kernelspec": {
   "display_name": "Python 3 (ipykernel)",
   "language": "python",
   "name": "python3"
  },
  "language_info": {
   "codemirror_mode": {
    "name": "ipython",
    "version": 3
   },
   "file_extension": ".py",
   "mimetype": "text/x-python",
   "name": "python",
   "nbconvert_exporter": "python",
   "pygments_lexer": "ipython3",
   "version": "3.8.10"
  }
 },
 "nbformat": 4,
 "nbformat_minor": 5
}
