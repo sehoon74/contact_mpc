{
 "cells": [
  {
   "cell_type": "code",
   "execution_count": 2,
   "id": "8f12ee27",
   "metadata": {},
   "outputs": [],
   "source": [
    "%load_ext autoreload\n",
    "%autoreload 2\n",
    "\n",
    "import matplotlib.pyplot as plt\n",
    "plt.rcParams['figure.dpi'] = 400\n",
    "plt.rcParams['axes.grid'] = True\n",
    "plt.rcParams['image.aspect'] = 0.8\n",
    "\n",
    "import numpy as np\n",
    "import casadi as ca\n",
    "from param_fit import *"
   ]
  },
  {
   "cell_type": "code",
   "execution_count": 43,
   "id": "6782ab67",
   "metadata": {},
   "outputs": [
    {
     "name": "stdout",
     "output_type": "stream",
     "text": [
      "Loading ros bag data/new_franka_contact_contact_1.bag  with 38014 msgs on topic /joint_states\n",
      "Loaded 38014 msgs from data/new_franka_contact_contact_1.bag with time step 0.0019999828089748996 sec\n",
      "Using robot plane which has contacts ['contact_1']\n",
      "________________________________________\n",
      " ##### Optimizing offline params ######\n",
      "Solve time:  Solve_Succeeded - 0.016416 sec\n",
      "Final obj:  3104.28\n",
      "contact_1/rest:[0.393769, -0.35628, 0.23218]\n"
     ]
    }
   ],
   "source": [
    "param_fit('data/new_franka_contact_contact_1.bag', \n",
    "          'contact_1', ['rest'])"
   ]
  },
  {
   "cell_type": "code",
   "execution_count": null,
   "id": "63790dd6",
   "metadata": {},
   "outputs": [],
   "source": []
  }
 ],
 "metadata": {
  "kernelspec": {
   "display_name": "Python 3 (ipykernel)",
   "language": "python",
   "name": "python3"
  },
  "language_info": {
   "codemirror_mode": {
    "name": "ipython",
    "version": 3
   },
   "file_extension": ".py",
   "mimetype": "text/x-python",
   "name": "python",
   "nbconvert_exporter": "python",
   "pygments_lexer": "ipython3",
   "version": "3.8.10"
  }
 },
 "nbformat": 4,
 "nbformat_minor": 5
}
